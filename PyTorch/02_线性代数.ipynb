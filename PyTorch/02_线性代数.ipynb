{
  "nbformat": 4,
  "nbformat_minor": 0,
  "metadata": {
    "colab": {
      "name": "02_线性代数.ipynb",
      "provenance": [],
      "collapsed_sections": []
    },
    "kernelspec": {
      "name": "python3",
      "display_name": "Python 3"
    },
    "language_info": {
      "name": "python"
    }
  },
  "cells": [
    {
      "cell_type": "markdown",
      "source": [
        "**# 线性代数实现**"
      ],
      "metadata": {
        "id": "hMI7G_bIrW4z"
      }
    },
    {
      "cell_type": "markdown",
      "source": [
        "*  **torch中一维张量就是行向量，而列向量实际是矩阵**\n",
        "*  **但有时，行向量会按照列向量参与数学运算，参考 矩阵-向量 乘法**"
      ],
      "metadata": {
        "id": "N079jsXo2RIm"
      }
    },
    {
      "cell_type": "markdown",
      "source": [
        "* 标量由只有一个元素的张量表示"
      ],
      "metadata": {
        "id": "AcMY3rjsrcM5"
      }
    },
    {
      "cell_type": "code",
      "execution_count": 78,
      "metadata": {
        "colab": {
          "base_uri": "https://localhost:8080/"
        },
        "id": "g-rS11VwrFUo",
        "outputId": "c6c6f62a-d4e7-4a96-c2a3-fb2cd3f0f874"
      },
      "outputs": [
        {
          "output_type": "execute_result",
          "data": {
            "text/plain": [
              "(tensor([5.]), tensor([6.]), tensor([1.5000]), tensor([9.]))"
            ]
          },
          "metadata": {},
          "execution_count": 78
        }
      ],
      "source": [
        "import torch\n",
        "\n",
        "x = torch.tensor([3.0]) \n",
        "y = torch.tensor([2.0])\n",
        "\n",
        "x + y, x * y, x /y , x**y"
      ]
    },
    {
      "cell_type": "markdown",
      "source": [
        "* 可以将向量视为标量组成的列表"
      ],
      "metadata": {
        "id": "jk3VOjMkrtoZ"
      }
    },
    {
      "cell_type": "code",
      "source": [
        "x = torch.arange(4)\n",
        "x"
      ],
      "metadata": {
        "colab": {
          "base_uri": "https://localhost:8080/"
        },
        "id": "KDnE6VXtr3Qx",
        "outputId": "46a42c69-cad4-465a-f399-39d06242119b"
      },
      "execution_count": 79,
      "outputs": [
        {
          "output_type": "execute_result",
          "data": {
            "text/plain": [
              "tensor([0, 1, 2, 3])"
            ]
          },
          "metadata": {},
          "execution_count": 79
        }
      ]
    },
    {
      "cell_type": "markdown",
      "source": [
        "* 通过张量的索引来访问任一元素"
      ],
      "metadata": {
        "id": "6X7FvHsGr7Xb"
      }
    },
    {
      "cell_type": "code",
      "source": [
        "x[3]"
      ],
      "metadata": {
        "colab": {
          "base_uri": "https://localhost:8080/"
        },
        "id": "5CMXA18BsAWC",
        "outputId": "27d1be6b-cf0c-4906-8aa4-7df06168f343"
      },
      "execution_count": 80,
      "outputs": [
        {
          "output_type": "execute_result",
          "data": {
            "text/plain": [
              "tensor(3)"
            ]
          },
          "metadata": {},
          "execution_count": 80
        }
      ]
    },
    {
      "cell_type": "markdown",
      "source": [
        "* 访问张量的长度"
      ],
      "metadata": {
        "id": "DDSs39slsDM3"
      }
    },
    {
      "cell_type": "code",
      "source": [
        "len(x)"
      ],
      "metadata": {
        "colab": {
          "base_uri": "https://localhost:8080/"
        },
        "id": "8sqntIhUsGyz",
        "outputId": "408c8e7c-5be5-4e9f-cd82-5227e566fc0d"
      },
      "execution_count": 81,
      "outputs": [
        {
          "output_type": "execute_result",
          "data": {
            "text/plain": [
              "4"
            ]
          },
          "metadata": {},
          "execution_count": 81
        }
      ]
    },
    {
      "cell_type": "markdown",
      "source": [
        "*  只有一个轴的张量，形状只有一个元素"
      ],
      "metadata": {
        "id": "5KvJS0yFsKRn"
      }
    },
    {
      "cell_type": "code",
      "source": [
        "x.shape"
      ],
      "metadata": {
        "colab": {
          "base_uri": "https://localhost:8080/"
        },
        "id": "82o3NvVfsRSg",
        "outputId": "90b363e0-56b3-4ecd-b1f8-fe4c8d1a3761"
      },
      "execution_count": 82,
      "outputs": [
        {
          "output_type": "execute_result",
          "data": {
            "text/plain": [
              "torch.Size([4])"
            ]
          },
          "metadata": {},
          "execution_count": 82
        }
      ]
    },
    {
      "cell_type": "markdown",
      "source": [
        "* 通过指定两个分量m和n来创建一个形状为m x n的矩阵"
      ],
      "metadata": {
        "id": "Pm6dAKHwsTeS"
      }
    },
    {
      "cell_type": "code",
      "source": [
        "A = torch.arange(20).reshape(4,5) \n",
        "A"
      ],
      "metadata": {
        "colab": {
          "base_uri": "https://localhost:8080/"
        },
        "id": "UrJDDsepsf__",
        "outputId": "60b342af-9e1d-459a-d444-78fcf90a55cc"
      },
      "execution_count": 83,
      "outputs": [
        {
          "output_type": "execute_result",
          "data": {
            "text/plain": [
              "tensor([[ 0,  1,  2,  3,  4],\n",
              "        [ 5,  6,  7,  8,  9],\n",
              "        [10, 11, 12, 13, 14],\n",
              "        [15, 16, 17, 18, 19]])"
            ]
          },
          "metadata": {},
          "execution_count": 83
        }
      ]
    },
    {
      "cell_type": "markdown",
      "source": [
        "* 矩阵的转置"
      ],
      "metadata": {
        "id": "eIG1MWJ-smez"
      }
    },
    {
      "cell_type": "code",
      "source": [
        "A.T"
      ],
      "metadata": {
        "colab": {
          "base_uri": "https://localhost:8080/"
        },
        "id": "FYn4pn6SslhI",
        "outputId": "fcd6dba3-8798-42fc-c84c-2768a9e681a8"
      },
      "execution_count": 84,
      "outputs": [
        {
          "output_type": "execute_result",
          "data": {
            "text/plain": [
              "tensor([[ 0,  5, 10, 15],\n",
              "        [ 1,  6, 11, 16],\n",
              "        [ 2,  7, 12, 17],\n",
              "        [ 3,  8, 13, 18],\n",
              "        [ 4,  9, 14, 19]])"
            ]
          },
          "metadata": {},
          "execution_count": 84
        }
      ]
    },
    {
      "cell_type": "markdown",
      "source": [
        "* 对称矩阵 A 等于其转置"
      ],
      "metadata": {
        "id": "AM9MWfE_suVs"
      }
    },
    {
      "cell_type": "code",
      "source": [
        "B = torch.tensor([[1,2,3],[2,0,4],[3,4,5]])\n",
        "B"
      ],
      "metadata": {
        "colab": {
          "base_uri": "https://localhost:8080/"
        },
        "id": "7KH6ET2sst05",
        "outputId": "d61f4425-02d0-4b6c-cc3d-90b9eb98477a"
      },
      "execution_count": 85,
      "outputs": [
        {
          "output_type": "execute_result",
          "data": {
            "text/plain": [
              "tensor([[1, 2, 3],\n",
              "        [2, 0, 4],\n",
              "        [3, 4, 5]])"
            ]
          },
          "metadata": {},
          "execution_count": 85
        }
      ]
    },
    {
      "cell_type": "code",
      "source": [
        "B == B.T"
      ],
      "metadata": {
        "colab": {
          "base_uri": "https://localhost:8080/"
        },
        "id": "F9lcblOFtDdC",
        "outputId": "99e6506e-1ed2-4d46-fe0a-fafb7d6a919e"
      },
      "execution_count": 86,
      "outputs": [
        {
          "output_type": "execute_result",
          "data": {
            "text/plain": [
              "tensor([[True, True, True],\n",
              "        [True, True, True],\n",
              "        [True, True, True]])"
            ]
          },
          "metadata": {},
          "execution_count": 86
        }
      ]
    },
    {
      "cell_type": "markdown",
      "source": [
        "* 就像向量是标量的推广，矩阵是向量的推广一样，可以构建具有更多轴的数据结构"
      ],
      "metadata": {
        "id": "D8I5AZzYsu4E"
      }
    },
    {
      "cell_type": "code",
      "source": [
        "X = torch.arange(24).reshape(2,3,4)  \n",
        "# 表示2个 3x4 的矩阵， 越往后维度越低\n",
        "# 例如（2，3，4，5） 表示2个三维张量， 每个三维张量具有3个 4x5 矩阵\n",
        "X"
      ],
      "metadata": {
        "colab": {
          "base_uri": "https://localhost:8080/"
        },
        "id": "h3xSOqposvEj",
        "outputId": "d49e98b3-be6a-4dd7-bd70-45aad44dc08d"
      },
      "execution_count": 87,
      "outputs": [
        {
          "output_type": "execute_result",
          "data": {
            "text/plain": [
              "tensor([[[ 0,  1,  2,  3],\n",
              "         [ 4,  5,  6,  7],\n",
              "         [ 8,  9, 10, 11]],\n",
              "\n",
              "        [[12, 13, 14, 15],\n",
              "         [16, 17, 18, 19],\n",
              "         [20, 21, 22, 23]]])"
            ]
          },
          "metadata": {},
          "execution_count": 87
        }
      ]
    },
    {
      "cell_type": "markdown",
      "source": [
        "* 给定具有相同形状的任何两个张量，任何按元素二元运算的结果都将是相同形状的张量"
      ],
      "metadata": {
        "id": "X6hPLWfysvLD"
      }
    },
    {
      "cell_type": "code",
      "source": [
        "A = torch.arange(20, dtype=torch.float32).reshape(4,5)\n",
        "B = A.clone() # 通过分配新内存，将A的一个副本分配给B，即修改B的值不会影响A的值\n",
        "print(A) \n",
        "print(A + B)"
      ],
      "metadata": {
        "colab": {
          "base_uri": "https://localhost:8080/"
        },
        "id": "JyQJLhQhsvSo",
        "outputId": "8829c0a8-b0d7-4b3c-ae5f-0d03dd6c7f51"
      },
      "execution_count": 88,
      "outputs": [
        {
          "output_type": "stream",
          "name": "stdout",
          "text": [
            "tensor([[ 0.,  1.,  2.,  3.,  4.],\n",
            "        [ 5.,  6.,  7.,  8.,  9.],\n",
            "        [10., 11., 12., 13., 14.],\n",
            "        [15., 16., 17., 18., 19.]])\n",
            "tensor([[ 0.,  2.,  4.,  6.,  8.],\n",
            "        [10., 12., 14., 16., 18.],\n",
            "        [20., 22., 24., 26., 28.],\n",
            "        [30., 32., 34., 36., 38.]])\n"
          ]
        }
      ]
    },
    {
      "cell_type": "markdown",
      "source": [
        "* 两个矩阵按元素乘法称为 哈达玛积"
      ],
      "metadata": {
        "id": "DT0wtlsotG7_"
      }
    },
    {
      "cell_type": "code",
      "source": [
        "A * B # 两个矩阵对应位置元素作运算"
      ],
      "metadata": {
        "colab": {
          "base_uri": "https://localhost:8080/"
        },
        "id": "E_8gu91ttHGr",
        "outputId": "1783c274-93cc-4f9c-dab7-c18a73cd82de"
      },
      "execution_count": 89,
      "outputs": [
        {
          "output_type": "execute_result",
          "data": {
            "text/plain": [
              "tensor([[  0.,   1.,   4.,   9.,  16.],\n",
              "        [ 25.,  36.,  49.,  64.,  81.],\n",
              "        [100., 121., 144., 169., 196.],\n",
              "        [225., 256., 289., 324., 361.]])"
            ]
          },
          "metadata": {},
          "execution_count": 89
        }
      ]
    },
    {
      "cell_type": "code",
      "source": [
        "a = 2  # 标量和每一个元素作运算\n",
        "print(a + A)\n",
        "print(a * A)"
      ],
      "metadata": {
        "colab": {
          "base_uri": "https://localhost:8080/"
        },
        "id": "5ir8ZXELvjyp",
        "outputId": "c48ca0d6-c0c8-4e38-c059-dcf2c3ef511d"
      },
      "execution_count": 90,
      "outputs": [
        {
          "output_type": "stream",
          "name": "stdout",
          "text": [
            "tensor([[ 2.,  3.,  4.,  5.,  6.],\n",
            "        [ 7.,  8.,  9., 10., 11.],\n",
            "        [12., 13., 14., 15., 16.],\n",
            "        [17., 18., 19., 20., 21.]])\n",
            "tensor([[ 0.,  2.,  4.,  6.,  8.],\n",
            "        [10., 12., 14., 16., 18.],\n",
            "        [20., 22., 24., 26., 28.],\n",
            "        [30., 32., 34., 36., 38.]])\n"
          ]
        }
      ]
    },
    {
      "cell_type": "markdown",
      "source": [
        "* 计算其元素的和"
      ],
      "metadata": {
        "id": "bJIbMie5vjWW"
      }
    },
    {
      "cell_type": "code",
      "source": [
        "A = torch.arange(40, dtype=torch.float32).reshape(2,5,4)\n",
        "print(A)\n",
        "print(A.sum())"
      ],
      "metadata": {
        "colab": {
          "base_uri": "https://localhost:8080/"
        },
        "id": "iahZmzcavkuC",
        "outputId": "c1156ce4-0b94-44e8-f4be-58b85254b13f"
      },
      "execution_count": 91,
      "outputs": [
        {
          "output_type": "stream",
          "name": "stdout",
          "text": [
            "tensor([[[ 0.,  1.,  2.,  3.],\n",
            "         [ 4.,  5.,  6.,  7.],\n",
            "         [ 8.,  9., 10., 11.],\n",
            "         [12., 13., 14., 15.],\n",
            "         [16., 17., 18., 19.]],\n",
            "\n",
            "        [[20., 21., 22., 23.],\n",
            "         [24., 25., 26., 27.],\n",
            "         [28., 29., 30., 31.],\n",
            "         [32., 33., 34., 35.],\n",
            "         [36., 37., 38., 39.]]])\n",
            "tensor(780.)\n"
          ]
        }
      ]
    },
    {
      "cell_type": "markdown",
      "source": [
        "* 指定求和汇总张量的轴"
      ],
      "metadata": {
        "id": "048u9G1WtHPy"
      }
    },
    {
      "cell_type": "code",
      "source": [
        "A_sum_axis0 = A.sum(axis=0)   # 按 2 这个维度进行求和\n",
        "A_sum_axis0, A_sum_axis0.shape"
      ],
      "metadata": {
        "colab": {
          "base_uri": "https://localhost:8080/"
        },
        "id": "GwIjO4XCtHYo",
        "outputId": "fa46ecca-fb50-4ba1-d441-3148bd8381d1"
      },
      "execution_count": 92,
      "outputs": [
        {
          "output_type": "execute_result",
          "data": {
            "text/plain": [
              "(tensor([[20., 22., 24., 26.],\n",
              "         [28., 30., 32., 34.],\n",
              "         [36., 38., 40., 42.],\n",
              "         [44., 46., 48., 50.],\n",
              "         [52., 54., 56., 58.]]), torch.Size([5, 4]))"
            ]
          },
          "metadata": {},
          "execution_count": 92
        }
      ]
    },
    {
      "cell_type": "code",
      "source": [
        "A_sum_axis1 = A.sum(axis=1)   # 按 5 行进行求和\n",
        "A_sum_axis1, A_sum_axis1.shape"
      ],
      "metadata": {
        "colab": {
          "base_uri": "https://localhost:8080/"
        },
        "id": "PHMAthqtxT5y",
        "outputId": "e5732e0d-6f9c-4ece-c54f-f1a6460ce219"
      },
      "execution_count": 93,
      "outputs": [
        {
          "output_type": "execute_result",
          "data": {
            "text/plain": [
              "(tensor([[ 40.,  45.,  50.,  55.],\n",
              "         [140., 145., 150., 155.]]), torch.Size([2, 4]))"
            ]
          },
          "metadata": {},
          "execution_count": 93
        }
      ]
    },
    {
      "cell_type": "code",
      "source": [
        "A.sum(axis=[0, 1])"
      ],
      "metadata": {
        "colab": {
          "base_uri": "https://localhost:8080/"
        },
        "id": "bQ6yIlofxm52",
        "outputId": "91560ca1-5336-4cd8-986b-fa5ae589867f"
      },
      "execution_count": 94,
      "outputs": [
        {
          "output_type": "execute_result",
          "data": {
            "text/plain": [
              "tensor([180., 190., 200., 210.])"
            ]
          },
          "metadata": {},
          "execution_count": 94
        }
      ]
    },
    {
      "cell_type": "markdown",
      "source": [
        "* 一个与求和相关的量是 **平均值** (mean/average)"
      ],
      "metadata": {
        "id": "MbPIrkjEtHji"
      }
    },
    {
      "cell_type": "code",
      "source": [
        "A = torch.arange(20, dtype=torch.float32).reshape(5,4)\n",
        "A"
      ],
      "metadata": {
        "colab": {
          "base_uri": "https://localhost:8080/"
        },
        "id": "GOdlZ4BDx_WL",
        "outputId": "1e8b5dc0-53f9-4642-994f-4450200c8d74"
      },
      "execution_count": 108,
      "outputs": [
        {
          "output_type": "execute_result",
          "data": {
            "text/plain": [
              "tensor([[ 0.,  1.,  2.,  3.],\n",
              "        [ 4.,  5.,  6.,  7.],\n",
              "        [ 8.,  9., 10., 11.],\n",
              "        [12., 13., 14., 15.],\n",
              "        [16., 17., 18., 19.]])"
            ]
          },
          "metadata": {},
          "execution_count": 108
        }
      ]
    },
    {
      "cell_type": "code",
      "source": [
        "A.mean(), A.sum() / A.numel()"
      ],
      "metadata": {
        "colab": {
          "base_uri": "https://localhost:8080/"
        },
        "id": "x3GBRXJlybM_",
        "outputId": "a122b910-6c6e-48bd-ac27-c9e3fd0606c4"
      },
      "execution_count": 96,
      "outputs": [
        {
          "output_type": "execute_result",
          "data": {
            "text/plain": [
              "(tensor(9.5000), tensor(9.5000))"
            ]
          },
          "metadata": {},
          "execution_count": 96
        }
      ]
    },
    {
      "cell_type": "code",
      "source": [
        "A.mean(axis=0), A.sum(axis=0)/A.shape[0]"
      ],
      "metadata": {
        "colab": {
          "base_uri": "https://localhost:8080/"
        },
        "id": "QFSJ_siLymId",
        "outputId": "d0af4bd5-695a-4860-d6f2-427cc0fbbe83"
      },
      "execution_count": 97,
      "outputs": [
        {
          "output_type": "execute_result",
          "data": {
            "text/plain": [
              "(tensor([ 8.,  9., 10., 11.]), tensor([ 8.,  9., 10., 11.]))"
            ]
          },
          "metadata": {},
          "execution_count": 97
        }
      ]
    },
    {
      "cell_type": "markdown",
      "source": [
        " * 计算总和或均值时保持轴数不变，这样就可以利用广播机制"
      ],
      "metadata": {
        "id": "BO9jdJozx_id"
      }
    },
    {
      "cell_type": "code",
      "source": [
        "A"
      ],
      "metadata": {
        "colab": {
          "base_uri": "https://localhost:8080/"
        },
        "id": "ZUImLchY0H7M",
        "outputId": "d3969b62-b006-4a3c-a739-ebabc5ba6ed2"
      },
      "execution_count": 98,
      "outputs": [
        {
          "output_type": "execute_result",
          "data": {
            "text/plain": [
              "tensor([[ 0.,  1.,  2.,  3.],\n",
              "        [ 4.,  5.,  6.,  7.],\n",
              "        [ 8.,  9., 10., 11.],\n",
              "        [12., 13., 14., 15.],\n",
              "        [16., 17., 18., 19.]])"
            ]
          },
          "metadata": {},
          "execution_count": 98
        }
      ]
    },
    {
      "cell_type": "code",
      "source": [
        "A.sum(axis=1)  # 变成一维张量"
      ],
      "metadata": {
        "colab": {
          "base_uri": "https://localhost:8080/"
        },
        "id": "pLZbc1jOzdwp",
        "outputId": "fddeda12-1ca8-4f95-ff8d-8d838101296d"
      },
      "execution_count": 99,
      "outputs": [
        {
          "output_type": "execute_result",
          "data": {
            "text/plain": [
              "tensor([ 6., 22., 38., 54., 70.])"
            ]
          },
          "metadata": {},
          "execution_count": 99
        }
      ]
    },
    {
      "cell_type": "code",
      "source": [
        "sum_A = A.sum(axis=1, keepdims=True)  # 依然是二位张量\n",
        "sum_A"
      ],
      "metadata": {
        "colab": {
          "base_uri": "https://localhost:8080/"
        },
        "id": "NWlwZuJKx_yj",
        "outputId": "c618ea71-a0f5-4a00-f4d5-4e1d2b40ddca"
      },
      "execution_count": 100,
      "outputs": [
        {
          "output_type": "execute_result",
          "data": {
            "text/plain": [
              "tensor([[ 6.],\n",
              "        [22.],\n",
              "        [38.],\n",
              "        [54.],\n",
              "        [70.]])"
            ]
          },
          "metadata": {},
          "execution_count": 100
        }
      ]
    },
    {
      "cell_type": "code",
      "source": [
        "A / sum_A  # 利用广播机制"
      ],
      "metadata": {
        "colab": {
          "base_uri": "https://localhost:8080/"
        },
        "id": "7h1pJhJazZLd",
        "outputId": "7582844a-188d-44e9-fba1-e8bd2fddff5a"
      },
      "execution_count": 101,
      "outputs": [
        {
          "output_type": "execute_result",
          "data": {
            "text/plain": [
              "tensor([[0.0000, 0.1667, 0.3333, 0.5000],\n",
              "        [0.1818, 0.2273, 0.2727, 0.3182],\n",
              "        [0.2105, 0.2368, 0.2632, 0.2895],\n",
              "        [0.2222, 0.2407, 0.2593, 0.2778],\n",
              "        [0.2286, 0.2429, 0.2571, 0.2714]])"
            ]
          },
          "metadata": {},
          "execution_count": 101
        }
      ]
    },
    {
      "cell_type": "markdown",
      "source": [
        "* 累加求和"
      ],
      "metadata": {
        "id": "2Z4iRJSVx_7Z"
      }
    },
    {
      "cell_type": "code",
      "source": [
        "A"
      ],
      "metadata": {
        "colab": {
          "base_uri": "https://localhost:8080/"
        },
        "id": "hw-rW0Pw0F3M",
        "outputId": "6db1b1f4-33b6-4b50-8f38-ceeaf3fde02d"
      },
      "execution_count": 102,
      "outputs": [
        {
          "output_type": "execute_result",
          "data": {
            "text/plain": [
              "tensor([[ 0.,  1.,  2.,  3.],\n",
              "        [ 4.,  5.,  6.,  7.],\n",
              "        [ 8.,  9., 10., 11.],\n",
              "        [12., 13., 14., 15.],\n",
              "        [16., 17., 18., 19.]])"
            ]
          },
          "metadata": {},
          "execution_count": 102
        }
      ]
    },
    {
      "cell_type": "code",
      "source": [
        "A.cumsum(axis=0)"
      ],
      "metadata": {
        "colab": {
          "base_uri": "https://localhost:8080/"
        },
        "id": "-CgwWk5VyAGw",
        "outputId": "01207045-61de-4534-ab4c-90207ac3d6eb"
      },
      "execution_count": 103,
      "outputs": [
        {
          "output_type": "execute_result",
          "data": {
            "text/plain": [
              "tensor([[ 0.,  1.,  2.,  3.],\n",
              "        [ 4.,  6.,  8., 10.],\n",
              "        [12., 15., 18., 21.],\n",
              "        [24., 28., 32., 36.],\n",
              "        [40., 45., 50., 55.]])"
            ]
          },
          "metadata": {},
          "execution_count": 103
        }
      ]
    },
    {
      "cell_type": "markdown",
      "source": [
        "*  点积是相同位置的按元素乘积的和，也就是**对哈达玛积求和**"
      ],
      "metadata": {
        "id": "QUMTN-azyAOr"
      }
    },
    {
      "cell_type": "code",
      "source": [
        "x = torch.tensor([1.0,2,3,4]) \n",
        "y = torch.ones(4,dtype=torch.float32)\n",
        "x, y "
      ],
      "metadata": {
        "colab": {
          "base_uri": "https://localhost:8080/"
        },
        "id": "M3lt-_KqtHqh",
        "outputId": "306a8c7f-b5e5-4a65-a2cb-a4c1910411a9"
      },
      "execution_count": 104,
      "outputs": [
        {
          "output_type": "execute_result",
          "data": {
            "text/plain": [
              "(tensor([1., 2., 3., 4.]), tensor([1., 1., 1., 1.]))"
            ]
          },
          "metadata": {},
          "execution_count": 104
        }
      ]
    },
    {
      "cell_type": "code",
      "source": [
        "torch.dot(x, y), torch.sum(x * y)"
      ],
      "metadata": {
        "colab": {
          "base_uri": "https://localhost:8080/"
        },
        "id": "Vn94w6Ao1dAK",
        "outputId": "4869d721-fb7e-4973-914d-11b07186e208"
      },
      "execution_count": 105,
      "outputs": [
        {
          "output_type": "execute_result",
          "data": {
            "text/plain": [
              "(tensor(10.), tensor(10.))"
            ]
          },
          "metadata": {},
          "execution_count": 105
        }
      ]
    },
    {
      "cell_type": "markdown",
      "source": [
        "* 矩阵-矩阵(向量)乘法 AB(Ax)"
      ],
      "metadata": {
        "id": "P9XxwCev2olh"
      }
    },
    {
      "cell_type": "code",
      "source": [
        "A, x, A.shape, x.shape"
      ],
      "metadata": {
        "colab": {
          "base_uri": "https://localhost:8080/"
        },
        "id": "vadQg_fi1-mQ",
        "outputId": "29553fe4-6b7d-4211-f033-d2d286fcaa54"
      },
      "execution_count": 106,
      "outputs": [
        {
          "output_type": "execute_result",
          "data": {
            "text/plain": [
              "(tensor([[ 0.,  1.,  2.,  3.],\n",
              "         [ 4.,  5.,  6.,  7.],\n",
              "         [ 8.,  9., 10., 11.],\n",
              "         [12., 13., 14., 15.],\n",
              "         [16., 17., 18., 19.]]),\n",
              " tensor([1., 2., 3., 4.]),\n",
              " torch.Size([5, 4]),\n",
              " torch.Size([4]))"
            ]
          },
          "metadata": {},
          "execution_count": 106
        }
      ]
    },
    {
      "cell_type": "code",
      "source": [
        "# 个人理解是: 这里的一维向量是按照一维列向量参加运算，输出的时候是行向量形式\n",
        "torch.mv(A, x)  # matrix - vector  "
      ],
      "metadata": {
        "colab": {
          "base_uri": "https://localhost:8080/"
        },
        "id": "nFlQlVTt3AF7",
        "outputId": "8b0ea05e-83c3-4d06-cbc7-cdee66846d44"
      },
      "execution_count": 107,
      "outputs": [
        {
          "output_type": "execute_result",
          "data": {
            "text/plain": [
              "tensor([ 20.,  60., 100., 140., 180.])"
            ]
          },
          "metadata": {},
          "execution_count": 107
        }
      ]
    },
    {
      "cell_type": "code",
      "source": [
        "B = torch.ones(4,3)   # matrix - matrix\n",
        "torch.mm(A,B)"
      ],
      "metadata": {
        "colab": {
          "base_uri": "https://localhost:8080/"
        },
        "id": "j7_szbQS3vFN",
        "outputId": "40cf0985-1528-4009-d3d8-d4f8735706ac"
      },
      "execution_count": 111,
      "outputs": [
        {
          "output_type": "execute_result",
          "data": {
            "text/plain": [
              "tensor([[ 6.,  6.,  6.],\n",
              "        [22., 22., 22.],\n",
              "        [38., 38., 38.],\n",
              "        [54., 54., 54.],\n",
              "        [70., 70., 70.]])"
            ]
          },
          "metadata": {},
          "execution_count": 111
        }
      ]
    },
    {
      "cell_type": "markdown",
      "source": [
        "*  $L_2$范数表示向量元素平方和的平方根:  \n",
        "$$\\Vert x\\Vert_2 = \\sqrt{\\sum_{i=1}^{n}x_i^2}$$\n",
        "\n"
      ],
      "metadata": {
        "id": "VAY_Bg5f399C"
      }
    },
    {
      "cell_type": "code",
      "source": [
        "u = torch.tensor([3.0, -4.0])\n",
        "torch.norm()"
      ],
      "metadata": {
        "colab": {
          "base_uri": "https://localhost:8080/"
        },
        "id": "npnIqJVP31Ce",
        "outputId": "0612943c-a75d-4a94-ccc4-0b092d504b30"
      },
      "execution_count": 113,
      "outputs": [
        {
          "output_type": "execute_result",
          "data": {
            "text/plain": [
              "tensor(5.)"
            ]
          },
          "metadata": {},
          "execution_count": 113
        }
      ]
    },
    {
      "cell_type": "markdown",
      "source": [
        "* $L_1$范数表示为向量元素的绝对值之和:\n",
        "$$\\Vert x\\Vert_1 = \\sum_{i=1}^{n}|x_i|$$"
      ],
      "metadata": {
        "id": "e9_Gn3dj8t_g"
      }
    },
    {
      "cell_type": "code",
      "source": [
        "torch.abs(u).sum()"
      ],
      "metadata": {
        "colab": {
          "base_uri": "https://localhost:8080/"
        },
        "id": "zABEqh_H8tVm",
        "outputId": "3dce4bc3-454d-4b27-e30a-900fc45acf74"
      },
      "execution_count": 114,
      "outputs": [
        {
          "output_type": "execute_result",
          "data": {
            "text/plain": [
              "tensor(7.)"
            ]
          },
          "metadata": {},
          "execution_count": 114
        }
      ]
    },
    {
      "cell_type": "markdown",
      "source": [
        "矩阵的 **弗罗贝尼乌斯范数(Frobenius norm)** 是矩阵元素的平方和的平方根:\n",
        "$$\\Vert x\\Vert_2 = \\sqrt{\\sum_{i=1}^{m}\\sum_{j=1}^{n}x_{ij}^2}$$"
      ],
      "metadata": {
        "id": "YSQbwQFP_A3g"
      }
    },
    {
      "cell_type": "code",
      "source": [
        "f = torch.tensor([[4,-3],[3,4]], dtype=torch.float32)\n",
        "torch.norm(f)"
      ],
      "metadata": {
        "colab": {
          "base_uri": "https://localhost:8080/"
        },
        "id": "PvADMC29_CQk",
        "outputId": "21e21c92-7622-437a-8394-54aad3fccf22"
      },
      "execution_count": 120,
      "outputs": [
        {
          "output_type": "execute_result",
          "data": {
            "text/plain": [
              "tensor(7.0711)"
            ]
          },
          "metadata": {},
          "execution_count": 120
        }
      ]
    }
  ]
}