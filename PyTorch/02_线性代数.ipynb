{
  "nbformat": 4,
  "nbformat_minor": 0,
  "metadata": {
    "colab": {
      "name": "02_线性代数.ipynb",
      "provenance": [],
      "collapsed_sections": []
    },
    "kernelspec": {
      "name": "python3",
      "display_name": "Python 3"
    },
    "language_info": {
      "name": "python"
    }
  },
  "cells": [
    {
      "cell_type": "markdown",
      "source": [
        "**# 线性代数实现**"
      ],
      "metadata": {
        "id": "hMI7G_bIrW4z"
      }
    },
    {
      "cell_type": "markdown",
      "source": [
        "*  **torch中一维张量的表示，是行向量的形式，但是，是按照列向量参与计算的**"
      ],
      "metadata": {
        "id": "N079jsXo2RIm"
      }
    },
    {
      "cell_type": "markdown",
      "source": [
        "* 标量由只有一个元素的张量表示"
      ],
      "metadata": {
        "id": "AcMY3rjsrcM5"
      }
    },
    {
      "cell_type": "code",
      "execution_count": 2,
      "metadata": {
        "colab": {
          "base_uri": "https://localhost:8080/"
        },
        "id": "g-rS11VwrFUo",
        "outputId": "a62baae3-7f91-454b-c784-cdf2d0086be7"
      },
      "outputs": [
        {
          "output_type": "execute_result",
          "data": {
            "text/plain": [
              "(tensor([5.]), tensor([6.]), tensor([1.5000]), tensor([9.]))"
            ]
          },
          "metadata": {},
          "execution_count": 2
        }
      ],
      "source": [
        "import torch\n",
        "\n",
        "x = torch.tensor([3.0]) \n",
        "y = torch.tensor([2.0])\n",
        "\n",
        "x + y, x * y, x /y , x**y"
      ]
    },
    {
      "cell_type": "markdown",
      "source": [
        "* 可以将向量视为标量组成的列表"
      ],
      "metadata": {
        "id": "jk3VOjMkrtoZ"
      }
    },
    {
      "cell_type": "code",
      "source": [
        "x = torch.arange(4)\n",
        "x"
      ],
      "metadata": {
        "colab": {
          "base_uri": "https://localhost:8080/"
        },
        "id": "KDnE6VXtr3Qx",
        "outputId": "f5151de7-b1f8-4592-c9ec-d3d060fee6b9"
      },
      "execution_count": 3,
      "outputs": [
        {
          "output_type": "execute_result",
          "data": {
            "text/plain": [
              "tensor([0, 1, 2, 3])"
            ]
          },
          "metadata": {},
          "execution_count": 3
        }
      ]
    },
    {
      "cell_type": "markdown",
      "source": [
        "* 通过张量的索引来访问任一元素"
      ],
      "metadata": {
        "id": "6X7FvHsGr7Xb"
      }
    },
    {
      "cell_type": "code",
      "source": [
        "x[3]"
      ],
      "metadata": {
        "colab": {
          "base_uri": "https://localhost:8080/"
        },
        "id": "5CMXA18BsAWC",
        "outputId": "cd806f60-260c-4d28-ddf8-b4b400fbe617"
      },
      "execution_count": 4,
      "outputs": [
        {
          "output_type": "execute_result",
          "data": {
            "text/plain": [
              "tensor(3)"
            ]
          },
          "metadata": {},
          "execution_count": 4
        }
      ]
    },
    {
      "cell_type": "markdown",
      "source": [
        "* 访问张量的长度"
      ],
      "metadata": {
        "id": "DDSs39slsDM3"
      }
    },
    {
      "cell_type": "code",
      "source": [
        "len(x)"
      ],
      "metadata": {
        "colab": {
          "base_uri": "https://localhost:8080/"
        },
        "id": "8sqntIhUsGyz",
        "outputId": "474bc7cd-d91a-40ee-8934-3fd19b2ba138"
      },
      "execution_count": 5,
      "outputs": [
        {
          "output_type": "execute_result",
          "data": {
            "text/plain": [
              "4"
            ]
          },
          "metadata": {},
          "execution_count": 5
        }
      ]
    },
    {
      "cell_type": "markdown",
      "source": [
        "*  只有一个轴的张量，形状只有一个元素"
      ],
      "metadata": {
        "id": "5KvJS0yFsKRn"
      }
    },
    {
      "cell_type": "code",
      "source": [
        "x.shape"
      ],
      "metadata": {
        "colab": {
          "base_uri": "https://localhost:8080/"
        },
        "id": "82o3NvVfsRSg",
        "outputId": "7da76451-6474-4035-f8a1-07f186368f5c"
      },
      "execution_count": 6,
      "outputs": [
        {
          "output_type": "execute_result",
          "data": {
            "text/plain": [
              "torch.Size([4])"
            ]
          },
          "metadata": {},
          "execution_count": 6
        }
      ]
    },
    {
      "cell_type": "markdown",
      "source": [
        "* 通过指定两个分量m和n来创建一个形状为m x n的矩阵"
      ],
      "metadata": {
        "id": "Pm6dAKHwsTeS"
      }
    },
    {
      "cell_type": "code",
      "source": [
        "A = torch.arange(20).reshape(4,5) \n",
        "A"
      ],
      "metadata": {
        "colab": {
          "base_uri": "https://localhost:8080/"
        },
        "id": "UrJDDsepsf__",
        "outputId": "08ce5eba-a7b5-4e45-cdb1-8e76d5953370"
      },
      "execution_count": 7,
      "outputs": [
        {
          "output_type": "execute_result",
          "data": {
            "text/plain": [
              "tensor([[ 0,  1,  2,  3,  4],\n",
              "        [ 5,  6,  7,  8,  9],\n",
              "        [10, 11, 12, 13, 14],\n",
              "        [15, 16, 17, 18, 19]])"
            ]
          },
          "metadata": {},
          "execution_count": 7
        }
      ]
    },
    {
      "cell_type": "markdown",
      "source": [
        "* 矩阵的转置"
      ],
      "metadata": {
        "id": "eIG1MWJ-smez"
      }
    },
    {
      "cell_type": "code",
      "source": [
        "A.T"
      ],
      "metadata": {
        "colab": {
          "base_uri": "https://localhost:8080/"
        },
        "id": "FYn4pn6SslhI",
        "outputId": "8638b855-43cc-444d-fd2c-705b0009a29e"
      },
      "execution_count": 8,
      "outputs": [
        {
          "output_type": "execute_result",
          "data": {
            "text/plain": [
              "tensor([[ 0,  5, 10, 15],\n",
              "        [ 1,  6, 11, 16],\n",
              "        [ 2,  7, 12, 17],\n",
              "        [ 3,  8, 13, 18],\n",
              "        [ 4,  9, 14, 19]])"
            ]
          },
          "metadata": {},
          "execution_count": 8
        }
      ]
    },
    {
      "cell_type": "markdown",
      "source": [
        "* 对称矩阵 A 等于其转置"
      ],
      "metadata": {
        "id": "AM9MWfE_suVs"
      }
    },
    {
      "cell_type": "code",
      "source": [
        "B = torch.tensor([[1,2,3],[2,0,4],[3,4,5]])\n",
        "B"
      ],
      "metadata": {
        "colab": {
          "base_uri": "https://localhost:8080/"
        },
        "id": "7KH6ET2sst05",
        "outputId": "92fd625d-7bd1-4263-df17-aca3097655c2"
      },
      "execution_count": 9,
      "outputs": [
        {
          "output_type": "execute_result",
          "data": {
            "text/plain": [
              "tensor([[1, 2, 3],\n",
              "        [2, 0, 4],\n",
              "        [3, 4, 5]])"
            ]
          },
          "metadata": {},
          "execution_count": 9
        }
      ]
    },
    {
      "cell_type": "code",
      "source": [
        "B == B.T"
      ],
      "metadata": {
        "colab": {
          "base_uri": "https://localhost:8080/"
        },
        "id": "F9lcblOFtDdC",
        "outputId": "5ec8e674-20f7-4a0a-c670-370ee06df3d8"
      },
      "execution_count": 10,
      "outputs": [
        {
          "output_type": "execute_result",
          "data": {
            "text/plain": [
              "tensor([[True, True, True],\n",
              "        [True, True, True],\n",
              "        [True, True, True]])"
            ]
          },
          "metadata": {},
          "execution_count": 10
        }
      ]
    },
    {
      "cell_type": "markdown",
      "source": [
        "* 就像向量是标量的推广，矩阵是向量的推广一样，可以构建具有更多轴的数据结构"
      ],
      "metadata": {
        "id": "D8I5AZzYsu4E"
      }
    },
    {
      "cell_type": "code",
      "source": [
        "X = torch.arange(24).reshape(2,3,4)  \n",
        "# 表示2个 3x4 的矩阵， 越往后维度越低\n",
        "# 例如（2，3，4，5） 表示2个三维张量， 每个三维张量具有3个 4x5 矩阵\n",
        "X"
      ],
      "metadata": {
        "colab": {
          "base_uri": "https://localhost:8080/"
        },
        "id": "h3xSOqposvEj",
        "outputId": "c344a455-1fe7-4db4-aac0-1e4dee3fcf2b"
      },
      "execution_count": 11,
      "outputs": [
        {
          "output_type": "execute_result",
          "data": {
            "text/plain": [
              "tensor([[[ 0,  1,  2,  3],\n",
              "         [ 4,  5,  6,  7],\n",
              "         [ 8,  9, 10, 11]],\n",
              "\n",
              "        [[12, 13, 14, 15],\n",
              "         [16, 17, 18, 19],\n",
              "         [20, 21, 22, 23]]])"
            ]
          },
          "metadata": {},
          "execution_count": 11
        }
      ]
    },
    {
      "cell_type": "markdown",
      "source": [
        "* 给定具有相同形状的任何两个张量，任何按元素二元运算的结果都将是相同形状的张量"
      ],
      "metadata": {
        "id": "X6hPLWfysvLD"
      }
    },
    {
      "cell_type": "code",
      "source": [
        "A = torch.arange(20, dtype=torch.float32).reshape(4,5)\n",
        "B = A.clone() # 通过分配新内存，将A的一个副本分配给B，即修改B的值不会影响A的值\n",
        "print(A) \n",
        "print(A + B)"
      ],
      "metadata": {
        "colab": {
          "base_uri": "https://localhost:8080/"
        },
        "id": "JyQJLhQhsvSo",
        "outputId": "a4be4db7-cf84-426a-a44a-67ec06adf880"
      },
      "execution_count": 12,
      "outputs": [
        {
          "output_type": "stream",
          "name": "stdout",
          "text": [
            "tensor([[ 0.,  1.,  2.,  3.,  4.],\n",
            "        [ 5.,  6.,  7.,  8.,  9.],\n",
            "        [10., 11., 12., 13., 14.],\n",
            "        [15., 16., 17., 18., 19.]])\n",
            "tensor([[ 0.,  2.,  4.,  6.,  8.],\n",
            "        [10., 12., 14., 16., 18.],\n",
            "        [20., 22., 24., 26., 28.],\n",
            "        [30., 32., 34., 36., 38.]])\n"
          ]
        }
      ]
    },
    {
      "cell_type": "markdown",
      "source": [
        "* 两个矩阵按元素乘法称为 哈达玛积"
      ],
      "metadata": {
        "id": "DT0wtlsotG7_"
      }
    },
    {
      "cell_type": "code",
      "source": [
        "A * B # 两个矩阵对应位置元素作运算"
      ],
      "metadata": {
        "colab": {
          "base_uri": "https://localhost:8080/"
        },
        "id": "E_8gu91ttHGr",
        "outputId": "ed495c4f-c856-4501-cd39-2193a63df6b5"
      },
      "execution_count": 13,
      "outputs": [
        {
          "output_type": "execute_result",
          "data": {
            "text/plain": [
              "tensor([[  0.,   1.,   4.,   9.,  16.],\n",
              "        [ 25.,  36.,  49.,  64.,  81.],\n",
              "        [100., 121., 144., 169., 196.],\n",
              "        [225., 256., 289., 324., 361.]])"
            ]
          },
          "metadata": {},
          "execution_count": 13
        }
      ]
    },
    {
      "cell_type": "code",
      "source": [
        "a = 2  # 标量和每一个元素作运算\n",
        "print(a + A)\n",
        "print(a * A)"
      ],
      "metadata": {
        "colab": {
          "base_uri": "https://localhost:8080/"
        },
        "id": "5ir8ZXELvjyp",
        "outputId": "b5c65edf-c35c-490c-a864-c1bf8130ba75"
      },
      "execution_count": 14,
      "outputs": [
        {
          "output_type": "stream",
          "name": "stdout",
          "text": [
            "tensor([[ 2.,  3.,  4.,  5.,  6.],\n",
            "        [ 7.,  8.,  9., 10., 11.],\n",
            "        [12., 13., 14., 15., 16.],\n",
            "        [17., 18., 19., 20., 21.]])\n",
            "tensor([[ 0.,  2.,  4.,  6.,  8.],\n",
            "        [10., 12., 14., 16., 18.],\n",
            "        [20., 22., 24., 26., 28.],\n",
            "        [30., 32., 34., 36., 38.]])\n"
          ]
        }
      ]
    },
    {
      "cell_type": "markdown",
      "source": [
        "* 计算其元素的和"
      ],
      "metadata": {
        "id": "bJIbMie5vjWW"
      }
    },
    {
      "cell_type": "code",
      "source": [
        "A = torch.arange(40, dtype=torch.float32).reshape(2,5,4)\n",
        "print(A)\n",
        "print(A.sum())"
      ],
      "metadata": {
        "colab": {
          "base_uri": "https://localhost:8080/"
        },
        "id": "iahZmzcavkuC",
        "outputId": "de377aa7-7ee8-4e90-d611-9623c0613a17"
      },
      "execution_count": 15,
      "outputs": [
        {
          "output_type": "stream",
          "name": "stdout",
          "text": [
            "tensor([[[ 0.,  1.,  2.,  3.],\n",
            "         [ 4.,  5.,  6.,  7.],\n",
            "         [ 8.,  9., 10., 11.],\n",
            "         [12., 13., 14., 15.],\n",
            "         [16., 17., 18., 19.]],\n",
            "\n",
            "        [[20., 21., 22., 23.],\n",
            "         [24., 25., 26., 27.],\n",
            "         [28., 29., 30., 31.],\n",
            "         [32., 33., 34., 35.],\n",
            "         [36., 37., 38., 39.]]])\n",
            "tensor(780.)\n"
          ]
        }
      ]
    },
    {
      "cell_type": "markdown",
      "source": [
        "* 指定求和汇总张量的轴"
      ],
      "metadata": {
        "id": "048u9G1WtHPy"
      }
    },
    {
      "cell_type": "code",
      "source": [
        "A_sum_axis0 = A.sum(axis=0)   # 按 2 这个维度进行求和\n",
        "A_sum_axis0, A_sum_axis0.shape"
      ],
      "metadata": {
        "colab": {
          "base_uri": "https://localhost:8080/"
        },
        "id": "GwIjO4XCtHYo",
        "outputId": "f8c235ac-23dd-4219-bf6c-956e6f5133a2"
      },
      "execution_count": 16,
      "outputs": [
        {
          "output_type": "execute_result",
          "data": {
            "text/plain": [
              "(tensor([[20., 22., 24., 26.],\n",
              "         [28., 30., 32., 34.],\n",
              "         [36., 38., 40., 42.],\n",
              "         [44., 46., 48., 50.],\n",
              "         [52., 54., 56., 58.]]), torch.Size([5, 4]))"
            ]
          },
          "metadata": {},
          "execution_count": 16
        }
      ]
    },
    {
      "cell_type": "code",
      "source": [
        "A_sum_axis1 = A.sum(axis=1)   # 按 5 行进行求和\n",
        "A_sum_axis1, A_sum_axis1.shape"
      ],
      "metadata": {
        "colab": {
          "base_uri": "https://localhost:8080/"
        },
        "id": "PHMAthqtxT5y",
        "outputId": "97fca611-f8c6-4f33-d21b-10b7d123c813"
      },
      "execution_count": 17,
      "outputs": [
        {
          "output_type": "execute_result",
          "data": {
            "text/plain": [
              "(tensor([[ 40.,  45.,  50.,  55.],\n",
              "         [140., 145., 150., 155.]]), torch.Size([2, 4]))"
            ]
          },
          "metadata": {},
          "execution_count": 17
        }
      ]
    },
    {
      "cell_type": "code",
      "source": [
        "A.sum(axis=[0, 1])"
      ],
      "metadata": {
        "colab": {
          "base_uri": "https://localhost:8080/"
        },
        "id": "bQ6yIlofxm52",
        "outputId": "9f6c5f35-690d-42bb-cb6d-37250b984f3e"
      },
      "execution_count": 18,
      "outputs": [
        {
          "output_type": "execute_result",
          "data": {
            "text/plain": [
              "tensor([180., 190., 200., 210.])"
            ]
          },
          "metadata": {},
          "execution_count": 18
        }
      ]
    },
    {
      "cell_type": "markdown",
      "source": [
        "* 一个与求和相关的量是 **平均值** (mean/average)"
      ],
      "metadata": {
        "id": "MbPIrkjEtHji"
      }
    },
    {
      "cell_type": "code",
      "source": [
        "A = torch.arange(20, dtype=torch.float32).reshape(5,4)\n",
        "A"
      ],
      "metadata": {
        "colab": {
          "base_uri": "https://localhost:8080/"
        },
        "id": "GOdlZ4BDx_WL",
        "outputId": "1b4bfcbf-0a2f-4dc6-cf42-c52bee494af2"
      },
      "execution_count": 19,
      "outputs": [
        {
          "output_type": "execute_result",
          "data": {
            "text/plain": [
              "tensor([[ 0.,  1.,  2.,  3.],\n",
              "        [ 4.,  5.,  6.,  7.],\n",
              "        [ 8.,  9., 10., 11.],\n",
              "        [12., 13., 14., 15.],\n",
              "        [16., 17., 18., 19.]])"
            ]
          },
          "metadata": {},
          "execution_count": 19
        }
      ]
    },
    {
      "cell_type": "code",
      "source": [
        "A.mean(), A.sum() / A.numel()"
      ],
      "metadata": {
        "colab": {
          "base_uri": "https://localhost:8080/"
        },
        "id": "x3GBRXJlybM_",
        "outputId": "002e45e1-26a2-4272-8a2c-3edf78ef13c6"
      },
      "execution_count": 20,
      "outputs": [
        {
          "output_type": "execute_result",
          "data": {
            "text/plain": [
              "(tensor(9.5000), tensor(9.5000))"
            ]
          },
          "metadata": {},
          "execution_count": 20
        }
      ]
    },
    {
      "cell_type": "code",
      "source": [
        "A.mean(axis=0), A.sum(axis=0)/A.shape[0]"
      ],
      "metadata": {
        "colab": {
          "base_uri": "https://localhost:8080/"
        },
        "id": "QFSJ_siLymId",
        "outputId": "d0327c2a-c32f-4f45-abe6-7aae6dec3abe"
      },
      "execution_count": 21,
      "outputs": [
        {
          "output_type": "execute_result",
          "data": {
            "text/plain": [
              "(tensor([ 8.,  9., 10., 11.]), tensor([ 8.,  9., 10., 11.]))"
            ]
          },
          "metadata": {},
          "execution_count": 21
        }
      ]
    },
    {
      "cell_type": "markdown",
      "source": [
        " * 计算总和或均值时保持轴数不变，这样就可以利用广播机制"
      ],
      "metadata": {
        "id": "BO9jdJozx_id"
      }
    },
    {
      "cell_type": "code",
      "source": [
        "A"
      ],
      "metadata": {
        "colab": {
          "base_uri": "https://localhost:8080/"
        },
        "id": "ZUImLchY0H7M",
        "outputId": "4d25f290-ad9d-4904-cdd2-a843ca4ebfe7"
      },
      "execution_count": 22,
      "outputs": [
        {
          "output_type": "execute_result",
          "data": {
            "text/plain": [
              "tensor([[ 0.,  1.,  2.,  3.],\n",
              "        [ 4.,  5.,  6.,  7.],\n",
              "        [ 8.,  9., 10., 11.],\n",
              "        [12., 13., 14., 15.],\n",
              "        [16., 17., 18., 19.]])"
            ]
          },
          "metadata": {},
          "execution_count": 22
        }
      ]
    },
    {
      "cell_type": "code",
      "source": [
        "A.sum(axis=1)  # 变成一维张量"
      ],
      "metadata": {
        "colab": {
          "base_uri": "https://localhost:8080/"
        },
        "id": "pLZbc1jOzdwp",
        "outputId": "fbad863b-12a4-4509-92c0-1536580fa744"
      },
      "execution_count": 23,
      "outputs": [
        {
          "output_type": "execute_result",
          "data": {
            "text/plain": [
              "tensor([ 6., 22., 38., 54., 70.])"
            ]
          },
          "metadata": {},
          "execution_count": 23
        }
      ]
    },
    {
      "cell_type": "code",
      "source": [
        "sum_A = A.sum(axis=1, keepdims=True)  # 依然是二位张量\n",
        "sum_A"
      ],
      "metadata": {
        "colab": {
          "base_uri": "https://localhost:8080/"
        },
        "id": "NWlwZuJKx_yj",
        "outputId": "be508f0a-6dc9-40f5-889b-ea265328aaae"
      },
      "execution_count": 24,
      "outputs": [
        {
          "output_type": "execute_result",
          "data": {
            "text/plain": [
              "tensor([[ 6.],\n",
              "        [22.],\n",
              "        [38.],\n",
              "        [54.],\n",
              "        [70.]])"
            ]
          },
          "metadata": {},
          "execution_count": 24
        }
      ]
    },
    {
      "cell_type": "code",
      "source": [
        "A / sum_A  # 利用广播机制"
      ],
      "metadata": {
        "colab": {
          "base_uri": "https://localhost:8080/"
        },
        "id": "7h1pJhJazZLd",
        "outputId": "1bbf97f5-e860-4f7b-f0c4-fe093c3bd54e"
      },
      "execution_count": 25,
      "outputs": [
        {
          "output_type": "execute_result",
          "data": {
            "text/plain": [
              "tensor([[0.0000, 0.1667, 0.3333, 0.5000],\n",
              "        [0.1818, 0.2273, 0.2727, 0.3182],\n",
              "        [0.2105, 0.2368, 0.2632, 0.2895],\n",
              "        [0.2222, 0.2407, 0.2593, 0.2778],\n",
              "        [0.2286, 0.2429, 0.2571, 0.2714]])"
            ]
          },
          "metadata": {},
          "execution_count": 25
        }
      ]
    },
    {
      "cell_type": "markdown",
      "source": [
        "* 累加求和"
      ],
      "metadata": {
        "id": "2Z4iRJSVx_7Z"
      }
    },
    {
      "cell_type": "code",
      "source": [
        "A"
      ],
      "metadata": {
        "colab": {
          "base_uri": "https://localhost:8080/"
        },
        "id": "hw-rW0Pw0F3M",
        "outputId": "1ec62c52-ae30-45f2-9c3c-8e138beb910d"
      },
      "execution_count": 26,
      "outputs": [
        {
          "output_type": "execute_result",
          "data": {
            "text/plain": [
              "tensor([[ 0.,  1.,  2.,  3.],\n",
              "        [ 4.,  5.,  6.,  7.],\n",
              "        [ 8.,  9., 10., 11.],\n",
              "        [12., 13., 14., 15.],\n",
              "        [16., 17., 18., 19.]])"
            ]
          },
          "metadata": {},
          "execution_count": 26
        }
      ]
    },
    {
      "cell_type": "code",
      "source": [
        "A.cumsum(axis=0)"
      ],
      "metadata": {
        "colab": {
          "base_uri": "https://localhost:8080/"
        },
        "id": "-CgwWk5VyAGw",
        "outputId": "4e413186-92c8-4a95-ad79-264eb4bf7751"
      },
      "execution_count": 27,
      "outputs": [
        {
          "output_type": "execute_result",
          "data": {
            "text/plain": [
              "tensor([[ 0.,  1.,  2.,  3.],\n",
              "        [ 4.,  6.,  8., 10.],\n",
              "        [12., 15., 18., 21.],\n",
              "        [24., 28., 32., 36.],\n",
              "        [40., 45., 50., 55.]])"
            ]
          },
          "metadata": {},
          "execution_count": 27
        }
      ]
    },
    {
      "cell_type": "markdown",
      "source": [
        "*  点积是相同位置的按元素乘积的和，也就是**对哈达玛积求和**"
      ],
      "metadata": {
        "id": "QUMTN-azyAOr"
      }
    },
    {
      "cell_type": "code",
      "source": [
        "x = torch.tensor([1.0,2,3,4]) \n",
        "y = torch.ones(4,dtype=torch.float32)\n",
        "x, y "
      ],
      "metadata": {
        "colab": {
          "base_uri": "https://localhost:8080/"
        },
        "id": "M3lt-_KqtHqh",
        "outputId": "68580651-3d4f-4a84-b5cd-413ad157cb2d"
      },
      "execution_count": 28,
      "outputs": [
        {
          "output_type": "execute_result",
          "data": {
            "text/plain": [
              "(tensor([1., 2., 3., 4.]), tensor([1., 1., 1., 1.]))"
            ]
          },
          "metadata": {},
          "execution_count": 28
        }
      ]
    },
    {
      "cell_type": "code",
      "source": [
        "torch.dot(x, y), torch.sum(x * y)"
      ],
      "metadata": {
        "colab": {
          "base_uri": "https://localhost:8080/"
        },
        "id": "Vn94w6Ao1dAK",
        "outputId": "03aa349c-3439-4b7b-eb19-39a57e9dbfd9"
      },
      "execution_count": 29,
      "outputs": [
        {
          "output_type": "execute_result",
          "data": {
            "text/plain": [
              "(tensor(10.), tensor(10.))"
            ]
          },
          "metadata": {},
          "execution_count": 29
        }
      ]
    },
    {
      "cell_type": "markdown",
      "source": [
        "* 矩阵-矩阵(向量)乘法 AB(Ax)"
      ],
      "metadata": {
        "id": "P9XxwCev2olh"
      }
    },
    {
      "cell_type": "code",
      "source": [
        "A, x, A.shape, x.shape"
      ],
      "metadata": {
        "colab": {
          "base_uri": "https://localhost:8080/"
        },
        "id": "vadQg_fi1-mQ",
        "outputId": "c8f4e712-3b71-403c-e4b5-5e17b2a9f14c"
      },
      "execution_count": 30,
      "outputs": [
        {
          "output_type": "execute_result",
          "data": {
            "text/plain": [
              "(tensor([[ 0.,  1.,  2.,  3.],\n",
              "         [ 4.,  5.,  6.,  7.],\n",
              "         [ 8.,  9., 10., 11.],\n",
              "         [12., 13., 14., 15.],\n",
              "         [16., 17., 18., 19.]]),\n",
              " tensor([1., 2., 3., 4.]),\n",
              " torch.Size([5, 4]),\n",
              " torch.Size([4]))"
            ]
          },
          "metadata": {},
          "execution_count": 30
        }
      ]
    },
    {
      "cell_type": "code",
      "source": [
        "# 个人理解是: 这里的一维向量是按照一维列向量参加运算，但是表示的形式是行向量\n",
        "# torch.mv(x, A) 会出现错误\n",
        "torch.mv(A, x)  # matrix - vector  \n"
      ],
      "metadata": {
        "colab": {
          "base_uri": "https://localhost:8080/"
        },
        "id": "nFlQlVTt3AF7",
        "outputId": "ee5d1372-db3c-4434-f49e-8c97ad0b5955"
      },
      "execution_count": 32,
      "outputs": [
        {
          "output_type": "execute_result",
          "data": {
            "text/plain": [
              "tensor([ 20.,  60., 100., 140., 180.])"
            ]
          },
          "metadata": {},
          "execution_count": 32
        }
      ]
    },
    {
      "cell_type": "code",
      "source": [
        "B = torch.ones(4,3)   # matrix - matrix\n",
        "torch.mm(A,B)"
      ],
      "metadata": {
        "id": "j7_szbQS3vFN"
      },
      "execution_count": null,
      "outputs": []
    },
    {
      "cell_type": "markdown",
      "source": [
        "*  $L_2$范数表示向量元素平方和的平方根:  \n",
        "$$\\Vert x\\Vert_2 = \\sqrt{\\sum_{i=1}^{n}x_i^2}$$\n",
        "\n"
      ],
      "metadata": {
        "id": "VAY_Bg5f399C"
      }
    },
    {
      "cell_type": "code",
      "source": [
        "u = torch.tensor([3.0, -4.0])\n",
        "torch.norm()"
      ],
      "metadata": {
        "id": "npnIqJVP31Ce"
      },
      "execution_count": null,
      "outputs": []
    },
    {
      "cell_type": "markdown",
      "source": [
        "* $L_1$范数表示为向量元素的绝对值之和:\n",
        "$$\\Vert x\\Vert_1 = \\sum_{i=1}^{n}|x_i|$$"
      ],
      "metadata": {
        "id": "e9_Gn3dj8t_g"
      }
    },
    {
      "cell_type": "code",
      "source": [
        "torch.abs(u).sum()"
      ],
      "metadata": {
        "id": "zABEqh_H8tVm"
      },
      "execution_count": null,
      "outputs": []
    },
    {
      "cell_type": "markdown",
      "source": [
        "矩阵的 **弗罗贝尼乌斯范数(Frobenius norm)** 是矩阵元素的平方和的平方根:\n",
        "$$\\Vert x\\Vert_2 = \\sqrt{\\sum_{i=1}^{m}\\sum_{j=1}^{n}x_{ij}^2}$$"
      ],
      "metadata": {
        "id": "YSQbwQFP_A3g"
      }
    },
    {
      "cell_type": "code",
      "source": [
        "f = torch.tensor([[4,-3],[3,4]], dtype=torch.float32)\n",
        "torch.norm(f)"
      ],
      "metadata": {
        "id": "PvADMC29_CQk"
      },
      "execution_count": null,
      "outputs": []
    }
  ]
}