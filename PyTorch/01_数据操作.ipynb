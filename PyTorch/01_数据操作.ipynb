{
  "nbformat": 4,
  "nbformat_minor": 0,
  "metadata": {
    "colab": {
      "name": "01_数据操作.ipynb",
      "provenance": [],
      "collapsed_sections": []
    },
    "kernelspec": {
      "name": "python3",
      "display_name": "Python 3"
    },
    "language_info": {
      "name": "python"
    }
  },
  "cells": [
    {
      "cell_type": "markdown",
      "source": [
        "**# 数据操作实现**"
      ],
      "metadata": {
        "id": "Ygz2SXthdK6G"
      }
    },
    {
      "cell_type": "code",
      "source": [
        "# 导入Pytorch\n",
        "import torch"
      ],
      "metadata": {
        "id": "RxlR8002sojk"
      },
      "execution_count": null,
      "outputs": []
    },
    {
      "cell_type": "markdown",
      "source": [
        "*  张量表示一个数值组成的数组，这个数组可能有多个维度"
      ],
      "metadata": {
        "id": "4gNrBRb0tBzc"
      }
    },
    {
      "cell_type": "code",
      "source": [
        "x = torch.arange(12)\n",
        "x"
      ],
      "metadata": {
        "colab": {
          "base_uri": "https://localhost:8080/"
        },
        "id": "8o7jvv1vssOd",
        "outputId": "6ddeac8e-2cf1-4af4-c14d-adf77d9be67f"
      },
      "execution_count": null,
      "outputs": [
        {
          "output_type": "execute_result",
          "data": {
            "text/plain": [
              "tensor([ 0,  1,  2,  3,  4,  5,  6,  7,  8,  9, 10, 11])"
            ]
          },
          "metadata": {},
          "execution_count": 2
        }
      ]
    },
    {
      "cell_type": "markdown",
      "source": [
        "*  可以通过张量的**shape**属性来访问张量的**形状**和张量中**元素的总数**"
      ],
      "metadata": {
        "id": "ZYLdEocItE1c"
      }
    },
    {
      "cell_type": "code",
      "source": [
        "x.shape"
      ],
      "metadata": {
        "colab": {
          "base_uri": "https://localhost:8080/"
        },
        "id": "UebRNIwPs-QY",
        "outputId": "fbb82690-ff13-407f-dbb0-bf6d815bbcdc"
      },
      "execution_count": null,
      "outputs": [
        {
          "output_type": "execute_result",
          "data": {
            "text/plain": [
              "torch.Size([12])"
            ]
          },
          "metadata": {},
          "execution_count": 3
        }
      ]
    },
    {
      "cell_type": "code",
      "source": [
        "x.numel()"
      ],
      "metadata": {
        "colab": {
          "base_uri": "https://localhost:8080/"
        },
        "id": "CgVUFuIathr8",
        "outputId": "ce6837af-aaf1-4ac7-8dde-1e267c585eb2"
      },
      "execution_count": null,
      "outputs": [
        {
          "output_type": "execute_result",
          "data": {
            "text/plain": [
              "12"
            ]
          },
          "metadata": {},
          "execution_count": 4
        }
      ]
    },
    {
      "cell_type": "markdown",
      "source": [
        "*  要改变一个张量的形状而不改变其元素的数量和元素值，可以调用**reshape**函数"
      ],
      "metadata": {
        "id": "3dbNw1eZtkN2"
      }
    },
    {
      "cell_type": "code",
      "source": [
        "x = x.reshape(3,4)\n",
        "x"
      ],
      "metadata": {
        "colab": {
          "base_uri": "https://localhost:8080/"
        },
        "id": "x6isr6pPtjk5",
        "outputId": "e8326212-7ed2-4c60-9a82-e23ccbe1c3e1"
      },
      "execution_count": null,
      "outputs": [
        {
          "output_type": "execute_result",
          "data": {
            "text/plain": [
              "tensor([[ 0,  1,  2,  3],\n",
              "        [ 4,  5,  6,  7],\n",
              "        [ 8,  9, 10, 11]])"
            ]
          },
          "metadata": {},
          "execution_count": 6
        }
      ]
    },
    {
      "cell_type": "markdown",
      "source": [
        "* 使用全0、全1、其他常量或从特定分布汇总随机采样的数字"
      ],
      "metadata": {
        "id": "7q6zucH8t8N8"
      }
    },
    {
      "cell_type": "code",
      "source": [
        "torch.zeros((2,3,4))    "
      ],
      "metadata": {
        "colab": {
          "base_uri": "https://localhost:8080/"
        },
        "id": "VfOoXR0Pt7oe",
        "outputId": "a3fcee6d-45aa-46ef-f1af-b55926ea530f"
      },
      "execution_count": null,
      "outputs": [
        {
          "output_type": "execute_result",
          "data": {
            "text/plain": [
              "tensor([[[0., 0., 0., 0.],\n",
              "         [0., 0., 0., 0.],\n",
              "         [0., 0., 0., 0.]],\n",
              "\n",
              "        [[0., 0., 0., 0.],\n",
              "         [0., 0., 0., 0.],\n",
              "         [0., 0., 0., 0.]]])"
            ]
          },
          "metadata": {},
          "execution_count": 9
        }
      ]
    },
    {
      "cell_type": "code",
      "source": [
        "torch.ones((3,2,4))"
      ],
      "metadata": {
        "colab": {
          "base_uri": "https://localhost:8080/"
        },
        "id": "N_w9jyCVukuq",
        "outputId": "8f4acbeb-d489-4457-cd03-4223550f6733"
      },
      "execution_count": null,
      "outputs": [
        {
          "output_type": "execute_result",
          "data": {
            "text/plain": [
              "tensor([[[1., 1., 1., 1.],\n",
              "         [1., 1., 1., 1.]],\n",
              "\n",
              "        [[1., 1., 1., 1.],\n",
              "         [1., 1., 1., 1.]],\n",
              "\n",
              "        [[1., 1., 1., 1.],\n",
              "         [1., 1., 1., 1.]]])"
            ]
          },
          "metadata": {},
          "execution_count": 10
        }
      ]
    },
    {
      "cell_type": "markdown",
      "source": [
        "*  通过提供包含数值的Python列表(或嵌套循环)来为所需要的张量中的每个元素赋予确定值"
      ],
      "metadata": {
        "id": "uxMHCMA2u4RR"
      }
    },
    {
      "cell_type": "code",
      "source": [
        "a = torch.tensor([1,2,3,4])  # 表示一维度\n",
        "print(a)\n",
        "print(a.shape)"
      ],
      "metadata": {
        "colab": {
          "base_uri": "https://localhost:8080/"
        },
        "id": "jmNtcLYEwFky",
        "outputId": "47a1aa74-7442-4d4a-d41e-4ba1966dc98f"
      },
      "execution_count": null,
      "outputs": [
        {
          "output_type": "stream",
          "name": "stdout",
          "text": [
            "tensor([1, 2, 3, 4])\n",
            "torch.Size([4])\n"
          ]
        }
      ]
    },
    {
      "cell_type": "code",
      "source": [
        "b = torch.tensor([[1,2,3,4],[2,3,1,4],[4,3,2,1]]) # 表示二维\n",
        "print(b) \n",
        "print(b.shape)"
      ],
      "metadata": {
        "colab": {
          "base_uri": "https://localhost:8080/"
        },
        "id": "BBkZHL0Vuq9V",
        "outputId": "b829349d-d921-4ebc-8de8-97e6f6ab5874"
      },
      "execution_count": null,
      "outputs": [
        {
          "output_type": "stream",
          "name": "stdout",
          "text": [
            "tensor([[1, 2, 3, 4],\n",
            "        [2, 3, 1, 4],\n",
            "        [4, 3, 2, 1]])\n",
            "torch.Size([3, 4])\n"
          ]
        }
      ]
    },
    {
      "cell_type": "code",
      "source": [
        "c = torch.tensor([[[1,2,3,4],[2,3,1,4],[4,3,2,1]]]) # 表示三维\n",
        "print(c)\n",
        "print(c.shape)"
      ],
      "metadata": {
        "colab": {
          "base_uri": "https://localhost:8080/"
        },
        "id": "JPrQYiHVvgHL",
        "outputId": "7d804e74-2eb7-4994-b35c-3f72e3bd1389"
      },
      "execution_count": null,
      "outputs": [
        {
          "output_type": "stream",
          "name": "stdout",
          "text": [
            "tensor([[[1, 2, 3, 4],\n",
            "         [2, 3, 1, 4],\n",
            "         [4, 3, 2, 1]]])\n",
            "torch.Size([1, 3, 4])\n"
          ]
        }
      ]
    },
    {
      "cell_type": "markdown",
      "source": [
        "*  常见的标准算术运算符(+,-,*,/,**)都可以被升级为按元素运算"
      ],
      "metadata": {
        "id": "mIqt5PhcwMMf"
      }
    },
    {
      "cell_type": "code",
      "source": [
        "x = torch.tensor([1.0,2,3,4])   # 存在1.0，就会显示浮点\n",
        "y = torch.tensor([2,2,2,2])\n",
        "x + y, x - y, x * y, x / y, x**y"
      ],
      "metadata": {
        "colab": {
          "base_uri": "https://localhost:8080/"
        },
        "id": "lK0y_AlSwZQJ",
        "outputId": "16941f50-dd2e-45d9-9c62-3d81f652693d"
      },
      "execution_count": null,
      "outputs": [
        {
          "output_type": "execute_result",
          "data": {
            "text/plain": [
              "(tensor([3., 4., 5., 6.]),\n",
              " tensor([-1.,  0.,  1.,  2.]),\n",
              " tensor([2., 4., 6., 8.]),\n",
              " tensor([0.5000, 1.0000, 1.5000, 2.0000]),\n",
              " tensor([ 1.,  4.,  9., 16.]))"
            ]
          },
          "metadata": {},
          "execution_count": 26
        }
      ]
    },
    {
      "cell_type": "markdown",
      "source": [
        "*  可以将多个张量**连结**在一起"
      ],
      "metadata": {
        "id": "AAsP-hYdxNNZ"
      }
    },
    {
      "cell_type": "code",
      "source": [
        "X = torch.arange(12, dtype = torch.float32).reshape(3,4)\n",
        "Y = torch.tensor([[2.0,1,4,3],[1,2,3,4],[4,3,2,1]])\n",
        "torch.cat((X,Y),dim=0), torch.cat((X,Y),dim=1)   # dim=0 可以视为按行合并， dim=1 可以视为按列合并; 在三维中，dim=2 按照深度以dim"
      ],
      "metadata": {
        "colab": {
          "base_uri": "https://localhost:8080/"
        },
        "id": "m4RHpA_9w-WI",
        "outputId": "7ef68932-c9a6-4c6a-aa52-6c5db1f8929b"
      },
      "execution_count": null,
      "outputs": [
        {
          "output_type": "execute_result",
          "data": {
            "text/plain": [
              "(tensor([[ 0.,  1.,  2.,  3.],\n",
              "         [ 4.,  5.,  6.,  7.],\n",
              "         [ 8.,  9., 10., 11.],\n",
              "         [ 2.,  1.,  4.,  3.],\n",
              "         [ 1.,  2.,  3.,  4.],\n",
              "         [ 4.,  3.,  2.,  1.]]),\n",
              " tensor([[ 0.,  1.,  2.,  3.,  2.,  1.,  4.,  3.],\n",
              "         [ 4.,  5.,  6.,  7.,  1.,  2.,  3.,  4.],\n",
              "         [ 8.,  9., 10., 11.,  4.,  3.,  2.,  1.]]))"
            ]
          },
          "metadata": {},
          "execution_count": 27
        }
      ]
    },
    {
      "cell_type": "markdown",
      "source": [
        "* 通过**逻辑元算符**构建二元张量"
      ],
      "metadata": {
        "id": "T1ydL6aTzpcA"
      }
    },
    {
      "cell_type": "code",
      "source": [
        "X == Y"
      ],
      "metadata": {
        "colab": {
          "base_uri": "https://localhost:8080/"
        },
        "id": "vKEuit1fzoqw",
        "outputId": "d49a9ebf-b3a0-485e-af93-3c4474fc35b5"
      },
      "execution_count": null,
      "outputs": [
        {
          "output_type": "execute_result",
          "data": {
            "text/plain": [
              "tensor([[False,  True, False,  True],\n",
              "        [False, False, False, False],\n",
              "        [False, False, False, False]])"
            ]
          },
          "metadata": {},
          "execution_count": 29
        }
      ]
    },
    {
      "cell_type": "markdown",
      "source": [
        "* 对张量中的所有元素进行求和会产生一个只有一个元素的张量"
      ],
      "metadata": {
        "id": "FIbGKtKGzv8n"
      }
    },
    {
      "cell_type": "code",
      "source": [
        "X.sum()"
      ],
      "metadata": {
        "colab": {
          "base_uri": "https://localhost:8080/"
        },
        "id": "6kYC3Wy-0NJX",
        "outputId": "a309def8-1016-4c8b-e09a-7336356bdcfd"
      },
      "execution_count": null,
      "outputs": [
        {
          "output_type": "execute_result",
          "data": {
            "text/plain": [
              "tensor(66.)"
            ]
          },
          "metadata": {},
          "execution_count": 30
        }
      ]
    },
    {
      "cell_type": "markdown",
      "source": [
        "*  即使形状不同，仍然可以通过调用**广播机制(broadcasting,mechanism)**来执行按元素操作\n",
        "*  例如下述的a和b，会自动补充:\n",
        "\n",
        "```\n",
        "   a -> tensor([[0, 0]\n",
        "                [1, 1]\n",
        "                [2, 2])\n",
        "\n",
        "   b -> tensor([[0, 1]\n",
        "                [0, 1]\n",
        "                [0, 1])\n",
        "```\n"
      ],
      "metadata": {
        "id": "YETcsXYuR8eR"
      }
    },
    {
      "cell_type": "code",
      "source": [
        "A = torch.arange(3).reshape((3,1))\n",
        "B = torch.arange(2).reshape((1,2))\n",
        "print(A)\n",
        "print(B)"
      ],
      "metadata": {
        "colab": {
          "base_uri": "https://localhost:8080/"
        },
        "id": "BoR1SIMFSV_U",
        "outputId": "34437643-4299-4c97-9264-fc0c75f94fc3"
      },
      "execution_count": null,
      "outputs": [
        {
          "output_type": "stream",
          "name": "stdout",
          "text": [
            "tensor([[0],\n",
            "        [1],\n",
            "        [2]])\n",
            "tensor([[0, 1]])\n"
          ]
        }
      ]
    },
    {
      "cell_type": "code",
      "source": [
        "A + B"
      ],
      "metadata": {
        "colab": {
          "base_uri": "https://localhost:8080/"
        },
        "id": "lpvFqRW1SjJN",
        "outputId": "4dcdf958-8997-42f6-d834-2ea4123ee097"
      },
      "execution_count": null,
      "outputs": [
        {
          "output_type": "execute_result",
          "data": {
            "text/plain": [
              "tensor([[0, 1],\n",
              "        [1, 2],\n",
              "        [2, 3]])"
            ]
          },
          "metadata": {},
          "execution_count": 37
        }
      ]
    },
    {
      "cell_type": "markdown",
      "source": [
        "*  可以用**[-1]**选择最后一个元素，可以用**[1:3]**选择第二个和第三个元素"
      ],
      "metadata": {
        "id": "ph7YbmVhR8lf"
      }
    },
    {
      "cell_type": "code",
      "source": [
        "Z = torch.arange(12, dtype = torch.float32).reshape(3,4)\n",
        "Z"
      ],
      "metadata": {
        "colab": {
          "base_uri": "https://localhost:8080/"
        },
        "id": "BDkHlckBYSxW",
        "outputId": "54fc0261-effe-4b53-b616-8377f69acf3d"
      },
      "execution_count": null,
      "outputs": [
        {
          "output_type": "execute_result",
          "data": {
            "text/plain": [
              "tensor([[ 0.,  1.,  2.,  3.],\n",
              "        [ 4.,  5.,  6.,  7.],\n",
              "        [ 8.,  9., 10., 11.]])"
            ]
          },
          "metadata": {},
          "execution_count": 48
        }
      ]
    },
    {
      "cell_type": "code",
      "source": [
        "Z[-1]"
      ],
      "metadata": {
        "colab": {
          "base_uri": "https://localhost:8080/"
        },
        "id": "hLC_sLGJYdsj",
        "outputId": "b6232264-0371-40b2-8d58-5264e3684b87"
      },
      "execution_count": null,
      "outputs": [
        {
          "output_type": "execute_result",
          "data": {
            "text/plain": [
              "tensor([ 8.,  9., 10., 11.])"
            ]
          },
          "metadata": {},
          "execution_count": 49
        }
      ]
    },
    {
      "cell_type": "code",
      "source": [
        "Z[1:3]"
      ],
      "metadata": {
        "colab": {
          "base_uri": "https://localhost:8080/"
        },
        "id": "fNhi5CvyYhJ6",
        "outputId": "18dbbdd1-411e-425f-ff0a-5ccd044d2cd8"
      },
      "execution_count": null,
      "outputs": [
        {
          "output_type": "execute_result",
          "data": {
            "text/plain": [
              "tensor([[ 4.,  5.,  6.,  7.],\n",
              "        [ 8.,  9., 10., 11.]])"
            ]
          },
          "metadata": {},
          "execution_count": 50
        }
      ]
    },
    {
      "cell_type": "markdown",
      "source": [
        "*  除读取外，也可以通过指定索引来将元素写入矩阵"
      ],
      "metadata": {
        "id": "EmDZMKBSZqrh"
      }
    },
    {
      "cell_type": "code",
      "source": [
        "Z[1,2] = 9  # 原值为6，修改为9\n",
        "Z"
      ],
      "metadata": {
        "colab": {
          "base_uri": "https://localhost:8080/"
        },
        "id": "AyFDuQ8tYrZg",
        "outputId": "41edc762-c795-4219-8b69-819dfe29ea13"
      },
      "execution_count": null,
      "outputs": [
        {
          "output_type": "execute_result",
          "data": {
            "text/plain": [
              "tensor([[ 0.,  1.,  2.,  3.],\n",
              "        [ 4.,  5.,  9.,  7.],\n",
              "        [ 8.,  9., 10., 11.]])"
            ]
          },
          "metadata": {},
          "execution_count": 51
        }
      ]
    },
    {
      "cell_type": "code",
      "source": [
        "# 区域赋值\n",
        "Z[0:2, :] = 12  # 第0行和第一行的所有列\n",
        "Z "
      ],
      "metadata": {
        "colab": {
          "base_uri": "https://localhost:8080/"
        },
        "id": "6VoqmS4CZ_Wl",
        "outputId": "67726756-f1a4-4f17-82a5-333880c37f61"
      },
      "execution_count": null,
      "outputs": [
        {
          "output_type": "execute_result",
          "data": {
            "text/plain": [
              "tensor([[12., 12., 12., 12.],\n",
              "        [12., 12., 12., 12.],\n",
              "        [ 8.,  9., 10., 11.]])"
            ]
          },
          "metadata": {},
          "execution_count": 53
        }
      ]
    },
    {
      "cell_type": "markdown",
      "source": [
        "* 运行一些操作可能会导致为新结果分配内存"
      ],
      "metadata": {
        "id": "BljyoW37aTUm"
      }
    },
    {
      "cell_type": "code",
      "source": [
        "before = id(Y)\n",
        "Y = Y + X\n",
        "id(Y) ==before"
      ],
      "metadata": {
        "colab": {
          "base_uri": "https://localhost:8080/"
        },
        "id": "Q41QNwl2anwP",
        "outputId": "544de948-d283-42cb-ef8e-e09af6b011e2"
      },
      "execution_count": null,
      "outputs": [
        {
          "output_type": "execute_result",
          "data": {
            "text/plain": [
              "False"
            ]
          },
          "metadata": {},
          "execution_count": 54
        }
      ]
    },
    {
      "cell_type": "code",
      "source": [
        "# 执行原地操作\n",
        "Z = torch.zeros_like(Y)  # 创建一个和Y形状相同的全0矩阵\n",
        "print('id(Z):',id(Z))\n",
        "Z[:] = X + Y\n",
        "print('id(Z):',id(Z))"
      ],
      "metadata": {
        "colab": {
          "base_uri": "https://localhost:8080/"
        },
        "id": "kYQVGj6ia15o",
        "outputId": "5cf223d0-ec19-4762-bddf-331459d8fbae"
      },
      "execution_count": null,
      "outputs": [
        {
          "output_type": "stream",
          "name": "stdout",
          "text": [
            "id(Z): 140073336781040\n",
            "id(Z): 140073336781040\n"
          ]
        }
      ]
    },
    {
      "cell_type": "markdown",
      "source": [
        "* 如果在后续计算中没有重复使用X，我们也可以使用 **X[:] = X+Y** 或 **X += Y** 来减少操作的内存开销"
      ],
      "metadata": {
        "id": "mx7-V-7FdJiI"
      }
    },
    {
      "cell_type": "code",
      "source": [
        "before = id(X)\n",
        "X += Y\n",
        "id(X) == before"
      ],
      "metadata": {
        "colab": {
          "base_uri": "https://localhost:8080/"
        },
        "id": "uC2PZBoTdjTa",
        "outputId": "cfd1d9d9-cd95-46fd-d9db-d070e00d6840"
      },
      "execution_count": null,
      "outputs": [
        {
          "output_type": "execute_result",
          "data": {
            "text/plain": [
              "True"
            ]
          },
          "metadata": {},
          "execution_count": 58
        }
      ]
    },
    {
      "cell_type": "markdown",
      "source": [
        "* 转换为Numpy张量"
      ],
      "metadata": {
        "id": "wjPAMXBjeF9e"
      }
    },
    {
      "cell_type": "code",
      "source": [
        "A = X.numpy()\n",
        "B = torch.tensor(A)\n",
        "type(A),type(B)"
      ],
      "metadata": {
        "colab": {
          "base_uri": "https://localhost:8080/"
        },
        "id": "9OPBIzhGekmq",
        "outputId": "bdcdb6cb-6db7-4cc3-8ee4-d29eba44a587"
      },
      "execution_count": null,
      "outputs": [
        {
          "output_type": "execute_result",
          "data": {
            "text/plain": [
              "(numpy.ndarray, torch.Tensor)"
            ]
          },
          "metadata": {},
          "execution_count": 59
        }
      ]
    },
    {
      "cell_type": "markdown",
      "source": [
        "* 将大小为1的张量转换为Python标量"
      ],
      "metadata": {
        "id": "l1lw4cBfeucm"
      }
    },
    {
      "cell_type": "code",
      "source": [
        "a = torch.tensor([3.5])\n",
        "a, a.item(), float(a), int(a)"
      ],
      "metadata": {
        "colab": {
          "base_uri": "https://localhost:8080/"
        },
        "id": "Kh0eZkL1etms",
        "outputId": "d54486cb-22e9-416a-e51e-7c736c8b03e5"
      },
      "execution_count": null,
      "outputs": [
        {
          "output_type": "execute_result",
          "data": {
            "text/plain": [
              "(tensor([3.5000]), 3.5, 3.5, 3)"
            ]
          },
          "metadata": {},
          "execution_count": 62
        }
      ]
    }
  ]
}