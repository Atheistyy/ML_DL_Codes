{
  "nbformat": 4,
  "nbformat_minor": 0,
  "metadata": {
    "colab": {
      "name": "09_转置卷积.ipynb",
      "provenance": [],
      "collapsed_sections": []
    },
    "kernelspec": {
      "name": "python3",
      "display_name": "Python 3"
    },
    "language_info": {
      "name": "python"
    },
    "accelerator": "GPU",
    "gpuClass": "standard"
  },
  "cells": [
    {
      "cell_type": "markdown",
      "source": [
        "**# 转置卷积**"
      ],
      "metadata": {
        "id": "luuH_HeI3Rl9"
      }
    },
    {
      "cell_type": "code",
      "execution_count": null,
      "metadata": {
        "id": "WNCDQBvC2rMq"
      },
      "outputs": [],
      "source": [
        "!pip install d2l\n",
        "!pip install matplotlib==3.0"
      ]
    },
    {
      "cell_type": "code",
      "source": [
        "import torch\n",
        "from torch import nn\n",
        "from d2l import torch as d2l"
      ],
      "metadata": {
        "id": "FwgHIVqF5A7s"
      },
      "execution_count": 2,
      "outputs": []
    },
    {
      "cell_type": "markdown",
      "source": [
        "**实现基本的转置卷积运算**"
      ],
      "metadata": {
        "id": "wWqJM01Wsevv"
      }
    },
    {
      "cell_type": "code",
      "source": [
        "def trans_conv(X, K):\n",
        "    h, w = K.shape\n",
        "    Y = torch.zeros((X.shape[0] + h - 1, X.shape[1] + w - 1))\n",
        "    for i in range(X.shape[0]):\n",
        "        for j in range(X.shape[1]):\n",
        "            Y[i: i + h, j: j + w] += X[i, j] * K\n",
        "    return Y"
      ],
      "metadata": {
        "id": "NAzbR81s5A-M"
      },
      "execution_count": 3,
      "outputs": []
    },
    {
      "cell_type": "markdown",
      "source": [
        "* 验证上述实现输出"
      ],
      "metadata": {
        "id": "vy2kDddpf-XV"
      }
    },
    {
      "cell_type": "code",
      "source": [
        "X = torch.tensor([[0.0, 1.0], [2.0, 3.0]])\n",
        "K = torch.tensor([[0.0, 1.0], [2.0, 3.0]])\n",
        "trans_conv(X, K)"
      ],
      "metadata": {
        "colab": {
          "base_uri": "https://localhost:8080/"
        },
        "id": "oBy4YR8Y5BBE",
        "outputId": "4406d7aa-d349-406c-ad8b-ad6bc98473c0"
      },
      "execution_count": 4,
      "outputs": [
        {
          "output_type": "execute_result",
          "data": {
            "text/plain": [
              "tensor([[ 0.,  0.,  1.],\n",
              "        [ 0.,  4.,  6.],\n",
              "        [ 4., 12.,  9.]])"
            ]
          },
          "metadata": {},
          "execution_count": 4
        }
      ]
    },
    {
      "cell_type": "markdown",
      "source": [
        "* **当输入`X`和卷积核`K`都是四维张量时**，可以通过高级API获得相同的结果"
      ],
      "metadata": {
        "id": "zf-_PS7HgKZu"
      }
    },
    {
      "cell_type": "code",
      "source": [
        "X, K = X.reshape(1, 1, 2, 2), K.reshape(1, 1, 2, 2)\n",
        "tconv = nn.ConvTranspose2d(1, 1, kernel_size=2, bias=False)   # (in_channels, out_channels, kernel_size, bias)\n",
        "tconv.weight.data = K\n",
        "tconv(X)"
      ],
      "metadata": {
        "colab": {
          "base_uri": "https://localhost:8080/"
        },
        "id": "N-oMsK2j5BDr",
        "outputId": "299a1b41-a580-4924-d25b-ef3463b77239"
      },
      "execution_count": 5,
      "outputs": [
        {
          "output_type": "execute_result",
          "data": {
            "text/plain": [
              "tensor([[[[ 0.,  0.,  1.],\n",
              "          [ 0.,  4.,  6.],\n",
              "          [ 4., 12.,  9.]]]], grad_fn=<ConvolutionBackward0>)"
            ]
          },
          "metadata": {},
          "execution_count": 5
        }
      ]
    },
    {
      "cell_type": "markdown",
      "source": [
        "**填充，步幅和多通道**"
      ],
      "metadata": {
        "id": "3KF2_S1igqP3"
      }
    },
    {
      "cell_type": "markdown",
      "source": [
        "* **填充**实际上是对输出的操作"
      ],
      "metadata": {
        "id": "WFt78uOfi4qd"
      }
    },
    {
      "cell_type": "code",
      "source": [
        "tconv = nn.ConvTranspose2d(1, 1, kernel_size=2, padding=1, bias=False)\n",
        "tconv.weight.data = K\n",
        "tconv(X)"
      ],
      "metadata": {
        "colab": {
          "base_uri": "https://localhost:8080/"
        },
        "id": "_XcHS-pG5BFv",
        "outputId": "708f6846-1814-4858-f763-82ffcd061a90"
      },
      "execution_count": 6,
      "outputs": [
        {
          "output_type": "execute_result",
          "data": {
            "text/plain": [
              "tensor([[[[4.]]]], grad_fn=<ConvolutionBackward0>)"
            ]
          },
          "metadata": {},
          "execution_count": 6
        }
      ]
    },
    {
      "cell_type": "markdown",
      "source": [
        "* **步幅**"
      ],
      "metadata": {
        "id": "fNmXzam_hpgz"
      }
    },
    {
      "cell_type": "code",
      "source": [
        "tconv = nn.ConvTranspose2d(1, 1, kernel_size=2, stride=2, bias=False)\n",
        "tconv.weight.data = K\n",
        "tconv(X)"
      ],
      "metadata": {
        "colab": {
          "base_uri": "https://localhost:8080/"
        },
        "id": "_HkRG58i5qdN",
        "outputId": "de7951f1-0d7f-4e4c-b47b-f21b211a01c2"
      },
      "execution_count": 7,
      "outputs": [
        {
          "output_type": "execute_result",
          "data": {
            "text/plain": [
              "tensor([[[[0., 0., 0., 1.],\n",
              "          [0., 0., 2., 3.],\n",
              "          [0., 2., 0., 3.],\n",
              "          [4., 6., 6., 9.]]]], grad_fn=<ConvolutionBackward0>)"
            ]
          },
          "metadata": {},
          "execution_count": 7
        }
      ]
    },
    {
      "cell_type": "markdown",
      "source": [
        "* **多通道**"
      ],
      "metadata": {
        "id": "UgsIwT0Wjbl5"
      }
    },
    {
      "cell_type": "code",
      "source": [
        "X = torch.rand(size=(1, 10, 16, 16))\n",
        "conv = nn.Conv2d(10, 20, kernel_size=5, padding=2, stride=3)\n",
        "tconv = nn.ConvTranspose2d(20, 10, kernel_size=5, padding=2, stride=3)\n",
        "tconv(conv(X)).shape == X.shape"
      ],
      "metadata": {
        "colab": {
          "base_uri": "https://localhost:8080/"
        },
        "id": "PGR5Z4LY5r4j",
        "outputId": "57ccf93d-17b4-4c11-c879-ffdc660bd363"
      },
      "execution_count": 8,
      "outputs": [
        {
          "output_type": "execute_result",
          "data": {
            "text/plain": [
              "True"
            ]
          },
          "metadata": {},
          "execution_count": 8
        }
      ]
    },
    {
      "cell_type": "markdown",
      "source": [
        "**和矩阵的联系**"
      ],
      "metadata": {
        "id": "BNm5vcWrldVM"
      }
    },
    {
      "cell_type": "code",
      "source": [
        "X = torch.arange(9.0).reshape(3, 3)\n",
        "K = torch.tensor([[1.0, 2.0], [3.0, 4.0]])\n",
        "Y = d2l.corr2d(X, K)\n",
        "Y"
      ],
      "metadata": {
        "colab": {
          "base_uri": "https://localhost:8080/"
        },
        "id": "onubZqz45xxq",
        "outputId": "1caf8971-2c1f-4e3d-b5b6-069d49805b9d"
      },
      "execution_count": 9,
      "outputs": [
        {
          "output_type": "execute_result",
          "data": {
            "text/plain": [
              "tensor([[27., 37.],\n",
              "        [57., 67.]])"
            ]
          },
          "metadata": {},
          "execution_count": 9
        }
      ]
    },
    {
      "cell_type": "markdown",
      "source": [
        "* 将卷积核`K`重写为包含大量0的稀疏权重矩阵`W`。\n",
        "权重矩阵的形状是（$4$，$9$），其中非0元素来自卷积核`K`。"
      ],
      "metadata": {
        "id": "rRtGPBvlngMJ"
      }
    },
    {
      "cell_type": "code",
      "source": [
        "def kernel2matrix(K):\n",
        "    k, W = torch.zeros(5), torch.zeros((4, 9))\n",
        "    k[:2], k[3:5] = K[0, :], K[1, :]\n",
        "    W[0, :5], W[1, 1:6], W[2, 3:8], W[3, 4:] = k, k, k, k\n",
        "    return W\n",
        "\n",
        "W = kernel2matrix(K)\n",
        "W"
      ],
      "metadata": {
        "colab": {
          "base_uri": "https://localhost:8080/"
        },
        "id": "cZ4DBqv45x0v",
        "outputId": "33693598-5e2a-48df-816a-bd50333eee4d"
      },
      "execution_count": 10,
      "outputs": [
        {
          "output_type": "execute_result",
          "data": {
            "text/plain": [
              "tensor([[1., 2., 0., 3., 4., 0., 0., 0., 0.],\n",
              "        [0., 1., 2., 0., 3., 4., 0., 0., 0.],\n",
              "        [0., 0., 0., 1., 2., 0., 3., 4., 0.],\n",
              "        [0., 0., 0., 0., 1., 2., 0., 3., 4.]])"
            ]
          },
          "metadata": {},
          "execution_count": 10
        }
      ]
    },
    {
      "cell_type": "code",
      "source": [
        "Y == torch.matmul(W, X.reshape(-1)).reshape(2, 2)"
      ],
      "metadata": {
        "colab": {
          "base_uri": "https://localhost:8080/"
        },
        "id": "ra68z_Zy5yAv",
        "outputId": "80a52647-92ed-4093-c23d-fd7ffaa64b7a"
      },
      "execution_count": 11,
      "outputs": [
        {
          "output_type": "execute_result",
          "data": {
            "text/plain": [
              "tensor([[True, True],\n",
              "        [True, True]])"
            ]
          },
          "metadata": {},
          "execution_count": 11
        }
      ]
    },
    {
      "cell_type": "code",
      "source": [
        "Z = trans_conv(Y, K)\n",
        "Z == torch.matmul(W.T, Y.reshape(-1)).reshape(3, 3)"
      ],
      "metadata": {
        "colab": {
          "base_uri": "https://localhost:8080/"
        },
        "id": "gMrEOWh4524u",
        "outputId": "e13647d0-a750-4af3-fbff-69b29020be39"
      },
      "execution_count": 12,
      "outputs": [
        {
          "output_type": "execute_result",
          "data": {
            "text/plain": [
              "tensor([[True, True, True],\n",
              "        [True, True, True],\n",
              "        [True, True, True]])"
            ]
          },
          "metadata": {},
          "execution_count": 12
        }
      ]
    }
  ]
}