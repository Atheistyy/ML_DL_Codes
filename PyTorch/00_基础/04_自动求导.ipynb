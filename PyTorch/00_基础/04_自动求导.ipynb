{
  "nbformat": 4,
  "nbformat_minor": 0,
  "metadata": {
    "colab": {
      "name": "03_自动求导.ipynb",
      "provenance": [],
      "collapsed_sections": []
    },
    "kernelspec": {
      "name": "python3",
      "display_name": "Python 3"
    },
    "language_info": {
      "name": "python"
    }
  },
  "cells": [
    {
      "cell_type": "markdown",
      "source": [
        "**# 自动求导**"
      ],
      "metadata": {
        "id": "M6KH6fb73Bqy"
      }
    },
    {
      "cell_type": "markdown",
      "source": [
        "* 假设我们想对$y=2X^TX$关于列向量$X$求导"
      ],
      "metadata": {
        "id": "a8JiuXKz3EcW"
      }
    },
    {
      "cell_type": "code",
      "execution_count": 37,
      "metadata": {
        "id": "iKCBH7T_DoVZ",
        "colab": {
          "base_uri": "https://localhost:8080/"
        },
        "outputId": "e2c32699-2551-4728-a654-37c4b4be854d"
      },
      "outputs": [
        {
          "output_type": "execute_result",
          "data": {
            "text/plain": [
              "tensor([0., 1., 2., 3.])"
            ]
          },
          "metadata": {},
          "execution_count": 37
        }
      ],
      "source": [
        "import torch\n",
        "x = torch.arange(4.0)\n",
        "x "
      ]
    },
    {
      "cell_type": "markdown",
      "source": [
        "* 在我们计算$y$关于$X$的梯度之前，需要一个地方来存储梯度"
      ],
      "metadata": {
        "id": "sM9NUKhY3XNg"
      }
    },
    {
      "cell_type": "code",
      "source": [
        "x.requires_grad_(True)   # 等价于 x = torch.arange(4.0, requires_grad_(True))\n",
        "x.grad"
      ],
      "metadata": {
        "id": "xBsI9pBK3gwL"
      },
      "execution_count": 38,
      "outputs": []
    },
    {
      "cell_type": "markdown",
      "source": [
        "* 计算$y$"
      ],
      "metadata": {
        "id": "OVsFZw5z3u9m"
      }
    },
    {
      "cell_type": "code",
      "source": [
        "y = 2 * torch.dot(x,x)\n",
        "y"
      ],
      "metadata": {
        "colab": {
          "base_uri": "https://localhost:8080/"
        },
        "id": "y8Zqjn7T3yOY",
        "outputId": "e3944c63-9133-4287-810f-2f79798b2a6b"
      },
      "execution_count": 39,
      "outputs": [
        {
          "output_type": "execute_result",
          "data": {
            "text/plain": [
              "tensor(28., grad_fn=<MulBackward0>)"
            ]
          },
          "metadata": {},
          "execution_count": 39
        }
      ]
    },
    {
      "cell_type": "markdown",
      "source": [
        "* 通过调用反向传播函数来自动计算$y$关于$X$的每个分量的梯度"
      ],
      "metadata": {
        "id": "QvdCyuoL5JAR"
      }
    },
    {
      "cell_type": "code",
      "source": [
        "y.backward()\n",
        "x.grad"
      ],
      "metadata": {
        "colab": {
          "base_uri": "https://localhost:8080/"
        },
        "id": "vj8tf-JK5S4D",
        "outputId": "23e3dbdd-1ae6-46ff-8f04-7636f06982a9"
      },
      "execution_count": 40,
      "outputs": [
        {
          "output_type": "execute_result",
          "data": {
            "text/plain": [
              "tensor([ 0.,  4.,  8., 12.])"
            ]
          },
          "metadata": {},
          "execution_count": 40
        }
      ]
    },
    {
      "cell_type": "markdown",
      "source": [
        "* 计算$x$的另一个函数"
      ],
      "metadata": {
        "id": "L72754Uy8k7R"
      }
    },
    {
      "cell_type": "code",
      "source": [
        "# 在默认情况下，Pytorch会累积梯度，需要清除之前的值\n",
        "x.grad.zero_()\n",
        "y = x.sum()\n",
        "y.backward()\n",
        "x.grad"
      ],
      "metadata": {
        "colab": {
          "base_uri": "https://localhost:8080/"
        },
        "id": "QunH23Ym8oHu",
        "outputId": "dbf7e419-7b8e-48f3-d58b-90e3de09a873"
      },
      "execution_count": 41,
      "outputs": [
        {
          "output_type": "execute_result",
          "data": {
            "text/plain": [
              "tensor([1., 1., 1., 1.])"
            ]
          },
          "metadata": {},
          "execution_count": 41
        }
      ]
    },
    {
      "cell_type": "markdown",
      "source": [
        "* 深度学习中，绝大多数情况$y$都是标量，很少会对一个向量的函数来求导，即目的不是计算微分矩阵，而是批量中每个样本单独计算的偏导数之和"
      ],
      "metadata": {
        "id": "qerU8uuI847w"
      }
    },
    {
      "cell_type": "code",
      "source": [
        "# 对非标量调用 backward 需要传入一个 gradient 参数\n",
        "x.grad.zero_()\n",
        "y = x * x  \n",
        "y.sum().backward()  # 将y转化为标量\n",
        "# 等价于 y.backward(torch.ones(len(x)))\n",
        "x.grad"
      ],
      "metadata": {
        "colab": {
          "base_uri": "https://localhost:8080/"
        },
        "id": "-y6v3pPs9mMr",
        "outputId": "12b2290f-302a-424b-eb91-c6a3f6696e58"
      },
      "execution_count": 42,
      "outputs": [
        {
          "output_type": "execute_result",
          "data": {
            "text/plain": [
              "tensor([0., 2., 4., 6.])"
            ]
          },
          "metadata": {},
          "execution_count": 42
        }
      ]
    },
    {
      "cell_type": "markdown",
      "source": [
        "* 将某些计算移动到记录的计算图之外"
      ],
      "metadata": {
        "id": "eLcc4H5B_S5i"
      }
    },
    {
      "cell_type": "code",
      "source": [
        "x.grad.zero_()\n",
        "y = x * x\n",
        "u = y.detach()   # u 不再是一个关于x的函数，而是一个常数量\n",
        "z = u * x\n",
        "\n",
        "z.sum().backward()\n",
        "x.grad == u"
      ],
      "metadata": {
        "colab": {
          "base_uri": "https://localhost:8080/"
        },
        "id": "zpYtnj3k_aKv",
        "outputId": "92002e14-a469-4a1e-c597-cd98bc21555a"
      },
      "execution_count": 43,
      "outputs": [
        {
          "output_type": "execute_result",
          "data": {
            "text/plain": [
              "tensor([True, True, True, True])"
            ]
          },
          "metadata": {},
          "execution_count": 43
        }
      ]
    },
    {
      "cell_type": "code",
      "source": [
        "x.grad.zero_()\n",
        "y.sum().backward()\n",
        "x.grad == 2 * x"
      ],
      "metadata": {
        "colab": {
          "base_uri": "https://localhost:8080/"
        },
        "id": "SYRcKiiW_vW0",
        "outputId": "970f02bc-7144-4dd0-cfa6-906fbaee8988"
      },
      "execution_count": 44,
      "outputs": [
        {
          "output_type": "execute_result",
          "data": {
            "text/plain": [
              "tensor([True, True, True, True])"
            ]
          },
          "metadata": {},
          "execution_count": 44
        }
      ]
    },
    {
      "cell_type": "markdown",
      "source": [
        "* 即使构建函数的计算图需要通过Python控制流（例如，条件、循环或任意函数调用），仍然可以计算得到变量的梯度"
      ],
      "metadata": {
        "id": "q0kGQ6g0Kvwi"
      }
    },
    {
      "cell_type": "code",
      "source": [
        "def f(a):\n",
        "  b = a * 2\n",
        "  while b.norm() <1000:\n",
        "    b = b * 2\n",
        "  if b.sum() > 0:\n",
        "    c = b\n",
        "  else:\n",
        "    c = 100 * b\n",
        "  return c\n",
        "\n",
        "a = torch.randn(size=(), requires_grad=True)\n",
        "d = f(a)\n",
        "d.backward()\n",
        "a.grad == d/a"
      ],
      "metadata": {
        "colab": {
          "base_uri": "https://localhost:8080/"
        },
        "id": "dE0WMCIHK9-p",
        "outputId": "3a303e5a-6b87-44cb-9480-83dea7ff8a44"
      },
      "execution_count": 45,
      "outputs": [
        {
          "output_type": "execute_result",
          "data": {
            "text/plain": [
              "tensor(True)"
            ]
          },
          "metadata": {},
          "execution_count": 45
        }
      ]
    }
  ]
}