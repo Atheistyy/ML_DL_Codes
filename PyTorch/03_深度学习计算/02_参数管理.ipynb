{
  "nbformat": 4,
  "nbformat_minor": 0,
  "metadata": {
    "colab": {
      "name": "02_参数管理.ipynb",
      "provenance": [],
      "collapsed_sections": []
    },
    "kernelspec": {
      "name": "python3",
      "display_name": "Python 3"
    },
    "language_info": {
      "name": "python"
    }
  },
  "cells": [
    {
      "cell_type": "markdown",
      "source": [
        "# 参数管理"
      ],
      "metadata": {
        "id": "thl3XvpBuhZo"
      }
    },
    {
      "cell_type": "markdown",
      "source": [
        "* 首先看一下具有单隐藏层的多层感知机。"
      ],
      "metadata": {
        "id": "H26u501CujvI"
      }
    },
    {
      "cell_type": "code",
      "execution_count": 1,
      "metadata": {
        "id": "VbIiDUm98vf5",
        "colab": {
          "base_uri": "https://localhost:8080/"
        },
        "outputId": "c559c922-7b8a-474f-bb3a-827fb3a81ee6"
      },
      "outputs": [
        {
          "output_type": "execute_result",
          "data": {
            "text/plain": [
              "tensor([[-0.1678],\n",
              "        [-0.0788]], grad_fn=<AddmmBackward0>)"
            ]
          },
          "metadata": {},
          "execution_count": 1
        }
      ],
      "source": [
        "import torch\n",
        "from torch import nn\n",
        "\n",
        "net = nn.Sequential(nn.Linear(4, 8), nn.ReLU(), nn.Linear(8, 1))\n",
        "X = torch.rand(size=(2, 4))\n",
        "net(X)"
      ]
    },
    {
      "cell_type": "markdown",
      "source": [
        "**1. 参数访问**"
      ],
      "metadata": {
        "id": "UWSky3j7vViJ"
      }
    },
    {
      "cell_type": "markdown",
      "source": [
        "* 从已有模型中访问参数。当通过`Sequential`类定义模型时，可以通过索引来访问模型的任意层。\n",
        "这就像模型是一个列表一样，每层的参数都在其属性中。如下所示，可以检查第二个全连接层的参数。\n",
        "* 首先，这个全连接层包含两个参数，分别是该层的权重和偏置。两者都存储为单精度浮点数（float32）。注意，参数名称允许唯一标识每个参数，即使在包含数百个层的网络中也是如此。"
      ],
      "metadata": {
        "id": "3iCx0x-Avp0b"
      }
    },
    {
      "cell_type": "code",
      "source": [
        "print(net[2].state_dict())"
      ],
      "metadata": {
        "colab": {
          "base_uri": "https://localhost:8080/"
        },
        "id": "Fb_JkObivl2i",
        "outputId": "1fbf79e9-5c96-4a74-8df9-6843c8044804"
      },
      "execution_count": 2,
      "outputs": [
        {
          "output_type": "stream",
          "name": "stdout",
          "text": [
            "OrderedDict([('weight', tensor([[ 0.0557, -0.2587,  0.1445, -0.3315,  0.2848,  0.2984,  0.0983,  0.0193]])), ('bias', tensor([-0.0761]))])\n"
          ]
        }
      ]
    },
    {
      "cell_type": "markdown",
      "source": [
        "**2. 目标参数**"
      ],
      "metadata": {
        "id": "eXHwXd97wBwL"
      }
    },
    {
      "cell_type": "markdown",
      "source": [
        "* 每个参数都表示为参数类的一个实例。要对参数执行任何操作，首先需要访问底层的数值。\n",
        "有几种方法可以做到这一点。有些比较简单，而另一些则比较通用。下面的代码从第二个全连接层（即第三个神经网络层）提取偏置，提取后返回的是一个参数类实例，并进一步访问该参数的值。"
      ],
      "metadata": {
        "id": "Oen5JO7PwGkA"
      }
    },
    {
      "cell_type": "code",
      "source": [
        "print(type(net[2].bias))\n",
        "print(net[2].bias)\n",
        "print(net[2].bias.data)"
      ],
      "metadata": {
        "colab": {
          "base_uri": "https://localhost:8080/"
        },
        "id": "_pbknRw9wMRn",
        "outputId": "c62cdc7f-1b67-46b6-d144-d1a34b24fe6c"
      },
      "execution_count": 3,
      "outputs": [
        {
          "output_type": "stream",
          "name": "stdout",
          "text": [
            "<class 'torch.nn.parameter.Parameter'>\n",
            "Parameter containing:\n",
            "tensor([-0.0761], requires_grad=True)\n",
            "tensor([-0.0761])\n"
          ]
        }
      ]
    },
    {
      "cell_type": "markdown",
      "source": [
        "* 参数是复合的对象，包含值、梯度和额外信息。这就是我们需要显式参数值的原因。\n",
        "除了值之外，还可以访问每个参数的梯度。在上面这个网络中，由于还没有调用反向传播，所以参数的梯度处于初始状态。"
      ],
      "metadata": {
        "id": "acNfuEpwwZ2G"
      }
    },
    {
      "cell_type": "code",
      "source": [
        "net[2].weight.grad == None"
      ],
      "metadata": {
        "colab": {
          "base_uri": "https://localhost:8080/"
        },
        "id": "bQEreDL5wamS",
        "outputId": "6cb88a20-16ab-4e1e-e4b1-23b6588651a2"
      },
      "execution_count": 4,
      "outputs": [
        {
          "output_type": "execute_result",
          "data": {
            "text/plain": [
              "True"
            ]
          },
          "metadata": {},
          "execution_count": 4
        }
      ]
    },
    {
      "cell_type": "markdown",
      "source": [
        "**3. 一次性访问所有参数**"
      ],
      "metadata": {
        "id": "0qAuSvMIwdH_"
      }
    },
    {
      "cell_type": "markdown",
      "source": [
        "* 当需要对所有参数执行操作时，逐个访问它们可能会很麻烦。当处理更复杂的块（例如，嵌套块）时，情况可能会变得特别复杂，因为需要递归整个树来提取每个子块的参数。"
      ],
      "metadata": {
        "id": "c8aCbglKwk_t"
      }
    },
    {
      "cell_type": "code",
      "source": [
        "print(*[(name, param.shape) for name, param in net[0].named_parameters()])\n",
        "print(*[(name, param.shape) for name, param in net.named_parameters()])"
      ],
      "metadata": {
        "colab": {
          "base_uri": "https://localhost:8080/"
        },
        "id": "RrX-ly84wqSt",
        "outputId": "17f31cc7-2101-4388-87dc-17fe3a09eeea"
      },
      "execution_count": 5,
      "outputs": [
        {
          "output_type": "stream",
          "name": "stdout",
          "text": [
            "('weight', torch.Size([8, 4])) ('bias', torch.Size([8]))\n",
            "('0.weight', torch.Size([8, 4])) ('0.bias', torch.Size([8])) ('2.weight', torch.Size([1, 8])) ('2.bias', torch.Size([1]))\n"
          ]
        }
      ]
    },
    {
      "cell_type": "markdown",
      "source": [
        "* 另一种方式"
      ],
      "metadata": {
        "id": "MxxT4c_NShS8"
      }
    },
    {
      "cell_type": "code",
      "source": [
        "net.state_dict()['2.bias'].data"
      ],
      "metadata": {
        "colab": {
          "base_uri": "https://localhost:8080/"
        },
        "id": "k-w8VlqiScTa",
        "outputId": "02a29244-5fe0-4d5f-f59d-c3a90f0f8a3b"
      },
      "execution_count": 6,
      "outputs": [
        {
          "output_type": "execute_result",
          "data": {
            "text/plain": [
              "tensor([-0.0761])"
            ]
          },
          "metadata": {},
          "execution_count": 6
        }
      ]
    },
    {
      "cell_type": "markdown",
      "source": [
        "**4. 从嵌套块收集参数**"
      ],
      "metadata": {
        "id": "pW7dD-NdSjgm"
      }
    },
    {
      "cell_type": "markdown",
      "source": [
        "* 首先定义一个生成块的函数（可以说是“块工厂”），然后将这些块组合到更大的块中。"
      ],
      "metadata": {
        "id": "WfMMFG-YSpgL"
      }
    },
    {
      "cell_type": "code",
      "source": [
        "def block1():\n",
        "    return nn.Sequential(nn.Linear(4, 8), nn.ReLU(),\n",
        "                         nn.Linear(8, 4), nn.ReLU())\n",
        "\n",
        "def block2():\n",
        "    net = nn.Sequential()\n",
        "    for i in range(4):\n",
        "        # 在这里嵌套4个block1()\n",
        "        net.add_module(f'block {i}', block1())\n",
        "    return net\n",
        "\n",
        "rgnet = nn.Sequential(block2(), nn.Linear(4, 1))\n",
        "rgnet(X)"
      ],
      "metadata": {
        "colab": {
          "base_uri": "https://localhost:8080/"
        },
        "id": "cn9xG7dIStmK",
        "outputId": "e198bea7-e289-4780-ecf4-61511d0f111e"
      },
      "execution_count": 7,
      "outputs": [
        {
          "output_type": "execute_result",
          "data": {
            "text/plain": [
              "tensor([[-0.2177],\n",
              "        [-0.2177]], grad_fn=<AddmmBackward0>)"
            ]
          },
          "metadata": {},
          "execution_count": 7
        }
      ]
    },
    {
      "cell_type": "code",
      "source": [
        "print(rgnet)"
      ],
      "metadata": {
        "colab": {
          "base_uri": "https://localhost:8080/"
        },
        "id": "nGQFPCrdTV2I",
        "outputId": "a04ed578-b2a1-4be5-f70f-a378965674e3"
      },
      "execution_count": 8,
      "outputs": [
        {
          "output_type": "stream",
          "name": "stdout",
          "text": [
            "Sequential(\n",
            "  (0): Sequential(\n",
            "    (block 0): Sequential(\n",
            "      (0): Linear(in_features=4, out_features=8, bias=True)\n",
            "      (1): ReLU()\n",
            "      (2): Linear(in_features=8, out_features=4, bias=True)\n",
            "      (3): ReLU()\n",
            "    )\n",
            "    (block 1): Sequential(\n",
            "      (0): Linear(in_features=4, out_features=8, bias=True)\n",
            "      (1): ReLU()\n",
            "      (2): Linear(in_features=8, out_features=4, bias=True)\n",
            "      (3): ReLU()\n",
            "    )\n",
            "    (block 2): Sequential(\n",
            "      (0): Linear(in_features=4, out_features=8, bias=True)\n",
            "      (1): ReLU()\n",
            "      (2): Linear(in_features=8, out_features=4, bias=True)\n",
            "      (3): ReLU()\n",
            "    )\n",
            "    (block 3): Sequential(\n",
            "      (0): Linear(in_features=4, out_features=8, bias=True)\n",
            "      (1): ReLU()\n",
            "      (2): Linear(in_features=8, out_features=4, bias=True)\n",
            "      (3): ReLU()\n",
            "    )\n",
            "  )\n",
            "  (1): Linear(in_features=4, out_features=1, bias=True)\n",
            ")\n"
          ]
        }
      ]
    },
    {
      "cell_type": "markdown",
      "source": [
        "# 参数初始化"
      ],
      "metadata": {
        "id": "oZAKcJBHquf1"
      }
    },
    {
      "cell_type": "markdown",
      "source": [
        "* 默认情况下，PyTorch会根据一个范围均匀地初始化权重和偏置矩阵，这个范围是根据输入和输出维度计算出的。PyTorch的`nn.init`模块提供了多种预置初始化方法。"
      ],
      "metadata": {
        "id": "W74cpoaaq4iD"
      }
    },
    {
      "cell_type": "markdown",
      "source": [
        "**1. 内置初始化**"
      ],
      "metadata": {
        "id": "kJ4fvYjvrBJF"
      }
    },
    {
      "cell_type": "markdown",
      "source": [
        "* 下面的代码将所有权重参数初始化为标准差为0.01的高斯随机变量，且将偏置参数设置为0。"
      ],
      "metadata": {
        "id": "m6miMbmCrIjC"
      }
    },
    {
      "cell_type": "code",
      "source": [
        "def init_normal(m):\n",
        "    if type(m) == nn.Linear:\n",
        "        nn.init.normal_(m.weight, mean=0, std=0.01)\n",
        "        nn.init.zeros_(m.bias)\n",
        "net.apply(init_normal)  \n",
        "net[0].weight.data[0], net[0].bias.data[0]"
      ],
      "metadata": {
        "colab": {
          "base_uri": "https://localhost:8080/"
        },
        "id": "-QA1T1n1q-na",
        "outputId": "cb17da13-856d-4cb7-fc71-534617e32877"
      },
      "execution_count": 9,
      "outputs": [
        {
          "output_type": "execute_result",
          "data": {
            "text/plain": [
              "(tensor([-0.0105, -0.0032, -0.0034, -0.0208]), tensor(0.))"
            ]
          },
          "metadata": {},
          "execution_count": 9
        }
      ]
    },
    {
      "cell_type": "markdown",
      "source": [
        "* 还可以将所有参数初始化为给定的常数，比如初始化为1。"
      ],
      "metadata": {
        "id": "WcZFi-HqrSAQ"
      }
    },
    {
      "cell_type": "code",
      "source": [
        "def init_constant(m):\n",
        "    if type(m) == nn.Linear:\n",
        "        nn.init.constant_(m.weight, 1)\n",
        "        nn.init.zeros_(m.bias)\n",
        "net.apply(init_constant)\n",
        "net[0].weight.data[0], net[0].bias.data[0]"
      ],
      "metadata": {
        "colab": {
          "base_uri": "https://localhost:8080/"
        },
        "id": "Y1Y_jhvYrVoC",
        "outputId": "d5fb1bf4-3301-4fd0-f583-c0b4ab721472"
      },
      "execution_count": 10,
      "outputs": [
        {
          "output_type": "execute_result",
          "data": {
            "text/plain": [
              "(tensor([1., 1., 1., 1.]), tensor(0.))"
            ]
          },
          "metadata": {},
          "execution_count": 10
        }
      ]
    },
    {
      "cell_type": "markdown",
      "source": [
        "* **对某些块应用不同的初始化方法**。例如，下面我们使用Xavier初始化方法初始化第一个神经网络层，然后将第三个神经网络层初始化为常量值42。"
      ],
      "metadata": {
        "id": "Gp2DlgsNrc-A"
      }
    },
    {
      "cell_type": "code",
      "source": [
        "def xavier(m):\n",
        "    if type(m) == nn.Linear:\n",
        "        nn.init.xavier_uniform_(m.weight)\n",
        "def init_42(m):\n",
        "    if type(m) == nn.Linear:\n",
        "        nn.init.constant_(m.weight, 42)\n",
        "\n",
        "net[0].apply(xavier)\n",
        "net[2].apply(init_42)\n",
        "print(net[0].weight.data[0])\n",
        "print(net[2].weight.data)"
      ],
      "metadata": {
        "colab": {
          "base_uri": "https://localhost:8080/"
        },
        "id": "tAmZJPg7rdzM",
        "outputId": "9ae37c20-9197-450d-ddf8-b6016e405950"
      },
      "execution_count": 11,
      "outputs": [
        {
          "output_type": "stream",
          "name": "stdout",
          "text": [
            "tensor([ 0.1521, -0.3630, -0.1432, -0.5545])\n",
            "tensor([[42., 42., 42., 42., 42., 42., 42., 42.]])\n"
          ]
        }
      ]
    },
    {
      "cell_type": "markdown",
      "source": [
        "**2. 自定义初始化**"
      ],
      "metadata": {
        "id": "7TWBvKvsu3Hx"
      }
    },
    {
      "cell_type": "markdown",
      "source": [
        "* 有时，深度学习框架没有提供我们需要的初始化方法。在下面的例子中，使用以下的分布为任意权重参数$w$定义初始化方法：\n",
        "\n",
        "$$\n",
        "\\begin{aligned}\n",
        "    w \\sim \\begin{cases}\n",
        "        U(5, 10) & \\text{ 可能性 } \\frac{1}{4} \\\\\n",
        "            0    & \\text{ 可能性 } \\frac{1}{2} \\\\\n",
        "        U(-10, -5) & \\text{ 可能性 } \\frac{1}{4}\n",
        "    \\end{cases}\n",
        "\\end{aligned}\n",
        "$$\n"
      ],
      "metadata": {
        "id": "_YZHYn5XuwGk"
      }
    },
    {
      "cell_type": "code",
      "source": [
        "def my_init(m):\n",
        "    if type(m) == nn.Linear:\n",
        "        print(\"Init\", *[(name, param.shape)\n",
        "                        for name, param in m.named_parameters()][0])\n",
        "        nn.init.uniform_(m.weight, -10, 10)\n",
        "        m.weight.data *= m.weight.data.abs() >= 5\n",
        "\n",
        "net.apply(my_init)\n",
        "net[0].weight[:2]"
      ],
      "metadata": {
        "colab": {
          "base_uri": "https://localhost:8080/"
        },
        "id": "uFRTZg4Mu5o9",
        "outputId": "56160f76-826c-4153-a8c0-dfe0fadce6d1"
      },
      "execution_count": 13,
      "outputs": [
        {
          "output_type": "stream",
          "name": "stdout",
          "text": [
            "Init weight torch.Size([8, 4])\n",
            "Init weight torch.Size([1, 8])\n"
          ]
        },
        {
          "output_type": "execute_result",
          "data": {
            "text/plain": [
              "tensor([[-0.0000, -9.4662, -7.4129,  0.0000],\n",
              "        [ 9.1692,  5.6209, -8.5521, -6.2768]], grad_fn=<SliceBackward0>)"
            ]
          },
          "metadata": {},
          "execution_count": 13
        }
      ]
    },
    {
      "cell_type": "markdown",
      "source": [
        "* 注意，始终可以直接设置参数。"
      ],
      "metadata": {
        "id": "Ct7fYk1-wDXe"
      }
    },
    {
      "cell_type": "code",
      "source": [
        "net[0].weight.data[:] += 1\n",
        "net[0].weight.data[0, 0] = 42\n",
        "net[0].weight.data[0]"
      ],
      "metadata": {
        "colab": {
          "base_uri": "https://localhost:8080/"
        },
        "id": "bTZ_uXT_wDrf",
        "outputId": "779aaf82-509d-4cbb-ad3f-f280206b765a"
      },
      "execution_count": 14,
      "outputs": [
        {
          "output_type": "execute_result",
          "data": {
            "text/plain": [
              "tensor([42.0000, -8.4662, -6.4129,  1.0000])"
            ]
          },
          "metadata": {},
          "execution_count": 14
        }
      ]
    },
    {
      "cell_type": "markdown",
      "source": [
        "**3. 参数绑定**"
      ],
      "metadata": {
        "id": "8M-A6Q2NwJs6"
      }
    },
    {
      "cell_type": "markdown",
      "source": [
        "* 有时希望在多个层间共享参数：可以定义一个稠密层，然后使用它的参数来设置另一个层的参数。"
      ],
      "metadata": {
        "id": "RWXiQAfSwODC"
      }
    },
    {
      "cell_type": "code",
      "source": [
        "# 需要给共享层一个名称，以便可以引用它的参数\n",
        "shared = nn.Linear(8, 8)\n",
        "net = nn.Sequential(nn.Linear(4, 8), nn.ReLU(),\n",
        "                    shared, nn.ReLU(),\n",
        "                    shared, nn.ReLU(),\n",
        "                    nn.Linear(8, 1))\n",
        "net(X)\n",
        "# 检查参数是否相同\n",
        "print(net[2].weight.data[0] == net[4].weight.data[0])\n",
        "net[2].weight.data[0, 0] = 100\n",
        "# 确保它们实际上是同一个对象，而不只是有相同的值\n",
        "# 即修改了一层的数据也会修改另一层\n",
        "print(net[2].weight.data[0] == net[4].weight.data[0])"
      ],
      "metadata": {
        "colab": {
          "base_uri": "https://localhost:8080/"
        },
        "id": "TiJv00V_wR59",
        "outputId": "ea2d22ae-a8f5-4702-bd6f-4db0232d824c"
      },
      "execution_count": 15,
      "outputs": [
        {
          "output_type": "stream",
          "name": "stdout",
          "text": [
            "tensor([True, True, True, True, True, True, True, True])\n",
            "tensor([True, True, True, True, True, True, True, True])\n"
          ]
        }
      ]
    }
  ]
}