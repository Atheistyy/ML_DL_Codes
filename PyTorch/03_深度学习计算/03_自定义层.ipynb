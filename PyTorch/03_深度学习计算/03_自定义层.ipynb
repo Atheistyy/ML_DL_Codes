{
  "nbformat": 4,
  "nbformat_minor": 0,
  "metadata": {
    "colab": {
      "name": "03_自定义层",
      "provenance": [],
      "collapsed_sections": []
    },
    "kernelspec": {
      "name": "python3",
      "display_name": "Python 3"
    },
    "language_info": {
      "name": "python"
    }
  },
  "cells": [
    {
      "cell_type": "markdown",
      "source": [
        "**# 自定义层**"
      ],
      "metadata": {
        "id": "HPOloIxpxNIS"
      }
    },
    {
      "cell_type": "markdown",
      "source": [
        "* 可以用创造性的方式组合不同的层，从而设计出适用于各种任务的架构。"
      ],
      "metadata": {
        "id": "QzXwye8pxVF7"
      }
    },
    {
      "cell_type": "markdown",
      "source": [
        "**1. 构造一个没有任何参数的自定义层**"
      ],
      "metadata": {
        "id": "uJKqYx1Fxl5r"
      }
    },
    {
      "cell_type": "code",
      "execution_count": 2,
      "metadata": {
        "id": "cPoM6lc4fARS"
      },
      "outputs": [],
      "source": [
        "import torch\n",
        "import torch.nn.functional as F\n",
        "from torch import nn\n",
        "\n",
        "\n",
        "class CenteredLayer(nn.Module):\n",
        "    def __init__(self):\n",
        "        super().__init__()\n",
        "\n",
        "    def forward(self, X):\n",
        "        return X - X.mean()"
      ]
    },
    {
      "cell_type": "code",
      "source": [
        "layer = CenteredLayer()\n",
        "layer(torch.FloatTensor([1, 2, 3, 4, 5]))"
      ],
      "metadata": {
        "colab": {
          "base_uri": "https://localhost:8080/"
        },
        "id": "ybAvY9_txzzP",
        "outputId": "13f4e274-2dc0-4221-ccdf-0f9c9b2d6aad"
      },
      "execution_count": 3,
      "outputs": [
        {
          "output_type": "execute_result",
          "data": {
            "text/plain": [
              "tensor([-2., -1.,  0.,  1.,  2.])"
            ]
          },
          "metadata": {},
          "execution_count": 3
        }
      ]
    },
    {
      "cell_type": "markdown",
      "source": [
        "* 可以将层作为组件合并到更复杂的模型中。"
      ],
      "metadata": {
        "id": "xzSqTEktx7IR"
      }
    },
    {
      "cell_type": "code",
      "source": [
        "net = nn.Sequential(nn.Linear(8, 128), CenteredLayer())"
      ],
      "metadata": {
        "id": "a1-S3mXJx7ys"
      },
      "execution_count": 4,
      "outputs": []
    },
    {
      "cell_type": "code",
      "source": [
        "Y = net(torch.rand(4, 8))\n",
        "Y.mean()"
      ],
      "metadata": {
        "colab": {
          "base_uri": "https://localhost:8080/"
        },
        "id": "XDAtJS0tx_Nd",
        "outputId": "8516b407-9d19-4899-b89c-ee2d6c591545"
      },
      "execution_count": 5,
      "outputs": [
        {
          "output_type": "execute_result",
          "data": {
            "text/plain": [
              "tensor(-3.7253e-09, grad_fn=<MeanBackward0>)"
            ]
          },
          "metadata": {},
          "execution_count": 5
        }
      ]
    },
    {
      "cell_type": "markdown",
      "source": [
        "**2. 带参数的层**"
      ],
      "metadata": {
        "id": "vLOm3LCy1ypB"
      }
    },
    {
      "cell_type": "markdown",
      "source": [
        "* 如下实现自定义版本的全连接层。 该层需要两个参数，一个用于表示权重，另一个用于表示偏置项。 在此实现中，使用修正线性单元作为激活函数。该层需要输入参数：in_units和units，分别表示输入数和输出数。"
      ],
      "metadata": {
        "id": "reRhRnEG16Li"
      }
    },
    {
      "cell_type": "code",
      "source": [
        "class MyLinear(nn.Module):\n",
        "    def __init__(self, in_units, units):\n",
        "        super().__init__()\n",
        "        self.weight = nn.Parameter(torch.randn(in_units, units))\n",
        "        self.bias = nn.Parameter(torch.randn(units,))\n",
        "    def forward(self, X):\n",
        "        linear = torch.matmul(X, self.weight.data) + self.bias.data\n",
        "        return F.relu(linear)"
      ],
      "metadata": {
        "id": "RpS658RY1_S4"
      },
      "execution_count": 11,
      "outputs": []
    },
    {
      "cell_type": "code",
      "source": [
        "linear = MyLinear(5, 3)\n",
        "linear.weight"
      ],
      "metadata": {
        "colab": {
          "base_uri": "https://localhost:8080/"
        },
        "id": "xYQTbHrp2CMC",
        "outputId": "732f4a4f-5b82-4382-95d2-bf09c4af0d3f"
      },
      "execution_count": 12,
      "outputs": [
        {
          "output_type": "execute_result",
          "data": {
            "text/plain": [
              "Parameter containing:\n",
              "tensor([[-0.4347,  1.3235,  0.5923],\n",
              "        [-0.7439, -1.0569, -0.5721],\n",
              "        [ 0.2388,  0.5794,  0.3254],\n",
              "        [ 0.9396,  0.8565, -1.4810],\n",
              "        [ 0.5687,  0.8050,  0.1317]], requires_grad=True)"
            ]
          },
          "metadata": {},
          "execution_count": 12
        }
      ]
    },
    {
      "cell_type": "code",
      "source": [
        "linear(torch.rand(2, 5))"
      ],
      "metadata": {
        "colab": {
          "base_uri": "https://localhost:8080/"
        },
        "id": "zdbLxoBA2D7f",
        "outputId": "1eaecdcf-7cfa-4d1b-913c-437d3b25c302"
      },
      "execution_count": 13,
      "outputs": [
        {
          "output_type": "execute_result",
          "data": {
            "text/plain": [
              "tensor([[0.7983, 1.6391, 0.0000],\n",
              "        [1.3348, 1.9794, 0.0000]])"
            ]
          },
          "metadata": {},
          "execution_count": 13
        }
      ]
    },
    {
      "cell_type": "code",
      "source": [
        "net = nn.Sequential(MyLinear(64, 8), MyLinear(8, 1))\n",
        "net(torch.rand(2, 64))"
      ],
      "metadata": {
        "colab": {
          "base_uri": "https://localhost:8080/"
        },
        "id": "IV-UuSRb2GQc",
        "outputId": "8642aeb0-74ce-4a8c-c4cb-d7448d586386"
      },
      "execution_count": 14,
      "outputs": [
        {
          "output_type": "execute_result",
          "data": {
            "text/plain": [
              "tensor([[0.],\n",
              "        [0.]])"
            ]
          },
          "metadata": {},
          "execution_count": 14
        }
      ]
    }
  ]
}