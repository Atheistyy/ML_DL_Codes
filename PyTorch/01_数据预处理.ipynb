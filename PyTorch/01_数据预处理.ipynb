{
  "nbformat": 4,
  "nbformat_minor": 0,
  "metadata": {
    "colab": {
      "name": "01_数据预处理.ipynb",
      "provenance": [],
      "collapsed_sections": []
    },
    "kernelspec": {
      "name": "python3",
      "display_name": "Python 3"
    },
    "language_info": {
      "name": "python"
    }
  },
  "cells": [
    {
      "cell_type": "markdown",
      "source": [
        "**# 数据预处理实现**"
      ],
      "metadata": {
        "id": "MU-J5XnJf9K_"
      }
    },
    {
      "cell_type": "markdown",
      "source": [
        "* 创建一个人工数据集，并存储在csv(逗号分隔值)文件"
      ],
      "metadata": {
        "id": "VRG3m4bfgEKj"
      }
    },
    {
      "cell_type": "code",
      "source": [
        "import os\n",
        "os.makedirs(os.path.join('..','data'), exist_ok = True)\n",
        "data_file = os.path.join('..','data','house_tiny.csv')\n",
        "with open(data_file, 'w') as f:\n",
        "    f.write('NumRooms,Alley,Prices\\n') # 列名\n",
        "    f.write('NA, Pave, 127500\\n') # 每行表示一个数据样本\n",
        "    f.write('2, NA, 106000\\n') \n",
        "    f.write('4, NA, 178100\\n')\n",
        "    f.write('NA, NA, 140000\\n')"
      ],
      "metadata": {
        "id": "m27GOo-ZgLiR"
      },
      "execution_count": null,
      "outputs": []
    },
    {
      "cell_type": "markdown",
      "source": [
        "* 从创建的csv文件中加载原始数据集"
      ],
      "metadata": {
        "id": "WlMDkOD_hMBh"
      }
    },
    {
      "cell_type": "code",
      "source": [
        "import pandas as pd\n",
        "data = pd.read_csv(data_file)\n",
        "print(data)"
      ],
      "metadata": {
        "colab": {
          "base_uri": "https://localhost:8080/"
        },
        "id": "gECVYfOQhF25",
        "outputId": "88e68f97-4df0-4c25-c2e9-a86bb8d3d7c4"
      },
      "execution_count": null,
      "outputs": [
        {
          "output_type": "stream",
          "name": "stdout",
          "text": [
            "   NumRooms  Alley  Prices\n",
            "0       NaN   Pave  127500\n",
            "1       2.0     NA  106000\n",
            "2       4.0     NA  178100\n",
            "3       NaN     NA  140000\n"
          ]
        }
      ]
    },
    {
      "cell_type": "markdown",
      "source": [
        "* 为了处理缺失的数据，典型的方法包括**插值和删除**"
      ],
      "metadata": {
        "id": "Q6LxiIHfjesU"
      }
    },
    {
      "cell_type": "code",
      "source": [
        "# 采用插值\n",
        "inputs, outputs = data.iloc[:,0:2], data.iloc[:,2] \n",
        "inputs = inputs.fillna(inputs.mean())\n",
        "print(inputs)"
      ],
      "metadata": {
        "colab": {
          "base_uri": "https://localhost:8080/"
        },
        "id": "J3keQ47PiIj_",
        "outputId": "78885d15-f27d-4d88-bd70-2b55e7b1159b"
      },
      "execution_count": null,
      "outputs": [
        {
          "output_type": "stream",
          "name": "stdout",
          "text": [
            "   NumRooms  Alley\n",
            "0       3.0   Pave\n",
            "1       2.0     NA\n",
            "2       4.0     NA\n",
            "3       3.0     NA\n"
          ]
        },
        {
          "output_type": "stream",
          "name": "stderr",
          "text": [
            "/usr/local/lib/python3.7/dist-packages/ipykernel_launcher.py:3: FutureWarning: Dropping of nuisance columns in DataFrame reductions (with 'numeric_only=None') is deprecated; in a future version this will raise TypeError.  Select only valid columns before calling the reduction.\n",
            "  This is separate from the ipykernel package so we can avoid doing imports until\n"
          ]
        }
      ]
    },
    {
      "cell_type": "markdown",
      "source": [
        "* 对于inputs中的类别值或离散值，可以采用one-hot编码。例如，将'NA'视为一个类别"
      ],
      "metadata": {
        "id": "hq_kzI1VkhB3"
      }
    },
    {
      "cell_type": "code",
      "source": [
        "inputs = pd.get_dummies(inputs)\n",
        "print(inputs)"
      ],
      "metadata": {
        "colab": {
          "base_uri": "https://localhost:8080/"
        },
        "id": "vD-kqzqOnO3u",
        "outputId": "8776bb19-fcd5-452f-c4ee-fb0e97765005"
      },
      "execution_count": null,
      "outputs": [
        {
          "output_type": "stream",
          "name": "stdout",
          "text": [
            "   NumRooms  Alley_ NA  Alley_ Pave\n",
            "0       3.0          0            1\n",
            "1       2.0          1            0\n",
            "2       4.0          1            0\n",
            "3       3.0          1            0\n"
          ]
        }
      ]
    },
    {
      "cell_type": "markdown",
      "source": [
        "* 现在inputs和outputs中的所有条目都是数值类型，可以转换为张量格式"
      ],
      "metadata": {
        "id": "qZ48qH8AodBJ"
      }
    },
    {
      "cell_type": "code",
      "source": [
        "import torch\n",
        "X,y = torch.tensor(inputs.values), torch.tensor(outputs.values)\n",
        "X,y"
      ],
      "metadata": {
        "colab": {
          "base_uri": "https://localhost:8080/"
        },
        "id": "grr-3klwoYi9",
        "outputId": "64ae3464-5e58-4dd7-c095-3a78b87b66f6"
      },
      "execution_count": null,
      "outputs": [
        {
          "output_type": "execute_result",
          "data": {
            "text/plain": [
              "(tensor([[3., 0., 1.],\n",
              "         [2., 1., 0.],\n",
              "         [4., 1., 0.],\n",
              "         [3., 1., 0.]], dtype=torch.float64),\n",
              " tensor([127500, 106000, 178100, 140000]))"
            ]
          },
          "metadata": {},
          "execution_count": 13
        }
      ]
    }
  ]
}