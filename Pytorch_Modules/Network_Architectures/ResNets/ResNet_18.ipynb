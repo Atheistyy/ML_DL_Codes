{
 "cells": [
  {
   "cell_type": "code",
   "execution_count": 1,
   "metadata": {
    "id": "k7N4APtxyZLd"
   },
   "outputs": [],
   "source": [
    "import torch\n",
    "from torch import nn\n",
    "from torch.nn import functional as F\n",
    "from d2l import torch as d2l\n",
    "import torchvision as tv\n",
    "import os\n",
    "import numpy as np\n",
    "\n",
    "os.environ[\"CUDA_VISIBLE_DEVICES\"] = \"0\"\n",
    "device = torch.device('cuda' if torch.cuda.is_available() else 'cpu')"
   ]
  },
  {
   "cell_type": "code",
   "execution_count": 2,
   "metadata": {
    "id": "0SQvlqb869Sx"
   },
   "outputs": [],
   "source": [
    "class Residual(nn.Module):\n",
    "    def __init__(self, input_channels, num_channels,\n",
    "                 use_1x1conv=False, strides=1):\n",
    "        super().__init__()\n",
    "        self.conv1 = nn.Conv2d(input_channels, num_channels,\n",
    "                               kernel_size=3, padding=1, stride=strides)\n",
    "        self.conv2 = nn.Conv2d(num_channels, num_channels,\n",
    "                               kernel_size=3, padding=1)\n",
    "        if use_1x1conv:\n",
    "            self.conv3 = nn.Conv2d(input_channels, num_channels,\n",
    "                                   kernel_size=1, stride=strides)\n",
    "        else:\n",
    "            self.conv3 = None\n",
    "        self.bn1 = nn.BatchNorm2d(num_channels)\n",
    "        self.bn2 = nn.BatchNorm2d(num_channels)\n",
    "\n",
    "    def forward(self, X):\n",
    "        Y = F.relu(self.bn1(self.conv1(X)))\n",
    "        Y = self.bn2(self.conv2(Y))\n",
    "        if self.conv3:\n",
    "            X = self.conv3(X)\n",
    "        Y += X\n",
    "        return F.relu(Y)"
   ]
  },
  {
   "cell_type": "code",
   "execution_count": 3,
   "metadata": {
    "id": "x7vIM9dY69Zz"
   },
   "outputs": [],
   "source": [
    "def resnet_block(input_channels, num_channels, num_residuals,\n",
    "                 first_block=False):\n",
    "    blk = []\n",
    "    for i in range(num_residuals):\n",
    "        if i == 0 and not first_block:\n",
    "            blk.append(Residual(input_channels, num_channels,\n",
    "                                use_1x1conv=True, strides=2))\n",
    "        else:\n",
    "            blk.append(Residual(num_channels, num_channels))\n",
    "    return blk"
   ]
  },
  {
   "cell_type": "code",
   "execution_count": 4,
   "metadata": {
    "id": "IDgpSg1mL4Dk"
   },
   "outputs": [],
   "source": [
    "b1 = nn.Sequential(nn.Conv2d(3, 64, kernel_size=3, stride=1, padding=1),\n",
    "                   nn.BatchNorm2d(64), nn.ReLU(),\n",
    "                   nn.MaxPool2d(kernel_size=3, stride=1, padding=1))"
   ]
  },
  {
   "cell_type": "code",
   "execution_count": 5,
   "metadata": {
    "id": "9YmVRD1_69cY"
   },
   "outputs": [],
   "source": [
    "b2 = nn.Sequential(*resnet_block(64, 64, 2, first_block=True))\n",
    "b3 = nn.Sequential(*resnet_block(64, 128, 2))\n",
    "b4 = nn.Sequential(*resnet_block(128, 256, 2))\n",
    "b5 = nn.Sequential(*resnet_block(256, 512, 2))"
   ]
  },
  {
   "cell_type": "code",
   "execution_count": 6,
   "metadata": {
    "id": "OAUoGUrLHUDh"
   },
   "outputs": [],
   "source": [
    "net = nn.Sequential(b1, b2, b3, b4, b5,\n",
    "                    nn.AdaptiveAvgPool2d((1,1)),\n",
    "                    nn.Flatten(), nn.Dropout(0.25), nn.Linear(512, 10))\n",
    "\n",
    "if device == 'cuda':\n",
    "\tnet = torch.nn.DataParallel(net)"
   ]
  },
  {
   "cell_type": "code",
   "execution_count": 7,
   "metadata": {
    "colab": {
     "base_uri": "https://localhost:8080/"
    },
    "id": "xzf_6-48H0h6",
    "outputId": "d4f263be-24a0-4c09-d1d0-452c3083987d"
   },
   "outputs": [
    {
     "name": "stdout",
     "output_type": "stream",
     "text": [
      "Sequential output shape:\t torch.Size([1, 64, 32, 32])\n",
      "Sequential output shape:\t torch.Size([1, 64, 32, 32])\n",
      "Sequential output shape:\t torch.Size([1, 128, 16, 16])\n",
      "Sequential output shape:\t torch.Size([1, 256, 8, 8])\n",
      "Sequential output shape:\t torch.Size([1, 512, 4, 4])\n",
      "AdaptiveAvgPool2d output shape:\t torch.Size([1, 512, 1, 1])\n",
      "Flatten output shape:\t torch.Size([1, 512])\n",
      "Dropout output shape:\t torch.Size([1, 512])\n",
      "Linear output shape:\t torch.Size([1, 10])\n"
     ]
    }
   ],
   "source": [
    "X = torch.rand(size=(1, 3, 32, 32))\n",
    "for layer in net:\n",
    "    X = layer(X)\n",
    "    print(layer.__class__.__name__,'output shape:\\t', X.shape)"
   ]
  },
  {
   "cell_type": "code",
   "execution_count": 8,
   "metadata": {
    "id": "XAT7w_MlUbbK"
   },
   "outputs": [],
   "source": [
    "def evaluate_accuracy_gpu(net, data_iter, device=None): \n",
    "    if isinstance(net, nn.Module):\n",
    "        net.eval()  \n",
    "        if not device:\n",
    "            device = next(iter(net.parameters())).device\n",
    "    metric = d2l.Accumulator(2)\n",
    "    with torch.no_grad():\n",
    "        for X, y in data_iter:\n",
    "            if isinstance(X, list):\n",
    "                X = [x.to(device) for x in X]\n",
    "            else:\n",
    "                X = X.to(device)\n",
    "            y = y.to(device)\n",
    "            metric.add(d2l.accuracy(net(X), y), y.numel())\n",
    "    return metric[0] / metric[1]"
   ]
  },
  {
   "cell_type": "code",
   "execution_count": 9,
   "metadata": {
    "id": "OaicZn8ZPJHn"
   },
   "outputs": [],
   "source": [
    "def train_net(net, train_iter, test_iter, num_epochs, lr, device):\n",
    "    def init_weights(m):\n",
    "        if type(m) == nn.Linear or type(m) == nn.Conv2d:\n",
    "            torch.nn.init.kaiming_uniform_(m.weight)\n",
    "    net.apply(init_weights)\n",
    "    print('training on', device)\n",
    "    net.to(device)\n",
    "    optimizer = torch.optim.SGD(params=net.parameters(),\n",
    "                          lr=lr,\n",
    "                          momentum=0.9,\n",
    "                          weight_decay=0.001)\n",
    "    scheduler = torch.optim.lr_scheduler.MultiStepLR(\n",
    "        optimizer, milestones=[45, 75, 105], gamma=0.1)\n",
    "    loss = nn.CrossEntropyLoss()\n",
    "    num_batches = len(train_iter)\n",
    "    for epoch in range(num_epochs):\n",
    "        metric = d2l.Accumulator(3)\n",
    "        net.train()\n",
    "        for i, (X, y) in enumerate(train_iter):\n",
    "            optimizer.zero_grad()\n",
    "            X, y = X.to(device), y.to(device)\n",
    "            y_hat = net(X)\n",
    "            l = loss(y_hat, y)\n",
    "            l.backward()\n",
    "            optimizer.step()\n",
    "            with torch.no_grad():\n",
    "                metric.add(l * X.shape[0], d2l.accuracy(y_hat, y), X.shape[0])\n",
    "            train_l = metric[0] / metric[2]\n",
    "            train_acc = metric[1] / metric[2]\n",
    "        scheduler.step()\n",
    "        test_acc = evaluate_accuracy_gpu(net, test_iter)\n",
    "        print(f'------- ------- Epoch{epoch+1}/{num_epochs} ------- -------')\n",
    "        print(f'loss {train_l:.5f}, train acc {train_acc:.5f}, '\n",
    "              f'test acc {test_acc:.5f}')"
   ]
  },
  {
   "cell_type": "code",
   "execution_count": 10,
   "metadata": {},
   "outputs": [],
   "source": [
    "shape_aug = tv.transforms.RandomResizedCrop(\n",
    "    (28, 28), scale=(0.1, 1), ratio=(0.5, 2))"
   ]
  },
  {
   "cell_type": "code",
   "execution_count": 11,
   "metadata": {
    "id": "YaEWzquxpRkT"
   },
   "outputs": [],
   "source": [
    "train_augs = tv.transforms.Compose([\n",
    "    tv.transforms.RandomCrop(32, padding=4),\n",
    "    tv.transforms.RandomHorizontalFlip(),\n",
    "    tv.transforms.ToTensor(), shape_aug,\n",
    "    tv.transforms.Normalize((0.4914, 0.4822, 0.4465), (0.2023, 0.1994, 0.2010)),\n",
    "])\n",
    "\n",
    "test_augs = tv.transforms.Compose([\n",
    "    tv.transforms.ToTensor(),\n",
    "    tv.transforms.Normalize((0.4914, 0.4822, 0.4465), (0.2023, 0.1994, 0.2010)),\n",
    "])"
   ]
  },
  {
   "cell_type": "code",
   "execution_count": 12,
   "metadata": {
    "id": "qGpyvAuKpOls"
   },
   "outputs": [],
   "source": [
    "def load_cifar10(is_train, augs, batch_size):\n",
    "    dataset = tv.datasets.CIFAR10(root=\"../data\", train=is_train,\n",
    "                                           transform=augs, download=True)\n",
    "    dataloader = torch.utils.data.DataLoader(dataset, batch_size=batch_size,\n",
    "                    shuffle=is_train, num_workers=4)\n",
    "    return dataloader"
   ]
  },
  {
   "cell_type": "code",
   "execution_count": 13,
   "metadata": {
    "id": "RcP3YUwFVBbn"
   },
   "outputs": [],
   "source": [
    "lr, num_epochs, batch_size = 0.01, 120, 128"
   ]
  },
  {
   "cell_type": "code",
   "execution_count": 14,
   "metadata": {
    "id": "ECkYC1zDVVkL"
   },
   "outputs": [
    {
     "name": "stdout",
     "output_type": "stream",
     "text": [
      "Files already downloaded and verified\n",
      "Files already downloaded and verified\n"
     ]
    }
   ],
   "source": [
    "train_iter = load_cifar10(True, train_augs, batch_size)\n",
    "test_iter = load_cifar10(False, test_augs, batch_size)"
   ]
  },
  {
   "cell_type": "code",
   "execution_count": 15,
   "metadata": {
    "colab": {
     "base_uri": "https://localhost:8080/",
     "height": 297
    },
    "id": "cIhDRX98UxRx",
    "outputId": "eafb8724-4b43-4a5f-99bb-991d8274e469"
   },
   "outputs": [
    {
     "name": "stdout",
     "output_type": "stream",
     "text": [
      "training on cuda\n",
      "------- ------- Epoch1/120 ------- -------\n",
      "loss 1.98563, train acc 0.30596, test acc 0.39630\n",
      "------- ------- Epoch2/120 ------- -------\n",
      "loss 1.63120, train acc 0.40560, test acc 0.51070\n",
      "------- ------- Epoch3/120 ------- -------\n",
      "loss 1.51122, train acc 0.44892, test acc 0.56380\n",
      "------- ------- Epoch4/120 ------- -------\n",
      "loss 1.43481, train acc 0.48324, test acc 0.57330\n",
      "------- ------- Epoch5/120 ------- -------\n",
      "loss 1.36086, train acc 0.51288, test acc 0.61440\n",
      "------- ------- Epoch6/120 ------- -------\n",
      "loss 1.30190, train acc 0.53660, test acc 0.61100\n",
      "------- ------- Epoch7/120 ------- -------\n",
      "loss 1.25569, train acc 0.55236, test acc 0.64450\n",
      "------- ------- Epoch8/120 ------- -------\n",
      "loss 1.20258, train acc 0.57472, test acc 0.67840\n",
      "------- ------- Epoch9/120 ------- -------\n",
      "loss 1.15332, train acc 0.59318, test acc 0.69430\n",
      "------- ------- Epoch10/120 ------- -------\n",
      "loss 1.11609, train acc 0.60504, test acc 0.66750\n",
      "------- ------- Epoch11/120 ------- -------\n",
      "loss 1.07650, train acc 0.62032, test acc 0.73700\n",
      "------- ------- Epoch12/120 ------- -------\n",
      "loss 1.04615, train acc 0.63246, test acc 0.73950\n",
      "------- ------- Epoch13/120 ------- -------\n",
      "loss 1.02314, train acc 0.64024, test acc 0.76120\n",
      "------- ------- Epoch14/120 ------- -------\n",
      "loss 0.99697, train acc 0.65046, test acc 0.75730\n",
      "------- ------- Epoch15/120 ------- -------\n",
      "loss 0.97045, train acc 0.66200, test acc 0.73080\n",
      "------- ------- Epoch16/120 ------- -------\n",
      "loss 0.95505, train acc 0.66686, test acc 0.77630\n",
      "------- ------- Epoch17/120 ------- -------\n",
      "loss 0.93033, train acc 0.67560, test acc 0.79400\n",
      "------- ------- Epoch18/120 ------- -------\n",
      "loss 0.92300, train acc 0.67916, test acc 0.78750\n",
      "------- ------- Epoch19/120 ------- -------\n",
      "loss 0.89419, train acc 0.68684, test acc 0.75910\n",
      "------- ------- Epoch20/120 ------- -------\n",
      "loss 0.88538, train acc 0.69396, test acc 0.79390\n",
      "------- ------- Epoch21/120 ------- -------\n",
      "loss 0.87664, train acc 0.69548, test acc 0.81520\n",
      "------- ------- Epoch22/120 ------- -------\n",
      "loss 0.86550, train acc 0.70028, test acc 0.80520\n",
      "------- ------- Epoch23/120 ------- -------\n",
      "loss 0.84049, train acc 0.70752, test acc 0.80000\n",
      "------- ------- Epoch24/120 ------- -------\n",
      "loss 0.84340, train acc 0.70696, test acc 0.81390\n",
      "------- ------- Epoch25/120 ------- -------\n",
      "loss 0.82333, train acc 0.71398, test acc 0.81030\n",
      "------- ------- Epoch26/120 ------- -------\n",
      "loss 0.81930, train acc 0.71734, test acc 0.82700\n",
      "------- ------- Epoch27/120 ------- -------\n",
      "loss 0.80810, train acc 0.72010, test acc 0.84380\n",
      "------- ------- Epoch28/120 ------- -------\n",
      "loss 0.79726, train acc 0.72402, test acc 0.84310\n",
      "------- ------- Epoch29/120 ------- -------\n",
      "loss 0.79324, train acc 0.72692, test acc 0.84080\n",
      "------- ------- Epoch30/120 ------- -------\n",
      "loss 0.78861, train acc 0.72632, test acc 0.82200\n",
      "------- ------- Epoch31/120 ------- -------\n",
      "loss 0.77578, train acc 0.73138, test acc 0.79000\n",
      "------- ------- Epoch32/120 ------- -------\n",
      "loss 0.76770, train acc 0.73292, test acc 0.83540\n",
      "------- ------- Epoch33/120 ------- -------\n",
      "loss 0.76501, train acc 0.73396, test acc 0.82270\n",
      "------- ------- Epoch34/120 ------- -------\n",
      "loss 0.76250, train acc 0.73550, test acc 0.83710\n",
      "------- ------- Epoch35/120 ------- -------\n",
      "loss 0.74984, train acc 0.74188, test acc 0.83930\n",
      "------- ------- Epoch36/120 ------- -------\n",
      "loss 0.74915, train acc 0.73848, test acc 0.84130\n",
      "------- ------- Epoch37/120 ------- -------\n",
      "loss 0.74101, train acc 0.74216, test acc 0.84580\n",
      "------- ------- Epoch38/120 ------- -------\n",
      "loss 0.73260, train acc 0.74500, test acc 0.84680\n",
      "------- ------- Epoch39/120 ------- -------\n",
      "loss 0.73283, train acc 0.74652, test acc 0.85450\n",
      "------- ------- Epoch40/120 ------- -------\n",
      "loss 0.73157, train acc 0.74662, test acc 0.85150\n",
      "------- ------- Epoch41/120 ------- -------\n",
      "loss 0.72455, train acc 0.74884, test acc 0.86130\n",
      "------- ------- Epoch42/120 ------- -------\n",
      "loss 0.71879, train acc 0.75334, test acc 0.85640\n",
      "------- ------- Epoch43/120 ------- -------\n",
      "loss 0.71723, train acc 0.75014, test acc 0.86020\n",
      "------- ------- Epoch44/120 ------- -------\n",
      "loss 0.70689, train acc 0.75674, test acc 0.85210\n",
      "------- ------- Epoch45/120 ------- -------\n",
      "loss 0.70981, train acc 0.75458, test acc 0.84780\n",
      "------- ------- Epoch46/120 ------- -------\n",
      "loss 0.59791, train acc 0.79536, test acc 0.90120\n",
      "------- ------- Epoch47/120 ------- -------\n",
      "loss 0.55936, train acc 0.80918, test acc 0.90590\n",
      "------- ------- Epoch48/120 ------- -------\n",
      "loss 0.54122, train acc 0.81546, test acc 0.90800\n",
      "------- ------- Epoch49/120 ------- -------\n",
      "loss 0.53174, train acc 0.81854, test acc 0.91140\n",
      "------- ------- Epoch50/120 ------- -------\n",
      "loss 0.52616, train acc 0.81878, test acc 0.90830\n",
      "------- ------- Epoch51/120 ------- -------\n",
      "loss 0.51856, train acc 0.82148, test acc 0.91020\n",
      "------- ------- Epoch52/120 ------- -------\n",
      "loss 0.50751, train acc 0.82568, test acc 0.91100\n",
      "------- ------- Epoch53/120 ------- -------\n",
      "loss 0.51010, train acc 0.82588, test acc 0.90950\n",
      "------- ------- Epoch54/120 ------- -------\n",
      "loss 0.50152, train acc 0.82696, test acc 0.91050\n",
      "------- ------- Epoch55/120 ------- -------\n",
      "loss 0.49883, train acc 0.83054, test acc 0.90980\n",
      "------- ------- Epoch56/120 ------- -------\n",
      "loss 0.49416, train acc 0.83088, test acc 0.91380\n",
      "------- ------- Epoch57/120 ------- -------\n",
      "loss 0.48526, train acc 0.83270, test acc 0.91550\n",
      "------- ------- Epoch58/120 ------- -------\n",
      "loss 0.48613, train acc 0.83226, test acc 0.91300\n",
      "------- ------- Epoch59/120 ------- -------\n",
      "loss 0.48525, train acc 0.83326, test acc 0.91350\n",
      "------- ------- Epoch60/120 ------- -------\n",
      "loss 0.47756, train acc 0.83528, test acc 0.91200\n",
      "------- ------- Epoch61/120 ------- -------\n",
      "loss 0.47237, train acc 0.83652, test acc 0.91260\n",
      "------- ------- Epoch62/120 ------- -------\n",
      "loss 0.47380, train acc 0.83768, test acc 0.91900\n",
      "------- ------- Epoch63/120 ------- -------\n",
      "loss 0.47092, train acc 0.83842, test acc 0.91800\n",
      "------- ------- Epoch64/120 ------- -------\n",
      "loss 0.47041, train acc 0.83862, test acc 0.91660\n",
      "------- ------- Epoch65/120 ------- -------\n",
      "loss 0.46384, train acc 0.83876, test acc 0.91830\n",
      "------- ------- Epoch66/120 ------- -------\n",
      "loss 0.47232, train acc 0.83868, test acc 0.91620\n",
      "------- ------- Epoch67/120 ------- -------\n",
      "loss 0.46038, train acc 0.84066, test acc 0.91720\n",
      "------- ------- Epoch68/120 ------- -------\n",
      "loss 0.46105, train acc 0.84098, test acc 0.91700\n",
      "------- ------- Epoch69/120 ------- -------\n",
      "loss 0.45340, train acc 0.84430, test acc 0.91650\n",
      "------- ------- Epoch70/120 ------- -------\n",
      "loss 0.45239, train acc 0.84370, test acc 0.91810\n",
      "------- ------- Epoch71/120 ------- -------\n",
      "loss 0.44816, train acc 0.84564, test acc 0.91710\n",
      "------- ------- Epoch72/120 ------- -------\n",
      "loss 0.44834, train acc 0.84556, test acc 0.91790\n",
      "------- ------- Epoch73/120 ------- -------\n",
      "loss 0.45647, train acc 0.84298, test acc 0.91450\n",
      "------- ------- Epoch74/120 ------- -------\n",
      "loss 0.44609, train acc 0.84628, test acc 0.92120\n",
      "------- ------- Epoch75/120 ------- -------\n",
      "loss 0.44522, train acc 0.84700, test acc 0.91740\n",
      "------- ------- Epoch76/120 ------- -------\n",
      "loss 0.42774, train acc 0.85418, test acc 0.92340\n",
      "------- ------- Epoch77/120 ------- -------\n",
      "loss 0.42425, train acc 0.85562, test acc 0.92420\n",
      "------- ------- Epoch78/120 ------- -------\n",
      "loss 0.42394, train acc 0.85408, test acc 0.92450\n",
      "------- ------- Epoch79/120 ------- -------\n",
      "loss 0.42041, train acc 0.85560, test acc 0.92380\n",
      "------- ------- Epoch80/120 ------- -------\n",
      "loss 0.41420, train acc 0.85936, test acc 0.92380\n",
      "------- ------- Epoch81/120 ------- -------\n",
      "loss 0.41594, train acc 0.85834, test acc 0.92540\n",
      "------- ------- Epoch82/120 ------- -------\n",
      "loss 0.41371, train acc 0.85848, test acc 0.92460\n",
      "------- ------- Epoch83/120 ------- -------\n",
      "loss 0.40221, train acc 0.86248, test acc 0.92540\n",
      "------- ------- Epoch84/120 ------- -------\n",
      "loss 0.41343, train acc 0.85732, test acc 0.92470\n",
      "------- ------- Epoch85/120 ------- -------\n",
      "loss 0.40801, train acc 0.85946, test acc 0.92340\n",
      "------- ------- Epoch86/120 ------- -------\n",
      "loss 0.40530, train acc 0.86120, test acc 0.92420\n",
      "------- ------- Epoch87/120 ------- -------\n",
      "loss 0.40672, train acc 0.86066, test acc 0.92460\n",
      "------- ------- Epoch88/120 ------- -------\n",
      "loss 0.40849, train acc 0.86094, test acc 0.92590\n",
      "------- ------- Epoch89/120 ------- -------\n",
      "loss 0.40476, train acc 0.86052, test acc 0.92580\n",
      "------- ------- Epoch90/120 ------- -------\n",
      "loss 0.40287, train acc 0.86432, test acc 0.92430\n",
      "------- ------- Epoch91/120 ------- -------\n",
      "loss 0.40797, train acc 0.86002, test acc 0.92570\n",
      "------- ------- Epoch92/120 ------- -------\n",
      "loss 0.40518, train acc 0.86154, test acc 0.92640\n",
      "------- ------- Epoch93/120 ------- -------\n",
      "loss 0.40100, train acc 0.86444, test acc 0.92640\n",
      "------- ------- Epoch94/120 ------- -------\n",
      "loss 0.40374, train acc 0.86116, test acc 0.92460\n",
      "------- ------- Epoch95/120 ------- -------\n",
      "loss 0.40106, train acc 0.86372, test acc 0.92520\n",
      "------- ------- Epoch96/120 ------- -------\n",
      "loss 0.40100, train acc 0.86278, test acc 0.92400\n",
      "------- ------- Epoch97/120 ------- -------\n",
      "loss 0.40113, train acc 0.86332, test acc 0.92540\n",
      "------- ------- Epoch98/120 ------- -------\n",
      "loss 0.40011, train acc 0.86382, test acc 0.92460\n",
      "------- ------- Epoch99/120 ------- -------\n",
      "loss 0.40138, train acc 0.86386, test acc 0.92570\n",
      "------- ------- Epoch100/120 ------- -------\n",
      "loss 0.39959, train acc 0.86412, test acc 0.92570\n",
      "------- ------- Epoch101/120 ------- -------\n",
      "loss 0.40288, train acc 0.86102, test acc 0.92430\n",
      "------- ------- Epoch102/120 ------- -------\n",
      "loss 0.40094, train acc 0.86272, test acc 0.92740\n",
      "------- ------- Epoch103/120 ------- -------\n",
      "loss 0.39985, train acc 0.86334, test acc 0.92560\n",
      "------- ------- Epoch104/120 ------- -------\n",
      "loss 0.39691, train acc 0.86492, test acc 0.92540\n",
      "------- ------- Epoch105/120 ------- -------\n",
      "loss 0.40514, train acc 0.86128, test acc 0.92500\n",
      "------- ------- Epoch106/120 ------- -------\n",
      "loss 0.40210, train acc 0.86302, test acc 0.92610\n",
      "------- ------- Epoch107/120 ------- -------\n",
      "loss 0.39591, train acc 0.86448, test acc 0.92600\n",
      "------- ------- Epoch108/120 ------- -------\n",
      "loss 0.39737, train acc 0.86496, test acc 0.92630\n",
      "------- ------- Epoch109/120 ------- -------\n",
      "loss 0.39850, train acc 0.86400, test acc 0.92670\n",
      "------- ------- Epoch110/120 ------- -------\n",
      "loss 0.39514, train acc 0.86392, test acc 0.92670\n",
      "------- ------- Epoch111/120 ------- -------\n",
      "loss 0.39733, train acc 0.86310, test acc 0.92550\n",
      "------- ------- Epoch112/120 ------- -------\n",
      "loss 0.39662, train acc 0.86458, test acc 0.92590\n",
      "------- ------- Epoch113/120 ------- -------\n",
      "loss 0.39596, train acc 0.86434, test acc 0.92620\n",
      "------- ------- Epoch114/120 ------- -------\n",
      "loss 0.39163, train acc 0.86742, test acc 0.92710\n",
      "------- ------- Epoch115/120 ------- -------\n",
      "loss 0.39425, train acc 0.86588, test acc 0.92630\n",
      "------- ------- Epoch116/120 ------- -------\n",
      "loss 0.39364, train acc 0.86540, test acc 0.92670\n",
      "------- ------- Epoch117/120 ------- -------\n",
      "loss 0.39136, train acc 0.86462, test acc 0.92690\n",
      "------- ------- Epoch118/120 ------- -------\n",
      "loss 0.39635, train acc 0.86530, test acc 0.92730\n",
      "------- ------- Epoch119/120 ------- -------\n",
      "loss 0.39247, train acc 0.86674, test acc 0.92590\n",
      "------- ------- Epoch120/120 ------- -------\n",
      "loss 0.39658, train acc 0.86332, test acc 0.92700\n"
     ]
    }
   ],
   "source": [
    "train_net(net, train_iter, test_iter, num_epochs, lr, device)"
   ]
  }
 ],
 "metadata": {
  "accelerator": "GPU",
  "colab": {
   "collapsed_sections": [],
   "name": "ResNet_18.ipynb",
   "provenance": []
  },
  "gpuClass": "standard",
  "kernelspec": {
   "display_name": "Python 3 (ipykernel)",
   "language": "python",
   "name": "python3"
  },
  "language_info": {
   "codemirror_mode": {
    "name": "ipython",
    "version": 3
   },
   "file_extension": ".py",
   "mimetype": "text/x-python",
   "name": "python",
   "nbconvert_exporter": "python",
   "pygments_lexer": "ipython3",
   "version": "3.9.7"
  }
 },
 "nbformat": 4,
 "nbformat_minor": 4
}
