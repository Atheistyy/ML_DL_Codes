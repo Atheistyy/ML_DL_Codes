{
  "nbformat": 4,
  "nbformat_minor": 0,
  "metadata": {
    "colab": {
      "name": "Spatial Transformer Networks.ipynb",
      "provenance": [],
      "collapsed_sections": []
    },
    "kernelspec": {
      "name": "python3",
      "display_name": "Python 3"
    },
    "language_info": {
      "name": "python"
    },
    "accelerator": "GPU",
    "gpuClass": "standard"
  },
  "cells": [
    {
      "cell_type": "markdown",
      "source": [
        "**# Spatial Transformer Networks Tutorial**\n",
        "\n",
        "**Author**: `Ghassen HAMROUNI <https://github.com/GHamrouni>`"
      ],
      "metadata": {
        "id": "HPLVQUkPkMVp"
      }
    },
    {
      "cell_type": "markdown",
      "source": [
        "\n",
        "* In this tutorial, you will learn how to augment your network using\n",
        "a visual attention mechanism called spatial transformer\n",
        "networks. You can read more about the spatial transformer\n",
        "networks in the `DeepMind paper <https://arxiv.org/abs/1506.02025>`__\n",
        "\n",
        "* Spatial transformer networks are a generalization of differentiable\n",
        "attention to any spatial transformation. Spatial transformer networks\n",
        "(STN for short) allow a neural network to learn how to perform spatial\n",
        "transformations on the input image in order to enhance the geometric\n",
        "invariance of the model.\n",
        "For example, it can crop a region of interest, scale and correct\n",
        "the orientation of an image. It can be a useful mechanism because CNNs\n",
        "are not invariant to rotation and scale and more general affine\n",
        "transformations.\n",
        "\n",
        "* One of the best things about STN is the ability to simply plug it into\n",
        "any existing CNN with very little modification.\n",
        "\n"
      ],
      "metadata": {
        "id": "gHAus7dWjz2o"
      }
    },
    {
      "cell_type": "code",
      "source": [
        "from __future__ import print_function\n",
        "import torch\n",
        "import torch.nn as nn\n",
        "import torch.nn.functional as F\n",
        "import torch.optim as optim\n",
        "import torchvision\n",
        "from torchvision import datasets, transforms\n",
        "import matplotlib.pyplot as plt\n",
        "import numpy as np\n",
        "\n",
        "plt.ion()   # interactive mode"
      ],
      "metadata": {
        "id": "zoBY_1IEjjQe"
      },
      "execution_count": 57,
      "outputs": []
    },
    {
      "cell_type": "markdown",
      "source": [
        "**Loading the data**"
      ],
      "metadata": {
        "id": "sjWrMMj7lXHN"
      }
    },
    {
      "cell_type": "markdown",
      "source": [
        "* In this post we experiment with the classic MNIST dataset. Using a standard convolutional network augmented with a spatial transformer network."
      ],
      "metadata": {
        "id": "X0bkLjvBlgNS"
      }
    },
    {
      "cell_type": "code",
      "source": [
        "device = torch.device(\"cuda\" if torch.cuda.is_available() else \"cpu\")\n",
        "\n",
        "# Training dataset\n",
        "train_loader = torch.utils.data.DataLoader(\n",
        "    datasets.MNIST(root='.', train=True, download=True,\n",
        "                   transform=transforms.Compose([\n",
        "                       transforms.ToTensor(),\n",
        "                       transforms.Normalize((0.1307,), (0.3081,))\n",
        "                   ])), batch_size=64, shuffle=True, num_workers=4)\n",
        "# Test dataset\n",
        "test_loader = torch.utils.data.DataLoader(\n",
        "    datasets.MNIST(root='.', train=False, transform=transforms.Compose([\n",
        "        transforms.ToTensor(),\n",
        "        transforms.Normalize((0.1307,), (0.3081,))\n",
        "    ])), batch_size=64, shuffle=True, num_workers=4)"
      ],
      "metadata": {
        "colab": {
          "base_uri": "https://localhost:8080/"
        },
        "id": "p1x1xqCQkOZn",
        "outputId": "3a444403-68bc-402d-df59-d7ac55c1773b"
      },
      "execution_count": 58,
      "outputs": [
        {
          "output_type": "stream",
          "name": "stderr",
          "text": [
            "/usr/local/lib/python3.7/dist-packages/torch/utils/data/dataloader.py:560: UserWarning: This DataLoader will create 4 worker processes in total. Our suggested max number of worker in current system is 2, which is smaller than what this DataLoader is going to create. Please be aware that excessive worker creation might get DataLoader running slow or even freeze, lower the worker number to avoid potential slowness/freeze if necessary.\n",
            "  cpuset_checked))\n"
          ]
        }
      ]
    },
    {
      "cell_type": "markdown",
      "source": [
        "**Depicting spatial transformer networks**"
      ],
      "metadata": {
        "id": "VWGufQKBlU4B"
      }
    },
    {
      "cell_type": "markdown",
      "source": [
        "* Spatial transformer networks boils down to three main components : \n",
        "    1. The localization network is a regular CNN which regresses the transformation parameters. The transformation is never learned explicitly from this dataset, instead the network learns automatically the spatial transformations that enhances the global accuracy.\n",
        "    2. The grid generator generates a grid of coordinates in the input image corresponding to each pixel from the output image.\n",
        "    3. The sampler uses the parameters of the transformation and applies it to the input image.\n"
      ],
      "metadata": {
        "id": "ZVL-VOHJkwsr"
      }
    },
    {
      "cell_type": "code",
      "source": [
        "class Net(nn.Module):\n",
        "    def __init__(self):\n",
        "        super(Net, self).__init__()\n",
        "        self.conv1 = nn.Conv2d(1, 10, kernel_size=5)\n",
        "        self.conv2 = nn.Conv2d(10, 20, kernel_size=5)\n",
        "        self.conv2_drop = nn.Dropout2d()\n",
        "        self.fc1 = nn.Linear(320, 50)\n",
        "        self.fc2 = nn.Linear(50, 10)\n",
        "\n",
        "        # Spatial transformer localization-network\n",
        "        self.localization = nn.Sequential(\n",
        "            nn.Conv2d(1, 8, kernel_size=7),\n",
        "            nn.MaxPool2d(2, stride=2),\n",
        "            nn.ReLU(True),\n",
        "            nn.Conv2d(8, 10, kernel_size=5),\n",
        "            nn.MaxPool2d(2, stride=2),\n",
        "            nn.ReLU(True)\n",
        "        )\n",
        "\n",
        "        # Regressor for the 3 * 2 affine matrix\n",
        "        self.fc_loc = nn.Sequential(\n",
        "            nn.Linear(10 * 3 * 3, 32),\n",
        "            nn.ReLU(True),\n",
        "            nn.Linear(32, 3 * 2)\n",
        "        )\n",
        "\n",
        "        # Initialize the weights/bias with identity transformation\n",
        "        self.fc_loc[2].weight.data.zero_()\n",
        "        self.fc_loc[2].bias.data.copy_(torch.tensor([1, 0, 0, 0, 1, 0], dtype=torch.float))\n",
        "        # Spatial transformer network forward function\n",
        "    def stn(self, x):\n",
        "        xs = self.localization(x)\n",
        "        xs = xs.view(-1, 10 * 3 * 3)\n",
        "        theta = self.fc_loc(xs)\n",
        "        theta = theta.view(-1, 2, 3)\n",
        "\n",
        "        grid = F.affine_grid(theta, x.size(), align_corners=True)\n",
        "        x = F.grid_sample(x, grid, align_corners=True)\n",
        "\n",
        "        return x\n",
        "\n",
        "    def forward(self, x):\n",
        "        # transform the input\n",
        "        x = self.stn(x)\n",
        "\n",
        "        # Perform the usual forward pass\n",
        "        x = F.relu(F.max_pool2d(self.conv1(x), 2))\n",
        "        x = F.relu(F.max_pool2d(self.conv2_drop(self.conv2(x)), 2))\n",
        "        x = x.view(-1, 320)\n",
        "        x = F.relu(self.fc1(x))\n",
        "        x = F.dropout(x, training=self.training)\n",
        "        x = self.fc2(x)\n",
        "        return F.log_softmax(x, dim=1)\n",
        "\n",
        "\n",
        "model = Net().to(device)"
      ],
      "metadata": {
        "id": "-yspXrAHkYCB"
      },
      "execution_count": 59,
      "outputs": []
    },
    {
      "cell_type": "markdown",
      "source": [
        "**Training the model**\n",
        "  "
      ],
      "metadata": {
        "id": "c8JUeoqNlHyh"
      }
    },
    {
      "cell_type": "markdown",
      "source": [
        "* Now, let's use the SGD algorithm to train the model. The network is learning the classification task in a supervised way. In the same time the model is learning STN automatically in an end-to-end fashion."
      ],
      "metadata": {
        "id": "bedl9WY2lN3U"
      }
    },
    {
      "cell_type": "code",
      "source": [
        "optimizer = optim.SGD(model.parameters(), lr=0.01)\n",
        "\n",
        "def train(epoch):\n",
        "    model.train()\n",
        "    for batch_idx, (data, target) in enumerate(train_loader):\n",
        "        data, target = data.to(device), target.to(device)\n",
        "\n",
        "        optimizer.zero_grad()\n",
        "        output = model(data)\n",
        "        loss = F.nll_loss(output, target)\n",
        "        loss.backward()\n",
        "        optimizer.step()\n",
        "        if batch_idx % 500 == 0:\n",
        "            print('Train Epoch: {} [{}/{} ({:.0f}%)]\\tLoss: {:.6f}'.format(\n",
        "                epoch, batch_idx * len(data), len(train_loader.dataset),\n",
        "                100. * batch_idx / len(train_loader), loss.item()))"
      ],
      "metadata": {
        "id": "slnMvYErkq9g"
      },
      "execution_count": 60,
      "outputs": []
    },
    {
      "cell_type": "markdown",
      "source": [
        "**A simple test procedure to measure STN the performances on MNIST.**"
      ],
      "metadata": {
        "id": "VYoWap1HmVe0"
      }
    },
    {
      "cell_type": "code",
      "source": [
        "def test():\n",
        "    with torch.no_grad():\n",
        "        model.eval()\n",
        "        test_loss = 0\n",
        "        correct = 0\n",
        "        for data, target in test_loader:\n",
        "            data, target = data.to(device), target.to(device)\n",
        "            output = model(data)\n",
        "\n",
        "            # sum up batch loss\n",
        "            test_loss += F.nll_loss(output, target, reduction='sum').item()\n",
        "            # get the index of the max log-probability\n",
        "            pred = output.max(1, keepdim=True)[1]\n",
        "            correct += pred.eq(target.view_as(pred)).sum().item()\n",
        "\n",
        "        test_loss /= len(test_loader.dataset)\n",
        "        print('\\nTest set: Average loss: {:.4f}, Accuracy: {}/{} ({:.0f}%)\\n'\n",
        "              .format(test_loss, correct, len(test_loader.dataset),\n",
        "                      100. * correct / len(test_loader.dataset)))"
      ],
      "metadata": {
        "id": "6LnSqSjJmSQ3"
      },
      "execution_count": 61,
      "outputs": []
    },
    {
      "cell_type": "markdown",
      "source": [
        "**Visualizing the STN results**"
      ],
      "metadata": {
        "id": "MWspgZrXlr1z"
      }
    },
    {
      "cell_type": "markdown",
      "source": [
        "* Now, we will inspect the results of our learned visual attention mechanism.\n",
        "* We define a small helper function in order to visualize the transformations while training."
      ],
      "metadata": {
        "id": "J5asMD5clxGK"
      }
    },
    {
      "cell_type": "code",
      "source": [
        "def convert_image_np(inp):\n",
        "    \"\"\"Convert a Tensor to numpy image.\"\"\"\n",
        "    inp = inp.numpy().transpose((1, 2, 0))\n",
        "    mean = np.array([0.485, 0.456, 0.406])\n",
        "    std = np.array([0.229, 0.224, 0.225])\n",
        "    inp = std * inp + mean\n",
        "    inp = np.clip(inp, 0, 1)\n",
        "    return inp"
      ],
      "metadata": {
        "id": "C-hly7rBlpVX"
      },
      "execution_count": 62,
      "outputs": []
    },
    {
      "cell_type": "markdown",
      "source": [
        "*  We want to visualize the output of the spatial transformers layer after the training, we visualize a batch of input images and the corresponding transformed batch using STN."
      ],
      "metadata": {
        "id": "451Lz2A_l-Mr"
      }
    },
    {
      "cell_type": "code",
      "source": [
        "def visualize_stn():\n",
        "    with torch.no_grad():\n",
        "        # Get a batch of training data\n",
        "        data = next(iter(test_loader))[0].to(device)\n",
        "\n",
        "        input_tensor = data.cpu()\n",
        "        transformed_input_tensor = model.stn(data).cpu()\n",
        "\n",
        "        in_grid = convert_image_np(\n",
        "            torchvision.utils.make_grid(input_tensor))\n",
        "\n",
        "        out_grid = convert_image_np(\n",
        "            torchvision.utils.make_grid(transformed_input_tensor))\n",
        "\n",
        "        # Plot the results side-by-side\n",
        "        f, axarr = plt.subplots(1, 2)\n",
        "        axarr[0].imshow(in_grid)\n",
        "        axarr[0].set_title('Dataset Images')\n",
        "\n",
        "        axarr[1].imshow(out_grid)\n",
        "        axarr[1].set_title('Transformed Images')\n",
        "\n",
        "\n",
        "for epoch in range(1, 20 + 1):\n",
        "    train(epoch)\n",
        "    test()"
      ],
      "metadata": {
        "colab": {
          "base_uri": "https://localhost:8080/"
        },
        "id": "iTKxV3wml9ty",
        "outputId": "286e0a59-a5cc-44a8-c869-d03e2c924646"
      },
      "execution_count": 63,
      "outputs": [
        {
          "output_type": "stream",
          "name": "stderr",
          "text": [
            "/usr/local/lib/python3.7/dist-packages/torch/utils/data/dataloader.py:560: UserWarning: This DataLoader will create 4 worker processes in total. Our suggested max number of worker in current system is 2, which is smaller than what this DataLoader is going to create. Please be aware that excessive worker creation might get DataLoader running slow or even freeze, lower the worker number to avoid potential slowness/freeze if necessary.\n",
            "  cpuset_checked))\n"
          ]
        },
        {
          "output_type": "stream",
          "name": "stdout",
          "text": [
            "Train Epoch: 1 [0/60000 (0%)]\tLoss: 2.304460\n",
            "Train Epoch: 1 [32000/60000 (53%)]\tLoss: 0.956901\n",
            "\n",
            "Test set: Average loss: 0.2417, Accuracy: 9297/10000 (93%)\n",
            "\n",
            "Train Epoch: 2 [0/60000 (0%)]\tLoss: 0.309296\n",
            "Train Epoch: 2 [32000/60000 (53%)]\tLoss: 0.574684\n",
            "\n",
            "Test set: Average loss: 0.1253, Accuracy: 9610/10000 (96%)\n",
            "\n",
            "Train Epoch: 3 [0/60000 (0%)]\tLoss: 0.259062\n",
            "Train Epoch: 3 [32000/60000 (53%)]\tLoss: 0.247377\n",
            "\n",
            "Test set: Average loss: 0.1197, Accuracy: 9658/10000 (97%)\n",
            "\n",
            "Train Epoch: 4 [0/60000 (0%)]\tLoss: 0.240663\n",
            "Train Epoch: 4 [32000/60000 (53%)]\tLoss: 0.318501\n",
            "\n",
            "Test set: Average loss: 0.0815, Accuracy: 9745/10000 (97%)\n",
            "\n",
            "Train Epoch: 5 [0/60000 (0%)]\tLoss: 0.174032\n",
            "Train Epoch: 5 [32000/60000 (53%)]\tLoss: 0.140616\n",
            "\n",
            "Test set: Average loss: 0.0726, Accuracy: 9765/10000 (98%)\n",
            "\n",
            "Train Epoch: 6 [0/60000 (0%)]\tLoss: 0.080077\n",
            "Train Epoch: 6 [32000/60000 (53%)]\tLoss: 0.112837\n",
            "\n",
            "Test set: Average loss: 0.0573, Accuracy: 9809/10000 (98%)\n",
            "\n",
            "Train Epoch: 7 [0/60000 (0%)]\tLoss: 0.199446\n",
            "Train Epoch: 7 [32000/60000 (53%)]\tLoss: 0.247002\n",
            "\n",
            "Test set: Average loss: 0.0690, Accuracy: 9786/10000 (98%)\n",
            "\n",
            "Train Epoch: 8 [0/60000 (0%)]\tLoss: 0.152628\n",
            "Train Epoch: 8 [32000/60000 (53%)]\tLoss: 0.406518\n",
            "\n",
            "Test set: Average loss: 0.0622, Accuracy: 9812/10000 (98%)\n",
            "\n",
            "Train Epoch: 9 [0/60000 (0%)]\tLoss: 0.096718\n",
            "Train Epoch: 9 [32000/60000 (53%)]\tLoss: 0.100764\n",
            "\n",
            "Test set: Average loss: 0.0841, Accuracy: 9744/10000 (97%)\n",
            "\n",
            "Train Epoch: 10 [0/60000 (0%)]\tLoss: 0.125547\n",
            "Train Epoch: 10 [32000/60000 (53%)]\tLoss: 0.095742\n",
            "\n",
            "Test set: Average loss: 0.0911, Accuracy: 9742/10000 (97%)\n",
            "\n",
            "Train Epoch: 11 [0/60000 (0%)]\tLoss: 0.129447\n",
            "Train Epoch: 11 [32000/60000 (53%)]\tLoss: 0.181860\n",
            "\n",
            "Test set: Average loss: 0.0600, Accuracy: 9811/10000 (98%)\n",
            "\n",
            "Train Epoch: 12 [0/60000 (0%)]\tLoss: 0.099093\n",
            "Train Epoch: 12 [32000/60000 (53%)]\tLoss: 0.103019\n",
            "\n",
            "Test set: Average loss: 0.0475, Accuracy: 9863/10000 (99%)\n",
            "\n",
            "Train Epoch: 13 [0/60000 (0%)]\tLoss: 0.079739\n",
            "Train Epoch: 13 [32000/60000 (53%)]\tLoss: 0.078290\n",
            "\n",
            "Test set: Average loss: 0.0535, Accuracy: 9832/10000 (98%)\n",
            "\n",
            "Train Epoch: 14 [0/60000 (0%)]\tLoss: 0.043285\n",
            "Train Epoch: 14 [32000/60000 (53%)]\tLoss: 0.024639\n",
            "\n",
            "Test set: Average loss: 0.0519, Accuracy: 9844/10000 (98%)\n",
            "\n",
            "Train Epoch: 15 [0/60000 (0%)]\tLoss: 0.096035\n",
            "Train Epoch: 15 [32000/60000 (53%)]\tLoss: 0.049358\n",
            "\n",
            "Test set: Average loss: 0.0385, Accuracy: 9868/10000 (99%)\n",
            "\n",
            "Train Epoch: 16 [0/60000 (0%)]\tLoss: 0.058872\n",
            "Train Epoch: 16 [32000/60000 (53%)]\tLoss: 0.075750\n",
            "\n",
            "Test set: Average loss: 0.0449, Accuracy: 9864/10000 (99%)\n",
            "\n",
            "Train Epoch: 17 [0/60000 (0%)]\tLoss: 0.092888\n",
            "Train Epoch: 17 [32000/60000 (53%)]\tLoss: 0.124397\n",
            "\n",
            "Test set: Average loss: 0.0532, Accuracy: 9858/10000 (99%)\n",
            "\n",
            "Train Epoch: 18 [0/60000 (0%)]\tLoss: 0.052134\n",
            "Train Epoch: 18 [32000/60000 (53%)]\tLoss: 0.033138\n",
            "\n",
            "Test set: Average loss: 0.0418, Accuracy: 9873/10000 (99%)\n",
            "\n",
            "Train Epoch: 19 [0/60000 (0%)]\tLoss: 0.087572\n",
            "Train Epoch: 19 [32000/60000 (53%)]\tLoss: 0.124643\n",
            "\n",
            "Test set: Average loss: 0.0386, Accuracy: 9892/10000 (99%)\n",
            "\n",
            "Train Epoch: 20 [0/60000 (0%)]\tLoss: 0.190997\n",
            "Train Epoch: 20 [32000/60000 (53%)]\tLoss: 0.255916\n",
            "\n",
            "Test set: Average loss: 0.0438, Accuracy: 9875/10000 (99%)\n",
            "\n"
          ]
        }
      ]
    },
    {
      "cell_type": "markdown",
      "source": [
        "**Visualize the STN transformation on some input batch**"
      ],
      "metadata": {
        "id": "mUKqXxfoptjM"
      }
    },
    {
      "cell_type": "code",
      "source": [
        "visualize_stn()\n",
        "\n",
        "plt.ioff()\n",
        "plt.show()"
      ],
      "metadata": {
        "colab": {
          "base_uri": "https://localhost:8080/",
          "height": 272
        },
        "id": "jV2nBhQumHiT",
        "outputId": "e4df321f-0e40-4f3c-c62e-fa0584cc1e72"
      },
      "execution_count": 64,
      "outputs": [
        {
          "output_type": "stream",
          "name": "stderr",
          "text": [
            "/usr/local/lib/python3.7/dist-packages/torch/utils/data/dataloader.py:560: UserWarning: This DataLoader will create 4 worker processes in total. Our suggested max number of worker in current system is 2, which is smaller than what this DataLoader is going to create. Please be aware that excessive worker creation might get DataLoader running slow or even freeze, lower the worker number to avoid potential slowness/freeze if necessary.\n",
            "  cpuset_checked))\n"
          ]
        },
        {
          "output_type": "display_data",
          "data": {
            "text/plain": [
              "<Figure size 432x288 with 2 Axes>"
            ],
            "image/png": "[encoded data removed]"
          },
          "metadata": {
            "needs_background": "light"
          }
        }
      ]
    }
  ]
}