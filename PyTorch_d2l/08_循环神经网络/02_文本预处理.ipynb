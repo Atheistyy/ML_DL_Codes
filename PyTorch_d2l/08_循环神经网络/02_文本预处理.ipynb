{
  "nbformat": 4,
  "nbformat_minor": 0,
  "metadata": {
    "colab": {
      "name": "02_文本预处理.ipynb",
      "provenance": [],
      "collapsed_sections": []
    },
    "kernelspec": {
      "name": "python3",
      "display_name": "Python 3"
    },
    "language_info": {
      "name": "python"
    },
    "accelerator": "GPU",
    "gpuClass": "standard"
  },
  "cells": [
    {
      "cell_type": "markdown",
      "source": [
        "**# 文本预处理**"
      ],
      "metadata": {
        "id": "RKLzIqVEdn4L"
      }
    },
    {
      "cell_type": "markdown",
      "source": [
        "* 文本的常见预处理步骤。这些步骤通常包括：\n",
        "\n",
        " 1. 将文本作为字符串加载到内存中。\n",
        " 2. 将字符串拆分为词元（如单词和字符）。\n",
        " 3. 建立一个词表，将拆分的词元映射到数字索引。\n",
        " 4. 将文本转换为数字索引序列，方便模型操作。\n"
      ],
      "metadata": {
        "id": "b5EUCC-nfPTp"
      }
    },
    {
      "cell_type": "code",
      "source": [
        "!pip install d2l\n",
        "!pip install matplotlib==3.0"
      ],
      "metadata": {
        "id": "DMO9zC-4fWzV"
      },
      "execution_count": null,
      "outputs": []
    },
    {
      "cell_type": "code",
      "source": [
        "import collections\n",
        "import re\n",
        "from d2l import torch as d2l"
      ],
      "metadata": {
        "id": "jsvLGHDMdl4i"
      },
      "execution_count": 2,
      "outputs": []
    },
    {
      "cell_type": "markdown",
      "source": [
        "**读取数据集**"
      ],
      "metadata": {
        "id": "t2BNXjLmfXhL"
      }
    },
    {
      "cell_type": "markdown",
      "source": [
        "* 从H.G.Well的[时光机器](https://www.gutenberg.org/ebooks/35)中加载文本。\n",
        "这是一个相当小的语料库，只有30000多个单词。\n",
        "* **将数据集读取到由多条文本行组成的列表中**"
      ],
      "metadata": {
        "id": "sA-FRiXqfaHo"
      }
    },
    {
      "cell_type": "code",
      "source": [
        "d2l.DATA_HUB['time_machine'] = (d2l.DATA_URL + 'timemachine.txt',\n",
        "                                '090b5e7e70c295757f55df93cb0a180b9691891a')\n",
        "\n",
        "def read_time_machine():\n",
        "    \"\"\"将时间机器数据集加载到文本行的列表中\"\"\"\n",
        "    with open(d2l.download('time_machine'), 'r') as f:\n",
        "        lines = f.readlines()\n",
        "    # 将除去字母以外的字符变成空格\n",
        "    return [re.sub('[^A-Za-z]+', ' ', line).strip().lower() for line in lines]  \n",
        "\n",
        "lines = read_time_machine()\n",
        "print(f'# 文本总行数: {len(lines)}')\n",
        "print(lines[0])\n",
        "print(lines[10])"
      ],
      "metadata": {
        "colab": {
          "base_uri": "https://localhost:8080/"
        },
        "id": "nr0IU6hXe2VP",
        "outputId": "84a779ed-2634-4c94-9b7e-662256a598d7"
      },
      "execution_count": 3,
      "outputs": [
        {
          "output_type": "stream",
          "name": "stdout",
          "text": [
            "Downloading ../data/timemachine.txt from http://d2l-data.s3-accelerate.amazonaws.com/timemachine.txt...\n",
            "# 文本总行数: 3221\n",
            "the time machine by h g wells\n",
            "twinkled and his usually pale face was flushed and animated the\n"
          ]
        }
      ]
    },
    {
      "cell_type": "markdown",
      "source": [
        "**词元化**"
      ],
      "metadata": {
        "id": "L-seUaBggQU6"
      }
    },
    {
      "cell_type": "markdown",
      "source": [
        "* 下面的`tokenize`函数将文本行列表（`lines`）作为输入，\n",
        "列表中的每个元素是一个文本序列（如一条文本行）。\n",
        "* **每个文本序列又被拆分成一个词元列表**，**词元**（token）是文本的基本单位。\n",
        "最后，返回一个由词元列表组成的列表，其中的每个词元都是一个字符串（string）。"
      ],
      "metadata": {
        "id": "gOzofmaDgBXm"
      }
    },
    {
      "cell_type": "code",
      "source": [
        "def tokenize(lines, token='word'):\n",
        "    \"\"\"将文本行拆分为单词或字符词元\"\"\"\n",
        "    if token == 'word':\n",
        "        return [line.split() for line in lines]\n",
        "    elif token == 'char':\n",
        "        return [list(line) for line in lines]\n",
        "    else:\n",
        "        print('错误：未知词元类型：' + token)\n",
        "\n",
        "tokens = tokenize(lines)\n",
        "for i in range(11):\n",
        "    print(tokens[i])"
      ],
      "metadata": {
        "colab": {
          "base_uri": "https://localhost:8080/"
        },
        "id": "QLtmHwp4e6zq",
        "outputId": "edb2d62b-8354-4659-8c3b-70a415813bad"
      },
      "execution_count": 4,
      "outputs": [
        {
          "output_type": "stream",
          "name": "stdout",
          "text": [
            "['the', 'time', 'machine', 'by', 'h', 'g', 'wells']\n",
            "[]\n",
            "[]\n",
            "[]\n",
            "[]\n",
            "['i']\n",
            "[]\n",
            "[]\n",
            "['the', 'time', 'traveller', 'for', 'so', 'it', 'will', 'be', 'convenient', 'to', 'speak', 'of', 'him']\n",
            "['was', 'expounding', 'a', 'recondite', 'matter', 'to', 'us', 'his', 'grey', 'eyes', 'shone', 'and']\n",
            "['twinkled', 'and', 'his', 'usually', 'pale', 'face', 'was', 'flushed', 'and', 'animated', 'the']\n"
          ]
        }
      ]
    },
    {
      "cell_type": "markdown",
      "source": [
        "**词表**"
      ],
      "metadata": {
        "id": "ynfuM2VDhHlt"
      }
    },
    {
      "cell_type": "markdown",
      "source": [
        "* 词元的类型是字符串，而模型需要的输入是数字，因此这种类型不方便模型使用。\n",
        "* 构建一个字典，通常也叫做**词表**（vocabulary），用来将字符串类型的词元映射到从$0$开始的数字索引中。\n",
        "* 先将训练集中的所有文档合并在一起，对它们的唯一词元进行统计，得到的统计结果称之为**语料**（corpus）。然后根据每个唯一词元的出现频率，为其分配一个数字索引。很少出现的词元通常被移除，这可以降低复杂性。另外，语料库中不存在或已删除的任何词元都将映射到一个特定的未知词元“&lt;unk&gt;”。可以选择增加一个列表，用于保存那些被保留的词元，例如：填充词元（“&lt;pad&gt;”）；序列开始词元（“&lt;bos&gt;”）；序列结束词元（“&lt;eos&gt;”）。\n"
      ],
      "metadata": {
        "id": "Lal1RizVhKDJ"
      }
    },
    {
      "cell_type": "code",
      "source": [
        "class Vocab: \n",
        "    \"\"\"文本词表\"\"\"\n",
        "    def __init__(self, tokens=None, min_freq=0, reserved_tokens=None): \n",
        "        if tokens is None:\n",
        "            tokens = []\n",
        "        if reserved_tokens is None:\n",
        "            reserved_tokens = []\n",
        "        # 按出现频率排序\n",
        "        counter = count_corpus(tokens)\n",
        "        self._token_freqs = sorted(counter.items(), key=lambda x: x[1],\n",
        "                                   reverse=True)\n",
        "        # 未知词元的索引为0\n",
        "        self.idx_to_token = ['<unk>'] + reserved_tokens\n",
        "        self.token_to_idx = {token: idx\n",
        "                             for idx, token in enumerate(self.idx_to_token)}\n",
        "        for token, freq in self._token_freqs:\n",
        "            if freq < min_freq:\n",
        "                break\n",
        "            if token not in self.token_to_idx:\n",
        "                self.idx_to_token.append(token)\n",
        "                self.token_to_idx[token] = len(self.idx_to_token) - 1\n",
        "\n",
        "    def __len__(self):\n",
        "        return len(self.idx_to_token)\n",
        "\n",
        "    def __getitem__(self, tokens):\n",
        "        if not isinstance(tokens, (list, tuple)):\n",
        "            return self.token_to_idx.get(tokens, self.unk)\n",
        "        return [self.__getitem__(token) for token in tokens]\n",
        "\n",
        "    def to_tokens(self, indices):\n",
        "        if not isinstance(indices, (list, tuple)):\n",
        "            return self.idx_to_token[indices]\n",
        "        return [self.idx_to_token[index] for index in indices]\n",
        "\n",
        "    @property\n",
        "    def unk(self):  # 未知词元的索引为0\n",
        "        return 0\n",
        "\n",
        "    @property\n",
        "    def token_freqs(self):\n",
        "        return self._token_freqs\n",
        "\n",
        "def count_corpus(tokens): \n",
        "    \"\"\"统计词元的频率\"\"\"\n",
        "    # 这里的tokens是1D列表或2D列表\n",
        "    if len(tokens) == 0 or isinstance(tokens[0], list):\n",
        "        # 将词元列表展平成一个列表\n",
        "        tokens = [token for line in tokens for token in line]\n",
        "    return collections.Counter(tokens)"
      ],
      "metadata": {
        "id": "jPhnmt0ve73a"
      },
      "execution_count": 5,
      "outputs": []
    },
    {
      "cell_type": "markdown",
      "source": [
        "* **构建词表**"
      ],
      "metadata": {
        "id": "I551v2lyjoqT"
      }
    },
    {
      "cell_type": "code",
      "source": [
        "vocab = Vocab(tokens)\n",
        "print(list(vocab.token_to_idx.items())[:10])"
      ],
      "metadata": {
        "colab": {
          "base_uri": "https://localhost:8080/"
        },
        "id": "95E6jnSUfE_x",
        "outputId": "758b2433-66cd-4962-bba3-5cf57f3872a6"
      },
      "execution_count": 11,
      "outputs": [
        {
          "output_type": "stream",
          "name": "stdout",
          "text": [
            "[('<unk>', 0), ('the', 1), ('i', 2), ('and', 3), ('of', 4), ('a', 5), ('to', 6), ('was', 7), ('in', 8), ('that', 9)]\n"
          ]
        }
      ]
    },
    {
      "cell_type": "markdown",
      "source": [
        "* **将每一条文本行转换成一个数字索引列表**"
      ],
      "metadata": {
        "id": "zX8WQBHvjtLm"
      }
    },
    {
      "cell_type": "code",
      "source": [
        "for i in [0, 10]:\n",
        "    print('文本:', tokens[i])\n",
        "    print('索引:', vocab[tokens[i]])"
      ],
      "metadata": {
        "colab": {
          "base_uri": "https://localhost:8080/"
        },
        "id": "mgMtMphWfGEQ",
        "outputId": "5cd10f25-4481-4222-eed3-74fd2e78772c"
      },
      "execution_count": 14,
      "outputs": [
        {
          "output_type": "stream",
          "name": "stdout",
          "text": [
            "文本: ['the', 'time', 'machine', 'by', 'h', 'g', 'wells']\n",
            "索引: [1, 19, 50, 40, 2183, 2184, 400]\n",
            "文本: ['twinkled', 'and', 'his', 'usually', 'pale', 'face', 'was', 'flushed', 'and', 'animated', 'the']\n",
            "索引: [2186, 3, 25, 1044, 362, 113, 7, 1421, 3, 1045, 1]\n"
          ]
        }
      ]
    },
    {
      "cell_type": "markdown",
      "source": [
        "**整合所有功能**"
      ],
      "metadata": {
        "id": "Md4ZYflHnq43"
      }
    },
    {
      "cell_type": "markdown",
      "source": [
        "* **将所有功能打包到`load_corpus_time_machine`函数中**"
      ],
      "metadata": {
        "id": "iI54EoG5nuSj"
      }
    },
    {
      "cell_type": "code",
      "source": [
        "def load_corpus_time_machine(max_tokens=-1):\n",
        "    \"\"\"返回时光机器数据集的词元索引列表和词表\"\"\"\n",
        "    lines = read_time_machine()\n",
        "    tokens = tokenize(lines, 'char') # 按字符串划分\n",
        "    vocab = Vocab(tokens)\n",
        "    # 因为时光机器数据集中的每个文本行不一定是一个句子或一个段落，\n",
        "    # 所以将所有文本行展平到一个列表中\n",
        "    corpus = [vocab[token] for line in tokens for token in line]\n",
        "    if max_tokens > 0:\n",
        "        corpus = corpus[:max_tokens]\n",
        "    return corpus, vocab\n",
        "\n",
        "corpus, vocab = load_corpus_time_machine()\n",
        "len(corpus), len(vocab)\n",
        "# 表示的是(char的个数， char的类数(即26个字母+<ukn>+空格))"
      ],
      "metadata": {
        "colab": {
          "base_uri": "https://localhost:8080/"
        },
        "id": "MxBt97PlfHy7",
        "outputId": "68e0f731-ef31-47db-d90b-ab3a047ba8f0"
      },
      "execution_count": 8,
      "outputs": [
        {
          "output_type": "execute_result",
          "data": {
            "text/plain": [
              "(170580, 28)"
            ]
          },
          "metadata": {},
          "execution_count": 8
        }
      ]
    }
  ]
}