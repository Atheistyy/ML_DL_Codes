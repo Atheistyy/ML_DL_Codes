{
  "nbformat": 4,
  "nbformat_minor": 0,
  "metadata": {
    "colab": {
      "name": "02_线性代数.ipynb",
      "provenance": [],
      "collapsed_sections": []
    },
    "kernelspec": {
      "name": "python3",
      "display_name": "Python 3"
    },
    "language_info": {
      "name": "python"
    }
  },
  "cells": [
    {
      "cell_type": "markdown",
      "source": [
        "**# 线性代数实现**"
      ],
      "metadata": {
        "id": "hMI7G_bIrW4z"
      }
    },
    {
      "cell_type": "markdown",
      "source": [
        "*  **torch中一维张量的表示，是行向量的形式，但是，是按照列向量参与计算的**"
      ],
      "metadata": {
        "id": "N079jsXo2RIm"
      }
    },
    {
      "cell_type": "markdown",
      "source": [
        "* 标量由只有一个元素的张量表示"
      ],
      "metadata": {
        "id": "AcMY3rjsrcM5"
      }
    },
    {
      "cell_type": "code",
      "execution_count": 3,
      "metadata": {
        "colab": {
          "base_uri": "https://localhost:8080/"
        },
        "id": "g-rS11VwrFUo",
        "outputId": "2f39980a-424e-498e-cbb5-bc36e846ce43"
      },
      "outputs": [
        {
          "output_type": "execute_result",
          "data": {
            "text/plain": [
              "(tensor([5.]), tensor([6.]), tensor([1.5000]), tensor([9.]))"
            ]
          },
          "metadata": {},
          "execution_count": 3
        }
      ],
      "source": [
        "import torch\n",
        "\n",
        "x = torch.tensor([3.0]) \n",
        "y = torch.tensor([2.0])\n",
        "\n",
        "x + y, x * y, x /y , x**y"
      ]
    },
    {
      "cell_type": "markdown",
      "source": [
        "* 可以将向量视为标量组成的列表"
      ],
      "metadata": {
        "id": "jk3VOjMkrtoZ"
      }
    },
    {
      "cell_type": "code",
      "source": [
        "x = torch.arange(4)\n",
        "x"
      ],
      "metadata": {
        "colab": {
          "base_uri": "https://localhost:8080/"
        },
        "id": "KDnE6VXtr3Qx",
        "outputId": "21ae7286-0a19-4dcf-e5d6-ce87fd9715a2"
      },
      "execution_count": 4,
      "outputs": [
        {
          "output_type": "execute_result",
          "data": {
            "text/plain": [
              "tensor([0, 1, 2, 3])"
            ]
          },
          "metadata": {},
          "execution_count": 4
        }
      ]
    },
    {
      "cell_type": "markdown",
      "source": [
        "* 通过张量的索引来访问任一元素"
      ],
      "metadata": {
        "id": "6X7FvHsGr7Xb"
      }
    },
    {
      "cell_type": "code",
      "source": [
        "x[3]"
      ],
      "metadata": {
        "colab": {
          "base_uri": "https://localhost:8080/"
        },
        "id": "5CMXA18BsAWC",
        "outputId": "31b5e55f-caf2-414d-c15a-fc98da50f21c"
      },
      "execution_count": 5,
      "outputs": [
        {
          "output_type": "execute_result",
          "data": {
            "text/plain": [
              "tensor(3)"
            ]
          },
          "metadata": {},
          "execution_count": 5
        }
      ]
    },
    {
      "cell_type": "markdown",
      "source": [
        "* 访问张量的长度"
      ],
      "metadata": {
        "id": "DDSs39slsDM3"
      }
    },
    {
      "cell_type": "code",
      "source": [
        "len(x)"
      ],
      "metadata": {
        "colab": {
          "base_uri": "https://localhost:8080/"
        },
        "id": "8sqntIhUsGyz",
        "outputId": "cce60e78-45c0-46f1-90c5-d865575a7eb3"
      },
      "execution_count": 6,
      "outputs": [
        {
          "output_type": "execute_result",
          "data": {
            "text/plain": [
              "4"
            ]
          },
          "metadata": {},
          "execution_count": 6
        }
      ]
    },
    {
      "cell_type": "markdown",
      "source": [
        "*  只有一个轴的张量，形状只有一个元素"
      ],
      "metadata": {
        "id": "5KvJS0yFsKRn"
      }
    },
    {
      "cell_type": "code",
      "source": [
        "x.shape"
      ],
      "metadata": {
        "colab": {
          "base_uri": "https://localhost:8080/"
        },
        "id": "82o3NvVfsRSg",
        "outputId": "abe6b182-539a-45de-a2e0-ea9fe0a1b361"
      },
      "execution_count": 7,
      "outputs": [
        {
          "output_type": "execute_result",
          "data": {
            "text/plain": [
              "torch.Size([4])"
            ]
          },
          "metadata": {},
          "execution_count": 7
        }
      ]
    },
    {
      "cell_type": "markdown",
      "source": [
        "* 通过指定两个分量m和n来创建一个形状为m x n的矩阵"
      ],
      "metadata": {
        "id": "Pm6dAKHwsTeS"
      }
    },
    {
      "cell_type": "code",
      "source": [
        "A = torch.arange(20).reshape(4,5) \n",
        "A"
      ],
      "metadata": {
        "colab": {
          "base_uri": "https://localhost:8080/"
        },
        "id": "UrJDDsepsf__",
        "outputId": "48bd8925-47ea-40dc-f9a8-a95abd3e68d7"
      },
      "execution_count": 8,
      "outputs": [
        {
          "output_type": "execute_result",
          "data": {
            "text/plain": [
              "tensor([[ 0,  1,  2,  3,  4],\n",
              "        [ 5,  6,  7,  8,  9],\n",
              "        [10, 11, 12, 13, 14],\n",
              "        [15, 16, 17, 18, 19]])"
            ]
          },
          "metadata": {},
          "execution_count": 8
        }
      ]
    },
    {
      "cell_type": "markdown",
      "source": [
        "* 矩阵的转置"
      ],
      "metadata": {
        "id": "eIG1MWJ-smez"
      }
    },
    {
      "cell_type": "code",
      "source": [
        "A.T"
      ],
      "metadata": {
        "colab": {
          "base_uri": "https://localhost:8080/"
        },
        "id": "FYn4pn6SslhI",
        "outputId": "e4b0d355-40e4-475e-fd15-986f211dbc0e"
      },
      "execution_count": 9,
      "outputs": [
        {
          "output_type": "execute_result",
          "data": {
            "text/plain": [
              "tensor([[ 0,  5, 10, 15],\n",
              "        [ 1,  6, 11, 16],\n",
              "        [ 2,  7, 12, 17],\n",
              "        [ 3,  8, 13, 18],\n",
              "        [ 4,  9, 14, 19]])"
            ]
          },
          "metadata": {},
          "execution_count": 9
        }
      ]
    },
    {
      "cell_type": "markdown",
      "source": [
        "* 对称矩阵 A 等于其转置"
      ],
      "metadata": {
        "id": "AM9MWfE_suVs"
      }
    },
    {
      "cell_type": "code",
      "source": [
        "B = torch.tensor([[1,2,3],[2,0,4],[3,4,5]])\n",
        "B"
      ],
      "metadata": {
        "colab": {
          "base_uri": "https://localhost:8080/"
        },
        "id": "7KH6ET2sst05",
        "outputId": "aef6ca60-b0e1-4d17-fa61-b4aaaf52ba2e"
      },
      "execution_count": 10,
      "outputs": [
        {
          "output_type": "execute_result",
          "data": {
            "text/plain": [
              "tensor([[1, 2, 3],\n",
              "        [2, 0, 4],\n",
              "        [3, 4, 5]])"
            ]
          },
          "metadata": {},
          "execution_count": 10
        }
      ]
    },
    {
      "cell_type": "code",
      "source": [
        "B == B.T"
      ],
      "metadata": {
        "colab": {
          "base_uri": "https://localhost:8080/"
        },
        "id": "F9lcblOFtDdC",
        "outputId": "f18d141e-5bde-407c-dd2a-d22ebfbe4f9d"
      },
      "execution_count": 11,
      "outputs": [
        {
          "output_type": "execute_result",
          "data": {
            "text/plain": [
              "tensor([[True, True, True],\n",
              "        [True, True, True],\n",
              "        [True, True, True]])"
            ]
          },
          "metadata": {},
          "execution_count": 11
        }
      ]
    },
    {
      "cell_type": "markdown",
      "source": [
        "* 就像向量是标量的推广，矩阵是向量的推广一样，可以构建具有更多轴的数据结构"
      ],
      "metadata": {
        "id": "D8I5AZzYsu4E"
      }
    },
    {
      "cell_type": "code",
      "source": [
        "X = torch.arange(24).reshape(2,3,4)  \n",
        "# 表示2个 3x4 的矩阵， 越往后维度越低\n",
        "# 例如（2，3，4，5） 表示2个三维张量， 每个三维张量具有3个 4x5 矩阵\n",
        "X"
      ],
      "metadata": {
        "colab": {
          "base_uri": "https://localhost:8080/"
        },
        "id": "h3xSOqposvEj",
        "outputId": "1fc773ab-000d-4a56-ed96-1b06d5d23506"
      },
      "execution_count": 12,
      "outputs": [
        {
          "output_type": "execute_result",
          "data": {
            "text/plain": [
              "tensor([[[ 0,  1,  2,  3],\n",
              "         [ 4,  5,  6,  7],\n",
              "         [ 8,  9, 10, 11]],\n",
              "\n",
              "        [[12, 13, 14, 15],\n",
              "         [16, 17, 18, 19],\n",
              "         [20, 21, 22, 23]]])"
            ]
          },
          "metadata": {},
          "execution_count": 12
        }
      ]
    },
    {
      "cell_type": "markdown",
      "source": [
        "* 给定具有相同形状的任何两个张量，任何按元素二元运算的结果都将是相同形状的张量"
      ],
      "metadata": {
        "id": "X6hPLWfysvLD"
      }
    },
    {
      "cell_type": "code",
      "source": [
        "A = torch.arange(20, dtype=torch.float32).reshape(4,5)\n",
        "B = A.clone() # 通过分配新内存，将A的一个副本分配给B，即修改B的值不会影响A的值\n",
        "print(A) \n",
        "print(A + B)"
      ],
      "metadata": {
        "colab": {
          "base_uri": "https://localhost:8080/"
        },
        "id": "JyQJLhQhsvSo",
        "outputId": "e1d9e52b-ab2f-4d95-d560-b252454b89f9"
      },
      "execution_count": 13,
      "outputs": [
        {
          "output_type": "stream",
          "name": "stdout",
          "text": [
            "tensor([[ 0.,  1.,  2.,  3.,  4.],\n",
            "        [ 5.,  6.,  7.,  8.,  9.],\n",
            "        [10., 11., 12., 13., 14.],\n",
            "        [15., 16., 17., 18., 19.]])\n",
            "tensor([[ 0.,  2.,  4.,  6.,  8.],\n",
            "        [10., 12., 14., 16., 18.],\n",
            "        [20., 22., 24., 26., 28.],\n",
            "        [30., 32., 34., 36., 38.]])\n"
          ]
        }
      ]
    },
    {
      "cell_type": "markdown",
      "source": [
        "* 两个矩阵按元素乘法称为 哈达玛积"
      ],
      "metadata": {
        "id": "DT0wtlsotG7_"
      }
    },
    {
      "cell_type": "code",
      "source": [
        "A * B # 两个矩阵对应位置元素作运算"
      ],
      "metadata": {
        "colab": {
          "base_uri": "https://localhost:8080/"
        },
        "id": "E_8gu91ttHGr",
        "outputId": "0aa479c9-1bb5-4809-c5cb-43318a12a18e"
      },
      "execution_count": 14,
      "outputs": [
        {
          "output_type": "execute_result",
          "data": {
            "text/plain": [
              "tensor([[  0.,   1.,   4.,   9.,  16.],\n",
              "        [ 25.,  36.,  49.,  64.,  81.],\n",
              "        [100., 121., 144., 169., 196.],\n",
              "        [225., 256., 289., 324., 361.]])"
            ]
          },
          "metadata": {},
          "execution_count": 14
        }
      ]
    },
    {
      "cell_type": "code",
      "source": [
        "a = 2  # 标量和每一个元素作运算\n",
        "print(a + A)\n",
        "print(a * A)"
      ],
      "metadata": {
        "colab": {
          "base_uri": "https://localhost:8080/"
        },
        "id": "5ir8ZXELvjyp",
        "outputId": "3d7111b6-634b-4103-9c94-50ccb1c79e4e"
      },
      "execution_count": 15,
      "outputs": [
        {
          "output_type": "stream",
          "name": "stdout",
          "text": [
            "tensor([[ 2.,  3.,  4.,  5.,  6.],\n",
            "        [ 7.,  8.,  9., 10., 11.],\n",
            "        [12., 13., 14., 15., 16.],\n",
            "        [17., 18., 19., 20., 21.]])\n",
            "tensor([[ 0.,  2.,  4.,  6.,  8.],\n",
            "        [10., 12., 14., 16., 18.],\n",
            "        [20., 22., 24., 26., 28.],\n",
            "        [30., 32., 34., 36., 38.]])\n"
          ]
        }
      ]
    },
    {
      "cell_type": "markdown",
      "source": [
        "* 计算其元素的和"
      ],
      "metadata": {
        "id": "bJIbMie5vjWW"
      }
    },
    {
      "cell_type": "code",
      "source": [
        "A = torch.arange(40, dtype=torch.float32).reshape(2,5,4)\n",
        "print(A)\n",
        "print(A.sum())"
      ],
      "metadata": {
        "colab": {
          "base_uri": "https://localhost:8080/"
        },
        "id": "iahZmzcavkuC",
        "outputId": "fe2c8ac4-8e31-4393-95c4-e1acce8f36cf"
      },
      "execution_count": 16,
      "outputs": [
        {
          "output_type": "stream",
          "name": "stdout",
          "text": [
            "tensor([[[ 0.,  1.,  2.,  3.],\n",
            "         [ 4.,  5.,  6.,  7.],\n",
            "         [ 8.,  9., 10., 11.],\n",
            "         [12., 13., 14., 15.],\n",
            "         [16., 17., 18., 19.]],\n",
            "\n",
            "        [[20., 21., 22., 23.],\n",
            "         [24., 25., 26., 27.],\n",
            "         [28., 29., 30., 31.],\n",
            "         [32., 33., 34., 35.],\n",
            "         [36., 37., 38., 39.]]])\n",
            "tensor(780.)\n"
          ]
        }
      ]
    },
    {
      "cell_type": "markdown",
      "source": [
        "* 指定求和汇总张量的轴"
      ],
      "metadata": {
        "id": "048u9G1WtHPy"
      }
    },
    {
      "cell_type": "code",
      "source": [
        "A_sum_axis0 = A.sum(axis=0)   # 按 2 这个维度进行求和\n",
        "A_sum_axis0, A_sum_axis0.shape"
      ],
      "metadata": {
        "colab": {
          "base_uri": "https://localhost:8080/"
        },
        "id": "GwIjO4XCtHYo",
        "outputId": "d4f7da3c-2ae1-4536-ede2-8b08847b4e3b"
      },
      "execution_count": 17,
      "outputs": [
        {
          "output_type": "execute_result",
          "data": {
            "text/plain": [
              "(tensor([[20., 22., 24., 26.],\n",
              "         [28., 30., 32., 34.],\n",
              "         [36., 38., 40., 42.],\n",
              "         [44., 46., 48., 50.],\n",
              "         [52., 54., 56., 58.]]), torch.Size([5, 4]))"
            ]
          },
          "metadata": {},
          "execution_count": 17
        }
      ]
    },
    {
      "cell_type": "code",
      "source": [
        "A_sum_axis1 = A.sum(axis=1)   # 按 5 行进行求和\n",
        "A_sum_axis1, A_sum_axis1.shape"
      ],
      "metadata": {
        "colab": {
          "base_uri": "https://localhost:8080/"
        },
        "id": "PHMAthqtxT5y",
        "outputId": "4a5065ba-0436-4166-bfcc-4430e67d4ee8"
      },
      "execution_count": 18,
      "outputs": [
        {
          "output_type": "execute_result",
          "data": {
            "text/plain": [
              "(tensor([[ 40.,  45.,  50.,  55.],\n",
              "         [140., 145., 150., 155.]]), torch.Size([2, 4]))"
            ]
          },
          "metadata": {},
          "execution_count": 18
        }
      ]
    },
    {
      "cell_type": "code",
      "source": [
        "A.sum(axis=[0, 1])"
      ],
      "metadata": {
        "colab": {
          "base_uri": "https://localhost:8080/"
        },
        "id": "bQ6yIlofxm52",
        "outputId": "e54b509e-ca06-4bbf-fdff-fc1c101316c6"
      },
      "execution_count": 19,
      "outputs": [
        {
          "output_type": "execute_result",
          "data": {
            "text/plain": [
              "tensor([180., 190., 200., 210.])"
            ]
          },
          "metadata": {},
          "execution_count": 19
        }
      ]
    },
    {
      "cell_type": "markdown",
      "source": [
        "* 一个与求和相关的量是 **平均值** (mean/average)"
      ],
      "metadata": {
        "id": "MbPIrkjEtHji"
      }
    },
    {
      "cell_type": "code",
      "source": [
        "A = torch.arange(20, dtype=torch.float32).reshape(5,4)\n",
        "A"
      ],
      "metadata": {
        "colab": {
          "base_uri": "https://localhost:8080/"
        },
        "id": "GOdlZ4BDx_WL",
        "outputId": "8fe03cbe-076a-479e-f3a9-0b8902dff6be"
      },
      "execution_count": 20,
      "outputs": [
        {
          "output_type": "execute_result",
          "data": {
            "text/plain": [
              "tensor([[ 0.,  1.,  2.,  3.],\n",
              "        [ 4.,  5.,  6.,  7.],\n",
              "        [ 8.,  9., 10., 11.],\n",
              "        [12., 13., 14., 15.],\n",
              "        [16., 17., 18., 19.]])"
            ]
          },
          "metadata": {},
          "execution_count": 20
        }
      ]
    },
    {
      "cell_type": "code",
      "source": [
        "A.mean(), A.sum() / A.numel()"
      ],
      "metadata": {
        "colab": {
          "base_uri": "https://localhost:8080/"
        },
        "id": "x3GBRXJlybM_",
        "outputId": "a15268fa-d9b4-4adf-fbd2-d997227db648"
      },
      "execution_count": 21,
      "outputs": [
        {
          "output_type": "execute_result",
          "data": {
            "text/plain": [
              "(tensor(9.5000), tensor(9.5000))"
            ]
          },
          "metadata": {},
          "execution_count": 21
        }
      ]
    },
    {
      "cell_type": "code",
      "source": [
        "A.mean(axis=0), A.sum(axis=0)/A.shape[0]"
      ],
      "metadata": {
        "colab": {
          "base_uri": "https://localhost:8080/"
        },
        "id": "QFSJ_siLymId",
        "outputId": "df466821-a0ab-4e1d-8b1b-e939425d6b25"
      },
      "execution_count": 22,
      "outputs": [
        {
          "output_type": "execute_result",
          "data": {
            "text/plain": [
              "(tensor([ 8.,  9., 10., 11.]), tensor([ 8.,  9., 10., 11.]))"
            ]
          },
          "metadata": {},
          "execution_count": 22
        }
      ]
    },
    {
      "cell_type": "markdown",
      "source": [
        " * 计算总和或均值时保持轴数不变，这样就可以利用广播机制"
      ],
      "metadata": {
        "id": "BO9jdJozx_id"
      }
    },
    {
      "cell_type": "code",
      "source": [
        "A"
      ],
      "metadata": {
        "colab": {
          "base_uri": "https://localhost:8080/"
        },
        "id": "ZUImLchY0H7M",
        "outputId": "366c912d-7bde-4a42-95cd-bc1a2cf49922"
      },
      "execution_count": 23,
      "outputs": [
        {
          "output_type": "execute_result",
          "data": {
            "text/plain": [
              "tensor([[ 0.,  1.,  2.,  3.],\n",
              "        [ 4.,  5.,  6.,  7.],\n",
              "        [ 8.,  9., 10., 11.],\n",
              "        [12., 13., 14., 15.],\n",
              "        [16., 17., 18., 19.]])"
            ]
          },
          "metadata": {},
          "execution_count": 23
        }
      ]
    },
    {
      "cell_type": "code",
      "source": [
        "A.sum(axis=1)  # 变成一维张量"
      ],
      "metadata": {
        "colab": {
          "base_uri": "https://localhost:8080/"
        },
        "id": "pLZbc1jOzdwp",
        "outputId": "1041892b-6b59-4023-8b6a-e93423955164"
      },
      "execution_count": 24,
      "outputs": [
        {
          "output_type": "execute_result",
          "data": {
            "text/plain": [
              "tensor([ 6., 22., 38., 54., 70.])"
            ]
          },
          "metadata": {},
          "execution_count": 24
        }
      ]
    },
    {
      "cell_type": "code",
      "source": [
        "sum_A = A.sum(axis=1, keepdims=True)  # 依然是二位张量\n",
        "sum_A"
      ],
      "metadata": {
        "colab": {
          "base_uri": "https://localhost:8080/"
        },
        "id": "NWlwZuJKx_yj",
        "outputId": "f1320cdf-c348-4343-93bd-d3b17ef4036a"
      },
      "execution_count": 25,
      "outputs": [
        {
          "output_type": "execute_result",
          "data": {
            "text/plain": [
              "tensor([[ 6.],\n",
              "        [22.],\n",
              "        [38.],\n",
              "        [54.],\n",
              "        [70.]])"
            ]
          },
          "metadata": {},
          "execution_count": 25
        }
      ]
    },
    {
      "cell_type": "code",
      "source": [
        "A / sum_A  # 利用广播机制"
      ],
      "metadata": {
        "colab": {
          "base_uri": "https://localhost:8080/"
        },
        "id": "7h1pJhJazZLd",
        "outputId": "82d78c34-055f-4553-8a8f-51d9959245e7"
      },
      "execution_count": 26,
      "outputs": [
        {
          "output_type": "execute_result",
          "data": {
            "text/plain": [
              "tensor([[0.0000, 0.1667, 0.3333, 0.5000],\n",
              "        [0.1818, 0.2273, 0.2727, 0.3182],\n",
              "        [0.2105, 0.2368, 0.2632, 0.2895],\n",
              "        [0.2222, 0.2407, 0.2593, 0.2778],\n",
              "        [0.2286, 0.2429, 0.2571, 0.2714]])"
            ]
          },
          "metadata": {},
          "execution_count": 26
        }
      ]
    },
    {
      "cell_type": "markdown",
      "source": [
        "* 累加求和"
      ],
      "metadata": {
        "id": "2Z4iRJSVx_7Z"
      }
    },
    {
      "cell_type": "code",
      "source": [
        "A"
      ],
      "metadata": {
        "colab": {
          "base_uri": "https://localhost:8080/"
        },
        "id": "hw-rW0Pw0F3M",
        "outputId": "0dda8bee-80cd-4b32-ce96-ee4cdce0f52b"
      },
      "execution_count": 27,
      "outputs": [
        {
          "output_type": "execute_result",
          "data": {
            "text/plain": [
              "tensor([[ 0.,  1.,  2.,  3.],\n",
              "        [ 4.,  5.,  6.,  7.],\n",
              "        [ 8.,  9., 10., 11.],\n",
              "        [12., 13., 14., 15.],\n",
              "        [16., 17., 18., 19.]])"
            ]
          },
          "metadata": {},
          "execution_count": 27
        }
      ]
    },
    {
      "cell_type": "code",
      "source": [
        "A.cumsum(axis=0)"
      ],
      "metadata": {
        "colab": {
          "base_uri": "https://localhost:8080/"
        },
        "id": "-CgwWk5VyAGw",
        "outputId": "98bbed2a-eb44-47d1-92bb-c34cd49747e8"
      },
      "execution_count": 28,
      "outputs": [
        {
          "output_type": "execute_result",
          "data": {
            "text/plain": [
              "tensor([[ 0.,  1.,  2.,  3.],\n",
              "        [ 4.,  6.,  8., 10.],\n",
              "        [12., 15., 18., 21.],\n",
              "        [24., 28., 32., 36.],\n",
              "        [40., 45., 50., 55.]])"
            ]
          },
          "metadata": {},
          "execution_count": 28
        }
      ]
    },
    {
      "cell_type": "markdown",
      "source": [
        "*  点积是相同位置的按元素乘积的和，也就是**对哈达玛积求和**"
      ],
      "metadata": {
        "id": "QUMTN-azyAOr"
      }
    },
    {
      "cell_type": "code",
      "source": [
        "x = torch.tensor([1.0,2,3,4]) \n",
        "y = torch.ones(4,dtype=torch.float32)\n",
        "x, y "
      ],
      "metadata": {
        "colab": {
          "base_uri": "https://localhost:8080/"
        },
        "id": "M3lt-_KqtHqh",
        "outputId": "7443c6ae-47f5-4f09-c159-e275625c2b02"
      },
      "execution_count": 29,
      "outputs": [
        {
          "output_type": "execute_result",
          "data": {
            "text/plain": [
              "(tensor([1., 2., 3., 4.]), tensor([1., 1., 1., 1.]))"
            ]
          },
          "metadata": {},
          "execution_count": 29
        }
      ]
    },
    {
      "cell_type": "code",
      "source": [
        "torch.dot(x, y), torch.sum(x * y)"
      ],
      "metadata": {
        "colab": {
          "base_uri": "https://localhost:8080/"
        },
        "id": "Vn94w6Ao1dAK",
        "outputId": "6ec4d5fd-0f41-4ee6-9a95-e973673b9c0f"
      },
      "execution_count": 30,
      "outputs": [
        {
          "output_type": "execute_result",
          "data": {
            "text/plain": [
              "(tensor(10.), tensor(10.))"
            ]
          },
          "metadata": {},
          "execution_count": 30
        }
      ]
    },
    {
      "cell_type": "markdown",
      "source": [
        "* 矩阵-矩阵(向量)乘法 AB(Ax)"
      ],
      "metadata": {
        "id": "P9XxwCev2olh"
      }
    },
    {
      "cell_type": "code",
      "source": [
        "A, x, A.shape, x.shape"
      ],
      "metadata": {
        "colab": {
          "base_uri": "https://localhost:8080/"
        },
        "id": "vadQg_fi1-mQ",
        "outputId": "eb2f5d74-e4cd-48cf-baf3-eb452d34a26b"
      },
      "execution_count": 31,
      "outputs": [
        {
          "output_type": "execute_result",
          "data": {
            "text/plain": [
              "(tensor([[ 0.,  1.,  2.,  3.],\n",
              "         [ 4.,  5.,  6.,  7.],\n",
              "         [ 8.,  9., 10., 11.],\n",
              "         [12., 13., 14., 15.],\n",
              "         [16., 17., 18., 19.]]),\n",
              " tensor([1., 2., 3., 4.]),\n",
              " torch.Size([5, 4]),\n",
              " torch.Size([4]))"
            ]
          },
          "metadata": {},
          "execution_count": 31
        }
      ]
    },
    {
      "cell_type": "code",
      "source": [
        "# 个人理解是: 这里的一维向量是按照一维列向量参加运算，但是表示的形式是行向量\n",
        "# torch.mv(x, A) 会出现错误\n",
        "torch.mv(A, x)  # matrix - vector  \n"
      ],
      "metadata": {
        "colab": {
          "base_uri": "https://localhost:8080/"
        },
        "id": "nFlQlVTt3AF7",
        "outputId": "7cae058e-34f6-4e63-88cf-b4c5884469c2"
      },
      "execution_count": 32,
      "outputs": [
        {
          "output_type": "execute_result",
          "data": {
            "text/plain": [
              "tensor([ 20.,  60., 100., 140., 180.])"
            ]
          },
          "metadata": {},
          "execution_count": 32
        }
      ]
    },
    {
      "cell_type": "code",
      "source": [
        "B = torch.ones(4,3)   # matrix - matrix\n",
        "torch.mm(A,B)"
      ],
      "metadata": {
        "id": "j7_szbQS3vFN",
        "colab": {
          "base_uri": "https://localhost:8080/"
        },
        "outputId": "cb9bcedd-a36c-4163-fa65-73194675edca"
      },
      "execution_count": 33,
      "outputs": [
        {
          "output_type": "execute_result",
          "data": {
            "text/plain": [
              "tensor([[ 6.,  6.,  6.],\n",
              "        [22., 22., 22.],\n",
              "        [38., 38., 38.],\n",
              "        [54., 54., 54.],\n",
              "        [70., 70., 70.]])"
            ]
          },
          "metadata": {},
          "execution_count": 33
        }
      ]
    },
    {
      "cell_type": "markdown",
      "source": [
        "*  $L_2$范数表示向量元素平方和的平方根:  \n",
        "$$\\Vert x\\Vert_2 = \\sqrt{\\sum_{i=1}^{n}x_i^2}$$\n",
        "\n"
      ],
      "metadata": {
        "id": "VAY_Bg5f399C"
      }
    },
    {
      "cell_type": "code",
      "source": [
        "u = torch.tensor([3.0, -4.0])\n",
        "torch.norm(u)"
      ],
      "metadata": {
        "id": "npnIqJVP31Ce",
        "colab": {
          "base_uri": "https://localhost:8080/"
        },
        "outputId": "03b66c5a-224a-4862-fe6c-a76a86275af3"
      },
      "execution_count": 35,
      "outputs": [
        {
          "output_type": "execute_result",
          "data": {
            "text/plain": [
              "tensor(5.)"
            ]
          },
          "metadata": {},
          "execution_count": 35
        }
      ]
    },
    {
      "cell_type": "markdown",
      "source": [
        "* $L_1$范数表示为向量元素的绝对值之和:\n",
        "$$\\Vert x\\Vert_1 = \\sum_{i=1}^{n}|x_i|$$"
      ],
      "metadata": {
        "id": "e9_Gn3dj8t_g"
      }
    },
    {
      "cell_type": "code",
      "source": [
        "torch.abs(u).sum()"
      ],
      "metadata": {
        "id": "zABEqh_H8tVm",
        "colab": {
          "base_uri": "https://localhost:8080/"
        },
        "outputId": "60161885-aa4d-42fe-843f-39beae314244"
      },
      "execution_count": 36,
      "outputs": [
        {
          "output_type": "execute_result",
          "data": {
            "text/plain": [
              "tensor(7.)"
            ]
          },
          "metadata": {},
          "execution_count": 36
        }
      ]
    },
    {
      "cell_type": "markdown",
      "source": [
        "* 矩阵的 **弗罗贝尼乌斯范数(Frobenius norm)** 是矩阵元素的平方和的平方根:\n",
        "$$\\Vert x\\Vert_2 = \\sqrt{\\sum_{i=1}^{m}\\sum_{j=1}^{n}x_{ij}^2}$$"
      ],
      "metadata": {
        "id": "YSQbwQFP_A3g"
      }
    },
    {
      "cell_type": "code",
      "source": [
        "f = torch.tensor([[4,-3],[3,4]], dtype=torch.float32)\n",
        "torch.norm(f)"
      ],
      "metadata": {
        "id": "PvADMC29_CQk",
        "colab": {
          "base_uri": "https://localhost:8080/"
        },
        "outputId": "a6645c19-703a-4c3e-c6c5-1ab7708e8589"
      },
      "execution_count": 37,
      "outputs": [
        {
          "output_type": "execute_result",
          "data": {
            "text/plain": [
              "tensor(7.0711)"
            ]
          },
          "metadata": {},
          "execution_count": 37
        }
      ]
    }
  ]
}