{
  "nbformat": 4,
  "nbformat_minor": 0,
  "metadata": {
    "colab": {
      "name": "04_线性回归.ipynb",
      "provenance": [],
      "collapsed_sections": []
    },
    "kernelspec": {
      "name": "python3",
      "display_name": "Python 3"
    },
    "language_info": {
      "name": "python"
    }
  },
  "cells": [
    {
      "cell_type": "markdown",
      "source": [
        "# 线性回归从零开始实现"
      ],
      "metadata": {
        "id": "kK5mywsVXgNF"
      }
    },
    {
      "cell_type": "markdown",
      "source": [
        "* 从零开始实现整个方法， 包括数据流水线、模型、损失函数和小批量随机梯度下降优化器"
      ],
      "metadata": {
        "id": "Qr84kG8dXpP_"
      }
    },
    {
      "cell_type": "markdown",
      "source": [
        "**1. 生成数据集**"
      ],
      "metadata": {
        "id": "7PGe-YeFzchd"
      }
    },
    {
      "cell_type": "code",
      "execution_count": null,
      "metadata": {
        "id": "GriOsJDvHnjB"
      },
      "outputs": [],
      "source": [
        "!pip install d2l"
      ]
    },
    {
      "cell_type": "code",
      "source": [
        "!pip install matplotlib==3.0"
      ],
      "metadata": {
        "id": "f7pXzQP0yVY2"
      },
      "execution_count": null,
      "outputs": []
    },
    {
      "cell_type": "code",
      "source": [
        "import random\n",
        "import torch \n",
        "from d2l import torch as d2l"
      ],
      "metadata": {
        "id": "YpPGla_PAidJ"
      },
      "execution_count": null,
      "outputs": []
    },
    {
      "cell_type": "markdown",
      "source": [
        "* 我们构造一个简单的人工训练数据集，它可以使我们能够直观比较学到的参数和真实的模型参数的区别。设训练数据集样本数为1000，输入个数（特征数）为2。给定随机生成的批量样本特征 $\\boldsymbol{X} \\in \\mathbb{R}^{1000 \\times 2}$，我们使用线性回归模型真实权重 $\\boldsymbol{w} = [2, -3.4]^\\top$ 和偏差 $b = 4.2$，以及一个随机噪声项 $\\epsilon$ 来生成标签\n",
        "$$\n",
        "\\boldsymbol{y} = \\boldsymbol{X}\\boldsymbol{w} + b + \\epsilon\n",
        "$$\n",
        "\n",
        "* 其中噪声项 $\\epsilon$ 服从均值为0、标准差为0.01的正态分布。噪声代表了数据集中无意义的干扰。可以将 𝜖 视为模型预测和标签时的潜在观测误差。下面的代码生成合成数据集。"
      ],
      "metadata": {
        "id": "cw97FOgDMXLJ"
      }
    },
    {
      "cell_type": "code",
      "source": [
        "def synthetic_data(w, b, num_examples):\n",
        "  # 生成 y = wX + b + 噪声\n",
        "  X = torch.normal(0, 1, (num_examples, len(w)))  # 生成的 X，表示均值为0，方差为1的随机数，其大小（行列）为 (num_examples, len(w))\n",
        "  y = torch.matmul(X, w) + b  # matmul 可以进行张量乘法, 输入可以是高维, mm 表示矩阵乘法\n",
        "  y += torch.normal(0, 0.01, y.shape)\n",
        "  return X, y.reshape((-1,1))  # 将 X，y作为列向量返回\n",
        "\n",
        "true_w = torch.tensor([2, -3.4])\n",
        "true_b = 4.2\n",
        "features, labels = synthetic_data(true_w, true_b, 1000)"
      ],
      "metadata": {
        "id": "Lkx5dxjMMSSv"
      },
      "execution_count": null,
      "outputs": []
    },
    {
      "cell_type": "markdown",
      "source": [
        "* 注意，**`features`中的每一行都包含一个二维数据样本，\n",
        "`labels`中的每一行都包含一维标签值（一个标量）**。\n"
      ],
      "metadata": {
        "id": "fsIQltr-X_Aa"
      }
    },
    {
      "cell_type": "code",
      "source": [
        "print('features:',features[0:4],'\\n','labels:',labels[0:4])"
      ],
      "metadata": {
        "colab": {
          "base_uri": "https://localhost:8080/"
        },
        "id": "s-YYm36TRuy-",
        "outputId": "5aac36d5-9aee-475d-8d6d-595b1fc47215"
      },
      "execution_count": null,
      "outputs": [
        {
          "output_type": "stream",
          "name": "stdout",
          "text": [
            "features: tensor([[-0.4697, -0.5577],\n",
            "        [ 0.1436, -1.6295],\n",
            "        [ 1.3075,  0.8565],\n",
            "        [ 0.6415,  1.1618]]) \n",
            " labels: tensor([[ 5.1472],\n",
            "        [10.0184],\n",
            "        [ 3.9163],\n",
            "        [ 1.5345]])\n"
          ]
        }
      ]
    },
    {
      "cell_type": "code",
      "source": [
        "d2l.set_figsize()\n",
        "d2l.plt.scatter(features[:, 1].detach().numpy(), labels.detach().numpy(), 1)  # 1 表示的是点的直径大小 \n",
        "# detach()分离出数值，不含梯度"
      ],
      "metadata": {
        "colab": {
          "base_uri": "https://localhost:8080/",
          "height": 261
        },
        "id": "dW36LZMYxrfT",
        "outputId": "8ffadf26-b27f-4149-95c3-9ebc6cb39fb8"
      },
      "execution_count": null,
      "outputs": [
        {
          "output_type": "execute_result",
          "data": {
            "text/plain": [
              "<matplotlib.collections.PathCollection at 0x7f5ac4cb0750>"
            ]
          },
          "metadata": {},
          "execution_count": 97
        },
        {
          "output_type": "display_data",
          "data": {
            "text/plain": [
              "<Figure size 252x180 with 1 Axes>"
            ],
            "image/svg+xml": "<?xml version=\"1.0\" encoding=\"utf-8\" standalone=\"no\"?>\n<!DOCTYPE svg PUBLIC \"-//W3C//DTD SVG 1.1//EN\"\n  \"http://www.w3.org/Graphics/SVG/1.1/DTD/svg11.dtd\">\n<!-- Created with matplotlib (https://matplotlib.org/) -->\n<svg height=\"166.978125pt\" version=\"1.1\" viewBox=\"0 0 231.442187 166.978125\" width=\"231.442187pt\" xmlns=\"http://www.w3.org/2000/svg\" xmlns:xlink=\"http://www.w3.org/1999/xlink\">\n <defs>\n  <style type=\"text/css\">\n*{stroke-linecap:butt;stroke-linejoin:round;}\n  </style>\n </defs>\n <g id=\"figure_1\">\n  <g id=\"patch_1\">\n   <path d=\"M 0 166.978125 \nL 231.442187 166.978125 \nL 231.442187 0 \nL 0 0 \nz\n\" style=\"fill:none;\"/>\n  </g>\n  <g id=\"axes_1\">\n   <g id=\"patch_2\">\n    <path d=\"M 28.942188 143.1 \nL 224.242188 143.1 \nL 224.242188 7.2 \nL 28.942188 7.2 \nz\n\" style=\"fill:#ffffff;\"/>\n   </g>\n   <g id=\"PathCollection_1\">\n    <defs>\n     <path d=\"M 0 0.5 \nC 0.132602 0.5 0.25979 0.447317 0.353553 0.353553 \nC 0.447317 0.25979 0.5 0.132602 0.5 0 \nC 0.5 -0.132602 0.447317 -0.25979 0.353553 -0.353553 \nC 0.25979 -0.447317 0.132602 -0.5 0 -0.5 \nC -0.132602 -0.5 -0.25979 -0.447317 -0.353553 -0.353553 \nC -0.447317 -0.25979 -0.5 -0.132602 -0.5 0 \nC -0.5 0.132602 -0.447317 0.25979 -0.353553 0.353553 \nC -0.25979 0.447317 -0.132602 0.5 0 0.5 \nz\n\" id=\"m0be0bba02e\" style=\"stroke:#1f77b4;\"/>\n    </defs>\n    <g clip-path=\"url(#p37527c060c)\">\n     <use style=\"fill:#1f77b4;stroke:#1f77b4;\" x=\"123.830803\" xlink:href=\"#m0be0bba02e\" y=\"70.952463\"/>\n     <use style=\"fill:#1f77b4;stroke:#1f77b4;\" x=\"173.322168\" xlink:href=\"#m0be0bba02e\" y=\"104.064434\"/>\n     <use style=\"fill:#1f77b4;stroke:#1f77b4;\" x=\"115.853391\" xlink:href=\"#m0be0bba02e\" y=\"83.608944\"/>\n     <use style=\"fill:#1f77b4;stroke:#1f77b4;\" x=\"139.901679\" xlink:href=\"#m0be0bba02e\" y=\"93.765023\"/>\n     <use style=\"fill:#1f77b4;stroke:#1f77b4;\" x=\"79.954469\" xlink:href=\"#m0be0bba02e\" y=\"59.810225\"/>\n     <use style=\"fill:#1f77b4;stroke:#1f77b4;\" x=\"162.538764\" xlink:href=\"#m0be0bba02e\" y=\"102.030221\"/>\n     <use style=\"fill:#1f77b4;stroke:#1f77b4;\" x=\"173.403142\" xlink:href=\"#m0be0bba02e\" y=\"104.208309\"/>\n     <use style=\"fill:#1f77b4;stroke:#1f77b4;\" x=\"106.253013\" xlink:href=\"#m0be0bba02e\" y=\"55.647426\"/>\n     <use style=\"fill:#1f77b4;stroke:#1f77b4;\" x=\"169.26008\" xlink:href=\"#m0be0bba02e\" y=\"97.702196\"/>\n     <use style=\"fill:#1f77b4;stroke:#1f77b4;\" x=\"127.63838\" xlink:href=\"#m0be0bba02e\" y=\"80.299507\"/>\n     <use style=\"fill:#1f77b4;stroke:#1f77b4;\" x=\"111.562201\" xlink:href=\"#m0be0bba02e\" y=\"75.853667\"/>\n     <use style=\"fill:#1f77b4;stroke:#1f77b4;\" x=\"154.632814\" xlink:href=\"#m0be0bba02e\" y=\"89.900297\"/>\n     <use style=\"fill:#1f77b4;stroke:#1f77b4;\" x=\"128.465563\" xlink:href=\"#m0be0bba02e\" y=\"97.999231\"/>\n     <use style=\"fill:#1f77b4;stroke:#1f77b4;\" x=\"134.153209\" xlink:href=\"#m0be0bba02e\" y=\"85.029804\"/>\n     <use style=\"fill:#1f77b4;stroke:#1f77b4;\" x=\"136.15464\" xlink:href=\"#m0be0bba02e\" y=\"88.04489\"/>\n     <use style=\"fill:#1f77b4;stroke:#1f77b4;\" x=\"98.076708\" xlink:href=\"#m0be0bba02e\" y=\"70.287168\"/>\n     <use style=\"fill:#1f77b4;stroke:#1f77b4;\" x=\"144.667439\" xlink:href=\"#m0be0bba02e\" y=\"89.666417\"/>\n     <use style=\"fill:#1f77b4;stroke:#1f77b4;\" x=\"55.031235\" xlink:href=\"#m0be0bba02e\" y=\"26.084137\"/>\n     <use style=\"fill:#1f77b4;stroke:#1f77b4;\" x=\"136.958864\" xlink:href=\"#m0be0bba02e\" y=\"89.611304\"/>\n     <use style=\"fill:#1f77b4;stroke:#1f77b4;\" x=\"107.392721\" xlink:href=\"#m0be0bba02e\" y=\"53.808488\"/>\n     <use style=\"fill:#1f77b4;stroke:#1f77b4;\" x=\"193.368586\" xlink:href=\"#m0be0bba02e\" y=\"109.101575\"/>\n     <use style=\"fill:#1f77b4;stroke:#1f77b4;\" x=\"158.57824\" xlink:href=\"#m0be0bba02e\" y=\"82.725125\"/>\n     <use style=\"fill:#1f77b4;stroke:#1f77b4;\" x=\"168.526995\" xlink:href=\"#m0be0bba02e\" y=\"98.465543\"/>\n     <use style=\"fill:#1f77b4;stroke:#1f77b4;\" x=\"112.381091\" xlink:href=\"#m0be0bba02e\" y=\"71.433769\"/>\n     <use style=\"fill:#1f77b4;stroke:#1f77b4;\" x=\"145.076779\" xlink:href=\"#m0be0bba02e\" y=\"90.053024\"/>\n     <use style=\"fill:#1f77b4;stroke:#1f77b4;\" x=\"91.353896\" xlink:href=\"#m0be0bba02e\" y=\"43.879702\"/>\n     <use style=\"fill:#1f77b4;stroke:#1f77b4;\" x=\"108.327181\" xlink:href=\"#m0be0bba02e\" y=\"93.068978\"/>\n     <use style=\"fill:#1f77b4;stroke:#1f77b4;\" x=\"95.611277\" xlink:href=\"#m0be0bba02e\" y=\"58.720525\"/>\n     <use style=\"fill:#1f77b4;stroke:#1f77b4;\" x=\"123.842357\" xlink:href=\"#m0be0bba02e\" y=\"74.734765\"/>\n     <use style=\"fill:#1f77b4;stroke:#1f77b4;\" x=\"153.947846\" xlink:href=\"#m0be0bba02e\" y=\"86.663596\"/>\n     <use style=\"fill:#1f77b4;stroke:#1f77b4;\" x=\"170.949509\" xlink:href=\"#m0be0bba02e\" y=\"108.148626\"/>\n     <use style=\"fill:#1f77b4;stroke:#1f77b4;\" x=\"79.439315\" xlink:href=\"#m0be0bba02e\" y=\"59.083451\"/>\n     <use style=\"fill:#1f77b4;stroke:#1f77b4;\" x=\"115.863727\" xlink:href=\"#m0be0bba02e\" y=\"73.300575\"/>\n     <use style=\"fill:#1f77b4;stroke:#1f77b4;\" x=\"49.393646\" xlink:href=\"#m0be0bba02e\" y=\"47.562163\"/>\n     <use style=\"fill:#1f77b4;stroke:#1f77b4;\" x=\"79.247894\" xlink:href=\"#m0be0bba02e\" y=\"46.404303\"/>\n     <use style=\"fill:#1f77b4;stroke:#1f77b4;\" x=\"102.808579\" xlink:href=\"#m0be0bba02e\" y=\"58.143893\"/>\n     <use style=\"fill:#1f77b4;stroke:#1f77b4;\" x=\"129.455367\" xlink:href=\"#m0be0bba02e\" y=\"64.84851\"/>\n     <use style=\"fill:#1f77b4;stroke:#1f77b4;\" x=\"134.398401\" xlink:href=\"#m0be0bba02e\" y=\"90.969068\"/>\n     <use style=\"fill:#1f77b4;stroke:#1f77b4;\" x=\"160.521642\" xlink:href=\"#m0be0bba02e\" y=\"101.140694\"/>\n     <use style=\"fill:#1f77b4;stroke:#1f77b4;\" x=\"114.301832\" xlink:href=\"#m0be0bba02e\" y=\"60.402755\"/>\n     <use style=\"fill:#1f77b4;stroke:#1f77b4;\" x=\"115.660644\" xlink:href=\"#m0be0bba02e\" y=\"76.218351\"/>\n     <use style=\"fill:#1f77b4;stroke:#1f77b4;\" x=\"102.375269\" xlink:href=\"#m0be0bba02e\" y=\"61.055607\"/>\n     <use style=\"fill:#1f77b4;stroke:#1f77b4;\" x=\"139.074303\" xlink:href=\"#m0be0bba02e\" y=\"110.876201\"/>\n     <use style=\"fill:#1f77b4;stroke:#1f77b4;\" x=\"101.382694\" xlink:href=\"#m0be0bba02e\" y=\"57.714014\"/>\n     <use style=\"fill:#1f77b4;stroke:#1f77b4;\" x=\"129.969615\" xlink:href=\"#m0be0bba02e\" y=\"69.175417\"/>\n     <use style=\"fill:#1f77b4;stroke:#1f77b4;\" x=\"155.146658\" xlink:href=\"#m0be0bba02e\" y=\"107.063635\"/>\n     <use style=\"fill:#1f77b4;stroke:#1f77b4;\" x=\"173.420283\" xlink:href=\"#m0be0bba02e\" y=\"99.830153\"/>\n     <use style=\"fill:#1f77b4;stroke:#1f77b4;\" x=\"106.330688\" xlink:href=\"#m0be0bba02e\" y=\"78.260869\"/>\n     <use style=\"fill:#1f77b4;stroke:#1f77b4;\" x=\"110.857977\" xlink:href=\"#m0be0bba02e\" y=\"74.680671\"/>\n     <use style=\"fill:#1f77b4;stroke:#1f77b4;\" x=\"115.955317\" xlink:href=\"#m0be0bba02e\" y=\"53.220229\"/>\n     <use style=\"fill:#1f77b4;stroke:#1f77b4;\" x=\"167.618024\" xlink:href=\"#m0be0bba02e\" y=\"99.181914\"/>\n     <use style=\"fill:#1f77b4;stroke:#1f77b4;\" x=\"111.527532\" xlink:href=\"#m0be0bba02e\" y=\"59.392331\"/>\n     <use style=\"fill:#1f77b4;stroke:#1f77b4;\" x=\"151.03881\" xlink:href=\"#m0be0bba02e\" y=\"90.873602\"/>\n     <use style=\"fill:#1f77b4;stroke:#1f77b4;\" x=\"69.491571\" xlink:href=\"#m0be0bba02e\" y=\"47.138006\"/>\n     <use style=\"fill:#1f77b4;stroke:#1f77b4;\" x=\"91.330792\" xlink:href=\"#m0be0bba02e\" y=\"48.864889\"/>\n     <use style=\"fill:#1f77b4;stroke:#1f77b4;\" x=\"154.066043\" xlink:href=\"#m0be0bba02e\" y=\"102.260289\"/>\n     <use style=\"fill:#1f77b4;stroke:#1f77b4;\" x=\"116.81517\" xlink:href=\"#m0be0bba02e\" y=\"92.567049\"/>\n     <use style=\"fill:#1f77b4;stroke:#1f77b4;\" x=\"127.778316\" xlink:href=\"#m0be0bba02e\" y=\"80.075686\"/>\n     <use style=\"fill:#1f77b4;stroke:#1f77b4;\" x=\"108.409983\" xlink:href=\"#m0be0bba02e\" y=\"79.35693\"/>\n     <use style=\"fill:#1f77b4;stroke:#1f77b4;\" x=\"131.843496\" xlink:href=\"#m0be0bba02e\" y=\"95.056706\"/>\n     <use style=\"fill:#1f77b4;stroke:#1f77b4;\" x=\"78.908609\" xlink:href=\"#m0be0bba02e\" y=\"46.456047\"/>\n     <use style=\"fill:#1f77b4;stroke:#1f77b4;\" x=\"144.878469\" xlink:href=\"#m0be0bba02e\" y=\"92.127985\"/>\n     <use style=\"fill:#1f77b4;stroke:#1f77b4;\" x=\"166.207498\" xlink:href=\"#m0be0bba02e\" y=\"112.207233\"/>\n     <use style=\"fill:#1f77b4;stroke:#1f77b4;\" x=\"172.325614\" xlink:href=\"#m0be0bba02e\" y=\"110.482\"/>\n     <use style=\"fill:#1f77b4;stroke:#1f77b4;\" x=\"116.200008\" xlink:href=\"#m0be0bba02e\" y=\"74.595727\"/>\n     <use style=\"fill:#1f77b4;stroke:#1f77b4;\" x=\"75.449793\" xlink:href=\"#m0be0bba02e\" y=\"61.380863\"/>\n     <use style=\"fill:#1f77b4;stroke:#1f77b4;\" x=\"150.775781\" xlink:href=\"#m0be0bba02e\" y=\"68.820695\"/>\n     <use style=\"fill:#1f77b4;stroke:#1f77b4;\" x=\"110.372269\" xlink:href=\"#m0be0bba02e\" y=\"51.766866\"/>\n     <use style=\"fill:#1f77b4;stroke:#1f77b4;\" x=\"185.956817\" xlink:href=\"#m0be0bba02e\" y=\"104.010792\"/>\n     <use style=\"fill:#1f77b4;stroke:#1f77b4;\" x=\"114.144029\" xlink:href=\"#m0be0bba02e\" y=\"62.455133\"/>\n     <use style=\"fill:#1f77b4;stroke:#1f77b4;\" x=\"152.261007\" xlink:href=\"#m0be0bba02e\" y=\"91.985377\"/>\n     <use style=\"fill:#1f77b4;stroke:#1f77b4;\" x=\"167.636271\" xlink:href=\"#m0be0bba02e\" y=\"79.050765\"/>\n     <use style=\"fill:#1f77b4;stroke:#1f77b4;\" x=\"109.199263\" xlink:href=\"#m0be0bba02e\" y=\"59.052487\"/>\n     <use style=\"fill:#1f77b4;stroke:#1f77b4;\" x=\"137.958194\" xlink:href=\"#m0be0bba02e\" y=\"80.382335\"/>\n     <use style=\"fill:#1f77b4;stroke:#1f77b4;\" x=\"155.882919\" xlink:href=\"#m0be0bba02e\" y=\"79.555966\"/>\n     <use style=\"fill:#1f77b4;stroke:#1f77b4;\" x=\"80.342981\" xlink:href=\"#m0be0bba02e\" y=\"41.398337\"/>\n     <use style=\"fill:#1f77b4;stroke:#1f77b4;\" x=\"149.617036\" xlink:href=\"#m0be0bba02e\" y=\"91.945536\"/>\n     <use style=\"fill:#1f77b4;stroke:#1f77b4;\" x=\"95.200686\" xlink:href=\"#m0be0bba02e\" y=\"77.86772\"/>\n     <use style=\"fill:#1f77b4;stroke:#1f77b4;\" x=\"128.996221\" xlink:href=\"#m0be0bba02e\" y=\"78.225752\"/>\n     <use style=\"fill:#1f77b4;stroke:#1f77b4;\" x=\"215.364915\" xlink:href=\"#m0be0bba02e\" y=\"115.354184\"/>\n     <use style=\"fill:#1f77b4;stroke:#1f77b4;\" x=\"136.485686\" xlink:href=\"#m0be0bba02e\" y=\"69.584098\"/>\n     <use style=\"fill:#1f77b4;stroke:#1f77b4;\" x=\"129.09591\" xlink:href=\"#m0be0bba02e\" y=\"88.066471\"/>\n     <use style=\"fill:#1f77b4;stroke:#1f77b4;\" x=\"143.808786\" xlink:href=\"#m0be0bba02e\" y=\"87.321971\"/>\n     <use style=\"fill:#1f77b4;stroke:#1f77b4;\" x=\"120.648622\" xlink:href=\"#m0be0bba02e\" y=\"64.947224\"/>\n     <use style=\"fill:#1f77b4;stroke:#1f77b4;\" x=\"130.00716\" xlink:href=\"#m0be0bba02e\" y=\"78.48647\"/>\n     <use style=\"fill:#1f77b4;stroke:#1f77b4;\" x=\"163.066625\" xlink:href=\"#m0be0bba02e\" y=\"109.601449\"/>\n     <use style=\"fill:#1f77b4;stroke:#1f77b4;\" x=\"101.80479\" xlink:href=\"#m0be0bba02e\" y=\"71.68522\"/>\n     <use style=\"fill:#1f77b4;stroke:#1f77b4;\" x=\"109.213432\" xlink:href=\"#m0be0bba02e\" y=\"91.652368\"/>\n     <use style=\"fill:#1f77b4;stroke:#1f77b4;\" x=\"72.197536\" xlink:href=\"#m0be0bba02e\" y=\"53.606635\"/>\n     <use style=\"fill:#1f77b4;stroke:#1f77b4;\" x=\"102.299135\" xlink:href=\"#m0be0bba02e\" y=\"64.213953\"/>\n     <use style=\"fill:#1f77b4;stroke:#1f77b4;\" x=\"116.442977\" xlink:href=\"#m0be0bba02e\" y=\"79.265278\"/>\n     <use style=\"fill:#1f77b4;stroke:#1f77b4;\" x=\"132.21661\" xlink:href=\"#m0be0bba02e\" y=\"81.124905\"/>\n     <use style=\"fill:#1f77b4;stroke:#1f77b4;\" x=\"92.190397\" xlink:href=\"#m0be0bba02e\" y=\"68.974278\"/>\n     <use style=\"fill:#1f77b4;stroke:#1f77b4;\" x=\"129.721987\" xlink:href=\"#m0be0bba02e\" y=\"89.016081\"/>\n     <use style=\"fill:#1f77b4;stroke:#1f77b4;\" x=\"138.403226\" xlink:href=\"#m0be0bba02e\" y=\"101.018154\"/>\n     <use style=\"fill:#1f77b4;stroke:#1f77b4;\" x=\"120.847124\" xlink:href=\"#m0be0bba02e\" y=\"67.922582\"/>\n     <use style=\"fill:#1f77b4;stroke:#1f77b4;\" x=\"113.110973\" xlink:href=\"#m0be0bba02e\" y=\"56.074051\"/>\n     <use style=\"fill:#1f77b4;stroke:#1f77b4;\" x=\"114.452279\" xlink:href=\"#m0be0bba02e\" y=\"71.204063\"/>\n     <use style=\"fill:#1f77b4;stroke:#1f77b4;\" x=\"135.015779\" xlink:href=\"#m0be0bba02e\" y=\"74.236868\"/>\n     <use style=\"fill:#1f77b4;stroke:#1f77b4;\" x=\"121.534152\" xlink:href=\"#m0be0bba02e\" y=\"83.479999\"/>\n     <use style=\"fill:#1f77b4;stroke:#1f77b4;\" x=\"145.033587\" xlink:href=\"#m0be0bba02e\" y=\"97.605183\"/>\n     <use style=\"fill:#1f77b4;stroke:#1f77b4;\" x=\"120.263507\" xlink:href=\"#m0be0bba02e\" y=\"56.726898\"/>\n     <use style=\"fill:#1f77b4;stroke:#1f77b4;\" x=\"129.949672\" xlink:href=\"#m0be0bba02e\" y=\"89.300004\"/>\n     <use style=\"fill:#1f77b4;stroke:#1f77b4;\" x=\"147.672185\" xlink:href=\"#m0be0bba02e\" y=\"81.313807\"/>\n     <use style=\"fill:#1f77b4;stroke:#1f77b4;\" x=\"125.028984\" xlink:href=\"#m0be0bba02e\" y=\"69.455401\"/>\n     <use style=\"fill:#1f77b4;stroke:#1f77b4;\" x=\"150.467536\" xlink:href=\"#m0be0bba02e\" y=\"74.161311\"/>\n     <use style=\"fill:#1f77b4;stroke:#1f77b4;\" x=\"167.788793\" xlink:href=\"#m0be0bba02e\" y=\"98.819042\"/>\n     <use style=\"fill:#1f77b4;stroke:#1f77b4;\" x=\"128.347124\" xlink:href=\"#m0be0bba02e\" y=\"73.87965\"/>\n     <use style=\"fill:#1f77b4;stroke:#1f77b4;\" x=\"71.801752\" xlink:href=\"#m0be0bba02e\" y=\"54.597589\"/>\n     <use style=\"fill:#1f77b4;stroke:#1f77b4;\" x=\"134.62586\" xlink:href=\"#m0be0bba02e\" y=\"80.199159\"/>\n     <use style=\"fill:#1f77b4;stroke:#1f77b4;\" x=\"129.503769\" xlink:href=\"#m0be0bba02e\" y=\"82.605351\"/>\n     <use style=\"fill:#1f77b4;stroke:#1f77b4;\" x=\"80.186863\" xlink:href=\"#m0be0bba02e\" y=\"29.886972\"/>\n     <use style=\"fill:#1f77b4;stroke:#1f77b4;\" x=\"69.808469\" xlink:href=\"#m0be0bba02e\" y=\"52.974294\"/>\n     <use style=\"fill:#1f77b4;stroke:#1f77b4;\" x=\"159.628524\" xlink:href=\"#m0be0bba02e\" y=\"83.717381\"/>\n     <use style=\"fill:#1f77b4;stroke:#1f77b4;\" x=\"121.232815\" xlink:href=\"#m0be0bba02e\" y=\"67.172777\"/>\n     <use style=\"fill:#1f77b4;stroke:#1f77b4;\" x=\"169.207912\" xlink:href=\"#m0be0bba02e\" y=\"125.283282\"/>\n     <use style=\"fill:#1f77b4;stroke:#1f77b4;\" x=\"74.686998\" xlink:href=\"#m0be0bba02e\" y=\"73.044156\"/>\n     <use style=\"fill:#1f77b4;stroke:#1f77b4;\" x=\"116.460139\" xlink:href=\"#m0be0bba02e\" y=\"76.026178\"/>\n     <use style=\"fill:#1f77b4;stroke:#1f77b4;\" x=\"164.330684\" xlink:href=\"#m0be0bba02e\" y=\"85.106783\"/>\n     <use style=\"fill:#1f77b4;stroke:#1f77b4;\" x=\"97.460497\" xlink:href=\"#m0be0bba02e\" y=\"65.257448\"/>\n     <use style=\"fill:#1f77b4;stroke:#1f77b4;\" x=\"183.934232\" xlink:href=\"#m0be0bba02e\" y=\"105.408806\"/>\n     <use style=\"fill:#1f77b4;stroke:#1f77b4;\" x=\"125.078271\" xlink:href=\"#m0be0bba02e\" y=\"83.642131\"/>\n     <use style=\"fill:#1f77b4;stroke:#1f77b4;\" x=\"73.854924\" xlink:href=\"#m0be0bba02e\" y=\"41.507131\"/>\n     <use style=\"fill:#1f77b4;stroke:#1f77b4;\" x=\"76.784856\" xlink:href=\"#m0be0bba02e\" y=\"60.286648\"/>\n     <use style=\"fill:#1f77b4;stroke:#1f77b4;\" x=\"82.449461\" xlink:href=\"#m0be0bba02e\" y=\"33.476798\"/>\n     <use style=\"fill:#1f77b4;stroke:#1f77b4;\" x=\"145.114588\" xlink:href=\"#m0be0bba02e\" y=\"94.538081\"/>\n     <use style=\"fill:#1f77b4;stroke:#1f77b4;\" x=\"146.118612\" xlink:href=\"#m0be0bba02e\" y=\"84.020165\"/>\n     <use style=\"fill:#1f77b4;stroke:#1f77b4;\" x=\"104.189484\" xlink:href=\"#m0be0bba02e\" y=\"58.369753\"/>\n     <use style=\"fill:#1f77b4;stroke:#1f77b4;\" x=\"159.861969\" xlink:href=\"#m0be0bba02e\" y=\"87.724661\"/>\n     <use style=\"fill:#1f77b4;stroke:#1f77b4;\" x=\"77.247107\" xlink:href=\"#m0be0bba02e\" y=\"45.562124\"/>\n     <use style=\"fill:#1f77b4;stroke:#1f77b4;\" x=\"101.626407\" xlink:href=\"#m0be0bba02e\" y=\"74.501547\"/>\n     <use style=\"fill:#1f77b4;stroke:#1f77b4;\" x=\"148.637897\" xlink:href=\"#m0be0bba02e\" y=\"97.75251\"/>\n     <use style=\"fill:#1f77b4;stroke:#1f77b4;\" x=\"125.759526\" xlink:href=\"#m0be0bba02e\" y=\"60.308199\"/>\n     <use style=\"fill:#1f77b4;stroke:#1f77b4;\" x=\"78.176833\" xlink:href=\"#m0be0bba02e\" y=\"42.7259\"/>\n     <use style=\"fill:#1f77b4;stroke:#1f77b4;\" x=\"87.271918\" xlink:href=\"#m0be0bba02e\" y=\"32.68915\"/>\n     <use style=\"fill:#1f77b4;stroke:#1f77b4;\" x=\"99.51925\" xlink:href=\"#m0be0bba02e\" y=\"48.454796\"/>\n     <use style=\"fill:#1f77b4;stroke:#1f77b4;\" x=\"122.740732\" xlink:href=\"#m0be0bba02e\" y=\"56.285627\"/>\n     <use style=\"fill:#1f77b4;stroke:#1f77b4;\" x=\"93.780064\" xlink:href=\"#m0be0bba02e\" y=\"45.235929\"/>\n     <use style=\"fill:#1f77b4;stroke:#1f77b4;\" x=\"96.072127\" xlink:href=\"#m0be0bba02e\" y=\"44.098899\"/>\n     <use style=\"fill:#1f77b4;stroke:#1f77b4;\" x=\"132.172735\" xlink:href=\"#m0be0bba02e\" y=\"81.524388\"/>\n     <use style=\"fill:#1f77b4;stroke:#1f77b4;\" x=\"118.479924\" xlink:href=\"#m0be0bba02e\" y=\"51.385971\"/>\n     <use style=\"fill:#1f77b4;stroke:#1f77b4;\" x=\"177.525163\" xlink:href=\"#m0be0bba02e\" y=\"82.246294\"/>\n     <use style=\"fill:#1f77b4;stroke:#1f77b4;\" x=\"119.372841\" xlink:href=\"#m0be0bba02e\" y=\"100.496593\"/>\n     <use style=\"fill:#1f77b4;stroke:#1f77b4;\" x=\"151.745356\" xlink:href=\"#m0be0bba02e\" y=\"100.647054\"/>\n     <use style=\"fill:#1f77b4;stroke:#1f77b4;\" x=\"165.668824\" xlink:href=\"#m0be0bba02e\" y=\"109.210713\"/>\n     <use style=\"fill:#1f77b4;stroke:#1f77b4;\" x=\"106.528102\" xlink:href=\"#m0be0bba02e\" y=\"57.787052\"/>\n     <use style=\"fill:#1f77b4;stroke:#1f77b4;\" x=\"114.33833\" xlink:href=\"#m0be0bba02e\" y=\"58.336735\"/>\n     <use style=\"fill:#1f77b4;stroke:#1f77b4;\" x=\"94.981874\" xlink:href=\"#m0be0bba02e\" y=\"48.389153\"/>\n     <use style=\"fill:#1f77b4;stroke:#1f77b4;\" x=\"75.040126\" xlink:href=\"#m0be0bba02e\" y=\"45.433835\"/>\n     <use style=\"fill:#1f77b4;stroke:#1f77b4;\" x=\"132.804865\" xlink:href=\"#m0be0bba02e\" y=\"95.692231\"/>\n     <use style=\"fill:#1f77b4;stroke:#1f77b4;\" x=\"72.428114\" xlink:href=\"#m0be0bba02e\" y=\"47.276372\"/>\n     <use style=\"fill:#1f77b4;stroke:#1f77b4;\" x=\"164.184596\" xlink:href=\"#m0be0bba02e\" y=\"102.631328\"/>\n     <use style=\"fill:#1f77b4;stroke:#1f77b4;\" x=\"135.367147\" xlink:href=\"#m0be0bba02e\" y=\"84.84748\"/>\n     <use style=\"fill:#1f77b4;stroke:#1f77b4;\" x=\"100.547531\" xlink:href=\"#m0be0bba02e\" y=\"68.376115\"/>\n     <use style=\"fill:#1f77b4;stroke:#1f77b4;\" x=\"155.262759\" xlink:href=\"#m0be0bba02e\" y=\"101.776485\"/>\n     <use style=\"fill:#1f77b4;stroke:#1f77b4;\" x=\"133.93125\" xlink:href=\"#m0be0bba02e\" y=\"91.348855\"/>\n     <use style=\"fill:#1f77b4;stroke:#1f77b4;\" x=\"104.80496\" xlink:href=\"#m0be0bba02e\" y=\"66.25392\"/>\n     <use style=\"fill:#1f77b4;stroke:#1f77b4;\" x=\"143.872316\" xlink:href=\"#m0be0bba02e\" y=\"89.847707\"/>\n     <use style=\"fill:#1f77b4;stroke:#1f77b4;\" x=\"150.751943\" xlink:href=\"#m0be0bba02e\" y=\"86.311204\"/>\n     <use style=\"fill:#1f77b4;stroke:#1f77b4;\" x=\"146.610408\" xlink:href=\"#m0be0bba02e\" y=\"86.838868\"/>\n     <use style=\"fill:#1f77b4;stroke:#1f77b4;\" x=\"123.984906\" xlink:href=\"#m0be0bba02e\" y=\"88.887937\"/>\n     <use style=\"fill:#1f77b4;stroke:#1f77b4;\" x=\"168.961936\" xlink:href=\"#m0be0bba02e\" y=\"91.927042\"/>\n     <use style=\"fill:#1f77b4;stroke:#1f77b4;\" x=\"168.133333\" xlink:href=\"#m0be0bba02e\" y=\"98.669716\"/>\n     <use style=\"fill:#1f77b4;stroke:#1f77b4;\" x=\"160.84868\" xlink:href=\"#m0be0bba02e\" y=\"91.761944\"/>\n     <use style=\"fill:#1f77b4;stroke:#1f77b4;\" x=\"114.539249\" xlink:href=\"#m0be0bba02e\" y=\"68.875587\"/>\n     <use style=\"fill:#1f77b4;stroke:#1f77b4;\" x=\"124.036403\" xlink:href=\"#m0be0bba02e\" y=\"78.279161\"/>\n     <use style=\"fill:#1f77b4;stroke:#1f77b4;\" x=\"124.40296\" xlink:href=\"#m0be0bba02e\" y=\"72.366264\"/>\n     <use style=\"fill:#1f77b4;stroke:#1f77b4;\" x=\"101.147041\" xlink:href=\"#m0be0bba02e\" y=\"61.144128\"/>\n     <use style=\"fill:#1f77b4;stroke:#1f77b4;\" x=\"146.01536\" xlink:href=\"#m0be0bba02e\" y=\"92.78753\"/>\n     <use style=\"fill:#1f77b4;stroke:#1f77b4;\" x=\"55.889424\" xlink:href=\"#m0be0bba02e\" y=\"32.159804\"/>\n     <use style=\"fill:#1f77b4;stroke:#1f77b4;\" x=\"123.129786\" xlink:href=\"#m0be0bba02e\" y=\"75.333881\"/>\n     <use style=\"fill:#1f77b4;stroke:#1f77b4;\" x=\"99.054189\" xlink:href=\"#m0be0bba02e\" y=\"54.075402\"/>\n     <use style=\"fill:#1f77b4;stroke:#1f77b4;\" x=\"129.408169\" xlink:href=\"#m0be0bba02e\" y=\"77.373313\"/>\n     <use style=\"fill:#1f77b4;stroke:#1f77b4;\" x=\"143.939579\" xlink:href=\"#m0be0bba02e\" y=\"89.934404\"/>\n     <use style=\"fill:#1f77b4;stroke:#1f77b4;\" x=\"103.015838\" xlink:href=\"#m0be0bba02e\" y=\"67.696374\"/>\n     <use style=\"fill:#1f77b4;stroke:#1f77b4;\" x=\"136.772253\" xlink:href=\"#m0be0bba02e\" y=\"94.359735\"/>\n     <use style=\"fill:#1f77b4;stroke:#1f77b4;\" x=\"131.25637\" xlink:href=\"#m0be0bba02e\" y=\"83.477948\"/>\n     <use style=\"fill:#1f77b4;stroke:#1f77b4;\" x=\"139.782085\" xlink:href=\"#m0be0bba02e\" y=\"82.076983\"/>\n     <use style=\"fill:#1f77b4;stroke:#1f77b4;\" x=\"183.245697\" xlink:href=\"#m0be0bba02e\" y=\"102.081608\"/>\n     <use style=\"fill:#1f77b4;stroke:#1f77b4;\" x=\"76.436548\" xlink:href=\"#m0be0bba02e\" y=\"50.456607\"/>\n     <use style=\"fill:#1f77b4;stroke:#1f77b4;\" x=\"149.711961\" xlink:href=\"#m0be0bba02e\" y=\"100.369377\"/>\n     <use style=\"fill:#1f77b4;stroke:#1f77b4;\" x=\"145.49818\" xlink:href=\"#m0be0bba02e\" y=\"89.879211\"/>\n     <use style=\"fill:#1f77b4;stroke:#1f77b4;\" x=\"109.308691\" xlink:href=\"#m0be0bba02e\" y=\"65.214177\"/>\n     <use style=\"fill:#1f77b4;stroke:#1f77b4;\" x=\"162.84621\" xlink:href=\"#m0be0bba02e\" y=\"108.252393\"/>\n     <use style=\"fill:#1f77b4;stroke:#1f77b4;\" x=\"125.37352\" xlink:href=\"#m0be0bba02e\" y=\"78.764347\"/>\n     <use style=\"fill:#1f77b4;stroke:#1f77b4;\" x=\"189.638004\" xlink:href=\"#m0be0bba02e\" y=\"110.603915\"/>\n     <use style=\"fill:#1f77b4;stroke:#1f77b4;\" x=\"151.135275\" xlink:href=\"#m0be0bba02e\" y=\"99.909339\"/>\n     <use style=\"fill:#1f77b4;stroke:#1f77b4;\" x=\"134.999928\" xlink:href=\"#m0be0bba02e\" y=\"84.712941\"/>\n     <use style=\"fill:#1f77b4;stroke:#1f77b4;\" x=\"102.304159\" xlink:href=\"#m0be0bba02e\" y=\"58.363463\"/>\n     <use style=\"fill:#1f77b4;stroke:#1f77b4;\" x=\"96.460473\" xlink:href=\"#m0be0bba02e\" y=\"49.04773\"/>\n     <use style=\"fill:#1f77b4;stroke:#1f77b4;\" x=\"154.011057\" xlink:href=\"#m0be0bba02e\" y=\"67.473182\"/>\n     <use style=\"fill:#1f77b4;stroke:#1f77b4;\" x=\"107.422842\" xlink:href=\"#m0be0bba02e\" y=\"84.172086\"/>\n     <use style=\"fill:#1f77b4;stroke:#1f77b4;\" x=\"128.23418\" xlink:href=\"#m0be0bba02e\" y=\"66.663256\"/>\n     <use style=\"fill:#1f77b4;stroke:#1f77b4;\" x=\"107.918848\" xlink:href=\"#m0be0bba02e\" y=\"78.647708\"/>\n     <use style=\"fill:#1f77b4;stroke:#1f77b4;\" x=\"175.158888\" xlink:href=\"#m0be0bba02e\" y=\"108.409427\"/>\n     <use style=\"fill:#1f77b4;stroke:#1f77b4;\" x=\"113.834499\" xlink:href=\"#m0be0bba02e\" y=\"89.262637\"/>\n     <use style=\"fill:#1f77b4;stroke:#1f77b4;\" x=\"118.052983\" xlink:href=\"#m0be0bba02e\" y=\"48.617331\"/>\n     <use style=\"fill:#1f77b4;stroke:#1f77b4;\" x=\"105.979327\" xlink:href=\"#m0be0bba02e\" y=\"61.506193\"/>\n     <use style=\"fill:#1f77b4;stroke:#1f77b4;\" x=\"132.513228\" xlink:href=\"#m0be0bba02e\" y=\"93.350869\"/>\n     <use style=\"fill:#1f77b4;stroke:#1f77b4;\" x=\"99.467171\" xlink:href=\"#m0be0bba02e\" y=\"47.667467\"/>\n     <use style=\"fill:#1f77b4;stroke:#1f77b4;\" x=\"113.073258\" xlink:href=\"#m0be0bba02e\" y=\"75.7798\"/>\n     <use style=\"fill:#1f77b4;stroke:#1f77b4;\" x=\"83.073065\" xlink:href=\"#m0be0bba02e\" y=\"71.01671\"/>\n     <use style=\"fill:#1f77b4;stroke:#1f77b4;\" x=\"178.711619\" xlink:href=\"#m0be0bba02e\" y=\"121.119149\"/>\n     <use style=\"fill:#1f77b4;stroke:#1f77b4;\" x=\"133.400785\" xlink:href=\"#m0be0bba02e\" y=\"82.562852\"/>\n     <use style=\"fill:#1f77b4;stroke:#1f77b4;\" x=\"119.115805\" xlink:href=\"#m0be0bba02e\" y=\"81.223259\"/>\n     <use style=\"fill:#1f77b4;stroke:#1f77b4;\" x=\"138.235187\" xlink:href=\"#m0be0bba02e\" y=\"80.943529\"/>\n     <use style=\"fill:#1f77b4;stroke:#1f77b4;\" x=\"150.621593\" xlink:href=\"#m0be0bba02e\" y=\"105.725308\"/>\n     <use style=\"fill:#1f77b4;stroke:#1f77b4;\" x=\"156.320508\" xlink:href=\"#m0be0bba02e\" y=\"86.378329\"/>\n     <use style=\"fill:#1f77b4;stroke:#1f77b4;\" x=\"88.072277\" xlink:href=\"#m0be0bba02e\" y=\"53.470779\"/>\n     <use style=\"fill:#1f77b4;stroke:#1f77b4;\" x=\"118.346168\" xlink:href=\"#m0be0bba02e\" y=\"88.29841\"/>\n     <use style=\"fill:#1f77b4;stroke:#1f77b4;\" x=\"117.302415\" xlink:href=\"#m0be0bba02e\" y=\"63.164042\"/>\n     <use style=\"fill:#1f77b4;stroke:#1f77b4;\" x=\"154.724363\" xlink:href=\"#m0be0bba02e\" y=\"78.860746\"/>\n     <use style=\"fill:#1f77b4;stroke:#1f77b4;\" x=\"183.004329\" xlink:href=\"#m0be0bba02e\" y=\"112.118915\"/>\n     <use style=\"fill:#1f77b4;stroke:#1f77b4;\" x=\"148.797692\" xlink:href=\"#m0be0bba02e\" y=\"91.974279\"/>\n     <use style=\"fill:#1f77b4;stroke:#1f77b4;\" x=\"104.060143\" xlink:href=\"#m0be0bba02e\" y=\"52.053598\"/>\n     <use style=\"fill:#1f77b4;stroke:#1f77b4;\" x=\"99.198624\" xlink:href=\"#m0be0bba02e\" y=\"56.255927\"/>\n     <use style=\"fill:#1f77b4;stroke:#1f77b4;\" x=\"149.993538\" xlink:href=\"#m0be0bba02e\" y=\"90.742144\"/>\n     <use style=\"fill:#1f77b4;stroke:#1f77b4;\" x=\"118.761292\" xlink:href=\"#m0be0bba02e\" y=\"63.364135\"/>\n     <use style=\"fill:#1f77b4;stroke:#1f77b4;\" x=\"106.282722\" xlink:href=\"#m0be0bba02e\" y=\"78.231664\"/>\n     <use style=\"fill:#1f77b4;stroke:#1f77b4;\" x=\"140.686587\" xlink:href=\"#m0be0bba02e\" y=\"88.417574\"/>\n     <use style=\"fill:#1f77b4;stroke:#1f77b4;\" x=\"155.980508\" xlink:href=\"#m0be0bba02e\" y=\"88.497878\"/>\n     <use style=\"fill:#1f77b4;stroke:#1f77b4;\" x=\"144.186527\" xlink:href=\"#m0be0bba02e\" y=\"84.361114\"/>\n     <use style=\"fill:#1f77b4;stroke:#1f77b4;\" x=\"104.574981\" xlink:href=\"#m0be0bba02e\" y=\"78.428703\"/>\n     <use style=\"fill:#1f77b4;stroke:#1f77b4;\" x=\"162.591888\" xlink:href=\"#m0be0bba02e\" y=\"104.20551\"/>\n     <use style=\"fill:#1f77b4;stroke:#1f77b4;\" x=\"122.872931\" xlink:href=\"#m0be0bba02e\" y=\"79.20364\"/>\n     <use style=\"fill:#1f77b4;stroke:#1f77b4;\" x=\"104.941\" xlink:href=\"#m0be0bba02e\" y=\"82.496686\"/>\n     <use style=\"fill:#1f77b4;stroke:#1f77b4;\" x=\"104.91852\" xlink:href=\"#m0be0bba02e\" y=\"66.586773\"/>\n     <use style=\"fill:#1f77b4;stroke:#1f77b4;\" x=\"147.255104\" xlink:href=\"#m0be0bba02e\" y=\"79.91786\"/>\n     <use style=\"fill:#1f77b4;stroke:#1f77b4;\" x=\"106.51523\" xlink:href=\"#m0be0bba02e\" y=\"78.741419\"/>\n     <use style=\"fill:#1f77b4;stroke:#1f77b4;\" x=\"154.431872\" xlink:href=\"#m0be0bba02e\" y=\"80.676941\"/>\n     <use style=\"fill:#1f77b4;stroke:#1f77b4;\" x=\"117.292928\" xlink:href=\"#m0be0bba02e\" y=\"78.945667\"/>\n     <use style=\"fill:#1f77b4;stroke:#1f77b4;\" x=\"103.072842\" xlink:href=\"#m0be0bba02e\" y=\"44.297989\"/>\n     <use style=\"fill:#1f77b4;stroke:#1f77b4;\" x=\"161.418958\" xlink:href=\"#m0be0bba02e\" y=\"89.283859\"/>\n     <use style=\"fill:#1f77b4;stroke:#1f77b4;\" x=\"173.2417\" xlink:href=\"#m0be0bba02e\" y=\"109.193464\"/>\n     <use style=\"fill:#1f77b4;stroke:#1f77b4;\" x=\"76.212364\" xlink:href=\"#m0be0bba02e\" y=\"30.726777\"/>\n     <use style=\"fill:#1f77b4;stroke:#1f77b4;\" x=\"158.030823\" xlink:href=\"#m0be0bba02e\" y=\"94.130205\"/>\n     <use style=\"fill:#1f77b4;stroke:#1f77b4;\" x=\"148.000211\" xlink:href=\"#m0be0bba02e\" y=\"64.291505\"/>\n     <use style=\"fill:#1f77b4;stroke:#1f77b4;\" x=\"118.057479\" xlink:href=\"#m0be0bba02e\" y=\"62.399006\"/>\n     <use style=\"fill:#1f77b4;stroke:#1f77b4;\" x=\"123.191928\" xlink:href=\"#m0be0bba02e\" y=\"78.404207\"/>\n     <use style=\"fill:#1f77b4;stroke:#1f77b4;\" x=\"102.012834\" xlink:href=\"#m0be0bba02e\" y=\"73.66286\"/>\n     <use style=\"fill:#1f77b4;stroke:#1f77b4;\" x=\"199.058943\" xlink:href=\"#m0be0bba02e\" y=\"136.922727\"/>\n     <use style=\"fill:#1f77b4;stroke:#1f77b4;\" x=\"115.715907\" xlink:href=\"#m0be0bba02e\" y=\"71.605785\"/>\n     <use style=\"fill:#1f77b4;stroke:#1f77b4;\" x=\"117.736245\" xlink:href=\"#m0be0bba02e\" y=\"77.632406\"/>\n     <use style=\"fill:#1f77b4;stroke:#1f77b4;\" x=\"137.719024\" xlink:href=\"#m0be0bba02e\" y=\"89.111246\"/>\n     <use style=\"fill:#1f77b4;stroke:#1f77b4;\" x=\"146.741652\" xlink:href=\"#m0be0bba02e\" y=\"81.537371\"/>\n     <use style=\"fill:#1f77b4;stroke:#1f77b4;\" x=\"84.947681\" xlink:href=\"#m0be0bba02e\" y=\"65.478532\"/>\n     <use style=\"fill:#1f77b4;stroke:#1f77b4;\" x=\"78.654305\" xlink:href=\"#m0be0bba02e\" y=\"44.93841\"/>\n     <use style=\"fill:#1f77b4;stroke:#1f77b4;\" x=\"129.679496\" xlink:href=\"#m0be0bba02e\" y=\"85.156872\"/>\n     <use style=\"fill:#1f77b4;stroke:#1f77b4;\" x=\"59.224656\" xlink:href=\"#m0be0bba02e\" y=\"34.252229\"/>\n     <use style=\"fill:#1f77b4;stroke:#1f77b4;\" x=\"119.320259\" xlink:href=\"#m0be0bba02e\" y=\"74.620624\"/>\n     <use style=\"fill:#1f77b4;stroke:#1f77b4;\" x=\"114.635454\" xlink:href=\"#m0be0bba02e\" y=\"52.845173\"/>\n     <use style=\"fill:#1f77b4;stroke:#1f77b4;\" x=\"82.312186\" xlink:href=\"#m0be0bba02e\" y=\"72.521553\"/>\n     <use style=\"fill:#1f77b4;stroke:#1f77b4;\" x=\"103.012632\" xlink:href=\"#m0be0bba02e\" y=\"66.897729\"/>\n     <use style=\"fill:#1f77b4;stroke:#1f77b4;\" x=\"76.016215\" xlink:href=\"#m0be0bba02e\" y=\"39.498186\"/>\n     <use style=\"fill:#1f77b4;stroke:#1f77b4;\" x=\"126.818752\" xlink:href=\"#m0be0bba02e\" y=\"74.779922\"/>\n     <use style=\"fill:#1f77b4;stroke:#1f77b4;\" x=\"111.871985\" xlink:href=\"#m0be0bba02e\" y=\"71.721522\"/>\n     <use style=\"fill:#1f77b4;stroke:#1f77b4;\" x=\"147.990356\" xlink:href=\"#m0be0bba02e\" y=\"73.70059\"/>\n     <use style=\"fill:#1f77b4;stroke:#1f77b4;\" x=\"75.196303\" xlink:href=\"#m0be0bba02e\" y=\"60.518972\"/>\n     <use style=\"fill:#1f77b4;stroke:#1f77b4;\" x=\"168.246912\" xlink:href=\"#m0be0bba02e\" y=\"95.049617\"/>\n     <use style=\"fill:#1f77b4;stroke:#1f77b4;\" x=\"160.062237\" xlink:href=\"#m0be0bba02e\" y=\"106.259014\"/>\n     <use style=\"fill:#1f77b4;stroke:#1f77b4;\" x=\"150.964801\" xlink:href=\"#m0be0bba02e\" y=\"86.378383\"/>\n     <use style=\"fill:#1f77b4;stroke:#1f77b4;\" x=\"120.640203\" xlink:href=\"#m0be0bba02e\" y=\"65.370476\"/>\n     <use style=\"fill:#1f77b4;stroke:#1f77b4;\" x=\"118.423577\" xlink:href=\"#m0be0bba02e\" y=\"64.062597\"/>\n     <use style=\"fill:#1f77b4;stroke:#1f77b4;\" x=\"109.507236\" xlink:href=\"#m0be0bba02e\" y=\"85.805381\"/>\n     <use style=\"fill:#1f77b4;stroke:#1f77b4;\" x=\"120.443653\" xlink:href=\"#m0be0bba02e\" y=\"60.478074\"/>\n     <use style=\"fill:#1f77b4;stroke:#1f77b4;\" x=\"75.520775\" xlink:href=\"#m0be0bba02e\" y=\"36.980525\"/>\n     <use style=\"fill:#1f77b4;stroke:#1f77b4;\" x=\"152.033244\" xlink:href=\"#m0be0bba02e\" y=\"97.797811\"/>\n     <use style=\"fill:#1f77b4;stroke:#1f77b4;\" x=\"80.077104\" xlink:href=\"#m0be0bba02e\" y=\"61.517322\"/>\n     <use style=\"fill:#1f77b4;stroke:#1f77b4;\" x=\"129.260629\" xlink:href=\"#m0be0bba02e\" y=\"62.35052\"/>\n     <use style=\"fill:#1f77b4;stroke:#1f77b4;\" x=\"128.781857\" xlink:href=\"#m0be0bba02e\" y=\"82.194319\"/>\n     <use style=\"fill:#1f77b4;stroke:#1f77b4;\" x=\"129.421636\" xlink:href=\"#m0be0bba02e\" y=\"74.754673\"/>\n     <use style=\"fill:#1f77b4;stroke:#1f77b4;\" x=\"133.285634\" xlink:href=\"#m0be0bba02e\" y=\"99.503324\"/>\n     <use style=\"fill:#1f77b4;stroke:#1f77b4;\" x=\"140.712158\" xlink:href=\"#m0be0bba02e\" y=\"99.951867\"/>\n     <use style=\"fill:#1f77b4;stroke:#1f77b4;\" x=\"175.900049\" xlink:href=\"#m0be0bba02e\" y=\"119.975532\"/>\n     <use style=\"fill:#1f77b4;stroke:#1f77b4;\" x=\"162.143461\" xlink:href=\"#m0be0bba02e\" y=\"105.263577\"/>\n     <use style=\"fill:#1f77b4;stroke:#1f77b4;\" x=\"124.318495\" xlink:href=\"#m0be0bba02e\" y=\"63.912419\"/>\n     <use style=\"fill:#1f77b4;stroke:#1f77b4;\" x=\"161.439467\" xlink:href=\"#m0be0bba02e\" y=\"108.603427\"/>\n     <use style=\"fill:#1f77b4;stroke:#1f77b4;\" x=\"114.514188\" xlink:href=\"#m0be0bba02e\" y=\"74.689587\"/>\n     <use style=\"fill:#1f77b4;stroke:#1f77b4;\" x=\"157.025667\" xlink:href=\"#m0be0bba02e\" y=\"79.17612\"/>\n     <use style=\"fill:#1f77b4;stroke:#1f77b4;\" x=\"164.810774\" xlink:href=\"#m0be0bba02e\" y=\"106.456886\"/>\n     <use style=\"fill:#1f77b4;stroke:#1f77b4;\" x=\"189.024569\" xlink:href=\"#m0be0bba02e\" y=\"99.888262\"/>\n     <use style=\"fill:#1f77b4;stroke:#1f77b4;\" x=\"67.551577\" xlink:href=\"#m0be0bba02e\" y=\"52.117578\"/>\n     <use style=\"fill:#1f77b4;stroke:#1f77b4;\" x=\"110.928706\" xlink:href=\"#m0be0bba02e\" y=\"87.298347\"/>\n     <use style=\"fill:#1f77b4;stroke:#1f77b4;\" x=\"125.499005\" xlink:href=\"#m0be0bba02e\" y=\"83.18859\"/>\n     <use style=\"fill:#1f77b4;stroke:#1f77b4;\" x=\"98.599001\" xlink:href=\"#m0be0bba02e\" y=\"53.270435\"/>\n     <use style=\"fill:#1f77b4;stroke:#1f77b4;\" x=\"84.778003\" xlink:href=\"#m0be0bba02e\" y=\"64.938477\"/>\n     <use style=\"fill:#1f77b4;stroke:#1f77b4;\" x=\"142.683921\" xlink:href=\"#m0be0bba02e\" y=\"63.092938\"/>\n     <use style=\"fill:#1f77b4;stroke:#1f77b4;\" x=\"173.619613\" xlink:href=\"#m0be0bba02e\" y=\"106.798709\"/>\n     <use style=\"fill:#1f77b4;stroke:#1f77b4;\" x=\"165.512798\" xlink:href=\"#m0be0bba02e\" y=\"81.114749\"/>\n     <use style=\"fill:#1f77b4;stroke:#1f77b4;\" x=\"128.390921\" xlink:href=\"#m0be0bba02e\" y=\"89.665165\"/>\n     <use style=\"fill:#1f77b4;stroke:#1f77b4;\" x=\"165.981954\" xlink:href=\"#m0be0bba02e\" y=\"89.292579\"/>\n     <use style=\"fill:#1f77b4;stroke:#1f77b4;\" x=\"105.186201\" xlink:href=\"#m0be0bba02e\" y=\"63.180431\"/>\n     <use style=\"fill:#1f77b4;stroke:#1f77b4;\" x=\"126.503896\" xlink:href=\"#m0be0bba02e\" y=\"78.394251\"/>\n     <use style=\"fill:#1f77b4;stroke:#1f77b4;\" x=\"142.516615\" xlink:href=\"#m0be0bba02e\" y=\"65.466912\"/>\n     <use style=\"fill:#1f77b4;stroke:#1f77b4;\" x=\"127.051981\" xlink:href=\"#m0be0bba02e\" y=\"84.220828\"/>\n     <use style=\"fill:#1f77b4;stroke:#1f77b4;\" x=\"66.132547\" xlink:href=\"#m0be0bba02e\" y=\"40.047421\"/>\n     <use style=\"fill:#1f77b4;stroke:#1f77b4;\" x=\"118.631204\" xlink:href=\"#m0be0bba02e\" y=\"79.078864\"/>\n     <use style=\"fill:#1f77b4;stroke:#1f77b4;\" x=\"87.210764\" xlink:href=\"#m0be0bba02e\" y=\"62.933189\"/>\n     <use style=\"fill:#1f77b4;stroke:#1f77b4;\" x=\"128.598379\" xlink:href=\"#m0be0bba02e\" y=\"86.377754\"/>\n     <use style=\"fill:#1f77b4;stroke:#1f77b4;\" x=\"135.257495\" xlink:href=\"#m0be0bba02e\" y=\"87.82668\"/>\n     <use style=\"fill:#1f77b4;stroke:#1f77b4;\" x=\"113.81555\" xlink:href=\"#m0be0bba02e\" y=\"65.961165\"/>\n     <use style=\"fill:#1f77b4;stroke:#1f77b4;\" x=\"139.264238\" xlink:href=\"#m0be0bba02e\" y=\"71.413204\"/>\n     <use style=\"fill:#1f77b4;stroke:#1f77b4;\" x=\"161.318641\" xlink:href=\"#m0be0bba02e\" y=\"82.20246\"/>\n     <use style=\"fill:#1f77b4;stroke:#1f77b4;\" x=\"99.188809\" xlink:href=\"#m0be0bba02e\" y=\"46.409914\"/>\n     <use style=\"fill:#1f77b4;stroke:#1f77b4;\" x=\"122.204266\" xlink:href=\"#m0be0bba02e\" y=\"58.263542\"/>\n     <use style=\"fill:#1f77b4;stroke:#1f77b4;\" x=\"110.487545\" xlink:href=\"#m0be0bba02e\" y=\"54.938156\"/>\n     <use style=\"fill:#1f77b4;stroke:#1f77b4;\" x=\"137.499525\" xlink:href=\"#m0be0bba02e\" y=\"81.592492\"/>\n     <use style=\"fill:#1f77b4;stroke:#1f77b4;\" x=\"118.065347\" xlink:href=\"#m0be0bba02e\" y=\"72.875635\"/>\n     <use style=\"fill:#1f77b4;stroke:#1f77b4;\" x=\"185.339537\" xlink:href=\"#m0be0bba02e\" y=\"129.583844\"/>\n     <use style=\"fill:#1f77b4;stroke:#1f77b4;\" x=\"139.600593\" xlink:href=\"#m0be0bba02e\" y=\"96.591272\"/>\n     <use style=\"fill:#1f77b4;stroke:#1f77b4;\" x=\"159.558138\" xlink:href=\"#m0be0bba02e\" y=\"81.041639\"/>\n     <use style=\"fill:#1f77b4;stroke:#1f77b4;\" x=\"137.722374\" xlink:href=\"#m0be0bba02e\" y=\"68.294828\"/>\n     <use style=\"fill:#1f77b4;stroke:#1f77b4;\" x=\"112.649871\" xlink:href=\"#m0be0bba02e\" y=\"81.484954\"/>\n     <use style=\"fill:#1f77b4;stroke:#1f77b4;\" x=\"86.10404\" xlink:href=\"#m0be0bba02e\" y=\"52.701651\"/>\n     <use style=\"fill:#1f77b4;stroke:#1f77b4;\" x=\"93.548472\" xlink:href=\"#m0be0bba02e\" y=\"49.16107\"/>\n     <use style=\"fill:#1f77b4;stroke:#1f77b4;\" x=\"99.592241\" xlink:href=\"#m0be0bba02e\" y=\"55.268637\"/>\n     <use style=\"fill:#1f77b4;stroke:#1f77b4;\" x=\"119.024696\" xlink:href=\"#m0be0bba02e\" y=\"81.219965\"/>\n     <use style=\"fill:#1f77b4;stroke:#1f77b4;\" x=\"111.598385\" xlink:href=\"#m0be0bba02e\" y=\"49.485631\"/>\n     <use style=\"fill:#1f77b4;stroke:#1f77b4;\" x=\"124.61739\" xlink:href=\"#m0be0bba02e\" y=\"63.654509\"/>\n     <use style=\"fill:#1f77b4;stroke:#1f77b4;\" x=\"104.973402\" xlink:href=\"#m0be0bba02e\" y=\"55.941107\"/>\n     <use style=\"fill:#1f77b4;stroke:#1f77b4;\" x=\"115.084535\" xlink:href=\"#m0be0bba02e\" y=\"60.971121\"/>\n     <use style=\"fill:#1f77b4;stroke:#1f77b4;\" x=\"118.486736\" xlink:href=\"#m0be0bba02e\" y=\"87.242379\"/>\n     <use style=\"fill:#1f77b4;stroke:#1f77b4;\" x=\"135.387432\" xlink:href=\"#m0be0bba02e\" y=\"79.777707\"/>\n     <use style=\"fill:#1f77b4;stroke:#1f77b4;\" x=\"119.438317\" xlink:href=\"#m0be0bba02e\" y=\"77.46722\"/>\n     <use style=\"fill:#1f77b4;stroke:#1f77b4;\" x=\"128.535174\" xlink:href=\"#m0be0bba02e\" y=\"102.859711\"/>\n     <use style=\"fill:#1f77b4;stroke:#1f77b4;\" x=\"141.12484\" xlink:href=\"#m0be0bba02e\" y=\"65.052377\"/>\n     <use style=\"fill:#1f77b4;stroke:#1f77b4;\" x=\"118.568783\" xlink:href=\"#m0be0bba02e\" y=\"70.585046\"/>\n     <use style=\"fill:#1f77b4;stroke:#1f77b4;\" x=\"164.820874\" xlink:href=\"#m0be0bba02e\" y=\"107.865636\"/>\n     <use style=\"fill:#1f77b4;stroke:#1f77b4;\" x=\"88.744307\" xlink:href=\"#m0be0bba02e\" y=\"53.839911\"/>\n     <use style=\"fill:#1f77b4;stroke:#1f77b4;\" x=\"109.527538\" xlink:href=\"#m0be0bba02e\" y=\"60.075471\"/>\n     <use style=\"fill:#1f77b4;stroke:#1f77b4;\" x=\"152.637498\" xlink:href=\"#m0be0bba02e\" y=\"89.29682\"/>\n     <use style=\"fill:#1f77b4;stroke:#1f77b4;\" x=\"133.360604\" xlink:href=\"#m0be0bba02e\" y=\"87.305491\"/>\n     <use style=\"fill:#1f77b4;stroke:#1f77b4;\" x=\"145.05723\" xlink:href=\"#m0be0bba02e\" y=\"84.696649\"/>\n     <use style=\"fill:#1f77b4;stroke:#1f77b4;\" x=\"136.747909\" xlink:href=\"#m0be0bba02e\" y=\"64.354509\"/>\n     <use style=\"fill:#1f77b4;stroke:#1f77b4;\" x=\"135.170914\" xlink:href=\"#m0be0bba02e\" y=\"91.729588\"/>\n     <use style=\"fill:#1f77b4;stroke:#1f77b4;\" x=\"132.280574\" xlink:href=\"#m0be0bba02e\" y=\"94.156024\"/>\n     <use style=\"fill:#1f77b4;stroke:#1f77b4;\" x=\"140.274556\" xlink:href=\"#m0be0bba02e\" y=\"72.531721\"/>\n     <use style=\"fill:#1f77b4;stroke:#1f77b4;\" x=\"123.782721\" xlink:href=\"#m0be0bba02e\" y=\"71.033073\"/>\n     <use style=\"fill:#1f77b4;stroke:#1f77b4;\" x=\"90.803027\" xlink:href=\"#m0be0bba02e\" y=\"60.200288\"/>\n     <use style=\"fill:#1f77b4;stroke:#1f77b4;\" x=\"115.063327\" xlink:href=\"#m0be0bba02e\" y=\"62.761847\"/>\n     <use style=\"fill:#1f77b4;stroke:#1f77b4;\" x=\"112.357822\" xlink:href=\"#m0be0bba02e\" y=\"59.477917\"/>\n     <use style=\"fill:#1f77b4;stroke:#1f77b4;\" x=\"119.841447\" xlink:href=\"#m0be0bba02e\" y=\"68.386102\"/>\n     <use style=\"fill:#1f77b4;stroke:#1f77b4;\" x=\"142.945046\" xlink:href=\"#m0be0bba02e\" y=\"89.373151\"/>\n     <use style=\"fill:#1f77b4;stroke:#1f77b4;\" x=\"114.633815\" xlink:href=\"#m0be0bba02e\" y=\"65.69449\"/>\n     <use style=\"fill:#1f77b4;stroke:#1f77b4;\" x=\"152.477417\" xlink:href=\"#m0be0bba02e\" y=\"95.667149\"/>\n     <use style=\"fill:#1f77b4;stroke:#1f77b4;\" x=\"149.947991\" xlink:href=\"#m0be0bba02e\" y=\"95.047067\"/>\n     <use style=\"fill:#1f77b4;stroke:#1f77b4;\" x=\"133.123531\" xlink:href=\"#m0be0bba02e\" y=\"102.48543\"/>\n     <use style=\"fill:#1f77b4;stroke:#1f77b4;\" x=\"84.323955\" xlink:href=\"#m0be0bba02e\" y=\"63.655681\"/>\n     <use style=\"fill:#1f77b4;stroke:#1f77b4;\" x=\"132.797973\" xlink:href=\"#m0be0bba02e\" y=\"71.113484\"/>\n     <use style=\"fill:#1f77b4;stroke:#1f77b4;\" x=\"121.724019\" xlink:href=\"#m0be0bba02e\" y=\"76.687983\"/>\n     <use style=\"fill:#1f77b4;stroke:#1f77b4;\" x=\"157.296831\" xlink:href=\"#m0be0bba02e\" y=\"96.954987\"/>\n     <use style=\"fill:#1f77b4;stroke:#1f77b4;\" x=\"154.49542\" xlink:href=\"#m0be0bba02e\" y=\"90.944979\"/>\n     <use style=\"fill:#1f77b4;stroke:#1f77b4;\" x=\"85.920931\" xlink:href=\"#m0be0bba02e\" y=\"62.425084\"/>\n     <use style=\"fill:#1f77b4;stroke:#1f77b4;\" x=\"181.54669\" xlink:href=\"#m0be0bba02e\" y=\"106.494874\"/>\n     <use style=\"fill:#1f77b4;stroke:#1f77b4;\" x=\"119.13074\" xlink:href=\"#m0be0bba02e\" y=\"73.900884\"/>\n     <use style=\"fill:#1f77b4;stroke:#1f77b4;\" x=\"100.708468\" xlink:href=\"#m0be0bba02e\" y=\"75.317401\"/>\n     <use style=\"fill:#1f77b4;stroke:#1f77b4;\" x=\"135.466767\" xlink:href=\"#m0be0bba02e\" y=\"88.62126\"/>\n     <use style=\"fill:#1f77b4;stroke:#1f77b4;\" x=\"171.754726\" xlink:href=\"#m0be0bba02e\" y=\"88.2006\"/>\n     <use style=\"fill:#1f77b4;stroke:#1f77b4;\" x=\"129.38434\" xlink:href=\"#m0be0bba02e\" y=\"83.193437\"/>\n     <use style=\"fill:#1f77b4;stroke:#1f77b4;\" x=\"114.489157\" xlink:href=\"#m0be0bba02e\" y=\"51.57945\"/>\n     <use style=\"fill:#1f77b4;stroke:#1f77b4;\" x=\"139.493382\" xlink:href=\"#m0be0bba02e\" y=\"90.16991\"/>\n     <use style=\"fill:#1f77b4;stroke:#1f77b4;\" x=\"168.036887\" xlink:href=\"#m0be0bba02e\" y=\"116.128699\"/>\n     <use style=\"fill:#1f77b4;stroke:#1f77b4;\" x=\"134.869141\" xlink:href=\"#m0be0bba02e\" y=\"101.021656\"/>\n     <use style=\"fill:#1f77b4;stroke:#1f77b4;\" x=\"109.901459\" xlink:href=\"#m0be0bba02e\" y=\"72.102616\"/>\n     <use style=\"fill:#1f77b4;stroke:#1f77b4;\" x=\"170.979441\" xlink:href=\"#m0be0bba02e\" y=\"111.262544\"/>\n     <use style=\"fill:#1f77b4;stroke:#1f77b4;\" x=\"113.255528\" xlink:href=\"#m0be0bba02e\" y=\"57.336977\"/>\n     <use style=\"fill:#1f77b4;stroke:#1f77b4;\" x=\"142.338959\" xlink:href=\"#m0be0bba02e\" y=\"81.601091\"/>\n     <use style=\"fill:#1f77b4;stroke:#1f77b4;\" x=\"154.102525\" xlink:href=\"#m0be0bba02e\" y=\"90.493718\"/>\n     <use style=\"fill:#1f77b4;stroke:#1f77b4;\" x=\"162.224543\" xlink:href=\"#m0be0bba02e\" y=\"107.009166\"/>\n     <use style=\"fill:#1f77b4;stroke:#1f77b4;\" x=\"117.617318\" xlink:href=\"#m0be0bba02e\" y=\"65.844968\"/>\n     <use style=\"fill:#1f77b4;stroke:#1f77b4;\" x=\"115.581447\" xlink:href=\"#m0be0bba02e\" y=\"69.586065\"/>\n     <use style=\"fill:#1f77b4;stroke:#1f77b4;\" x=\"116.678637\" xlink:href=\"#m0be0bba02e\" y=\"78.270666\"/>\n     <use style=\"fill:#1f77b4;stroke:#1f77b4;\" x=\"105.955305\" xlink:href=\"#m0be0bba02e\" y=\"51.010382\"/>\n     <use style=\"fill:#1f77b4;stroke:#1f77b4;\" x=\"145.718949\" xlink:href=\"#m0be0bba02e\" y=\"89.980921\"/>\n     <use style=\"fill:#1f77b4;stroke:#1f77b4;\" x=\"131.604597\" xlink:href=\"#m0be0bba02e\" y=\"71.286864\"/>\n     <use style=\"fill:#1f77b4;stroke:#1f77b4;\" x=\"164.432237\" xlink:href=\"#m0be0bba02e\" y=\"113.731361\"/>\n     <use style=\"fill:#1f77b4;stroke:#1f77b4;\" x=\"133.867497\" xlink:href=\"#m0be0bba02e\" y=\"80.755867\"/>\n     <use style=\"fill:#1f77b4;stroke:#1f77b4;\" x=\"98.541419\" xlink:href=\"#m0be0bba02e\" y=\"64.031683\"/>\n     <use style=\"fill:#1f77b4;stroke:#1f77b4;\" x=\"95.951608\" xlink:href=\"#m0be0bba02e\" y=\"42.647811\"/>\n     <use style=\"fill:#1f77b4;stroke:#1f77b4;\" x=\"159.411925\" xlink:href=\"#m0be0bba02e\" y=\"95.038749\"/>\n     <use style=\"fill:#1f77b4;stroke:#1f77b4;\" x=\"140.433139\" xlink:href=\"#m0be0bba02e\" y=\"81.953543\"/>\n     <use style=\"fill:#1f77b4;stroke:#1f77b4;\" x=\"70.389704\" xlink:href=\"#m0be0bba02e\" y=\"38.644731\"/>\n     <use style=\"fill:#1f77b4;stroke:#1f77b4;\" x=\"165.239567\" xlink:href=\"#m0be0bba02e\" y=\"104.158611\"/>\n     <use style=\"fill:#1f77b4;stroke:#1f77b4;\" x=\"174.770942\" xlink:href=\"#m0be0bba02e\" y=\"98.304152\"/>\n     <use style=\"fill:#1f77b4;stroke:#1f77b4;\" x=\"85.4635\" xlink:href=\"#m0be0bba02e\" y=\"46.041524\"/>\n     <use style=\"fill:#1f77b4;stroke:#1f77b4;\" x=\"118.721642\" xlink:href=\"#m0be0bba02e\" y=\"64.940366\"/>\n     <use style=\"fill:#1f77b4;stroke:#1f77b4;\" x=\"150.342142\" xlink:href=\"#m0be0bba02e\" y=\"85.99069\"/>\n     <use style=\"fill:#1f77b4;stroke:#1f77b4;\" x=\"125.968093\" xlink:href=\"#m0be0bba02e\" y=\"93.00853\"/>\n     <use style=\"fill:#1f77b4;stroke:#1f77b4;\" x=\"108.703758\" xlink:href=\"#m0be0bba02e\" y=\"75.470036\"/>\n     <use style=\"fill:#1f77b4;stroke:#1f77b4;\" x=\"116.671309\" xlink:href=\"#m0be0bba02e\" y=\"73.817899\"/>\n     <use style=\"fill:#1f77b4;stroke:#1f77b4;\" x=\"136.27284\" xlink:href=\"#m0be0bba02e\" y=\"80.420268\"/>\n     <use style=\"fill:#1f77b4;stroke:#1f77b4;\" x=\"136.422077\" xlink:href=\"#m0be0bba02e\" y=\"88.301547\"/>\n     <use style=\"fill:#1f77b4;stroke:#1f77b4;\" x=\"106.483104\" xlink:href=\"#m0be0bba02e\" y=\"74.558627\"/>\n     <use style=\"fill:#1f77b4;stroke:#1f77b4;\" x=\"52.147569\" xlink:href=\"#m0be0bba02e\" y=\"35.561432\"/>\n     <use style=\"fill:#1f77b4;stroke:#1f77b4;\" x=\"147.412864\" xlink:href=\"#m0be0bba02e\" y=\"75.24957\"/>\n     <use style=\"fill:#1f77b4;stroke:#1f77b4;\" x=\"133.646075\" xlink:href=\"#m0be0bba02e\" y=\"56.179655\"/>\n     <use style=\"fill:#1f77b4;stroke:#1f77b4;\" x=\"146.414055\" xlink:href=\"#m0be0bba02e\" y=\"90.977738\"/>\n     <use style=\"fill:#1f77b4;stroke:#1f77b4;\" x=\"119.816836\" xlink:href=\"#m0be0bba02e\" y=\"43.329133\"/>\n     <use style=\"fill:#1f77b4;stroke:#1f77b4;\" x=\"150.638221\" xlink:href=\"#m0be0bba02e\" y=\"81.107053\"/>\n     <use style=\"fill:#1f77b4;stroke:#1f77b4;\" x=\"105.37733\" xlink:href=\"#m0be0bba02e\" y=\"73.113296\"/>\n     <use style=\"fill:#1f77b4;stroke:#1f77b4;\" x=\"145.250905\" xlink:href=\"#m0be0bba02e\" y=\"93.951365\"/>\n     <use style=\"fill:#1f77b4;stroke:#1f77b4;\" x=\"115.672721\" xlink:href=\"#m0be0bba02e\" y=\"65.444719\"/>\n     <use style=\"fill:#1f77b4;stroke:#1f77b4;\" x=\"104.357767\" xlink:href=\"#m0be0bba02e\" y=\"63.546112\"/>\n     <use style=\"fill:#1f77b4;stroke:#1f77b4;\" x=\"70.867452\" xlink:href=\"#m0be0bba02e\" y=\"60.77586\"/>\n     <use style=\"fill:#1f77b4;stroke:#1f77b4;\" x=\"125.93513\" xlink:href=\"#m0be0bba02e\" y=\"80.133203\"/>\n     <use style=\"fill:#1f77b4;stroke:#1f77b4;\" x=\"147.630303\" xlink:href=\"#m0be0bba02e\" y=\"73.177551\"/>\n     <use style=\"fill:#1f77b4;stroke:#1f77b4;\" x=\"98.487532\" xlink:href=\"#m0be0bba02e\" y=\"58.227789\"/>\n     <use style=\"fill:#1f77b4;stroke:#1f77b4;\" x=\"113.948828\" xlink:href=\"#m0be0bba02e\" y=\"66.705706\"/>\n     <use style=\"fill:#1f77b4;stroke:#1f77b4;\" x=\"151.195037\" xlink:href=\"#m0be0bba02e\" y=\"82.984077\"/>\n     <use style=\"fill:#1f77b4;stroke:#1f77b4;\" x=\"134.423286\" xlink:href=\"#m0be0bba02e\" y=\"79.605704\"/>\n     <use style=\"fill:#1f77b4;stroke:#1f77b4;\" x=\"120.588633\" xlink:href=\"#m0be0bba02e\" y=\"84.741602\"/>\n     <use style=\"fill:#1f77b4;stroke:#1f77b4;\" x=\"120.709837\" xlink:href=\"#m0be0bba02e\" y=\"81.5827\"/>\n     <use style=\"fill:#1f77b4;stroke:#1f77b4;\" x=\"143.850065\" xlink:href=\"#m0be0bba02e\" y=\"72.202004\"/>\n     <use style=\"fill:#1f77b4;stroke:#1f77b4;\" x=\"108.728833\" xlink:href=\"#m0be0bba02e\" y=\"57.377878\"/>\n     <use style=\"fill:#1f77b4;stroke:#1f77b4;\" x=\"116.736917\" xlink:href=\"#m0be0bba02e\" y=\"67.825494\"/>\n     <use style=\"fill:#1f77b4;stroke:#1f77b4;\" x=\"69.284994\" xlink:href=\"#m0be0bba02e\" y=\"51.930715\"/>\n     <use style=\"fill:#1f77b4;stroke:#1f77b4;\" x=\"148.55718\" xlink:href=\"#m0be0bba02e\" y=\"114.050865\"/>\n     <use style=\"fill:#1f77b4;stroke:#1f77b4;\" x=\"105.32098\" xlink:href=\"#m0be0bba02e\" y=\"64.616838\"/>\n     <use style=\"fill:#1f77b4;stroke:#1f77b4;\" x=\"166.312525\" xlink:href=\"#m0be0bba02e\" y=\"104.562537\"/>\n     <use style=\"fill:#1f77b4;stroke:#1f77b4;\" x=\"130.847391\" xlink:href=\"#m0be0bba02e\" y=\"70.593168\"/>\n     <use style=\"fill:#1f77b4;stroke:#1f77b4;\" x=\"112.098231\" xlink:href=\"#m0be0bba02e\" y=\"76.077778\"/>\n     <use style=\"fill:#1f77b4;stroke:#1f77b4;\" x=\"153.997106\" xlink:href=\"#m0be0bba02e\" y=\"84.611424\"/>\n     <use style=\"fill:#1f77b4;stroke:#1f77b4;\" x=\"134.337163\" xlink:href=\"#m0be0bba02e\" y=\"84.807636\"/>\n     <use style=\"fill:#1f77b4;stroke:#1f77b4;\" x=\"80.067464\" xlink:href=\"#m0be0bba02e\" y=\"56.403502\"/>\n     <use style=\"fill:#1f77b4;stroke:#1f77b4;\" x=\"137.840089\" xlink:href=\"#m0be0bba02e\" y=\"71.34614\"/>\n     <use style=\"fill:#1f77b4;stroke:#1f77b4;\" x=\"139.017824\" xlink:href=\"#m0be0bba02e\" y=\"75.835648\"/>\n     <use style=\"fill:#1f77b4;stroke:#1f77b4;\" x=\"120.329123\" xlink:href=\"#m0be0bba02e\" y=\"83.136059\"/>\n     <use style=\"fill:#1f77b4;stroke:#1f77b4;\" x=\"116.351232\" xlink:href=\"#m0be0bba02e\" y=\"57.854321\"/>\n     <use style=\"fill:#1f77b4;stroke:#1f77b4;\" x=\"161.362231\" xlink:href=\"#m0be0bba02e\" y=\"113.895728\"/>\n     <use style=\"fill:#1f77b4;stroke:#1f77b4;\" x=\"154.932752\" xlink:href=\"#m0be0bba02e\" y=\"104.435546\"/>\n     <use style=\"fill:#1f77b4;stroke:#1f77b4;\" x=\"100.31534\" xlink:href=\"#m0be0bba02e\" y=\"55.39017\"/>\n     <use style=\"fill:#1f77b4;stroke:#1f77b4;\" x=\"145.485499\" xlink:href=\"#m0be0bba02e\" y=\"78.743712\"/>\n     <use style=\"fill:#1f77b4;stroke:#1f77b4;\" x=\"106.067114\" xlink:href=\"#m0be0bba02e\" y=\"49.283793\"/>\n     <use style=\"fill:#1f77b4;stroke:#1f77b4;\" x=\"130.457056\" xlink:href=\"#m0be0bba02e\" y=\"94.534633\"/>\n     <use style=\"fill:#1f77b4;stroke:#1f77b4;\" x=\"102.444918\" xlink:href=\"#m0be0bba02e\" y=\"58.452111\"/>\n     <use style=\"fill:#1f77b4;stroke:#1f77b4;\" x=\"86.571607\" xlink:href=\"#m0be0bba02e\" y=\"55.638157\"/>\n     <use style=\"fill:#1f77b4;stroke:#1f77b4;\" x=\"83.870804\" xlink:href=\"#m0be0bba02e\" y=\"50.464264\"/>\n     <use style=\"fill:#1f77b4;stroke:#1f77b4;\" x=\"82.765558\" xlink:href=\"#m0be0bba02e\" y=\"44.169709\"/>\n     <use style=\"fill:#1f77b4;stroke:#1f77b4;\" x=\"101.370673\" xlink:href=\"#m0be0bba02e\" y=\"61.19165\"/>\n     <use style=\"fill:#1f77b4;stroke:#1f77b4;\" x=\"117.162156\" xlink:href=\"#m0be0bba02e\" y=\"74.509178\"/>\n     <use style=\"fill:#1f77b4;stroke:#1f77b4;\" x=\"66.015258\" xlink:href=\"#m0be0bba02e\" y=\"38.738402\"/>\n     <use style=\"fill:#1f77b4;stroke:#1f77b4;\" x=\"89.295283\" xlink:href=\"#m0be0bba02e\" y=\"57.744481\"/>\n     <use style=\"fill:#1f77b4;stroke:#1f77b4;\" x=\"111.527662\" xlink:href=\"#m0be0bba02e\" y=\"60.355621\"/>\n     <use style=\"fill:#1f77b4;stroke:#1f77b4;\" x=\"104.898762\" xlink:href=\"#m0be0bba02e\" y=\"64.934825\"/>\n     <use style=\"fill:#1f77b4;stroke:#1f77b4;\" x=\"66.587923\" xlink:href=\"#m0be0bba02e\" y=\"47.388681\"/>\n     <use style=\"fill:#1f77b4;stroke:#1f77b4;\" x=\"124.136115\" xlink:href=\"#m0be0bba02e\" y=\"75.556536\"/>\n     <use style=\"fill:#1f77b4;stroke:#1f77b4;\" x=\"133.778058\" xlink:href=\"#m0be0bba02e\" y=\"70.688494\"/>\n     <use style=\"fill:#1f77b4;stroke:#1f77b4;\" x=\"159.826824\" xlink:href=\"#m0be0bba02e\" y=\"90.229511\"/>\n     <use style=\"fill:#1f77b4;stroke:#1f77b4;\" x=\"107.916491\" xlink:href=\"#m0be0bba02e\" y=\"89.029026\"/>\n     <use style=\"fill:#1f77b4;stroke:#1f77b4;\" x=\"152.24023\" xlink:href=\"#m0be0bba02e\" y=\"93.695941\"/>\n     <use style=\"fill:#1f77b4;stroke:#1f77b4;\" x=\"117.64415\" xlink:href=\"#m0be0bba02e\" y=\"60.145096\"/>\n     <use style=\"fill:#1f77b4;stroke:#1f77b4;\" x=\"134.677839\" xlink:href=\"#m0be0bba02e\" y=\"101.819271\"/>\n     <use style=\"fill:#1f77b4;stroke:#1f77b4;\" x=\"109.509166\" xlink:href=\"#m0be0bba02e\" y=\"65.446808\"/>\n     <use style=\"fill:#1f77b4;stroke:#1f77b4;\" x=\"133.475984\" xlink:href=\"#m0be0bba02e\" y=\"72.415924\"/>\n     <use style=\"fill:#1f77b4;stroke:#1f77b4;\" x=\"100.807371\" xlink:href=\"#m0be0bba02e\" y=\"85.499469\"/>\n     <use style=\"fill:#1f77b4;stroke:#1f77b4;\" x=\"174.553038\" xlink:href=\"#m0be0bba02e\" y=\"101.492896\"/>\n     <use style=\"fill:#1f77b4;stroke:#1f77b4;\" x=\"90.008414\" xlink:href=\"#m0be0bba02e\" y=\"38.883343\"/>\n     <use style=\"fill:#1f77b4;stroke:#1f77b4;\" x=\"90.911337\" xlink:href=\"#m0be0bba02e\" y=\"60.151976\"/>\n     <use style=\"fill:#1f77b4;stroke:#1f77b4;\" x=\"85.765574\" xlink:href=\"#m0be0bba02e\" y=\"50.031914\"/>\n     <use style=\"fill:#1f77b4;stroke:#1f77b4;\" x=\"152.86319\" xlink:href=\"#m0be0bba02e\" y=\"108.615395\"/>\n     <use style=\"fill:#1f77b4;stroke:#1f77b4;\" x=\"123.281887\" xlink:href=\"#m0be0bba02e\" y=\"64.02723\"/>\n     <use style=\"fill:#1f77b4;stroke:#1f77b4;\" x=\"134.738162\" xlink:href=\"#m0be0bba02e\" y=\"80.197389\"/>\n     <use style=\"fill:#1f77b4;stroke:#1f77b4;\" x=\"140.31015\" xlink:href=\"#m0be0bba02e\" y=\"82.566395\"/>\n     <use style=\"fill:#1f77b4;stroke:#1f77b4;\" x=\"97.745201\" xlink:href=\"#m0be0bba02e\" y=\"58.951458\"/>\n     <use style=\"fill:#1f77b4;stroke:#1f77b4;\" x=\"121.281466\" xlink:href=\"#m0be0bba02e\" y=\"68.212401\"/>\n     <use style=\"fill:#1f77b4;stroke:#1f77b4;\" x=\"141.213004\" xlink:href=\"#m0be0bba02e\" y=\"88.209179\"/>\n     <use style=\"fill:#1f77b4;stroke:#1f77b4;\" x=\"145.863743\" xlink:href=\"#m0be0bba02e\" y=\"93.613697\"/>\n     <use style=\"fill:#1f77b4;stroke:#1f77b4;\" x=\"159.368048\" xlink:href=\"#m0be0bba02e\" y=\"79.309665\"/>\n     <use style=\"fill:#1f77b4;stroke:#1f77b4;\" x=\"123.348588\" xlink:href=\"#m0be0bba02e\" y=\"70.11165\"/>\n     <use style=\"fill:#1f77b4;stroke:#1f77b4;\" x=\"140.528688\" xlink:href=\"#m0be0bba02e\" y=\"104.756818\"/>\n     <use style=\"fill:#1f77b4;stroke:#1f77b4;\" x=\"128.278846\" xlink:href=\"#m0be0bba02e\" y=\"54.847806\"/>\n     <use style=\"fill:#1f77b4;stroke:#1f77b4;\" x=\"126.975616\" xlink:href=\"#m0be0bba02e\" y=\"85.144783\"/>\n     <use style=\"fill:#1f77b4;stroke:#1f77b4;\" x=\"98.487767\" xlink:href=\"#m0be0bba02e\" y=\"82.350218\"/>\n     <use style=\"fill:#1f77b4;stroke:#1f77b4;\" x=\"121.816237\" xlink:href=\"#m0be0bba02e\" y=\"76.272651\"/>\n     <use style=\"fill:#1f77b4;stroke:#1f77b4;\" x=\"95.555114\" xlink:href=\"#m0be0bba02e\" y=\"54.936926\"/>\n     <use style=\"fill:#1f77b4;stroke:#1f77b4;\" x=\"95.534948\" xlink:href=\"#m0be0bba02e\" y=\"51.995701\"/>\n     <use style=\"fill:#1f77b4;stroke:#1f77b4;\" x=\"129.64929\" xlink:href=\"#m0be0bba02e\" y=\"85.39894\"/>\n     <use style=\"fill:#1f77b4;stroke:#1f77b4;\" x=\"162.312955\" xlink:href=\"#m0be0bba02e\" y=\"94.832588\"/>\n     <use style=\"fill:#1f77b4;stroke:#1f77b4;\" x=\"171.474899\" xlink:href=\"#m0be0bba02e\" y=\"127.122126\"/>\n     <use style=\"fill:#1f77b4;stroke:#1f77b4;\" x=\"102.655162\" xlink:href=\"#m0be0bba02e\" y=\"73.440245\"/>\n     <use style=\"fill:#1f77b4;stroke:#1f77b4;\" x=\"177.220979\" xlink:href=\"#m0be0bba02e\" y=\"108.230968\"/>\n     <use style=\"fill:#1f77b4;stroke:#1f77b4;\" x=\"135.872805\" xlink:href=\"#m0be0bba02e\" y=\"101.023877\"/>\n     <use style=\"fill:#1f77b4;stroke:#1f77b4;\" x=\"116.849794\" xlink:href=\"#m0be0bba02e\" y=\"76.609066\"/>\n     <use style=\"fill:#1f77b4;stroke:#1f77b4;\" x=\"117.892813\" xlink:href=\"#m0be0bba02e\" y=\"73.21383\"/>\n     <use style=\"fill:#1f77b4;stroke:#1f77b4;\" x=\"180.024365\" xlink:href=\"#m0be0bba02e\" y=\"105.659371\"/>\n     <use style=\"fill:#1f77b4;stroke:#1f77b4;\" x=\"112.735086\" xlink:href=\"#m0be0bba02e\" y=\"85.091367\"/>\n     <use style=\"fill:#1f77b4;stroke:#1f77b4;\" x=\"123.630609\" xlink:href=\"#m0be0bba02e\" y=\"94.49368\"/>\n     <use style=\"fill:#1f77b4;stroke:#1f77b4;\" x=\"193.216505\" xlink:href=\"#m0be0bba02e\" y=\"109.933344\"/>\n     <use style=\"fill:#1f77b4;stroke:#1f77b4;\" x=\"135.493484\" xlink:href=\"#m0be0bba02e\" y=\"72.641927\"/>\n     <use style=\"fill:#1f77b4;stroke:#1f77b4;\" x=\"94.97794\" xlink:href=\"#m0be0bba02e\" y=\"60.853217\"/>\n     <use style=\"fill:#1f77b4;stroke:#1f77b4;\" x=\"118.334129\" xlink:href=\"#m0be0bba02e\" y=\"92.809815\"/>\n     <use style=\"fill:#1f77b4;stroke:#1f77b4;\" x=\"103.057018\" xlink:href=\"#m0be0bba02e\" y=\"78.138636\"/>\n     <use style=\"fill:#1f77b4;stroke:#1f77b4;\" x=\"101.142805\" xlink:href=\"#m0be0bba02e\" y=\"62.69374\"/>\n     <use style=\"fill:#1f77b4;stroke:#1f77b4;\" x=\"137.837193\" xlink:href=\"#m0be0bba02e\" y=\"97.385231\"/>\n     <use style=\"fill:#1f77b4;stroke:#1f77b4;\" x=\"154.173056\" xlink:href=\"#m0be0bba02e\" y=\"84.688663\"/>\n     <use style=\"fill:#1f77b4;stroke:#1f77b4;\" x=\"104.82422\" xlink:href=\"#m0be0bba02e\" y=\"47.619164\"/>\n     <use style=\"fill:#1f77b4;stroke:#1f77b4;\" x=\"136.592594\" xlink:href=\"#m0be0bba02e\" y=\"103.643786\"/>\n     <use style=\"fill:#1f77b4;stroke:#1f77b4;\" x=\"155.726097\" xlink:href=\"#m0be0bba02e\" y=\"82.711117\"/>\n     <use style=\"fill:#1f77b4;stroke:#1f77b4;\" x=\"101.71551\" xlink:href=\"#m0be0bba02e\" y=\"55.117009\"/>\n     <use style=\"fill:#1f77b4;stroke:#1f77b4;\" x=\"141.927387\" xlink:href=\"#m0be0bba02e\" y=\"98.802168\"/>\n     <use style=\"fill:#1f77b4;stroke:#1f77b4;\" x=\"85.771707\" xlink:href=\"#m0be0bba02e\" y=\"72.43234\"/>\n     <use style=\"fill:#1f77b4;stroke:#1f77b4;\" x=\"144.132011\" xlink:href=\"#m0be0bba02e\" y=\"77.989985\"/>\n     <use style=\"fill:#1f77b4;stroke:#1f77b4;\" x=\"76.953408\" xlink:href=\"#m0be0bba02e\" y=\"27.452268\"/>\n     <use style=\"fill:#1f77b4;stroke:#1f77b4;\" x=\"152.033424\" xlink:href=\"#m0be0bba02e\" y=\"74.838561\"/>\n     <use style=\"fill:#1f77b4;stroke:#1f77b4;\" x=\"164.406048\" xlink:href=\"#m0be0bba02e\" y=\"104.778436\"/>\n     <use style=\"fill:#1f77b4;stroke:#1f77b4;\" x=\"154.839852\" xlink:href=\"#m0be0bba02e\" y=\"99.568746\"/>\n     <use style=\"fill:#1f77b4;stroke:#1f77b4;\" x=\"132.70203\" xlink:href=\"#m0be0bba02e\" y=\"90.55031\"/>\n     <use style=\"fill:#1f77b4;stroke:#1f77b4;\" x=\"132.047411\" xlink:href=\"#m0be0bba02e\" y=\"92.215238\"/>\n     <use style=\"fill:#1f77b4;stroke:#1f77b4;\" x=\"119.678081\" xlink:href=\"#m0be0bba02e\" y=\"82.778337\"/>\n     <use style=\"fill:#1f77b4;stroke:#1f77b4;\" x=\"105.263795\" xlink:href=\"#m0be0bba02e\" y=\"50.614064\"/>\n     <use style=\"fill:#1f77b4;stroke:#1f77b4;\" x=\"138.054374\" xlink:href=\"#m0be0bba02e\" y=\"65.35773\"/>\n     <use style=\"fill:#1f77b4;stroke:#1f77b4;\" x=\"120.298641\" xlink:href=\"#m0be0bba02e\" y=\"93.257487\"/>\n     <use style=\"fill:#1f77b4;stroke:#1f77b4;\" x=\"123.240697\" xlink:href=\"#m0be0bba02e\" y=\"97.08883\"/>\n     <use style=\"fill:#1f77b4;stroke:#1f77b4;\" x=\"116.957389\" xlink:href=\"#m0be0bba02e\" y=\"68.563282\"/>\n     <use style=\"fill:#1f77b4;stroke:#1f77b4;\" x=\"76.112359\" xlink:href=\"#m0be0bba02e\" y=\"52.605655\"/>\n     <use style=\"fill:#1f77b4;stroke:#1f77b4;\" x=\"175.67434\" xlink:href=\"#m0be0bba02e\" y=\"108.210561\"/>\n     <use style=\"fill:#1f77b4;stroke:#1f77b4;\" x=\"110.662446\" xlink:href=\"#m0be0bba02e\" y=\"66.961856\"/>\n     <use style=\"fill:#1f77b4;stroke:#1f77b4;\" x=\"145.151014\" xlink:href=\"#m0be0bba02e\" y=\"101.035222\"/>\n     <use style=\"fill:#1f77b4;stroke:#1f77b4;\" x=\"140.072057\" xlink:href=\"#m0be0bba02e\" y=\"91.095572\"/>\n     <use style=\"fill:#1f77b4;stroke:#1f77b4;\" x=\"67.746013\" xlink:href=\"#m0be0bba02e\" y=\"70.886314\"/>\n     <use style=\"fill:#1f77b4;stroke:#1f77b4;\" x=\"120.741466\" xlink:href=\"#m0be0bba02e\" y=\"82.114235\"/>\n     <use style=\"fill:#1f77b4;stroke:#1f77b4;\" x=\"186.10627\" xlink:href=\"#m0be0bba02e\" y=\"108.119357\"/>\n     <use style=\"fill:#1f77b4;stroke:#1f77b4;\" x=\"110.216594\" xlink:href=\"#m0be0bba02e\" y=\"78.267196\"/>\n     <use style=\"fill:#1f77b4;stroke:#1f77b4;\" x=\"119.542893\" xlink:href=\"#m0be0bba02e\" y=\"87.951887\"/>\n     <use style=\"fill:#1f77b4;stroke:#1f77b4;\" x=\"143.257205\" xlink:href=\"#m0be0bba02e\" y=\"85.859527\"/>\n     <use style=\"fill:#1f77b4;stroke:#1f77b4;\" x=\"130.723051\" xlink:href=\"#m0be0bba02e\" y=\"81.067261\"/>\n     <use style=\"fill:#1f77b4;stroke:#1f77b4;\" x=\"121.698453\" xlink:href=\"#m0be0bba02e\" y=\"78.787446\"/>\n     <use style=\"fill:#1f77b4;stroke:#1f77b4;\" x=\"136.47504\" xlink:href=\"#m0be0bba02e\" y=\"87.338755\"/>\n     <use style=\"fill:#1f77b4;stroke:#1f77b4;\" x=\"144.982092\" xlink:href=\"#m0be0bba02e\" y=\"82.815588\"/>\n     <use style=\"fill:#1f77b4;stroke:#1f77b4;\" x=\"125.779981\" xlink:href=\"#m0be0bba02e\" y=\"101.204141\"/>\n     <use style=\"fill:#1f77b4;stroke:#1f77b4;\" x=\"82.484378\" xlink:href=\"#m0be0bba02e\" y=\"66.937012\"/>\n     <use style=\"fill:#1f77b4;stroke:#1f77b4;\" x=\"89.695207\" xlink:href=\"#m0be0bba02e\" y=\"49.080547\"/>\n     <use style=\"fill:#1f77b4;stroke:#1f77b4;\" x=\"46.656642\" xlink:href=\"#m0be0bba02e\" y=\"33.907316\"/>\n     <use style=\"fill:#1f77b4;stroke:#1f77b4;\" x=\"116.471911\" xlink:href=\"#m0be0bba02e\" y=\"72.737917\"/>\n     <use style=\"fill:#1f77b4;stroke:#1f77b4;\" x=\"150.01402\" xlink:href=\"#m0be0bba02e\" y=\"94.865779\"/>\n     <use style=\"fill:#1f77b4;stroke:#1f77b4;\" x=\"141.038836\" xlink:href=\"#m0be0bba02e\" y=\"98.777721\"/>\n     <use style=\"fill:#1f77b4;stroke:#1f77b4;\" x=\"82.618874\" xlink:href=\"#m0be0bba02e\" y=\"49.701697\"/>\n     <use style=\"fill:#1f77b4;stroke:#1f77b4;\" x=\"169.144214\" xlink:href=\"#m0be0bba02e\" y=\"76.767941\"/>\n     <use style=\"fill:#1f77b4;stroke:#1f77b4;\" x=\"105.064337\" xlink:href=\"#m0be0bba02e\" y=\"86.666018\"/>\n     <use style=\"fill:#1f77b4;stroke:#1f77b4;\" x=\"192.999428\" xlink:href=\"#m0be0bba02e\" y=\"114.82912\"/>\n     <use style=\"fill:#1f77b4;stroke:#1f77b4;\" x=\"173.211225\" xlink:href=\"#m0be0bba02e\" y=\"120.22949\"/>\n     <use style=\"fill:#1f77b4;stroke:#1f77b4;\" x=\"97.188693\" xlink:href=\"#m0be0bba02e\" y=\"63.138427\"/>\n     <use style=\"fill:#1f77b4;stroke:#1f77b4;\" x=\"146.965553\" xlink:href=\"#m0be0bba02e\" y=\"97.742587\"/>\n     <use style=\"fill:#1f77b4;stroke:#1f77b4;\" x=\"162.425064\" xlink:href=\"#m0be0bba02e\" y=\"102.77746\"/>\n     <use style=\"fill:#1f77b4;stroke:#1f77b4;\" x=\"98.845733\" xlink:href=\"#m0be0bba02e\" y=\"53.827166\"/>\n     <use style=\"fill:#1f77b4;stroke:#1f77b4;\" x=\"161.185745\" xlink:href=\"#m0be0bba02e\" y=\"104.221346\"/>\n     <use style=\"fill:#1f77b4;stroke:#1f77b4;\" x=\"157.005998\" xlink:href=\"#m0be0bba02e\" y=\"104.474771\"/>\n     <use style=\"fill:#1f77b4;stroke:#1f77b4;\" x=\"140.784259\" xlink:href=\"#m0be0bba02e\" y=\"105.292869\"/>\n     <use style=\"fill:#1f77b4;stroke:#1f77b4;\" x=\"140.092336\" xlink:href=\"#m0be0bba02e\" y=\"97.923762\"/>\n     <use style=\"fill:#1f77b4;stroke:#1f77b4;\" x=\"129.867376\" xlink:href=\"#m0be0bba02e\" y=\"74.879385\"/>\n     <use style=\"fill:#1f77b4;stroke:#1f77b4;\" x=\"114.177527\" xlink:href=\"#m0be0bba02e\" y=\"58.80343\"/>\n     <use style=\"fill:#1f77b4;stroke:#1f77b4;\" x=\"151.397663\" xlink:href=\"#m0be0bba02e\" y=\"75.292408\"/>\n     <use style=\"fill:#1f77b4;stroke:#1f77b4;\" x=\"100.289357\" xlink:href=\"#m0be0bba02e\" y=\"69.787589\"/>\n     <use style=\"fill:#1f77b4;stroke:#1f77b4;\" x=\"149.210804\" xlink:href=\"#m0be0bba02e\" y=\"82.186887\"/>\n     <use style=\"fill:#1f77b4;stroke:#1f77b4;\" x=\"141.110484\" xlink:href=\"#m0be0bba02e\" y=\"81.382212\"/>\n     <use style=\"fill:#1f77b4;stroke:#1f77b4;\" x=\"59.273298\" xlink:href=\"#m0be0bba02e\" y=\"20.411992\"/>\n     <use style=\"fill:#1f77b4;stroke:#1f77b4;\" x=\"170.804741\" xlink:href=\"#m0be0bba02e\" y=\"113.727277\"/>\n     <use style=\"fill:#1f77b4;stroke:#1f77b4;\" x=\"134.152889\" xlink:href=\"#m0be0bba02e\" y=\"77.352444\"/>\n     <use style=\"fill:#1f77b4;stroke:#1f77b4;\" x=\"90.825752\" xlink:href=\"#m0be0bba02e\" y=\"73.231052\"/>\n     <use style=\"fill:#1f77b4;stroke:#1f77b4;\" x=\"102.811868\" xlink:href=\"#m0be0bba02e\" y=\"62.698191\"/>\n     <use style=\"fill:#1f77b4;stroke:#1f77b4;\" x=\"135.923495\" xlink:href=\"#m0be0bba02e\" y=\"72.844775\"/>\n     <use style=\"fill:#1f77b4;stroke:#1f77b4;\" x=\"143.309652\" xlink:href=\"#m0be0bba02e\" y=\"98.5399\"/>\n     <use style=\"fill:#1f77b4;stroke:#1f77b4;\" x=\"153.927573\" xlink:href=\"#m0be0bba02e\" y=\"82.267564\"/>\n     <use style=\"fill:#1f77b4;stroke:#1f77b4;\" x=\"156.359411\" xlink:href=\"#m0be0bba02e\" y=\"112.728592\"/>\n     <use style=\"fill:#1f77b4;stroke:#1f77b4;\" x=\"118.217977\" xlink:href=\"#m0be0bba02e\" y=\"77.819573\"/>\n     <use style=\"fill:#1f77b4;stroke:#1f77b4;\" x=\"122.416048\" xlink:href=\"#m0be0bba02e\" y=\"72.496089\"/>\n     <use style=\"fill:#1f77b4;stroke:#1f77b4;\" x=\"60.360338\" xlink:href=\"#m0be0bba02e\" y=\"42.108772\"/>\n     <use style=\"fill:#1f77b4;stroke:#1f77b4;\" x=\"123.452804\" xlink:href=\"#m0be0bba02e\" y=\"66.132317\"/>\n     <use style=\"fill:#1f77b4;stroke:#1f77b4;\" x=\"125.52969\" xlink:href=\"#m0be0bba02e\" y=\"97.801227\"/>\n     <use style=\"fill:#1f77b4;stroke:#1f77b4;\" x=\"114.20597\" xlink:href=\"#m0be0bba02e\" y=\"85.453594\"/>\n     <use style=\"fill:#1f77b4;stroke:#1f77b4;\" x=\"80.974233\" xlink:href=\"#m0be0bba02e\" y=\"59.9778\"/>\n     <use style=\"fill:#1f77b4;stroke:#1f77b4;\" x=\"106.29658\" xlink:href=\"#m0be0bba02e\" y=\"61.182072\"/>\n     <use style=\"fill:#1f77b4;stroke:#1f77b4;\" x=\"107.512806\" xlink:href=\"#m0be0bba02e\" y=\"55.179377\"/>\n     <use style=\"fill:#1f77b4;stroke:#1f77b4;\" x=\"92.973719\" xlink:href=\"#m0be0bba02e\" y=\"57.495479\"/>\n     <use style=\"fill:#1f77b4;stroke:#1f77b4;\" x=\"116.273324\" xlink:href=\"#m0be0bba02e\" y=\"81.40101\"/>\n     <use style=\"fill:#1f77b4;stroke:#1f77b4;\" x=\"97.280968\" xlink:href=\"#m0be0bba02e\" y=\"70.860828\"/>\n     <use style=\"fill:#1f77b4;stroke:#1f77b4;\" x=\"115.951711\" xlink:href=\"#m0be0bba02e\" y=\"73.296966\"/>\n     <use style=\"fill:#1f77b4;stroke:#1f77b4;\" x=\"118.560466\" xlink:href=\"#m0be0bba02e\" y=\"63.442801\"/>\n     <use style=\"fill:#1f77b4;stroke:#1f77b4;\" x=\"119.713529\" xlink:href=\"#m0be0bba02e\" y=\"68.623287\"/>\n     <use style=\"fill:#1f77b4;stroke:#1f77b4;\" x=\"164.964385\" xlink:href=\"#m0be0bba02e\" y=\"77.659445\"/>\n     <use style=\"fill:#1f77b4;stroke:#1f77b4;\" x=\"148.170909\" xlink:href=\"#m0be0bba02e\" y=\"94.833922\"/>\n     <use style=\"fill:#1f77b4;stroke:#1f77b4;\" x=\"77.66273\" xlink:href=\"#m0be0bba02e\" y=\"51.612715\"/>\n     <use style=\"fill:#1f77b4;stroke:#1f77b4;\" x=\"124.602043\" xlink:href=\"#m0be0bba02e\" y=\"78.742581\"/>\n     <use style=\"fill:#1f77b4;stroke:#1f77b4;\" x=\"143.939888\" xlink:href=\"#m0be0bba02e\" y=\"97.680369\"/>\n     <use style=\"fill:#1f77b4;stroke:#1f77b4;\" x=\"189.000149\" xlink:href=\"#m0be0bba02e\" y=\"111.095019\"/>\n     <use style=\"fill:#1f77b4;stroke:#1f77b4;\" x=\"72.263672\" xlink:href=\"#m0be0bba02e\" y=\"43.210332\"/>\n     <use style=\"fill:#1f77b4;stroke:#1f77b4;\" x=\"139.780019\" xlink:href=\"#m0be0bba02e\" y=\"81.944931\"/>\n     <use style=\"fill:#1f77b4;stroke:#1f77b4;\" x=\"134.011414\" xlink:href=\"#m0be0bba02e\" y=\"78.01418\"/>\n     <use style=\"fill:#1f77b4;stroke:#1f77b4;\" x=\"158.460411\" xlink:href=\"#m0be0bba02e\" y=\"92.517848\"/>\n     <use style=\"fill:#1f77b4;stroke:#1f77b4;\" x=\"109.419926\" xlink:href=\"#m0be0bba02e\" y=\"69.856697\"/>\n     <use style=\"fill:#1f77b4;stroke:#1f77b4;\" x=\"90.720225\" xlink:href=\"#m0be0bba02e\" y=\"44.326026\"/>\n     <use style=\"fill:#1f77b4;stroke:#1f77b4;\" x=\"121.990504\" xlink:href=\"#m0be0bba02e\" y=\"46.429214\"/>\n     <use style=\"fill:#1f77b4;stroke:#1f77b4;\" x=\"172.625567\" xlink:href=\"#m0be0bba02e\" y=\"98.364724\"/>\n     <use style=\"fill:#1f77b4;stroke:#1f77b4;\" x=\"134.730223\" xlink:href=\"#m0be0bba02e\" y=\"98.122919\"/>\n     <use style=\"fill:#1f77b4;stroke:#1f77b4;\" x=\"49.54705\" xlink:href=\"#m0be0bba02e\" y=\"20.165793\"/>\n     <use style=\"fill:#1f77b4;stroke:#1f77b4;\" x=\"102.682937\" xlink:href=\"#m0be0bba02e\" y=\"75.467196\"/>\n     <use style=\"fill:#1f77b4;stroke:#1f77b4;\" x=\"169.462854\" xlink:href=\"#m0be0bba02e\" y=\"85.446805\"/>\n     <use style=\"fill:#1f77b4;stroke:#1f77b4;\" x=\"128.691807\" xlink:href=\"#m0be0bba02e\" y=\"74.3464\"/>\n     <use style=\"fill:#1f77b4;stroke:#1f77b4;\" x=\"137.579179\" xlink:href=\"#m0be0bba02e\" y=\"83.524575\"/>\n     <use style=\"fill:#1f77b4;stroke:#1f77b4;\" x=\"145.970976\" xlink:href=\"#m0be0bba02e\" y=\"84.863541\"/>\n     <use style=\"fill:#1f77b4;stroke:#1f77b4;\" x=\"165.636326\" xlink:href=\"#m0be0bba02e\" y=\"101.602147\"/>\n     <use style=\"fill:#1f77b4;stroke:#1f77b4;\" x=\"155.340866\" xlink:href=\"#m0be0bba02e\" y=\"100.406501\"/>\n     <use style=\"fill:#1f77b4;stroke:#1f77b4;\" x=\"134.754514\" xlink:href=\"#m0be0bba02e\" y=\"81.882819\"/>\n     <use style=\"fill:#1f77b4;stroke:#1f77b4;\" x=\"161.708837\" xlink:href=\"#m0be0bba02e\" y=\"103.154797\"/>\n     <use style=\"fill:#1f77b4;stroke:#1f77b4;\" x=\"151.21674\" xlink:href=\"#m0be0bba02e\" y=\"85.077878\"/>\n     <use style=\"fill:#1f77b4;stroke:#1f77b4;\" x=\"185.235914\" xlink:href=\"#m0be0bba02e\" y=\"126.558176\"/>\n     <use style=\"fill:#1f77b4;stroke:#1f77b4;\" x=\"50.534952\" xlink:href=\"#m0be0bba02e\" y=\"30.278834\"/>\n     <use style=\"fill:#1f77b4;stroke:#1f77b4;\" x=\"87.723819\" xlink:href=\"#m0be0bba02e\" y=\"36.156874\"/>\n     <use style=\"fill:#1f77b4;stroke:#1f77b4;\" x=\"141.433834\" xlink:href=\"#m0be0bba02e\" y=\"62.300317\"/>\n     <use style=\"fill:#1f77b4;stroke:#1f77b4;\" x=\"141.251898\" xlink:href=\"#m0be0bba02e\" y=\"91.915506\"/>\n     <use style=\"fill:#1f77b4;stroke:#1f77b4;\" x=\"149.218479\" xlink:href=\"#m0be0bba02e\" y=\"83.388069\"/>\n     <use style=\"fill:#1f77b4;stroke:#1f77b4;\" x=\"158.310536\" xlink:href=\"#m0be0bba02e\" y=\"87.797853\"/>\n     <use style=\"fill:#1f77b4;stroke:#1f77b4;\" x=\"137.54545\" xlink:href=\"#m0be0bba02e\" y=\"81.474267\"/>\n     <use style=\"fill:#1f77b4;stroke:#1f77b4;\" x=\"59.108864\" xlink:href=\"#m0be0bba02e\" y=\"45.942392\"/>\n     <use style=\"fill:#1f77b4;stroke:#1f77b4;\" x=\"179.043698\" xlink:href=\"#m0be0bba02e\" y=\"99.354543\"/>\n     <use style=\"fill:#1f77b4;stroke:#1f77b4;\" x=\"79.354399\" xlink:href=\"#m0be0bba02e\" y=\"61.773475\"/>\n     <use style=\"fill:#1f77b4;stroke:#1f77b4;\" x=\"124.372472\" xlink:href=\"#m0be0bba02e\" y=\"77.166636\"/>\n     <use style=\"fill:#1f77b4;stroke:#1f77b4;\" x=\"144.144028\" xlink:href=\"#m0be0bba02e\" y=\"78.802247\"/>\n     <use style=\"fill:#1f77b4;stroke:#1f77b4;\" x=\"119.391275\" xlink:href=\"#m0be0bba02e\" y=\"62.430289\"/>\n     <use style=\"fill:#1f77b4;stroke:#1f77b4;\" x=\"124.375205\" xlink:href=\"#m0be0bba02e\" y=\"77.955148\"/>\n     <use style=\"fill:#1f77b4;stroke:#1f77b4;\" x=\"138.702135\" xlink:href=\"#m0be0bba02e\" y=\"94.346994\"/>\n     <use style=\"fill:#1f77b4;stroke:#1f77b4;\" x=\"121.90034\" xlink:href=\"#m0be0bba02e\" y=\"67.568896\"/>\n     <use style=\"fill:#1f77b4;stroke:#1f77b4;\" x=\"105.198108\" xlink:href=\"#m0be0bba02e\" y=\"72.451437\"/>\n     <use style=\"fill:#1f77b4;stroke:#1f77b4;\" x=\"90.553378\" xlink:href=\"#m0be0bba02e\" y=\"45.209201\"/>\n     <use style=\"fill:#1f77b4;stroke:#1f77b4;\" x=\"132.821936\" xlink:href=\"#m0be0bba02e\" y=\"80.945532\"/>\n     <use style=\"fill:#1f77b4;stroke:#1f77b4;\" x=\"174.521087\" xlink:href=\"#m0be0bba02e\" y=\"109.98977\"/>\n     <use style=\"fill:#1f77b4;stroke:#1f77b4;\" x=\"118.860664\" xlink:href=\"#m0be0bba02e\" y=\"78.960397\"/>\n     <use style=\"fill:#1f77b4;stroke:#1f77b4;\" x=\"99.997542\" xlink:href=\"#m0be0bba02e\" y=\"42.026531\"/>\n     <use style=\"fill:#1f77b4;stroke:#1f77b4;\" x=\"156.489596\" xlink:href=\"#m0be0bba02e\" y=\"115.571782\"/>\n     <use style=\"fill:#1f77b4;stroke:#1f77b4;\" x=\"159.940992\" xlink:href=\"#m0be0bba02e\" y=\"102.199949\"/>\n     <use style=\"fill:#1f77b4;stroke:#1f77b4;\" x=\"122.186894\" xlink:href=\"#m0be0bba02e\" y=\"79.31848\"/>\n     <use style=\"fill:#1f77b4;stroke:#1f77b4;\" x=\"174.18035\" xlink:href=\"#m0be0bba02e\" y=\"123.753065\"/>\n     <use style=\"fill:#1f77b4;stroke:#1f77b4;\" x=\"81.372885\" xlink:href=\"#m0be0bba02e\" y=\"57.681372\"/>\n     <use style=\"fill:#1f77b4;stroke:#1f77b4;\" x=\"165.923885\" xlink:href=\"#m0be0bba02e\" y=\"102.96715\"/>\n     <use style=\"fill:#1f77b4;stroke:#1f77b4;\" x=\"164.537672\" xlink:href=\"#m0be0bba02e\" y=\"101.430978\"/>\n     <use style=\"fill:#1f77b4;stroke:#1f77b4;\" x=\"155.178261\" xlink:href=\"#m0be0bba02e\" y=\"75.254404\"/>\n     <use style=\"fill:#1f77b4;stroke:#1f77b4;\" x=\"63.911051\" xlink:href=\"#m0be0bba02e\" y=\"41.404251\"/>\n     <use style=\"fill:#1f77b4;stroke:#1f77b4;\" x=\"189.538521\" xlink:href=\"#m0be0bba02e\" y=\"114.520745\"/>\n     <use style=\"fill:#1f77b4;stroke:#1f77b4;\" x=\"157.02451\" xlink:href=\"#m0be0bba02e\" y=\"96.88341\"/>\n     <use style=\"fill:#1f77b4;stroke:#1f77b4;\" x=\"160.964965\" xlink:href=\"#m0be0bba02e\" y=\"101.770278\"/>\n     <use style=\"fill:#1f77b4;stroke:#1f77b4;\" x=\"126.420554\" xlink:href=\"#m0be0bba02e\" y=\"72.522367\"/>\n     <use style=\"fill:#1f77b4;stroke:#1f77b4;\" x=\"151.134243\" xlink:href=\"#m0be0bba02e\" y=\"77.33278\"/>\n     <use style=\"fill:#1f77b4;stroke:#1f77b4;\" x=\"105.347889\" xlink:href=\"#m0be0bba02e\" y=\"66.648528\"/>\n     <use style=\"fill:#1f77b4;stroke:#1f77b4;\" x=\"149.663904\" xlink:href=\"#m0be0bba02e\" y=\"99.142659\"/>\n     <use style=\"fill:#1f77b4;stroke:#1f77b4;\" x=\"167.73496\" xlink:href=\"#m0be0bba02e\" y=\"101.709892\"/>\n     <use style=\"fill:#1f77b4;stroke:#1f77b4;\" x=\"56.140334\" xlink:href=\"#m0be0bba02e\" y=\"34.49207\"/>\n     <use style=\"fill:#1f77b4;stroke:#1f77b4;\" x=\"127.907752\" xlink:href=\"#m0be0bba02e\" y=\"70.468284\"/>\n     <use style=\"fill:#1f77b4;stroke:#1f77b4;\" x=\"130.663815\" xlink:href=\"#m0be0bba02e\" y=\"78.008074\"/>\n     <use style=\"fill:#1f77b4;stroke:#1f77b4;\" x=\"129.705394\" xlink:href=\"#m0be0bba02e\" y=\"80.199407\"/>\n     <use style=\"fill:#1f77b4;stroke:#1f77b4;\" x=\"159.255976\" xlink:href=\"#m0be0bba02e\" y=\"82.837272\"/>\n     <use style=\"fill:#1f77b4;stroke:#1f77b4;\" x=\"171.6671\" xlink:href=\"#m0be0bba02e\" y=\"101.489817\"/>\n     <use style=\"fill:#1f77b4;stroke:#1f77b4;\" x=\"81.166519\" xlink:href=\"#m0be0bba02e\" y=\"64.319181\"/>\n     <use style=\"fill:#1f77b4;stroke:#1f77b4;\" x=\"159.931642\" xlink:href=\"#m0be0bba02e\" y=\"79.767498\"/>\n     <use style=\"fill:#1f77b4;stroke:#1f77b4;\" x=\"81.315581\" xlink:href=\"#m0be0bba02e\" y=\"44.478784\"/>\n     <use style=\"fill:#1f77b4;stroke:#1f77b4;\" x=\"128.943511\" xlink:href=\"#m0be0bba02e\" y=\"76.971972\"/>\n     <use style=\"fill:#1f77b4;stroke:#1f77b4;\" x=\"143.325401\" xlink:href=\"#m0be0bba02e\" y=\"90.986948\"/>\n     <use style=\"fill:#1f77b4;stroke:#1f77b4;\" x=\"77.262258\" xlink:href=\"#m0be0bba02e\" y=\"45.096076\"/>\n     <use style=\"fill:#1f77b4;stroke:#1f77b4;\" x=\"139.03477\" xlink:href=\"#m0be0bba02e\" y=\"97.023638\"/>\n     <use style=\"fill:#1f77b4;stroke:#1f77b4;\" x=\"123.982957\" xlink:href=\"#m0be0bba02e\" y=\"70.917013\"/>\n     <use style=\"fill:#1f77b4;stroke:#1f77b4;\" x=\"99.915787\" xlink:href=\"#m0be0bba02e\" y=\"52.730241\"/>\n     <use style=\"fill:#1f77b4;stroke:#1f77b4;\" x=\"149.627385\" xlink:href=\"#m0be0bba02e\" y=\"99.583708\"/>\n     <use style=\"fill:#1f77b4;stroke:#1f77b4;\" x=\"76.35964\" xlink:href=\"#m0be0bba02e\" y=\"59.542104\"/>\n     <use style=\"fill:#1f77b4;stroke:#1f77b4;\" x=\"98.676008\" xlink:href=\"#m0be0bba02e\" y=\"54.686287\"/>\n     <use style=\"fill:#1f77b4;stroke:#1f77b4;\" x=\"43.896711\" xlink:href=\"#m0be0bba02e\" y=\"20.059852\"/>\n     <use style=\"fill:#1f77b4;stroke:#1f77b4;\" x=\"131.912654\" xlink:href=\"#m0be0bba02e\" y=\"89.568303\"/>\n     <use style=\"fill:#1f77b4;stroke:#1f77b4;\" x=\"149.413888\" xlink:href=\"#m0be0bba02e\" y=\"113.03892\"/>\n     <use style=\"fill:#1f77b4;stroke:#1f77b4;\" x=\"90.778544\" xlink:href=\"#m0be0bba02e\" y=\"39.404356\"/>\n     <use style=\"fill:#1f77b4;stroke:#1f77b4;\" x=\"164.895867\" xlink:href=\"#m0be0bba02e\" y=\"112.37402\"/>\n     <use style=\"fill:#1f77b4;stroke:#1f77b4;\" x=\"95.612214\" xlink:href=\"#m0be0bba02e\" y=\"65.495684\"/>\n     <use style=\"fill:#1f77b4;stroke:#1f77b4;\" x=\"97.464372\" xlink:href=\"#m0be0bba02e\" y=\"56.021103\"/>\n     <use style=\"fill:#1f77b4;stroke:#1f77b4;\" x=\"155.352394\" xlink:href=\"#m0be0bba02e\" y=\"92.319218\"/>\n     <use style=\"fill:#1f77b4;stroke:#1f77b4;\" x=\"152.145748\" xlink:href=\"#m0be0bba02e\" y=\"90.958058\"/>\n     <use style=\"fill:#1f77b4;stroke:#1f77b4;\" x=\"78.285868\" xlink:href=\"#m0be0bba02e\" y=\"48.887226\"/>\n     <use style=\"fill:#1f77b4;stroke:#1f77b4;\" x=\"92.49524\" xlink:href=\"#m0be0bba02e\" y=\"67.295316\"/>\n     <use style=\"fill:#1f77b4;stroke:#1f77b4;\" x=\"118.932471\" xlink:href=\"#m0be0bba02e\" y=\"69.541335\"/>\n     <use style=\"fill:#1f77b4;stroke:#1f77b4;\" x=\"101.874073\" xlink:href=\"#m0be0bba02e\" y=\"61.177328\"/>\n     <use style=\"fill:#1f77b4;stroke:#1f77b4;\" x=\"90.027099\" xlink:href=\"#m0be0bba02e\" y=\"51.086893\"/>\n     <use style=\"fill:#1f77b4;stroke:#1f77b4;\" x=\"139.371332\" xlink:href=\"#m0be0bba02e\" y=\"83.242444\"/>\n     <use style=\"fill:#1f77b4;stroke:#1f77b4;\" x=\"174.230959\" xlink:href=\"#m0be0bba02e\" y=\"116.457173\"/>\n     <use style=\"fill:#1f77b4;stroke:#1f77b4;\" x=\"160.615661\" xlink:href=\"#m0be0bba02e\" y=\"108.85133\"/>\n     <use style=\"fill:#1f77b4;stroke:#1f77b4;\" x=\"90.736332\" xlink:href=\"#m0be0bba02e\" y=\"60.915121\"/>\n     <use style=\"fill:#1f77b4;stroke:#1f77b4;\" x=\"167.350481\" xlink:href=\"#m0be0bba02e\" y=\"103.91852\"/>\n     <use style=\"fill:#1f77b4;stroke:#1f77b4;\" x=\"156.184206\" xlink:href=\"#m0be0bba02e\" y=\"98.266089\"/>\n     <use style=\"fill:#1f77b4;stroke:#1f77b4;\" x=\"139.745765\" xlink:href=\"#m0be0bba02e\" y=\"95.201179\"/>\n     <use style=\"fill:#1f77b4;stroke:#1f77b4;\" x=\"173.26233\" xlink:href=\"#m0be0bba02e\" y=\"110.16146\"/>\n     <use style=\"fill:#1f77b4;stroke:#1f77b4;\" x=\"77.588447\" xlink:href=\"#m0be0bba02e\" y=\"51.329936\"/>\n     <use style=\"fill:#1f77b4;stroke:#1f77b4;\" x=\"164.238698\" xlink:href=\"#m0be0bba02e\" y=\"97.304482\"/>\n     <use style=\"fill:#1f77b4;stroke:#1f77b4;\" x=\"156.114654\" xlink:href=\"#m0be0bba02e\" y=\"87.25619\"/>\n     <use style=\"fill:#1f77b4;stroke:#1f77b4;\" x=\"95.322358\" xlink:href=\"#m0be0bba02e\" y=\"44.481736\"/>\n     <use style=\"fill:#1f77b4;stroke:#1f77b4;\" x=\"155.734121\" xlink:href=\"#m0be0bba02e\" y=\"75.463124\"/>\n     <use style=\"fill:#1f77b4;stroke:#1f77b4;\" x=\"137.100598\" xlink:href=\"#m0be0bba02e\" y=\"86.729361\"/>\n     <use style=\"fill:#1f77b4;stroke:#1f77b4;\" x=\"147.175004\" xlink:href=\"#m0be0bba02e\" y=\"92.065872\"/>\n     <use style=\"fill:#1f77b4;stroke:#1f77b4;\" x=\"105.941253\" xlink:href=\"#m0be0bba02e\" y=\"74.509221\"/>\n     <use style=\"fill:#1f77b4;stroke:#1f77b4;\" x=\"97.272935\" xlink:href=\"#m0be0bba02e\" y=\"61.042355\"/>\n     <use style=\"fill:#1f77b4;stroke:#1f77b4;\" x=\"79.726469\" xlink:href=\"#m0be0bba02e\" y=\"65.437723\"/>\n     <use style=\"fill:#1f77b4;stroke:#1f77b4;\" x=\"159.658114\" xlink:href=\"#m0be0bba02e\" y=\"101.281268\"/>\n     <use style=\"fill:#1f77b4;stroke:#1f77b4;\" x=\"184.657121\" xlink:href=\"#m0be0bba02e\" y=\"111.855542\"/>\n     <use style=\"fill:#1f77b4;stroke:#1f77b4;\" x=\"79.558876\" xlink:href=\"#m0be0bba02e\" y=\"56.772374\"/>\n     <use style=\"fill:#1f77b4;stroke:#1f77b4;\" x=\"135.116709\" xlink:href=\"#m0be0bba02e\" y=\"85.094272\"/>\n     <use style=\"fill:#1f77b4;stroke:#1f77b4;\" x=\"89.164534\" xlink:href=\"#m0be0bba02e\" y=\"51.641907\"/>\n     <use style=\"fill:#1f77b4;stroke:#1f77b4;\" x=\"111.459142\" xlink:href=\"#m0be0bba02e\" y=\"72.318672\"/>\n     <use style=\"fill:#1f77b4;stroke:#1f77b4;\" x=\"147.174968\" xlink:href=\"#m0be0bba02e\" y=\"92.429291\"/>\n     <use style=\"fill:#1f77b4;stroke:#1f77b4;\" x=\"125.014558\" xlink:href=\"#m0be0bba02e\" y=\"70.914984\"/>\n     <use style=\"fill:#1f77b4;stroke:#1f77b4;\" x=\"85.227312\" xlink:href=\"#m0be0bba02e\" y=\"46.728481\"/>\n     <use style=\"fill:#1f77b4;stroke:#1f77b4;\" x=\"115.396794\" xlink:href=\"#m0be0bba02e\" y=\"58.275956\"/>\n     <use style=\"fill:#1f77b4;stroke:#1f77b4;\" x=\"100.056647\" xlink:href=\"#m0be0bba02e\" y=\"67.695418\"/>\n     <use style=\"fill:#1f77b4;stroke:#1f77b4;\" x=\"99.010076\" xlink:href=\"#m0be0bba02e\" y=\"58.121291\"/>\n     <use style=\"fill:#1f77b4;stroke:#1f77b4;\" x=\"136.667159\" xlink:href=\"#m0be0bba02e\" y=\"87.838921\"/>\n     <use style=\"fill:#1f77b4;stroke:#1f77b4;\" x=\"155.531763\" xlink:href=\"#m0be0bba02e\" y=\"102.628805\"/>\n     <use style=\"fill:#1f77b4;stroke:#1f77b4;\" x=\"155.981381\" xlink:href=\"#m0be0bba02e\" y=\"86.313572\"/>\n     <use style=\"fill:#1f77b4;stroke:#1f77b4;\" x=\"180.048443\" xlink:href=\"#m0be0bba02e\" y=\"110.635268\"/>\n     <use style=\"fill:#1f77b4;stroke:#1f77b4;\" x=\"128.610821\" xlink:href=\"#m0be0bba02e\" y=\"87.232026\"/>\n     <use style=\"fill:#1f77b4;stroke:#1f77b4;\" x=\"60.545134\" xlink:href=\"#m0be0bba02e\" y=\"30.559164\"/>\n     <use style=\"fill:#1f77b4;stroke:#1f77b4;\" x=\"127.201853\" xlink:href=\"#m0be0bba02e\" y=\"83.135843\"/>\n     <use style=\"fill:#1f77b4;stroke:#1f77b4;\" x=\"143.1215\" xlink:href=\"#m0be0bba02e\" y=\"72.888347\"/>\n     <use style=\"fill:#1f77b4;stroke:#1f77b4;\" x=\"50.09846\" xlink:href=\"#m0be0bba02e\" y=\"13.377273\"/>\n     <use style=\"fill:#1f77b4;stroke:#1f77b4;\" x=\"133.461364\" xlink:href=\"#m0be0bba02e\" y=\"95.085505\"/>\n     <use style=\"fill:#1f77b4;stroke:#1f77b4;\" x=\"106.371392\" xlink:href=\"#m0be0bba02e\" y=\"67.121454\"/>\n     <use style=\"fill:#1f77b4;stroke:#1f77b4;\" x=\"100.893832\" xlink:href=\"#m0be0bba02e\" y=\"64.23354\"/>\n     <use style=\"fill:#1f77b4;stroke:#1f77b4;\" x=\"156.967498\" xlink:href=\"#m0be0bba02e\" y=\"89.997447\"/>\n     <use style=\"fill:#1f77b4;stroke:#1f77b4;\" x=\"125.171449\" xlink:href=\"#m0be0bba02e\" y=\"66.499106\"/>\n     <use style=\"fill:#1f77b4;stroke:#1f77b4;\" x=\"168.097452\" xlink:href=\"#m0be0bba02e\" y=\"112.771473\"/>\n     <use style=\"fill:#1f77b4;stroke:#1f77b4;\" x=\"153.290352\" xlink:href=\"#m0be0bba02e\" y=\"89.406775\"/>\n     <use style=\"fill:#1f77b4;stroke:#1f77b4;\" x=\"136.077217\" xlink:href=\"#m0be0bba02e\" y=\"65.283317\"/>\n     <use style=\"fill:#1f77b4;stroke:#1f77b4;\" x=\"83.825415\" xlink:href=\"#m0be0bba02e\" y=\"65.055067\"/>\n     <use style=\"fill:#1f77b4;stroke:#1f77b4;\" x=\"82.040941\" xlink:href=\"#m0be0bba02e\" y=\"37.27902\"/>\n     <use style=\"fill:#1f77b4;stroke:#1f77b4;\" x=\"118.702068\" xlink:href=\"#m0be0bba02e\" y=\"73.882739\"/>\n     <use style=\"fill:#1f77b4;stroke:#1f77b4;\" x=\"143.539616\" xlink:href=\"#m0be0bba02e\" y=\"69.043088\"/>\n     <use style=\"fill:#1f77b4;stroke:#1f77b4;\" x=\"141.20345\" xlink:href=\"#m0be0bba02e\" y=\"89.947104\"/>\n     <use style=\"fill:#1f77b4;stroke:#1f77b4;\" x=\"133.708967\" xlink:href=\"#m0be0bba02e\" y=\"69.16497\"/>\n     <use style=\"fill:#1f77b4;stroke:#1f77b4;\" x=\"66.754071\" xlink:href=\"#m0be0bba02e\" y=\"42.560458\"/>\n     <use style=\"fill:#1f77b4;stroke:#1f77b4;\" x=\"155.170869\" xlink:href=\"#m0be0bba02e\" y=\"82.963382\"/>\n     <use style=\"fill:#1f77b4;stroke:#1f77b4;\" x=\"138.894971\" xlink:href=\"#m0be0bba02e\" y=\"88.147461\"/>\n     <use style=\"fill:#1f77b4;stroke:#1f77b4;\" x=\"129.624473\" xlink:href=\"#m0be0bba02e\" y=\"91.229866\"/>\n     <use style=\"fill:#1f77b4;stroke:#1f77b4;\" x=\"124.559627\" xlink:href=\"#m0be0bba02e\" y=\"79.946075\"/>\n     <use style=\"fill:#1f77b4;stroke:#1f77b4;\" x=\"151.210679\" xlink:href=\"#m0be0bba02e\" y=\"90.361074\"/>\n     <use style=\"fill:#1f77b4;stroke:#1f77b4;\" x=\"148.050292\" xlink:href=\"#m0be0bba02e\" y=\"98.637784\"/>\n     <use style=\"fill:#1f77b4;stroke:#1f77b4;\" x=\"126.44993\" xlink:href=\"#m0be0bba02e\" y=\"73.977813\"/>\n     <use style=\"fill:#1f77b4;stroke:#1f77b4;\" x=\"152.339204\" xlink:href=\"#m0be0bba02e\" y=\"95.182483\"/>\n     <use style=\"fill:#1f77b4;stroke:#1f77b4;\" x=\"125.692059\" xlink:href=\"#m0be0bba02e\" y=\"71.706589\"/>\n     <use style=\"fill:#1f77b4;stroke:#1f77b4;\" x=\"151.116487\" xlink:href=\"#m0be0bba02e\" y=\"75.411579\"/>\n     <use style=\"fill:#1f77b4;stroke:#1f77b4;\" x=\"198.943908\" xlink:href=\"#m0be0bba02e\" y=\"117.936869\"/>\n     <use style=\"fill:#1f77b4;stroke:#1f77b4;\" x=\"70.495139\" xlink:href=\"#m0be0bba02e\" y=\"46.305639\"/>\n     <use style=\"fill:#1f77b4;stroke:#1f77b4;\" x=\"103.732254\" xlink:href=\"#m0be0bba02e\" y=\"54.702765\"/>\n     <use style=\"fill:#1f77b4;stroke:#1f77b4;\" x=\"103.781493\" xlink:href=\"#m0be0bba02e\" y=\"61.059756\"/>\n     <use style=\"fill:#1f77b4;stroke:#1f77b4;\" x=\"85.117678\" xlink:href=\"#m0be0bba02e\" y=\"42.275518\"/>\n     <use style=\"fill:#1f77b4;stroke:#1f77b4;\" x=\"119.329348\" xlink:href=\"#m0be0bba02e\" y=\"56.739837\"/>\n     <use style=\"fill:#1f77b4;stroke:#1f77b4;\" x=\"137.723759\" xlink:href=\"#m0be0bba02e\" y=\"97.784002\"/>\n     <use style=\"fill:#1f77b4;stroke:#1f77b4;\" x=\"131.185172\" xlink:href=\"#m0be0bba02e\" y=\"90.922403\"/>\n     <use style=\"fill:#1f77b4;stroke:#1f77b4;\" x=\"146.435054\" xlink:href=\"#m0be0bba02e\" y=\"96.084645\"/>\n     <use style=\"fill:#1f77b4;stroke:#1f77b4;\" x=\"203.526966\" xlink:href=\"#m0be0bba02e\" y=\"116.841477\"/>\n     <use style=\"fill:#1f77b4;stroke:#1f77b4;\" x=\"105.354244\" xlink:href=\"#m0be0bba02e\" y=\"52.777643\"/>\n     <use style=\"fill:#1f77b4;stroke:#1f77b4;\" x=\"64.054433\" xlink:href=\"#m0be0bba02e\" y=\"48.972628\"/>\n     <use style=\"fill:#1f77b4;stroke:#1f77b4;\" x=\"76.056581\" xlink:href=\"#m0be0bba02e\" y=\"45.710321\"/>\n     <use style=\"fill:#1f77b4;stroke:#1f77b4;\" x=\"145.865463\" xlink:href=\"#m0be0bba02e\" y=\"85.921614\"/>\n     <use style=\"fill:#1f77b4;stroke:#1f77b4;\" x=\"136.531352\" xlink:href=\"#m0be0bba02e\" y=\"68.287784\"/>\n     <use style=\"fill:#1f77b4;stroke:#1f77b4;\" x=\"84.581361\" xlink:href=\"#m0be0bba02e\" y=\"57.491945\"/>\n     <use style=\"fill:#1f77b4;stroke:#1f77b4;\" x=\"128.792984\" xlink:href=\"#m0be0bba02e\" y=\"60.929401\"/>\n     <use style=\"fill:#1f77b4;stroke:#1f77b4;\" x=\"155.318731\" xlink:href=\"#m0be0bba02e\" y=\"102.06909\"/>\n     <use style=\"fill:#1f77b4;stroke:#1f77b4;\" x=\"93.155497\" xlink:href=\"#m0be0bba02e\" y=\"46.618601\"/>\n     <use style=\"fill:#1f77b4;stroke:#1f77b4;\" x=\"120.432699\" xlink:href=\"#m0be0bba02e\" y=\"67.810699\"/>\n     <use style=\"fill:#1f77b4;stroke:#1f77b4;\" x=\"118.223096\" xlink:href=\"#m0be0bba02e\" y=\"69.089627\"/>\n     <use style=\"fill:#1f77b4;stroke:#1f77b4;\" x=\"105.662111\" xlink:href=\"#m0be0bba02e\" y=\"54.632168\"/>\n     <use style=\"fill:#1f77b4;stroke:#1f77b4;\" x=\"102.717189\" xlink:href=\"#m0be0bba02e\" y=\"79.591288\"/>\n     <use style=\"fill:#1f77b4;stroke:#1f77b4;\" x=\"105.534582\" xlink:href=\"#m0be0bba02e\" y=\"69.148823\"/>\n     <use style=\"fill:#1f77b4;stroke:#1f77b4;\" x=\"123.651959\" xlink:href=\"#m0be0bba02e\" y=\"89.895139\"/>\n     <use style=\"fill:#1f77b4;stroke:#1f77b4;\" x=\"110.879563\" xlink:href=\"#m0be0bba02e\" y=\"64.38859\"/>\n     <use style=\"fill:#1f77b4;stroke:#1f77b4;\" x=\"130.135032\" xlink:href=\"#m0be0bba02e\" y=\"90.516213\"/>\n     <use style=\"fill:#1f77b4;stroke:#1f77b4;\" x=\"131.297619\" xlink:href=\"#m0be0bba02e\" y=\"84.293014\"/>\n     <use style=\"fill:#1f77b4;stroke:#1f77b4;\" x=\"143.297376\" xlink:href=\"#m0be0bba02e\" y=\"70.680175\"/>\n     <use style=\"fill:#1f77b4;stroke:#1f77b4;\" x=\"78.401278\" xlink:href=\"#m0be0bba02e\" y=\"59.833274\"/>\n     <use style=\"fill:#1f77b4;stroke:#1f77b4;\" x=\"73.766515\" xlink:href=\"#m0be0bba02e\" y=\"59.182207\"/>\n     <use style=\"fill:#1f77b4;stroke:#1f77b4;\" x=\"121.230411\" xlink:href=\"#m0be0bba02e\" y=\"83.223294\"/>\n     <use style=\"fill:#1f77b4;stroke:#1f77b4;\" x=\"101.182131\" xlink:href=\"#m0be0bba02e\" y=\"65.437033\"/>\n     <use style=\"fill:#1f77b4;stroke:#1f77b4;\" x=\"129.669938\" xlink:href=\"#m0be0bba02e\" y=\"84.477168\"/>\n     <use style=\"fill:#1f77b4;stroke:#1f77b4;\" x=\"139.372345\" xlink:href=\"#m0be0bba02e\" y=\"77.911247\"/>\n     <use style=\"fill:#1f77b4;stroke:#1f77b4;\" x=\"209.885841\" xlink:href=\"#m0be0bba02e\" y=\"120.064262\"/>\n     <use style=\"fill:#1f77b4;stroke:#1f77b4;\" x=\"117.33322\" xlink:href=\"#m0be0bba02e\" y=\"69.215071\"/>\n     <use style=\"fill:#1f77b4;stroke:#1f77b4;\" x=\"137.534941\" xlink:href=\"#m0be0bba02e\" y=\"65.496456\"/>\n     <use style=\"fill:#1f77b4;stroke:#1f77b4;\" x=\"118.526543\" xlink:href=\"#m0be0bba02e\" y=\"88.076969\"/>\n     <use style=\"fill:#1f77b4;stroke:#1f77b4;\" x=\"136.010067\" xlink:href=\"#m0be0bba02e\" y=\"73.328478\"/>\n     <use style=\"fill:#1f77b4;stroke:#1f77b4;\" x=\"134.447285\" xlink:href=\"#m0be0bba02e\" y=\"83.485212\"/>\n     <use style=\"fill:#1f77b4;stroke:#1f77b4;\" x=\"111.315495\" xlink:href=\"#m0be0bba02e\" y=\"69.077102\"/>\n     <use style=\"fill:#1f77b4;stroke:#1f77b4;\" x=\"118.028979\" xlink:href=\"#m0be0bba02e\" y=\"69.423861\"/>\n     <use style=\"fill:#1f77b4;stroke:#1f77b4;\" x=\"119.838319\" xlink:href=\"#m0be0bba02e\" y=\"85.258344\"/>\n     <use style=\"fill:#1f77b4;stroke:#1f77b4;\" x=\"134.315663\" xlink:href=\"#m0be0bba02e\" y=\"79.419009\"/>\n     <use style=\"fill:#1f77b4;stroke:#1f77b4;\" x=\"204.889975\" xlink:href=\"#m0be0bba02e\" y=\"128.812279\"/>\n     <use style=\"fill:#1f77b4;stroke:#1f77b4;\" x=\"134.431965\" xlink:href=\"#m0be0bba02e\" y=\"95.359856\"/>\n     <use style=\"fill:#1f77b4;stroke:#1f77b4;\" x=\"92.768216\" xlink:href=\"#m0be0bba02e\" y=\"66.954391\"/>\n     <use style=\"fill:#1f77b4;stroke:#1f77b4;\" x=\"119.825908\" xlink:href=\"#m0be0bba02e\" y=\"68.018834\"/>\n     <use style=\"fill:#1f77b4;stroke:#1f77b4;\" x=\"127.797432\" xlink:href=\"#m0be0bba02e\" y=\"58.699106\"/>\n     <use style=\"fill:#1f77b4;stroke:#1f77b4;\" x=\"121.292268\" xlink:href=\"#m0be0bba02e\" y=\"59.806496\"/>\n     <use style=\"fill:#1f77b4;stroke:#1f77b4;\" x=\"186.601688\" xlink:href=\"#m0be0bba02e\" y=\"117.743142\"/>\n     <use style=\"fill:#1f77b4;stroke:#1f77b4;\" x=\"132.902129\" xlink:href=\"#m0be0bba02e\" y=\"80.169393\"/>\n     <use style=\"fill:#1f77b4;stroke:#1f77b4;\" x=\"114.235026\" xlink:href=\"#m0be0bba02e\" y=\"68.32115\"/>\n     <use style=\"fill:#1f77b4;stroke:#1f77b4;\" x=\"96.094411\" xlink:href=\"#m0be0bba02e\" y=\"51.664827\"/>\n     <use style=\"fill:#1f77b4;stroke:#1f77b4;\" x=\"113.872073\" xlink:href=\"#m0be0bba02e\" y=\"86.152036\"/>\n     <use style=\"fill:#1f77b4;stroke:#1f77b4;\" x=\"130.932849\" xlink:href=\"#m0be0bba02e\" y=\"92.995546\"/>\n     <use style=\"fill:#1f77b4;stroke:#1f77b4;\" x=\"130.737706\" xlink:href=\"#m0be0bba02e\" y=\"81.804294\"/>\n     <use style=\"fill:#1f77b4;stroke:#1f77b4;\" x=\"153.485601\" xlink:href=\"#m0be0bba02e\" y=\"90.996404\"/>\n     <use style=\"fill:#1f77b4;stroke:#1f77b4;\" x=\"95.829692\" xlink:href=\"#m0be0bba02e\" y=\"68.970948\"/>\n     <use style=\"fill:#1f77b4;stroke:#1f77b4;\" x=\"99.459488\" xlink:href=\"#m0be0bba02e\" y=\"55.769468\"/>\n     <use style=\"fill:#1f77b4;stroke:#1f77b4;\" x=\"121.819322\" xlink:href=\"#m0be0bba02e\" y=\"75.908866\"/>\n     <use style=\"fill:#1f77b4;stroke:#1f77b4;\" x=\"78.673391\" xlink:href=\"#m0be0bba02e\" y=\"56.461777\"/>\n     <use style=\"fill:#1f77b4;stroke:#1f77b4;\" x=\"112.946816\" xlink:href=\"#m0be0bba02e\" y=\"63.802571\"/>\n     <use style=\"fill:#1f77b4;stroke:#1f77b4;\" x=\"174.304367\" xlink:href=\"#m0be0bba02e\" y=\"107.426355\"/>\n     <use style=\"fill:#1f77b4;stroke:#1f77b4;\" x=\"146.435438\" xlink:href=\"#m0be0bba02e\" y=\"90.61771\"/>\n     <use style=\"fill:#1f77b4;stroke:#1f77b4;\" x=\"130.465003\" xlink:href=\"#m0be0bba02e\" y=\"75.4693\"/>\n     <use style=\"fill:#1f77b4;stroke:#1f77b4;\" x=\"97.395318\" xlink:href=\"#m0be0bba02e\" y=\"57.753902\"/>\n     <use style=\"fill:#1f77b4;stroke:#1f77b4;\" x=\"132.105501\" xlink:href=\"#m0be0bba02e\" y=\"84.569852\"/>\n     <use style=\"fill:#1f77b4;stroke:#1f77b4;\" x=\"138.562251\" xlink:href=\"#m0be0bba02e\" y=\"81.402313\"/>\n     <use style=\"fill:#1f77b4;stroke:#1f77b4;\" x=\"174.383853\" xlink:href=\"#m0be0bba02e\" y=\"89.170806\"/>\n     <use style=\"fill:#1f77b4;stroke:#1f77b4;\" x=\"131.022143\" xlink:href=\"#m0be0bba02e\" y=\"77.600401\"/>\n     <use style=\"fill:#1f77b4;stroke:#1f77b4;\" x=\"170.862273\" xlink:href=\"#m0be0bba02e\" y=\"86.455802\"/>\n     <use style=\"fill:#1f77b4;stroke:#1f77b4;\" x=\"130.941502\" xlink:href=\"#m0be0bba02e\" y=\"84.480593\"/>\n     <use style=\"fill:#1f77b4;stroke:#1f77b4;\" x=\"125.773366\" xlink:href=\"#m0be0bba02e\" y=\"80.095494\"/>\n     <use style=\"fill:#1f77b4;stroke:#1f77b4;\" x=\"97.063674\" xlink:href=\"#m0be0bba02e\" y=\"45.527221\"/>\n     <use style=\"fill:#1f77b4;stroke:#1f77b4;\" x=\"80.343158\" xlink:href=\"#m0be0bba02e\" y=\"76.847578\"/>\n     <use style=\"fill:#1f77b4;stroke:#1f77b4;\" x=\"187.191813\" xlink:href=\"#m0be0bba02e\" y=\"97.401036\"/>\n     <use style=\"fill:#1f77b4;stroke:#1f77b4;\" x=\"149.541383\" xlink:href=\"#m0be0bba02e\" y=\"91.3177\"/>\n     <use style=\"fill:#1f77b4;stroke:#1f77b4;\" x=\"119.472916\" xlink:href=\"#m0be0bba02e\" y=\"72.317323\"/>\n     <use style=\"fill:#1f77b4;stroke:#1f77b4;\" x=\"154.835802\" xlink:href=\"#m0be0bba02e\" y=\"86.03366\"/>\n     <use style=\"fill:#1f77b4;stroke:#1f77b4;\" x=\"145.496892\" xlink:href=\"#m0be0bba02e\" y=\"95.403402\"/>\n     <use style=\"fill:#1f77b4;stroke:#1f77b4;\" x=\"118.989746\" xlink:href=\"#m0be0bba02e\" y=\"78.6819\"/>\n     <use style=\"fill:#1f77b4;stroke:#1f77b4;\" x=\"82.850841\" xlink:href=\"#m0be0bba02e\" y=\"58.010008\"/>\n     <use style=\"fill:#1f77b4;stroke:#1f77b4;\" x=\"120.435063\" xlink:href=\"#m0be0bba02e\" y=\"100.654421\"/>\n     <use style=\"fill:#1f77b4;stroke:#1f77b4;\" x=\"129.253882\" xlink:href=\"#m0be0bba02e\" y=\"71.221027\"/>\n     <use style=\"fill:#1f77b4;stroke:#1f77b4;\" x=\"60.921027\" xlink:href=\"#m0be0bba02e\" y=\"35.075526\"/>\n     <use style=\"fill:#1f77b4;stroke:#1f77b4;\" x=\"106.326278\" xlink:href=\"#m0be0bba02e\" y=\"80.497987\"/>\n     <use style=\"fill:#1f77b4;stroke:#1f77b4;\" x=\"75.304323\" xlink:href=\"#m0be0bba02e\" y=\"53.611668\"/>\n     <use style=\"fill:#1f77b4;stroke:#1f77b4;\" x=\"161.188248\" xlink:href=\"#m0be0bba02e\" y=\"108.672988\"/>\n     <use style=\"fill:#1f77b4;stroke:#1f77b4;\" x=\"106.382169\" xlink:href=\"#m0be0bba02e\" y=\"59.945135\"/>\n     <use style=\"fill:#1f77b4;stroke:#1f77b4;\" x=\"107.845168\" xlink:href=\"#m0be0bba02e\" y=\"54.500753\"/>\n     <use style=\"fill:#1f77b4;stroke:#1f77b4;\" x=\"120.97227\" xlink:href=\"#m0be0bba02e\" y=\"59.485128\"/>\n     <use style=\"fill:#1f77b4;stroke:#1f77b4;\" x=\"97.663651\" xlink:href=\"#m0be0bba02e\" y=\"51.97293\"/>\n     <use style=\"fill:#1f77b4;stroke:#1f77b4;\" x=\"150.973156\" xlink:href=\"#m0be0bba02e\" y=\"77.502827\"/>\n     <use style=\"fill:#1f77b4;stroke:#1f77b4;\" x=\"147.266676\" xlink:href=\"#m0be0bba02e\" y=\"90.458833\"/>\n     <use style=\"fill:#1f77b4;stroke:#1f77b4;\" x=\"117.721218\" xlink:href=\"#m0be0bba02e\" y=\"72.402747\"/>\n     <use style=\"fill:#1f77b4;stroke:#1f77b4;\" x=\"110.402822\" xlink:href=\"#m0be0bba02e\" y=\"71.224626\"/>\n     <use style=\"fill:#1f77b4;stroke:#1f77b4;\" x=\"162.333879\" xlink:href=\"#m0be0bba02e\" y=\"111.045829\"/>\n     <use style=\"fill:#1f77b4;stroke:#1f77b4;\" x=\"121.23162\" xlink:href=\"#m0be0bba02e\" y=\"64.45494\"/>\n     <use style=\"fill:#1f77b4;stroke:#1f77b4;\" x=\"78.422743\" xlink:href=\"#m0be0bba02e\" y=\"53.655696\"/>\n     <use style=\"fill:#1f77b4;stroke:#1f77b4;\" x=\"76.710731\" xlink:href=\"#m0be0bba02e\" y=\"52.010506\"/>\n     <use style=\"fill:#1f77b4;stroke:#1f77b4;\" x=\"116.000568\" xlink:href=\"#m0be0bba02e\" y=\"73.739164\"/>\n     <use style=\"fill:#1f77b4;stroke:#1f77b4;\" x=\"109.580259\" xlink:href=\"#m0be0bba02e\" y=\"67.112635\"/>\n     <use style=\"fill:#1f77b4;stroke:#1f77b4;\" x=\"118.851069\" xlink:href=\"#m0be0bba02e\" y=\"86.883165\"/>\n     <use style=\"fill:#1f77b4;stroke:#1f77b4;\" x=\"155.564811\" xlink:href=\"#m0be0bba02e\" y=\"90.096758\"/>\n     <use style=\"fill:#1f77b4;stroke:#1f77b4;\" x=\"128.917601\" xlink:href=\"#m0be0bba02e\" y=\"95.47783\"/>\n     <use style=\"fill:#1f77b4;stroke:#1f77b4;\" x=\"161.787822\" xlink:href=\"#m0be0bba02e\" y=\"87.582623\"/>\n     <use style=\"fill:#1f77b4;stroke:#1f77b4;\" x=\"159.69902\" xlink:href=\"#m0be0bba02e\" y=\"123.222947\"/>\n     <use style=\"fill:#1f77b4;stroke:#1f77b4;\" x=\"150.837429\" xlink:href=\"#m0be0bba02e\" y=\"88.387741\"/>\n     <use style=\"fill:#1f77b4;stroke:#1f77b4;\" x=\"114.371794\" xlink:href=\"#m0be0bba02e\" y=\"55.549589\"/>\n     <use style=\"fill:#1f77b4;stroke:#1f77b4;\" x=\"92.185173\" xlink:href=\"#m0be0bba02e\" y=\"53.833349\"/>\n     <use style=\"fill:#1f77b4;stroke:#1f77b4;\" x=\"122.832912\" xlink:href=\"#m0be0bba02e\" y=\"84.910632\"/>\n     <use style=\"fill:#1f77b4;stroke:#1f77b4;\" x=\"157.404869\" xlink:href=\"#m0be0bba02e\" y=\"101.901907\"/>\n     <use style=\"fill:#1f77b4;stroke:#1f77b4;\" x=\"63.12171\" xlink:href=\"#m0be0bba02e\" y=\"42.874425\"/>\n     <use style=\"fill:#1f77b4;stroke:#1f77b4;\" x=\"81.010338\" xlink:href=\"#m0be0bba02e\" y=\"54.048519\"/>\n     <use style=\"fill:#1f77b4;stroke:#1f77b4;\" x=\"91.998377\" xlink:href=\"#m0be0bba02e\" y=\"45.067102\"/>\n     <use style=\"fill:#1f77b4;stroke:#1f77b4;\" x=\"149.169477\" xlink:href=\"#m0be0bba02e\" y=\"92.280963\"/>\n     <use style=\"fill:#1f77b4;stroke:#1f77b4;\" x=\"119.873216\" xlink:href=\"#m0be0bba02e\" y=\"69.219507\"/>\n     <use style=\"fill:#1f77b4;stroke:#1f77b4;\" x=\"189.264912\" xlink:href=\"#m0be0bba02e\" y=\"127.051278\"/>\n     <use style=\"fill:#1f77b4;stroke:#1f77b4;\" x=\"117.499557\" xlink:href=\"#m0be0bba02e\" y=\"82.69067\"/>\n     <use style=\"fill:#1f77b4;stroke:#1f77b4;\" x=\"88.553948\" xlink:href=\"#m0be0bba02e\" y=\"30.106348\"/>\n     <use style=\"fill:#1f77b4;stroke:#1f77b4;\" x=\"152.927173\" xlink:href=\"#m0be0bba02e\" y=\"91.711067\"/>\n     <use style=\"fill:#1f77b4;stroke:#1f77b4;\" x=\"143.560766\" xlink:href=\"#m0be0bba02e\" y=\"97.653033\"/>\n     <use style=\"fill:#1f77b4;stroke:#1f77b4;\" x=\"135.310752\" xlink:href=\"#m0be0bba02e\" y=\"74.700542\"/>\n     <use style=\"fill:#1f77b4;stroke:#1f77b4;\" x=\"131.881367\" xlink:href=\"#m0be0bba02e\" y=\"96.009937\"/>\n     <use style=\"fill:#1f77b4;stroke:#1f77b4;\" x=\"70.306755\" xlink:href=\"#m0be0bba02e\" y=\"33.464785\"/>\n     <use style=\"fill:#1f77b4;stroke:#1f77b4;\" x=\"108.848479\" xlink:href=\"#m0be0bba02e\" y=\"51.571759\"/>\n     <use style=\"fill:#1f77b4;stroke:#1f77b4;\" x=\"131.375044\" xlink:href=\"#m0be0bba02e\" y=\"93.36923\"/>\n     <use style=\"fill:#1f77b4;stroke:#1f77b4;\" x=\"88.971017\" xlink:href=\"#m0be0bba02e\" y=\"67.575967\"/>\n     <use style=\"fill:#1f77b4;stroke:#1f77b4;\" x=\"117.328906\" xlink:href=\"#m0be0bba02e\" y=\"72.416492\"/>\n     <use style=\"fill:#1f77b4;stroke:#1f77b4;\" x=\"124.403822\" xlink:href=\"#m0be0bba02e\" y=\"92.294642\"/>\n     <use style=\"fill:#1f77b4;stroke:#1f77b4;\" x=\"139.798836\" xlink:href=\"#m0be0bba02e\" y=\"72.82991\"/>\n     <use style=\"fill:#1f77b4;stroke:#1f77b4;\" x=\"85.554711\" xlink:href=\"#m0be0bba02e\" y=\"48.75719\"/>\n     <use style=\"fill:#1f77b4;stroke:#1f77b4;\" x=\"104.171597\" xlink:href=\"#m0be0bba02e\" y=\"72.742935\"/>\n     <use style=\"fill:#1f77b4;stroke:#1f77b4;\" x=\"160.382635\" xlink:href=\"#m0be0bba02e\" y=\"78.47229\"/>\n     <use style=\"fill:#1f77b4;stroke:#1f77b4;\" x=\"146.229378\" xlink:href=\"#m0be0bba02e\" y=\"102.181089\"/>\n     <use style=\"fill:#1f77b4;stroke:#1f77b4;\" x=\"141.654721\" xlink:href=\"#m0be0bba02e\" y=\"84.022546\"/>\n     <use style=\"fill:#1f77b4;stroke:#1f77b4;\" x=\"163.391759\" xlink:href=\"#m0be0bba02e\" y=\"95.496127\"/>\n     <use style=\"fill:#1f77b4;stroke:#1f77b4;\" x=\"169.920385\" xlink:href=\"#m0be0bba02e\" y=\"122.966169\"/>\n     <use style=\"fill:#1f77b4;stroke:#1f77b4;\" x=\"142.147341\" xlink:href=\"#m0be0bba02e\" y=\"91.286034\"/>\n     <use style=\"fill:#1f77b4;stroke:#1f77b4;\" x=\"71.3089\" xlink:href=\"#m0be0bba02e\" y=\"65.136031\"/>\n     <use style=\"fill:#1f77b4;stroke:#1f77b4;\" x=\"147.014871\" xlink:href=\"#m0be0bba02e\" y=\"97.988778\"/>\n     <use style=\"fill:#1f77b4;stroke:#1f77b4;\" x=\"120.009699\" xlink:href=\"#m0be0bba02e\" y=\"64.569945\"/>\n     <use style=\"fill:#1f77b4;stroke:#1f77b4;\" x=\"87.336983\" xlink:href=\"#m0be0bba02e\" y=\"39.933016\"/>\n     <use style=\"fill:#1f77b4;stroke:#1f77b4;\" x=\"142.45918\" xlink:href=\"#m0be0bba02e\" y=\"106.336163\"/>\n     <use style=\"fill:#1f77b4;stroke:#1f77b4;\" x=\"87.798014\" xlink:href=\"#m0be0bba02e\" y=\"58.04379\"/>\n     <use style=\"fill:#1f77b4;stroke:#1f77b4;\" x=\"145.862757\" xlink:href=\"#m0be0bba02e\" y=\"82.985652\"/>\n     <use style=\"fill:#1f77b4;stroke:#1f77b4;\" x=\"154.43017\" xlink:href=\"#m0be0bba02e\" y=\"95.359848\"/>\n     <use style=\"fill:#1f77b4;stroke:#1f77b4;\" x=\"135.680064\" xlink:href=\"#m0be0bba02e\" y=\"82.002477\"/>\n     <use style=\"fill:#1f77b4;stroke:#1f77b4;\" x=\"144.614565\" xlink:href=\"#m0be0bba02e\" y=\"91.896422\"/>\n     <use style=\"fill:#1f77b4;stroke:#1f77b4;\" x=\"110.711275\" xlink:href=\"#m0be0bba02e\" y=\"82.584115\"/>\n     <use style=\"fill:#1f77b4;stroke:#1f77b4;\" x=\"105.012023\" xlink:href=\"#m0be0bba02e\" y=\"56.05598\"/>\n     <use style=\"fill:#1f77b4;stroke:#1f77b4;\" x=\"150.198802\" xlink:href=\"#m0be0bba02e\" y=\"73.706907\"/>\n     <use style=\"fill:#1f77b4;stroke:#1f77b4;\" x=\"98.157041\" xlink:href=\"#m0be0bba02e\" y=\"53.455685\"/>\n     <use style=\"fill:#1f77b4;stroke:#1f77b4;\" x=\"97.951555\" xlink:href=\"#m0be0bba02e\" y=\"60.522054\"/>\n     <use style=\"fill:#1f77b4;stroke:#1f77b4;\" x=\"132.268588\" xlink:href=\"#m0be0bba02e\" y=\"78.529764\"/>\n     <use style=\"fill:#1f77b4;stroke:#1f77b4;\" x=\"129.175983\" xlink:href=\"#m0be0bba02e\" y=\"85.2798\"/>\n     <use style=\"fill:#1f77b4;stroke:#1f77b4;\" x=\"89.436716\" xlink:href=\"#m0be0bba02e\" y=\"49.886066\"/>\n     <use style=\"fill:#1f77b4;stroke:#1f77b4;\" x=\"105.601641\" xlink:href=\"#m0be0bba02e\" y=\"67.130188\"/>\n     <use style=\"fill:#1f77b4;stroke:#1f77b4;\" x=\"37.81946\" xlink:href=\"#m0be0bba02e\" y=\"24.051362\"/>\n     <use style=\"fill:#1f77b4;stroke:#1f77b4;\" x=\"115.562295\" xlink:href=\"#m0be0bba02e\" y=\"84.437957\"/>\n     <use style=\"fill:#1f77b4;stroke:#1f77b4;\" x=\"109.131669\" xlink:href=\"#m0be0bba02e\" y=\"68.289185\"/>\n     <use style=\"fill:#1f77b4;stroke:#1f77b4;\" x=\"145.84879\" xlink:href=\"#m0be0bba02e\" y=\"94.748525\"/>\n     <use style=\"fill:#1f77b4;stroke:#1f77b4;\" x=\"156.526219\" xlink:href=\"#m0be0bba02e\" y=\"92.474261\"/>\n     <use style=\"fill:#1f77b4;stroke:#1f77b4;\" x=\"150.885567\" xlink:href=\"#m0be0bba02e\" y=\"93.350808\"/>\n     <use style=\"fill:#1f77b4;stroke:#1f77b4;\" x=\"74.349194\" xlink:href=\"#m0be0bba02e\" y=\"40.565905\"/>\n     <use style=\"fill:#1f77b4;stroke:#1f77b4;\" x=\"71.401118\" xlink:href=\"#m0be0bba02e\" y=\"30.994756\"/>\n     <use style=\"fill:#1f77b4;stroke:#1f77b4;\" x=\"110.593598\" xlink:href=\"#m0be0bba02e\" y=\"78.870878\"/>\n     <use style=\"fill:#1f77b4;stroke:#1f77b4;\" x=\"167.230725\" xlink:href=\"#m0be0bba02e\" y=\"97.087597\"/>\n     <use style=\"fill:#1f77b4;stroke:#1f77b4;\" x=\"111.607079\" xlink:href=\"#m0be0bba02e\" y=\"67.621003\"/>\n     <use style=\"fill:#1f77b4;stroke:#1f77b4;\" x=\"140.017823\" xlink:href=\"#m0be0bba02e\" y=\"87.592468\"/>\n     <use style=\"fill:#1f77b4;stroke:#1f77b4;\" x=\"136.718275\" xlink:href=\"#m0be0bba02e\" y=\"78.136968\"/>\n     <use style=\"fill:#1f77b4;stroke:#1f77b4;\" x=\"150.753215\" xlink:href=\"#m0be0bba02e\" y=\"89.868371\"/>\n     <use style=\"fill:#1f77b4;stroke:#1f77b4;\" x=\"133.540612\" xlink:href=\"#m0be0bba02e\" y=\"73.604883\"/>\n     <use style=\"fill:#1f77b4;stroke:#1f77b4;\" x=\"102.202819\" xlink:href=\"#m0be0bba02e\" y=\"61.192023\"/>\n     <use style=\"fill:#1f77b4;stroke:#1f77b4;\" x=\"121.490346\" xlink:href=\"#m0be0bba02e\" y=\"79.739358\"/>\n     <use style=\"fill:#1f77b4;stroke:#1f77b4;\" x=\"160.802619\" xlink:href=\"#m0be0bba02e\" y=\"97.556019\"/>\n     <use style=\"fill:#1f77b4;stroke:#1f77b4;\" x=\"168.543882\" xlink:href=\"#m0be0bba02e\" y=\"98.396753\"/>\n     <use style=\"fill:#1f77b4;stroke:#1f77b4;\" x=\"140.871798\" xlink:href=\"#m0be0bba02e\" y=\"87.500086\"/>\n     <use style=\"fill:#1f77b4;stroke:#1f77b4;\" x=\"164.427108\" xlink:href=\"#m0be0bba02e\" y=\"87.335987\"/>\n     <use style=\"fill:#1f77b4;stroke:#1f77b4;\" x=\"196.591247\" xlink:href=\"#m0be0bba02e\" y=\"108.033738\"/>\n     <use style=\"fill:#1f77b4;stroke:#1f77b4;\" x=\"136.771166\" xlink:href=\"#m0be0bba02e\" y=\"81.586155\"/>\n     <use style=\"fill:#1f77b4;stroke:#1f77b4;\" x=\"90.562923\" xlink:href=\"#m0be0bba02e\" y=\"58.507695\"/>\n     <use style=\"fill:#1f77b4;stroke:#1f77b4;\" x=\"115.634136\" xlink:href=\"#m0be0bba02e\" y=\"67.055709\"/>\n     <use style=\"fill:#1f77b4;stroke:#1f77b4;\" x=\"106.920738\" xlink:href=\"#m0be0bba02e\" y=\"67.371399\"/>\n     <use style=\"fill:#1f77b4;stroke:#1f77b4;\" x=\"154.147014\" xlink:href=\"#m0be0bba02e\" y=\"78.401387\"/>\n     <use style=\"fill:#1f77b4;stroke:#1f77b4;\" x=\"124.800095\" xlink:href=\"#m0be0bba02e\" y=\"84.780164\"/>\n     <use style=\"fill:#1f77b4;stroke:#1f77b4;\" x=\"92.267324\" xlink:href=\"#m0be0bba02e\" y=\"50.026303\"/>\n     <use style=\"fill:#1f77b4;stroke:#1f77b4;\" x=\"100.671944\" xlink:href=\"#m0be0bba02e\" y=\"68.554625\"/>\n     <use style=\"fill:#1f77b4;stroke:#1f77b4;\" x=\"132.479103\" xlink:href=\"#m0be0bba02e\" y=\"78.789077\"/>\n     <use style=\"fill:#1f77b4;stroke:#1f77b4;\" x=\"135.393942\" xlink:href=\"#m0be0bba02e\" y=\"61.13512\"/>\n     <use style=\"fill:#1f77b4;stroke:#1f77b4;\" x=\"153.975732\" xlink:href=\"#m0be0bba02e\" y=\"96.223557\"/>\n     <use style=\"fill:#1f77b4;stroke:#1f77b4;\" x=\"118.42291\" xlink:href=\"#m0be0bba02e\" y=\"81.470829\"/>\n     <use style=\"fill:#1f77b4;stroke:#1f77b4;\" x=\"163.005556\" xlink:href=\"#m0be0bba02e\" y=\"109.734543\"/>\n     <use style=\"fill:#1f77b4;stroke:#1f77b4;\" x=\"101.855751\" xlink:href=\"#m0be0bba02e\" y=\"68.77373\"/>\n     <use style=\"fill:#1f77b4;stroke:#1f77b4;\" x=\"146.285646\" xlink:href=\"#m0be0bba02e\" y=\"64.38075\"/>\n     <use style=\"fill:#1f77b4;stroke:#1f77b4;\" x=\"90.375601\" xlink:href=\"#m0be0bba02e\" y=\"47.221133\"/>\n     <use style=\"fill:#1f77b4;stroke:#1f77b4;\" x=\"87.085401\" xlink:href=\"#m0be0bba02e\" y=\"46.746931\"/>\n     <use style=\"fill:#1f77b4;stroke:#1f77b4;\" x=\"171.764778\" xlink:href=\"#m0be0bba02e\" y=\"101.787143\"/>\n     <use style=\"fill:#1f77b4;stroke:#1f77b4;\" x=\"116.145886\" xlink:href=\"#m0be0bba02e\" y=\"80.292567\"/>\n     <use style=\"fill:#1f77b4;stroke:#1f77b4;\" x=\"184.210098\" xlink:href=\"#m0be0bba02e\" y=\"105.649935\"/>\n     <use style=\"fill:#1f77b4;stroke:#1f77b4;\" x=\"151.682978\" xlink:href=\"#m0be0bba02e\" y=\"95.583446\"/>\n     <use style=\"fill:#1f77b4;stroke:#1f77b4;\" x=\"124.128829\" xlink:href=\"#m0be0bba02e\" y=\"77.418281\"/>\n     <use style=\"fill:#1f77b4;stroke:#1f77b4;\" x=\"101.855229\" xlink:href=\"#m0be0bba02e\" y=\"61.779682\"/>\n     <use style=\"fill:#1f77b4;stroke:#1f77b4;\" x=\"146.409711\" xlink:href=\"#m0be0bba02e\" y=\"99.240351\"/>\n     <use style=\"fill:#1f77b4;stroke:#1f77b4;\" x=\"172.967628\" xlink:href=\"#m0be0bba02e\" y=\"100.272599\"/>\n     <use style=\"fill:#1f77b4;stroke:#1f77b4;\" x=\"147.160561\" xlink:href=\"#m0be0bba02e\" y=\"92.669307\"/>\n     <use style=\"fill:#1f77b4;stroke:#1f77b4;\" x=\"139.810883\" xlink:href=\"#m0be0bba02e\" y=\"105.53043\"/>\n     <use style=\"fill:#1f77b4;stroke:#1f77b4;\" x=\"106.490183\" xlink:href=\"#m0be0bba02e\" y=\"68.120191\"/>\n     <use style=\"fill:#1f77b4;stroke:#1f77b4;\" x=\"112.383733\" xlink:href=\"#m0be0bba02e\" y=\"55.371661\"/>\n     <use style=\"fill:#1f77b4;stroke:#1f77b4;\" x=\"76.18876\" xlink:href=\"#m0be0bba02e\" y=\"46.915942\"/>\n     <use style=\"fill:#1f77b4;stroke:#1f77b4;\" x=\"105.618984\" xlink:href=\"#m0be0bba02e\" y=\"61.596886\"/>\n     <use style=\"fill:#1f77b4;stroke:#1f77b4;\" x=\"108.952673\" xlink:href=\"#m0be0bba02e\" y=\"55.04931\"/>\n     <use style=\"fill:#1f77b4;stroke:#1f77b4;\" x=\"146.816523\" xlink:href=\"#m0be0bba02e\" y=\"84.315231\"/>\n     <use style=\"fill:#1f77b4;stroke:#1f77b4;\" x=\"47.860055\" xlink:href=\"#m0be0bba02e\" y=\"32.693501\"/>\n     <use style=\"fill:#1f77b4;stroke:#1f77b4;\" x=\"170.373675\" xlink:href=\"#m0be0bba02e\" y=\"102.440685\"/>\n     <use style=\"fill:#1f77b4;stroke:#1f77b4;\" x=\"108.143626\" xlink:href=\"#m0be0bba02e\" y=\"82.629147\"/>\n     <use style=\"fill:#1f77b4;stroke:#1f77b4;\" x=\"168.814627\" xlink:href=\"#m0be0bba02e\" y=\"106.46771\"/>\n     <use style=\"fill:#1f77b4;stroke:#1f77b4;\" x=\"124.03491\" xlink:href=\"#m0be0bba02e\" y=\"70.740432\"/>\n     <use style=\"fill:#1f77b4;stroke:#1f77b4;\" x=\"99.606753\" xlink:href=\"#m0be0bba02e\" y=\"71.802911\"/>\n     <use style=\"fill:#1f77b4;stroke:#1f77b4;\" x=\"125.669471\" xlink:href=\"#m0be0bba02e\" y=\"58.40697\"/>\n     <use style=\"fill:#1f77b4;stroke:#1f77b4;\" x=\"136.614475\" xlink:href=\"#m0be0bba02e\" y=\"104.122353\"/>\n     <use style=\"fill:#1f77b4;stroke:#1f77b4;\" x=\"100.793549\" xlink:href=\"#m0be0bba02e\" y=\"64.357362\"/>\n     <use style=\"fill:#1f77b4;stroke:#1f77b4;\" x=\"131.367593\" xlink:href=\"#m0be0bba02e\" y=\"98.506157\"/>\n     <use style=\"fill:#1f77b4;stroke:#1f77b4;\" x=\"75.716215\" xlink:href=\"#m0be0bba02e\" y=\"49.050184\"/>\n     <use style=\"fill:#1f77b4;stroke:#1f77b4;\" x=\"165.657228\" xlink:href=\"#m0be0bba02e\" y=\"96.60641\"/>\n     <use style=\"fill:#1f77b4;stroke:#1f77b4;\" x=\"113.636105\" xlink:href=\"#m0be0bba02e\" y=\"88.671346\"/>\n     <use style=\"fill:#1f77b4;stroke:#1f77b4;\" x=\"102.172991\" xlink:href=\"#m0be0bba02e\" y=\"50.860328\"/>\n     <use style=\"fill:#1f77b4;stroke:#1f77b4;\" x=\"108.991057\" xlink:href=\"#m0be0bba02e\" y=\"69.966136\"/>\n     <use style=\"fill:#1f77b4;stroke:#1f77b4;\" x=\"99.606913\" xlink:href=\"#m0be0bba02e\" y=\"81.333418\"/>\n     <use style=\"fill:#1f77b4;stroke:#1f77b4;\" x=\"116.627873\" xlink:href=\"#m0be0bba02e\" y=\"86.757455\"/>\n     <use style=\"fill:#1f77b4;stroke:#1f77b4;\" x=\"88.669005\" xlink:href=\"#m0be0bba02e\" y=\"50.814892\"/>\n     <use style=\"fill:#1f77b4;stroke:#1f77b4;\" x=\"104.81214\" xlink:href=\"#m0be0bba02e\" y=\"75.733659\"/>\n     <use style=\"fill:#1f77b4;stroke:#1f77b4;\" x=\"156.019124\" xlink:href=\"#m0be0bba02e\" y=\"89.601493\"/>\n     <use style=\"fill:#1f77b4;stroke:#1f77b4;\" x=\"124.541925\" xlink:href=\"#m0be0bba02e\" y=\"80.537241\"/>\n     <use style=\"fill:#1f77b4;stroke:#1f77b4;\" x=\"96.877062\" xlink:href=\"#m0be0bba02e\" y=\"58.050867\"/>\n     <use style=\"fill:#1f77b4;stroke:#1f77b4;\" x=\"146.464758\" xlink:href=\"#m0be0bba02e\" y=\"80.657658\"/>\n     <use style=\"fill:#1f77b4;stroke:#1f77b4;\" x=\"151.455346\" xlink:href=\"#m0be0bba02e\" y=\"90.144072\"/>\n     <use style=\"fill:#1f77b4;stroke:#1f77b4;\" x=\"99.770726\" xlink:href=\"#m0be0bba02e\" y=\"55.185545\"/>\n     <use style=\"fill:#1f77b4;stroke:#1f77b4;\" x=\"189.581648\" xlink:href=\"#m0be0bba02e\" y=\"106.916281\"/>\n     <use style=\"fill:#1f77b4;stroke:#1f77b4;\" x=\"124.830655\" xlink:href=\"#m0be0bba02e\" y=\"76.023129\"/>\n     <use style=\"fill:#1f77b4;stroke:#1f77b4;\" x=\"134.612683\" xlink:href=\"#m0be0bba02e\" y=\"100.814955\"/>\n     <use style=\"fill:#1f77b4;stroke:#1f77b4;\" x=\"119.295601\" xlink:href=\"#m0be0bba02e\" y=\"85.616338\"/>\n     <use style=\"fill:#1f77b4;stroke:#1f77b4;\" x=\"138.277205\" xlink:href=\"#m0be0bba02e\" y=\"84.925277\"/>\n     <use style=\"fill:#1f77b4;stroke:#1f77b4;\" x=\"90.391367\" xlink:href=\"#m0be0bba02e\" y=\"53.371642\"/>\n     <use style=\"fill:#1f77b4;stroke:#1f77b4;\" x=\"99.494076\" xlink:href=\"#m0be0bba02e\" y=\"68.427643\"/>\n     <use style=\"fill:#1f77b4;stroke:#1f77b4;\" x=\"127.83098\" xlink:href=\"#m0be0bba02e\" y=\"65.497524\"/>\n     <use style=\"fill:#1f77b4;stroke:#1f77b4;\" x=\"120.948333\" xlink:href=\"#m0be0bba02e\" y=\"81.802574\"/>\n     <use style=\"fill:#1f77b4;stroke:#1f77b4;\" x=\"152.266855\" xlink:href=\"#m0be0bba02e\" y=\"100.445594\"/>\n     <use style=\"fill:#1f77b4;stroke:#1f77b4;\" x=\"140.685573\" xlink:href=\"#m0be0bba02e\" y=\"84.984501\"/>\n     <use style=\"fill:#1f77b4;stroke:#1f77b4;\" x=\"136.419356\" xlink:href=\"#m0be0bba02e\" y=\"87.561433\"/>\n     <use style=\"fill:#1f77b4;stroke:#1f77b4;\" x=\"162.016286\" xlink:href=\"#m0be0bba02e\" y=\"112.948737\"/>\n     <use style=\"fill:#1f77b4;stroke:#1f77b4;\" x=\"184.663305\" xlink:href=\"#m0be0bba02e\" y=\"117.165066\"/>\n     <use style=\"fill:#1f77b4;stroke:#1f77b4;\" x=\"142.079582\" xlink:href=\"#m0be0bba02e\" y=\"95.808832\"/>\n     <use style=\"fill:#1f77b4;stroke:#1f77b4;\" x=\"129.646844\" xlink:href=\"#m0be0bba02e\" y=\"90.304498\"/>\n     <use style=\"fill:#1f77b4;stroke:#1f77b4;\" x=\"106.16238\" xlink:href=\"#m0be0bba02e\" y=\"43.472302\"/>\n     <use style=\"fill:#1f77b4;stroke:#1f77b4;\" x=\"56.742893\" xlink:href=\"#m0be0bba02e\" y=\"33.411364\"/>\n     <use style=\"fill:#1f77b4;stroke:#1f77b4;\" x=\"107.886639\" xlink:href=\"#m0be0bba02e\" y=\"64.46368\"/>\n    </g>\n   </g>\n   <g id=\"matplotlib.axis_1\">\n    <g id=\"xtick_1\">\n     <g id=\"line2d_1\">\n      <defs>\n       <path d=\"M 0 0 \nL 0 3.5 \n\" id=\"mc2d183c3f1\" style=\"stroke:#000000;stroke-width:0.8;\"/>\n      </defs>\n      <g>\n       <use style=\"stroke:#000000;stroke-width:0.8;\" x=\"64.631859\" xlink:href=\"#mc2d183c3f1\" y=\"143.1\"/>\n      </g>\n     </g>\n     <g id=\"text_1\">\n      <!-- −2 -->\n      <defs>\n       <path d=\"M 10.59375 35.5 \nL 73.1875 35.5 \nL 73.1875 27.203125 \nL 10.59375 27.203125 \nz\n\" id=\"DejaVuSans-8722\"/>\n       <path d=\"M 19.1875 8.296875 \nL 53.609375 8.296875 \nL 53.609375 0 \nL 7.328125 0 \nL 7.328125 8.296875 \nQ 12.9375 14.109375 22.625 23.890625 \nQ 32.328125 33.6875 34.8125 36.53125 \nQ 39.546875 41.84375 41.421875 45.53125 \nQ 43.3125 49.21875 43.3125 52.78125 \nQ 43.3125 58.59375 39.234375 62.25 \nQ 35.15625 65.921875 28.609375 65.921875 \nQ 23.96875 65.921875 18.8125 64.3125 \nQ 13.671875 62.703125 7.8125 59.421875 \nL 7.8125 69.390625 \nQ 13.765625 71.78125 18.9375 73 \nQ 24.125 74.21875 28.421875 74.21875 \nQ 39.75 74.21875 46.484375 68.546875 \nQ 53.21875 62.890625 53.21875 53.421875 \nQ 53.21875 48.921875 51.53125 44.890625 \nQ 49.859375 40.875 45.40625 35.40625 \nQ 44.1875 33.984375 37.640625 27.21875 \nQ 31.109375 20.453125 19.1875 8.296875 \nz\n\" id=\"DejaVuSans-50\"/>\n      </defs>\n      <g transform=\"translate(57.260765 157.698438)scale(0.1 -0.1)\">\n       <use xlink:href=\"#DejaVuSans-8722\"/>\n       <use x=\"83.789062\" xlink:href=\"#DejaVuSans-50\"/>\n      </g>\n     </g>\n    </g>\n    <g id=\"xtick_2\">\n     <g id=\"line2d_2\">\n      <g>\n       <use style=\"stroke:#000000;stroke-width:0.8;\" x=\"126.315865\" xlink:href=\"#mc2d183c3f1\" y=\"143.1\"/>\n      </g>\n     </g>\n     <g id=\"text_2\">\n      <!-- 0 -->\n      <defs>\n       <path d=\"M 31.78125 66.40625 \nQ 24.171875 66.40625 20.328125 58.90625 \nQ 16.5 51.421875 16.5 36.375 \nQ 16.5 21.390625 20.328125 13.890625 \nQ 24.171875 6.390625 31.78125 6.390625 \nQ 39.453125 6.390625 43.28125 13.890625 \nQ 47.125 21.390625 47.125 36.375 \nQ 47.125 51.421875 43.28125 58.90625 \nQ 39.453125 66.40625 31.78125 66.40625 \nz\nM 31.78125 74.21875 \nQ 44.046875 74.21875 50.515625 64.515625 \nQ 56.984375 54.828125 56.984375 36.375 \nQ 56.984375 17.96875 50.515625 8.265625 \nQ 44.046875 -1.421875 31.78125 -1.421875 \nQ 19.53125 -1.421875 13.0625 8.265625 \nQ 6.59375 17.96875 6.59375 36.375 \nQ 6.59375 54.828125 13.0625 64.515625 \nQ 19.53125 74.21875 31.78125 74.21875 \nz\n\" id=\"DejaVuSans-48\"/>\n      </defs>\n      <g transform=\"translate(123.134615 157.698438)scale(0.1 -0.1)\">\n       <use xlink:href=\"#DejaVuSans-48\"/>\n      </g>\n     </g>\n    </g>\n    <g id=\"xtick_3\">\n     <g id=\"line2d_3\">\n      <g>\n       <use style=\"stroke:#000000;stroke-width:0.8;\" x=\"187.999871\" xlink:href=\"#mc2d183c3f1\" y=\"143.1\"/>\n      </g>\n     </g>\n     <g id=\"text_3\">\n      <!-- 2 -->\n      <g transform=\"translate(184.818621 157.698438)scale(0.1 -0.1)\">\n       <use xlink:href=\"#DejaVuSans-50\"/>\n      </g>\n     </g>\n    </g>\n   </g>\n   <g id=\"matplotlib.axis_2\">\n    <g id=\"ytick_1\">\n     <g id=\"line2d_4\">\n      <defs>\n       <path d=\"M 0 0 \nL -3.5 0 \n\" id=\"m1c1ba32cbe\" style=\"stroke:#000000;stroke-width:0.8;\"/>\n      </defs>\n      <g>\n       <use style=\"stroke:#000000;stroke-width:0.8;\" x=\"28.942188\" xlink:href=\"#m1c1ba32cbe\" y=\"125.472132\"/>\n      </g>\n     </g>\n     <g id=\"text_4\">\n      <!-- −5 -->\n      <defs>\n       <path d=\"M 10.796875 72.90625 \nL 49.515625 72.90625 \nL 49.515625 64.59375 \nL 19.828125 64.59375 \nL 19.828125 46.734375 \nQ 21.96875 47.46875 24.109375 47.828125 \nQ 26.265625 48.1875 28.421875 48.1875 \nQ 40.625 48.1875 47.75 41.5 \nQ 54.890625 34.8125 54.890625 23.390625 \nQ 54.890625 11.625 47.5625 5.09375 \nQ 40.234375 -1.421875 26.90625 -1.421875 \nQ 22.3125 -1.421875 17.546875 -0.640625 \nQ 12.796875 0.140625 7.71875 1.703125 \nL 7.71875 11.625 \nQ 12.109375 9.234375 16.796875 8.0625 \nQ 21.484375 6.890625 26.703125 6.890625 \nQ 35.15625 6.890625 40.078125 11.328125 \nQ 45.015625 15.765625 45.015625 23.390625 \nQ 45.015625 31 40.078125 35.4375 \nQ 35.15625 39.890625 26.703125 39.890625 \nQ 22.75 39.890625 18.8125 39.015625 \nQ 14.890625 38.140625 10.796875 36.28125 \nz\n\" id=\"DejaVuSans-53\"/>\n      </defs>\n      <g transform=\"translate(7.2 129.271351)scale(0.1 -0.1)\">\n       <use xlink:href=\"#DejaVuSans-8722\"/>\n       <use x=\"83.789062\" xlink:href=\"#DejaVuSans-53\"/>\n      </g>\n     </g>\n    </g>\n    <g id=\"ytick_2\">\n     <g id=\"line2d_5\">\n      <g>\n       <use style=\"stroke:#000000;stroke-width:0.8;\" x=\"28.942188\" xlink:href=\"#m1c1ba32cbe\" y=\"99.371804\"/>\n      </g>\n     </g>\n     <g id=\"text_5\">\n      <!-- 0 -->\n      <g transform=\"translate(15.579688 103.171022)scale(0.1 -0.1)\">\n       <use xlink:href=\"#DejaVuSans-48\"/>\n      </g>\n     </g>\n    </g>\n    <g id=\"ytick_3\">\n     <g id=\"line2d_6\">\n      <g>\n       <use style=\"stroke:#000000;stroke-width:0.8;\" x=\"28.942188\" xlink:href=\"#m1c1ba32cbe\" y=\"73.271475\"/>\n      </g>\n     </g>\n     <g id=\"text_6\">\n      <!-- 5 -->\n      <g transform=\"translate(15.579688 77.070694)scale(0.1 -0.1)\">\n       <use xlink:href=\"#DejaVuSans-53\"/>\n      </g>\n     </g>\n    </g>\n    <g id=\"ytick_4\">\n     <g id=\"line2d_7\">\n      <g>\n       <use style=\"stroke:#000000;stroke-width:0.8;\" x=\"28.942188\" xlink:href=\"#m1c1ba32cbe\" y=\"47.171147\"/>\n      </g>\n     </g>\n     <g id=\"text_7\">\n      <!-- 10 -->\n      <defs>\n       <path d=\"M 12.40625 8.296875 \nL 28.515625 8.296875 \nL 28.515625 63.921875 \nL 10.984375 60.40625 \nL 10.984375 69.390625 \nL 28.421875 72.90625 \nL 38.28125 72.90625 \nL 38.28125 8.296875 \nL 54.390625 8.296875 \nL 54.390625 0 \nL 12.40625 0 \nz\n\" id=\"DejaVuSans-49\"/>\n      </defs>\n      <g transform=\"translate(9.217188 50.970365)scale(0.1 -0.1)\">\n       <use xlink:href=\"#DejaVuSans-49\"/>\n       <use x=\"63.623047\" xlink:href=\"#DejaVuSans-48\"/>\n      </g>\n     </g>\n    </g>\n    <g id=\"ytick_5\">\n     <g id=\"line2d_8\">\n      <g>\n       <use style=\"stroke:#000000;stroke-width:0.8;\" x=\"28.942188\" xlink:href=\"#m1c1ba32cbe\" y=\"21.070818\"/>\n      </g>\n     </g>\n     <g id=\"text_8\">\n      <!-- 15 -->\n      <g transform=\"translate(9.217188 24.870037)scale(0.1 -0.1)\">\n       <use xlink:href=\"#DejaVuSans-49\"/>\n       <use x=\"63.623047\" xlink:href=\"#DejaVuSans-53\"/>\n      </g>\n     </g>\n    </g>\n   </g>\n   <g id=\"patch_3\">\n    <path d=\"M 28.942188 143.1 \nL 28.942188 7.2 \n\" style=\"fill:none;stroke:#000000;stroke-linecap:square;stroke-linejoin:miter;stroke-width:0.8;\"/>\n   </g>\n   <g id=\"patch_4\">\n    <path d=\"M 224.242188 143.1 \nL 224.242188 7.2 \n\" style=\"fill:none;stroke:#000000;stroke-linecap:square;stroke-linejoin:miter;stroke-width:0.8;\"/>\n   </g>\n   <g id=\"patch_5\">\n    <path d=\"M 28.942188 143.1 \nL 224.242188 143.1 \n\" style=\"fill:none;stroke:#000000;stroke-linecap:square;stroke-linejoin:miter;stroke-width:0.8;\"/>\n   </g>\n   <g id=\"patch_6\">\n    <path d=\"M 28.942188 7.2 \nL 224.242188 7.2 \n\" style=\"fill:none;stroke:#000000;stroke-linecap:square;stroke-linejoin:miter;stroke-width:0.8;\"/>\n   </g>\n  </g>\n </g>\n <defs>\n  <clipPath id=\"p37527c060c\">\n   <rect height=\"135.9\" width=\"195.3\" x=\"28.942188\" y=\"7.2\"/>\n  </clipPath>\n </defs>\n</svg>\n"
          },
          "metadata": {
            "needs_background": "light"
          }
        }
      ]
    },
    {
      "cell_type": "markdown",
      "source": [
        "**2. 读取数据集**"
      ],
      "metadata": {
        "id": "Nt1eiwiDzWj7"
      }
    },
    {
      "cell_type": "markdown",
      "source": [
        "* **定义一个`data_iter`函数，\n",
        "该函数接收批量大小、特征矩阵和标签向量作为输入，生成大小为`batch_size`的小批量**。\n",
        "每个小批量包含一组特征和标签。"
      ],
      "metadata": {
        "id": "RgjcSHjEzMnA"
      }
    },
    {
      "cell_type": "code",
      "source": [
        "def data_iter(batch_size, features, labels):\n",
        "    num_examples = len(features)     # features 是1000x2 的矩阵， len(features) = 1000\n",
        "    indices = list(range(num_examples)) # 0-999的列表\n",
        "    random.shuffle(indices)  # random.shuffle() 表示将列表顺序打乱，即这些样本是随机读取的，没有特定的顺序\n",
        "    for i in range(0, num_examples, batch_size):\n",
        "        batch_indices = torch.tensor(\n",
        "            indices[i: min(i + batch_size, num_examples)])\n",
        "        yield features[batch_indices], labels[batch_indices]  # yield 是一个 generator 函数，不断的返回一个x和一个y值。\n",
        "\n",
        "batch_size = 10\n",
        "\n",
        "for X, y in data_iter(batch_size, features, labels):\n",
        "    print(X, '\\n', y)\n",
        "    break"
      ],
      "metadata": {
        "colab": {
          "base_uri": "https://localhost:8080/"
        },
        "id": "O84kEBB-y6mo",
        "outputId": "b6de3ffd-0cf2-448b-f7bc-23c34a1e571a"
      },
      "execution_count": null,
      "outputs": [
        {
          "output_type": "stream",
          "name": "stdout",
          "text": [
            "tensor([[ 0.2927,  0.3971],\n",
            "        [ 1.0696, -1.6469],\n",
            "        [-2.4960,  0.4137],\n",
            "        [ 1.4055, -1.4355],\n",
            "        [ 1.2130, -0.7828],\n",
            "        [ 1.6690,  0.8338],\n",
            "        [-0.0734, -2.4048],\n",
            "        [-0.8577, -1.5032],\n",
            "        [-0.8626,  0.1815],\n",
            "        [ 0.4254,  0.1007]]) \n",
            " tensor([[ 3.4424],\n",
            "        [11.9522],\n",
            "        [-2.2039],\n",
            "        [11.8950],\n",
            "        [ 9.2933],\n",
            "        [ 4.6998],\n",
            "        [12.2241],\n",
            "        [ 7.5788],\n",
            "        [ 1.8780],\n",
            "        [ 4.7159]])\n"
          ]
        }
      ]
    },
    {
      "cell_type": "markdown",
      "source": [
        "**3. 定义初始化参数**"
      ],
      "metadata": {
        "id": "ScrA48ly7wMZ"
      }
    },
    {
      "cell_type": "code",
      "source": [
        "w = torch.normal(0, 0.01, size=(2,1), requires_grad=True)\n",
        "b = torch.zeros(1, requires_grad=True)"
      ],
      "metadata": {
        "id": "R91NsS_R72oG"
      },
      "execution_count": null,
      "outputs": []
    },
    {
      "cell_type": "markdown",
      "source": [
        "**4. 定义模型**"
      ],
      "metadata": {
        "id": "cM9OHKMt8DxQ"
      }
    },
    {
      "cell_type": "code",
      "source": [
        "def linreg(X, w, b):  \n",
        "    \"\"\"线性回归模型\"\"\"\n",
        "    return torch.matmul(X, w) + b"
      ],
      "metadata": {
        "id": "HYgPhh0P8M4V"
      },
      "execution_count": null,
      "outputs": []
    },
    {
      "cell_type": "markdown",
      "source": [
        "**5. 定义损失函数**"
      ],
      "metadata": {
        "id": "J8bJtlNc9ZlB"
      }
    },
    {
      "cell_type": "code",
      "source": [
        "def squared_loss(y_hat, y):  \n",
        "    \"\"\"均方损失\"\"\"\n",
        "    return (y_hat - y.reshape(y_hat.shape)) ** 2 / 2"
      ],
      "metadata": {
        "id": "IoNaWetC9ZJ_"
      },
      "execution_count": null,
      "outputs": []
    },
    {
      "cell_type": "markdown",
      "source": [
        "**6. 定义优化算法**"
      ],
      "metadata": {
        "id": "QSmDxOkE9eDs"
      }
    },
    {
      "cell_type": "code",
      "source": [
        "def sgd(params, lr, batch_size):   # params 表示w和b\n",
        "    \"\"\"小批量随机梯度下降\"\"\"\n",
        "    with torch.no_grad():     # 一个上下文管理器，被该语句 wrap 起来的部分将不会track梯度\n",
        "        for param in params:\n",
        "            param -= lr * param.grad / batch_size  # 因为求的梯度大小是一个批量样本的总和\n",
        "            param.grad.zero_()"
      ],
      "metadata": {
        "id": "u5BprYx59dhV"
      },
      "execution_count": null,
      "outputs": []
    },
    {
      "cell_type": "markdown",
      "source": [
        "**7. 训练过程**"
      ],
      "metadata": {
        "id": "MP4AAaSPBWPM"
      }
    },
    {
      "cell_type": "code",
      "source": [
        "lr = 0.03\n",
        "num_epochs = 3  # 表示整个模型扫3遍\n",
        "net = linreg\n",
        "loss = squared_loss"
      ],
      "metadata": {
        "id": "c-Zvo0n0BVNU"
      },
      "execution_count": null,
      "outputs": []
    },
    {
      "cell_type": "code",
      "source": [
        "for epoch in range(num_epochs):\n",
        "    for X, y in data_iter(batch_size, features, labels):\n",
        "        l = loss(net(X, w, b), y)  # X和y的小批量损失\n",
        "        # 因为l形状是(batch_size,1)，而不是一个标量。l中的所有元素被加到一起，\n",
        "        # 并以此计算关于[w,b]的梯度\n",
        "        l.sum().backward()\n",
        "        sgd([w, b], lr, batch_size)  # 使用参数的梯度更新参数\n",
        "    with torch.no_grad():   # 在整个数据上的评价损失函数\n",
        "        train_l = loss(net(features, w, b), labels)\n",
        "        print(f'epoch {epoch + 1}, loss {float(train_l.mean()):f}')"
      ],
      "metadata": {
        "colab": {
          "base_uri": "https://localhost:8080/"
        },
        "id": "r0vQ2bODBlvq",
        "outputId": "0878dd93-bd7e-43d1-823f-a242cbec0729"
      },
      "execution_count": null,
      "outputs": [
        {
          "output_type": "stream",
          "name": "stdout",
          "text": [
            "epoch 1, loss 0.036662\n",
            "epoch 2, loss 0.000131\n",
            "epoch 3, loss 0.000052\n"
          ]
        }
      ]
    },
    {
      "cell_type": "markdown",
      "source": [
        "* 比较真实参数和通过训练学到的参数来评估训练的成功程度"
      ],
      "metadata": {
        "id": "7QSHikNOGNZ-"
      }
    },
    {
      "cell_type": "code",
      "source": [
        "print(f'w的估计误差: {true_w - w.reshape(true_w.shape)}')\n",
        "print(f'b的估计误差: {true_b - b}')"
      ],
      "metadata": {
        "colab": {
          "base_uri": "https://localhost:8080/"
        },
        "id": "SnltSu3tGO4M",
        "outputId": "37dbc91a-6a1d-4ad8-c6e4-068a4ea8ee5f"
      },
      "execution_count": null,
      "outputs": [
        {
          "output_type": "stream",
          "name": "stdout",
          "text": [
            "w的估计误差: tensor([ 0.0002, -0.0011], grad_fn=<SubBackward0>)\n",
            "b的估计误差: tensor([-7.9632e-05], grad_fn=<RsubBackward1>)\n"
          ]
        }
      ]
    },
    {
      "cell_type": "markdown",
      "source": [
        "# 线性回归的简洁实现"
      ],
      "metadata": {
        "id": "M-Av-FWBHQtw"
      }
    },
    {
      "cell_type": "markdown",
      "source": [
        "* 通过使用深度学习框架来简洁实现线性回归模型"
      ],
      "metadata": {
        "id": "cAbYqR4YLs4V"
      }
    },
    {
      "cell_type": "markdown",
      "source": [
        "**1. 生成数据集**"
      ],
      "metadata": {
        "id": "TLyUwKRsLqJ0"
      }
    },
    {
      "cell_type": "code",
      "source": [
        "import numpy as np\n",
        "import torch\n",
        "from torch.utils import data\n",
        "from d2l import torch as d2l\n",
        "\n",
        "true_w = torch.tensor([2, -3.4])\n",
        "true_b = 4.2\n",
        "features, labels = d2l.synthetic_data(true_w, true_b, 1000)"
      ],
      "metadata": {
        "id": "g2pxCDWhLnrB"
      },
      "execution_count": null,
      "outputs": []
    },
    {
      "cell_type": "markdown",
      "source": [
        "**2. 读取数据**"
      ],
      "metadata": {
        "id": "foMYK1rMMKeU"
      }
    },
    {
      "cell_type": "markdown",
      "source": [
        "* 调用框架中现有的API来读取数据。\n",
        "* TensorDataset( ) 可以用来对 tensor 进行打包，就好像 python 中的 zip 功能。该类通过每一个 tensor 的第一个维度进行索引。因此，该类中的 tensor 第一维度必须相等。\n",
        "* DataLoader( )就是用来包装所使用的数据，每次抛出一批数据。"
      ],
      "metadata": {
        "id": "q5h7Q5i8MOsX"
      }
    },
    {
      "cell_type": "code",
      "source": [
        "def load_array(data_arrays, batch_size, is_train=True): \n",
        "    \"\"\"构造一个PyTorch数据迭代器\"\"\"\n",
        "    dataset = data.TensorDataset(*data_arrays)  # * 表示对list解开入参\n",
        "    return data.DataLoader(dataset, batch_size, shuffle=is_train)  # is_train 表示希望数据迭代器对象在每个迭代周期内打乱数据\n",
        "\n",
        "batch_size = 10\n",
        "data_iter = load_array((features, labels), batch_size)\n",
        "\n",
        "next(iter(data_iter))"
      ],
      "metadata": {
        "colab": {
          "base_uri": "https://localhost:8080/"
        },
        "id": "AJtuSoWSMSgG",
        "outputId": "6d0443ce-f6e8-4adc-d3a5-9a37c06eacb0"
      },
      "execution_count": null,
      "outputs": [
        {
          "output_type": "execute_result",
          "data": {
            "text/plain": [
              "[tensor([[ 1.6613, -0.2064],\n",
              "         [ 0.0137,  0.6189],\n",
              "         [-0.4853,  0.7406],\n",
              "         [ 1.1490,  1.0176],\n",
              "         [ 1.6495, -0.5737],\n",
              "         [-1.1819, -0.5928],\n",
              "         [ 0.2440, -0.0463],\n",
              "         [ 1.4493,  0.7751],\n",
              "         [ 0.9177, -0.7825],\n",
              "         [-1.3396, -1.1959]]), tensor([[8.2167],\n",
              "         [2.1278],\n",
              "         [0.7136],\n",
              "         [3.0329],\n",
              "         [9.4517],\n",
              "         [3.8528],\n",
              "         [4.8604],\n",
              "         [4.4602],\n",
              "         [8.6971],\n",
              "         [5.5738]])]"
            ]
          },
          "metadata": {},
          "execution_count": 108
        }
      ]
    },
    {
      "cell_type": "markdown",
      "source": [
        "**3. 使用框架的预定义好的层**"
      ],
      "metadata": {
        "id": "3H3hEdDmOsMg"
      }
    },
    {
      "cell_type": "markdown",
      "source": [
        "* Sequential类将多个层串联在一起，类似于一个容器。 当给定输入数据时，Sequential实例将数据传入到第一层， 然后将第一层的输出作为第二层的输入，以此类推。 在下面的例子中，模型只包含一个层，因此实际上不需要Sequential。 但是由于以后几乎所有的模型都是多层的，在这里使用Sequential可以熟悉一下“标准的流水线”。"
      ],
      "metadata": {
        "id": "dDhWDnhUP4zE"
      }
    },
    {
      "cell_type": "code",
      "source": [
        "from torch import nn\n",
        "\n",
        "net = nn.Sequential(nn.Linear(2,1)) # 指定 输入和输出 的维度"
      ],
      "metadata": {
        "id": "qKyQJoIoO9nV"
      },
      "execution_count": null,
      "outputs": []
    },
    {
      "cell_type": "markdown",
      "source": [
        "**4. 初始化模型参数**"
      ],
      "metadata": {
        "id": "hVqluqduOywj"
      }
    },
    {
      "cell_type": "code",
      "source": [
        "net[0].weight.data.normal_(0, 0.01)  # [0]表示的是容器里面的第一层，normal_ 表示使用正态分布来替换data的值"
      ],
      "metadata": {
        "colab": {
          "base_uri": "https://localhost:8080/"
        },
        "id": "PIO_fZbEPhG8",
        "outputId": "8e1fa37f-9792-4d83-b940-d6da11bcd895"
      },
      "execution_count": null,
      "outputs": [
        {
          "output_type": "execute_result",
          "data": {
            "text/plain": [
              "tensor([[ 0.0043, -0.0016]])"
            ]
          },
          "metadata": {},
          "execution_count": 123
        }
      ]
    },
    {
      "cell_type": "code",
      "source": [
        "net[0].bias.data.fill_(0)  "
      ],
      "metadata": {
        "colab": {
          "base_uri": "https://localhost:8080/"
        },
        "id": "OqwCCqQtQqLN",
        "outputId": "67f910bf-66c1-49cc-c762-b903d9db910c"
      },
      "execution_count": null,
      "outputs": [
        {
          "output_type": "execute_result",
          "data": {
            "text/plain": [
              "tensor([0.])"
            ]
          },
          "metadata": {},
          "execution_count": 122
        }
      ]
    },
    {
      "cell_type": "markdown",
      "source": [
        "**5. 损失函数**"
      ],
      "metadata": {
        "id": "SnnUumwzQlsP"
      }
    },
    {
      "cell_type": "markdown",
      "source": [
        "* **计算均方误差使用的是`MSELoss`类，也称为平方$L_2$范数**。\n",
        "默认情况下，它返回所有样本损失的平均值。"
      ],
      "metadata": {
        "id": "2DGr4bUwQwRk"
      }
    },
    {
      "cell_type": "code",
      "source": [
        "loss = nn.MSELoss()"
      ],
      "metadata": {
        "id": "Cx_UOiekQk-8"
      },
      "execution_count": null,
      "outputs": []
    },
    {
      "cell_type": "markdown",
      "source": [
        "**6. 实例化SDG实例**"
      ],
      "metadata": {
        "id": "huesw0-nTtxY"
      }
    },
    {
      "cell_type": "code",
      "source": [
        "trainer = torch.optim.SGD(net.parameters(),lr = 0.03)"
      ],
      "metadata": {
        "id": "ZMWUL7QqTtQE"
      },
      "execution_count": null,
      "outputs": []
    },
    {
      "cell_type": "markdown",
      "source": [
        "**7. 训练过程**"
      ],
      "metadata": {
        "id": "S6y8QJB8WyDl"
      }
    },
    {
      "cell_type": "code",
      "source": [
        "num_epochs = 3\n",
        "for epoch in range(num_epochs):\n",
        "    for X, y in data_iter:\n",
        "        l = loss(net(X) ,y)\n",
        "        trainer.zero_grad()\n",
        "        l.backward()\n",
        "        trainer.step()  # 调用step()来进行模型的更新\n",
        "    l = loss(net(features), labels)\n",
        "    print(f'epoch {epoch + 1}, loss {l:f}')"
      ],
      "metadata": {
        "colab": {
          "base_uri": "https://localhost:8080/"
        },
        "id": "sFw0lzCCW1RD",
        "outputId": "0e55d308-b5b7-437b-f8af-ca1ae3e1df3f"
      },
      "execution_count": null,
      "outputs": [
        {
          "output_type": "stream",
          "name": "stdout",
          "text": [
            "epoch 1, loss 0.000197\n",
            "epoch 2, loss 0.000099\n",
            "epoch 3, loss 0.000098\n"
          ]
        }
      ]
    },
    {
      "cell_type": "code",
      "source": [
        "w = net[0].weight.data\n",
        "print('w的估计误差：', true_w - w.reshape(true_w.shape))\n",
        "b = net[0].bias.data\n",
        "print('b的估计误差：', true_b - b)"
      ],
      "metadata": {
        "colab": {
          "base_uri": "https://localhost:8080/"
        },
        "id": "TP1t5L6mZyU-",
        "outputId": "a5bfbf3f-077d-4b1f-e67b-b86a31329429"
      },
      "execution_count": null,
      "outputs": [
        {
          "output_type": "stream",
          "name": "stdout",
          "text": [
            "w的估计误差： tensor([ 0.0009, -0.0005])\n",
            "b的估计误差： tensor([-0.0004])\n"
          ]
        }
      ]
    }
  ]
}