{
  "nbformat": 4,
  "nbformat_minor": 0,
  "metadata": {
    "colab": {
      "name": "03_多输入多输出通道.ipynb",
      "provenance": [],
      "collapsed_sections": []
    },
    "kernelspec": {
      "name": "python3",
      "display_name": "Python 3"
    },
    "language_info": {
      "name": "python"
    }
  },
  "cells": [
    {
      "cell_type": "markdown",
      "source": [
        "**# 多输入多输出通道**"
      ],
      "metadata": {
        "id": "7lB1N4PTFow9"
      }
    },
    {
      "cell_type": "markdown",
      "source": [
        "**1. 多输入**"
      ],
      "metadata": {
        "id": "T4ReGwPu2n-O"
      }
    },
    {
      "cell_type": "markdown",
      "source": [
        "* 实现多输入通道的互相关运算"
      ],
      "metadata": {
        "id": "Hxja08-zFozg"
      }
    },
    {
      "cell_type": "code",
      "source": [
        "!pip install d2l\n",
        "!pip install matplotlib==3.0"
      ],
      "metadata": {
        "id": "d9aACuXsFxfh"
      },
      "execution_count": null,
      "outputs": []
    },
    {
      "cell_type": "code",
      "source": [
        "import torch\n",
        "from d2l import torch as d2l\n",
        "\n",
        "def corr2d_multi_in(X, K):\n",
        "    # 先遍历“X”和“K”的第0个维度（通道维度），再把它们加在一起\n",
        "    return sum(d2l.corr2d(x, k) for x, k in zip(X, K))"
      ],
      "metadata": {
        "id": "uxCqF74nFx7Y"
      },
      "execution_count": 40,
      "outputs": []
    },
    {
      "cell_type": "code",
      "source": [
        "X = torch.tensor([[[0.0, 1.0, 2.0], [3.0, 4.0, 5.0], [6.0, 7.0, 8.0]],\n",
        "               [[1.0, 2.0, 3.0], [4.0, 5.0, 6.0], [7.0, 8.0, 9.0]]])\n",
        "K = torch.tensor([[[0.0, 1.0], [2.0, 3.0]], [[1.0, 2.0], [3.0, 4.0]]])\n",
        "\n",
        "corr2d_multi_in(X, K)"
      ],
      "metadata": {
        "colab": {
          "base_uri": "https://localhost:8080/"
        },
        "id": "Rs15ocfHF-Xw",
        "outputId": "a10f4782-008c-4968-dcd1-2fd13db113b9"
      },
      "execution_count": 41,
      "outputs": [
        {
          "output_type": "execute_result",
          "data": {
            "text/plain": [
              "tensor([[ 56.,  72.],\n",
              "        [104., 120.]])"
            ]
          },
          "metadata": {},
          "execution_count": 41
        }
      ]
    },
    {
      "cell_type": "markdown",
      "source": [
        "**2. 多输出**"
      ],
      "metadata": {
        "id": "JyTSWVrt2q_5"
      }
    },
    {
      "cell_type": "markdown",
      "source": [
        "* 计算多个通道的输出的互相关函数"
      ],
      "metadata": {
        "id": "GxV3UXKCFo2Z"
      }
    },
    {
      "cell_type": "code",
      "source": [
        "def corr2d_multi_in_out(X, K):\n",
        "    # 迭代“K”的第0个维度，每次都对输入“X”执行互相关运算。\n",
        "    # 最后将所有结果都叠加在一起\n",
        "    return torch.stack([corr2d_multi_in(X, k) for k in K], 0)"
      ],
      "metadata": {
        "id": "TYa96cCDIDac"
      },
      "execution_count": 42,
      "outputs": []
    },
    {
      "cell_type": "code",
      "source": [
        "# stack里0的意思是，在第0维将K，K+1，K+2堆叠形成新的矩阵 \n",
        "K = torch.stack((K, K + 1, K + 2), 0)\n",
        "K"
      ],
      "metadata": {
        "colab": {
          "base_uri": "https://localhost:8080/"
        },
        "id": "KhzvjiT-0_3G",
        "outputId": "2dcf2557-9353-4fb8-8ced-9443fe096e17"
      },
      "execution_count": 43,
      "outputs": [
        {
          "output_type": "execute_result",
          "data": {
            "text/plain": [
              "tensor([[[[0., 1.],\n",
              "          [2., 3.]],\n",
              "\n",
              "         [[1., 2.],\n",
              "          [3., 4.]]],\n",
              "\n",
              "\n",
              "        [[[1., 2.],\n",
              "          [3., 4.]],\n",
              "\n",
              "         [[2., 3.],\n",
              "          [4., 5.]]],\n",
              "\n",
              "\n",
              "        [[[2., 3.],\n",
              "          [4., 5.]],\n",
              "\n",
              "         [[3., 4.],\n",
              "          [5., 6.]]]])"
            ]
          },
          "metadata": {},
          "execution_count": 43
        }
      ]
    },
    {
      "cell_type": "code",
      "source": [
        "K.shape"
      ],
      "metadata": {
        "colab": {
          "base_uri": "https://localhost:8080/"
        },
        "id": "Ovwv5Ij91nZV",
        "outputId": "5463e4d5-2412-4372-fd62-35442e1b164c"
      },
      "execution_count": 44,
      "outputs": [
        {
          "output_type": "execute_result",
          "data": {
            "text/plain": [
              "torch.Size([3, 2, 2, 2])"
            ]
          },
          "metadata": {},
          "execution_count": 44
        }
      ]
    },
    {
      "cell_type": "code",
      "source": [
        "corr2d_multi_in_out(X, K)"
      ],
      "metadata": {
        "colab": {
          "base_uri": "https://localhost:8080/"
        },
        "id": "EZVJ5L5k2ci6",
        "outputId": "cbc8f017-1099-4c6f-e4f3-002ea1880ee0"
      },
      "execution_count": 45,
      "outputs": [
        {
          "output_type": "execute_result",
          "data": {
            "text/plain": [
              "tensor([[[ 56.,  72.],\n",
              "         [104., 120.]],\n",
              "\n",
              "        [[ 76., 100.],\n",
              "         [148., 172.]],\n",
              "\n",
              "        [[ 96., 128.],\n",
              "         [192., 224.]]])"
            ]
          },
          "metadata": {},
          "execution_count": 45
        }
      ]
    },
    {
      "cell_type": "markdown",
      "source": [
        "**3. 1x1卷积层**"
      ],
      "metadata": {
        "id": "TGgC8ZEs2t89"
      }
    },
    {
      "cell_type": "code",
      "source": [
        "def corr2d_multi_in_out_1x1(X, K):\n",
        "    c_i, h, w = X.shape\n",
        "    c_o = K.shape[0]\n",
        "    X = X.reshape((c_i, h * w))\n",
        "    K = K.reshape((c_o, c_i))\n",
        "    # 全连接层中的矩阵乘法\n",
        "    Y = torch.matmul(K, X)\n",
        "    return Y.reshape((c_o, h, w))"
      ],
      "metadata": {
        "id": "2M2h5jia2_iv"
      },
      "execution_count": 46,
      "outputs": []
    },
    {
      "cell_type": "code",
      "source": [
        "X = torch.normal(0, 1, (3, 3, 3))\n",
        "K = torch.normal(0, 1, (2, 3, 1, 1))\n",
        "\n",
        "Y1 = corr2d_multi_in_out_1x1(X, K)\n",
        "Y2 = corr2d_multi_in_out(X, K)\n",
        "assert float(torch.abs(Y1 - Y2).sum()) < 1e-6"
      ],
      "metadata": {
        "id": "5JkD9sJC2_2B"
      },
      "execution_count": 47,
      "outputs": []
    },
    {
      "cell_type": "code",
      "source": [
        "Y1"
      ],
      "metadata": {
        "colab": {
          "base_uri": "https://localhost:8080/"
        },
        "id": "qfCJD99B65Pl",
        "outputId": "5e5291d0-6468-4cea-df8d-d894327b05d7"
      },
      "execution_count": 48,
      "outputs": [
        {
          "output_type": "execute_result",
          "data": {
            "text/plain": [
              "tensor([[[ 0.8816,  1.3459,  2.3521],\n",
              "         [ 1.2766, -0.2651,  3.8822],\n",
              "         [ 2.7430, -3.4280, -1.7445]],\n",
              "\n",
              "        [[-0.4806,  0.9816, -0.7432],\n",
              "         [-0.1802,  2.0091, -0.5267],\n",
              "         [ 0.4300, -0.1122,  0.2381]]])"
            ]
          },
          "metadata": {},
          "execution_count": 48
        }
      ]
    },
    {
      "cell_type": "code",
      "source": [
        "Y2"
      ],
      "metadata": {
        "colab": {
          "base_uri": "https://localhost:8080/"
        },
        "id": "-8ZtRmfa661X",
        "outputId": "e74fc1b9-d4aa-4c3f-f742-a09162e7b5ea"
      },
      "execution_count": 49,
      "outputs": [
        {
          "output_type": "execute_result",
          "data": {
            "text/plain": [
              "tensor([[[ 0.8816,  1.3459,  2.3521],\n",
              "         [ 1.2766, -0.2651,  3.8822],\n",
              "         [ 2.7430, -3.4280, -1.7445]],\n",
              "\n",
              "        [[-0.4806,  0.9816, -0.7432],\n",
              "         [-0.1802,  2.0091, -0.5267],\n",
              "         [ 0.4300, -0.1122,  0.2381]]])"
            ]
          },
          "metadata": {},
          "execution_count": 49
        }
      ]
    }
  ]
}